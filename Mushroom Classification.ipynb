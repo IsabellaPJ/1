{
 "cells": [
  {
   "cell_type": "markdown",
   "id": "b5277036",
   "metadata": {},
   "source": [
    "# Mushroom Classification"
   ]
  },
  {
   "cell_type": "markdown",
   "id": "5fd1c333",
   "metadata": {},
   "source": [
    "## Problem Statement\n",
    "This dataset includes descriptions of hypothetical samples corresponding to 23 species of gilled mushrooms in the Agaricus and Lepiota Family Mushroom drawn from The Audubon Society Field Guide to North American Mushrooms (1981). Each species is identified as definitely edible, definitely poisonous, or of unknown edibility and not recommended. This latter class was combined with the poisonous one. The Guide clearly states that there is no simple rule for determining the edibility of a mushroom; no rule like \"leaflets three, let it be'' for Poisonous Oak and Ivy."
   ]
  },
  {
   "cell_type": "markdown",
   "id": "bd3c56e2",
   "metadata": {},
   "source": [
    "## Data Description\n",
    "The data contained features like cap-shape, cap-surface, cap-color, bruises, odor etc. The dataset contains a set of 8,125 records under 23 attributes: Our model will be predicting whether the mushroom is edible or poisonous.\n"
   ]
  },
  {
   "cell_type": "markdown",
   "id": "44aee4bf",
   "metadata": {},
   "source": [
    "## Importing Libraries"
   ]
  },
  {
   "cell_type": "code",
   "execution_count": 1,
   "id": "25e812a6",
   "metadata": {},
   "outputs": [],
   "source": [
    "import pandas as pd\n",
    "import numpy as np\n",
    "import matplotlib.pyplot as plt\n",
    "import seaborn as sns\n",
    "%matplotlib inline\n",
    "from sklearn.pipeline import Pipeline\n",
    "from sklearn.pipeline import make_pipeline\n",
    "from sklearn.impute import SimpleImputer\n",
    "from sklearn import set_config\n",
    "from sklearn.preprocessing import StandardScaler"
   ]
  },
  {
   "cell_type": "markdown",
   "id": "47204a26",
   "metadata": {},
   "source": [
    "## Importing the dataset"
   ]
  },
  {
   "cell_type": "code",
   "execution_count": 2,
   "id": "cf432bd4",
   "metadata": {},
   "outputs": [
    {
     "data": {
      "text/html": [
       "<div>\n",
       "<style scoped>\n",
       "    .dataframe tbody tr th:only-of-type {\n",
       "        vertical-align: middle;\n",
       "    }\n",
       "\n",
       "    .dataframe tbody tr th {\n",
       "        vertical-align: top;\n",
       "    }\n",
       "\n",
       "    .dataframe thead th {\n",
       "        text-align: right;\n",
       "    }\n",
       "</style>\n",
       "<table border=\"1\" class=\"dataframe\">\n",
       "  <thead>\n",
       "    <tr style=\"text-align: right;\">\n",
       "      <th></th>\n",
       "      <th>class</th>\n",
       "      <th>cap-shape</th>\n",
       "      <th>cap-surface</th>\n",
       "      <th>cap-color</th>\n",
       "      <th>bruises</th>\n",
       "      <th>odor</th>\n",
       "      <th>gill-attachment</th>\n",
       "      <th>gill-spacing</th>\n",
       "      <th>gill-size</th>\n",
       "      <th>gill-color</th>\n",
       "      <th>...</th>\n",
       "      <th>stalk-surface-below-ring</th>\n",
       "      <th>stalk-color-above-ring</th>\n",
       "      <th>stalk-color-below-ring</th>\n",
       "      <th>veil-type</th>\n",
       "      <th>veil-color</th>\n",
       "      <th>ring-number</th>\n",
       "      <th>ring-type</th>\n",
       "      <th>spore-print-color</th>\n",
       "      <th>population</th>\n",
       "      <th>habitat</th>\n",
       "    </tr>\n",
       "  </thead>\n",
       "  <tbody>\n",
       "    <tr>\n",
       "      <th>0</th>\n",
       "      <td>p</td>\n",
       "      <td>x</td>\n",
       "      <td>s</td>\n",
       "      <td>n</td>\n",
       "      <td>t</td>\n",
       "      <td>p</td>\n",
       "      <td>f</td>\n",
       "      <td>c</td>\n",
       "      <td>n</td>\n",
       "      <td>k</td>\n",
       "      <td>...</td>\n",
       "      <td>s</td>\n",
       "      <td>w</td>\n",
       "      <td>w</td>\n",
       "      <td>p</td>\n",
       "      <td>w</td>\n",
       "      <td>o</td>\n",
       "      <td>p</td>\n",
       "      <td>k</td>\n",
       "      <td>s</td>\n",
       "      <td>u</td>\n",
       "    </tr>\n",
       "    <tr>\n",
       "      <th>1</th>\n",
       "      <td>e</td>\n",
       "      <td>x</td>\n",
       "      <td>s</td>\n",
       "      <td>y</td>\n",
       "      <td>t</td>\n",
       "      <td>a</td>\n",
       "      <td>f</td>\n",
       "      <td>c</td>\n",
       "      <td>b</td>\n",
       "      <td>k</td>\n",
       "      <td>...</td>\n",
       "      <td>s</td>\n",
       "      <td>w</td>\n",
       "      <td>w</td>\n",
       "      <td>p</td>\n",
       "      <td>w</td>\n",
       "      <td>o</td>\n",
       "      <td>p</td>\n",
       "      <td>n</td>\n",
       "      <td>n</td>\n",
       "      <td>g</td>\n",
       "    </tr>\n",
       "    <tr>\n",
       "      <th>2</th>\n",
       "      <td>e</td>\n",
       "      <td>b</td>\n",
       "      <td>s</td>\n",
       "      <td>w</td>\n",
       "      <td>t</td>\n",
       "      <td>l</td>\n",
       "      <td>f</td>\n",
       "      <td>c</td>\n",
       "      <td>b</td>\n",
       "      <td>n</td>\n",
       "      <td>...</td>\n",
       "      <td>s</td>\n",
       "      <td>w</td>\n",
       "      <td>w</td>\n",
       "      <td>p</td>\n",
       "      <td>w</td>\n",
       "      <td>o</td>\n",
       "      <td>p</td>\n",
       "      <td>n</td>\n",
       "      <td>n</td>\n",
       "      <td>m</td>\n",
       "    </tr>\n",
       "    <tr>\n",
       "      <th>3</th>\n",
       "      <td>p</td>\n",
       "      <td>x</td>\n",
       "      <td>y</td>\n",
       "      <td>w</td>\n",
       "      <td>t</td>\n",
       "      <td>p</td>\n",
       "      <td>f</td>\n",
       "      <td>c</td>\n",
       "      <td>n</td>\n",
       "      <td>n</td>\n",
       "      <td>...</td>\n",
       "      <td>s</td>\n",
       "      <td>w</td>\n",
       "      <td>w</td>\n",
       "      <td>p</td>\n",
       "      <td>w</td>\n",
       "      <td>o</td>\n",
       "      <td>p</td>\n",
       "      <td>k</td>\n",
       "      <td>s</td>\n",
       "      <td>u</td>\n",
       "    </tr>\n",
       "    <tr>\n",
       "      <th>4</th>\n",
       "      <td>e</td>\n",
       "      <td>x</td>\n",
       "      <td>s</td>\n",
       "      <td>g</td>\n",
       "      <td>f</td>\n",
       "      <td>n</td>\n",
       "      <td>f</td>\n",
       "      <td>w</td>\n",
       "      <td>b</td>\n",
       "      <td>k</td>\n",
       "      <td>...</td>\n",
       "      <td>s</td>\n",
       "      <td>w</td>\n",
       "      <td>w</td>\n",
       "      <td>p</td>\n",
       "      <td>w</td>\n",
       "      <td>o</td>\n",
       "      <td>e</td>\n",
       "      <td>n</td>\n",
       "      <td>a</td>\n",
       "      <td>g</td>\n",
       "    </tr>\n",
       "  </tbody>\n",
       "</table>\n",
       "<p>5 rows × 23 columns</p>\n",
       "</div>"
      ],
      "text/plain": [
       "  class cap-shape cap-surface cap-color bruises odor gill-attachment  \\\n",
       "0     p         x           s         n       t    p               f   \n",
       "1     e         x           s         y       t    a               f   \n",
       "2     e         b           s         w       t    l               f   \n",
       "3     p         x           y         w       t    p               f   \n",
       "4     e         x           s         g       f    n               f   \n",
       "\n",
       "  gill-spacing gill-size gill-color  ... stalk-surface-below-ring  \\\n",
       "0            c         n          k  ...                        s   \n",
       "1            c         b          k  ...                        s   \n",
       "2            c         b          n  ...                        s   \n",
       "3            c         n          n  ...                        s   \n",
       "4            w         b          k  ...                        s   \n",
       "\n",
       "  stalk-color-above-ring stalk-color-below-ring veil-type veil-color  \\\n",
       "0                      w                      w         p          w   \n",
       "1                      w                      w         p          w   \n",
       "2                      w                      w         p          w   \n",
       "3                      w                      w         p          w   \n",
       "4                      w                      w         p          w   \n",
       "\n",
       "  ring-number ring-type spore-print-color population habitat  \n",
       "0           o         p                 k          s       u  \n",
       "1           o         p                 n          n       g  \n",
       "2           o         p                 n          n       m  \n",
       "3           o         p                 k          s       u  \n",
       "4           o         e                 n          a       g  \n",
       "\n",
       "[5 rows x 23 columns]"
      ]
     },
     "execution_count": 2,
     "metadata": {},
     "output_type": "execute_result"
    }
   ],
   "source": [
    "df = pd.read_csv(\"mushrooms.csv\")\n",
    "df.head()"
   ]
  },
  {
   "cell_type": "code",
   "execution_count": 3,
   "id": "647d47d0",
   "metadata": {},
   "outputs": [
    {
     "data": {
      "text/plain": [
       "(8124, 23)"
      ]
     },
     "execution_count": 3,
     "metadata": {},
     "output_type": "execute_result"
    }
   ],
   "source": [
    "df.shape"
   ]
  },
  {
   "cell_type": "code",
   "execution_count": 4,
   "id": "4d57d3ff",
   "metadata": {},
   "outputs": [
    {
     "name": "stdout",
     "output_type": "stream",
     "text": [
      "<class 'pandas.core.frame.DataFrame'>\n",
      "RangeIndex: 8124 entries, 0 to 8123\n",
      "Data columns (total 23 columns):\n",
      " #   Column                    Non-Null Count  Dtype \n",
      "---  ------                    --------------  ----- \n",
      " 0   class                     8124 non-null   object\n",
      " 1   cap-shape                 8124 non-null   object\n",
      " 2   cap-surface               8124 non-null   object\n",
      " 3   cap-color                 8124 non-null   object\n",
      " 4   bruises                   8124 non-null   object\n",
      " 5   odor                      8124 non-null   object\n",
      " 6   gill-attachment           8124 non-null   object\n",
      " 7   gill-spacing              8124 non-null   object\n",
      " 8   gill-size                 8124 non-null   object\n",
      " 9   gill-color                8124 non-null   object\n",
      " 10  stalk-shape               8124 non-null   object\n",
      " 11  stalk-root                8124 non-null   object\n",
      " 12  stalk-surface-above-ring  8124 non-null   object\n",
      " 13  stalk-surface-below-ring  8124 non-null   object\n",
      " 14  stalk-color-above-ring    8124 non-null   object\n",
      " 15  stalk-color-below-ring    8124 non-null   object\n",
      " 16  veil-type                 8124 non-null   object\n",
      " 17  veil-color                8124 non-null   object\n",
      " 18  ring-number               8124 non-null   object\n",
      " 19  ring-type                 8124 non-null   object\n",
      " 20  spore-print-color         8124 non-null   object\n",
      " 21  population                8124 non-null   object\n",
      " 22  habitat                   8124 non-null   object\n",
      "dtypes: object(23)\n",
      "memory usage: 1.4+ MB\n"
     ]
    }
   ],
   "source": [
    "df.info()"
   ]
  },
  {
   "cell_type": "code",
   "execution_count": 5,
   "id": "9f67dc6e",
   "metadata": {},
   "outputs": [
    {
     "data": {
      "text/html": [
       "<div>\n",
       "<style scoped>\n",
       "    .dataframe tbody tr th:only-of-type {\n",
       "        vertical-align: middle;\n",
       "    }\n",
       "\n",
       "    .dataframe tbody tr th {\n",
       "        vertical-align: top;\n",
       "    }\n",
       "\n",
       "    .dataframe thead th {\n",
       "        text-align: right;\n",
       "    }\n",
       "</style>\n",
       "<table border=\"1\" class=\"dataframe\">\n",
       "  <thead>\n",
       "    <tr style=\"text-align: right;\">\n",
       "      <th></th>\n",
       "      <th>class</th>\n",
       "      <th>cap-shape</th>\n",
       "      <th>cap-surface</th>\n",
       "      <th>cap-color</th>\n",
       "      <th>bruises</th>\n",
       "      <th>odor</th>\n",
       "      <th>gill-attachment</th>\n",
       "      <th>gill-spacing</th>\n",
       "      <th>gill-size</th>\n",
       "      <th>gill-color</th>\n",
       "      <th>...</th>\n",
       "      <th>stalk-surface-below-ring</th>\n",
       "      <th>stalk-color-above-ring</th>\n",
       "      <th>stalk-color-below-ring</th>\n",
       "      <th>veil-type</th>\n",
       "      <th>veil-color</th>\n",
       "      <th>ring-number</th>\n",
       "      <th>ring-type</th>\n",
       "      <th>spore-print-color</th>\n",
       "      <th>population</th>\n",
       "      <th>habitat</th>\n",
       "    </tr>\n",
       "  </thead>\n",
       "  <tbody>\n",
       "    <tr>\n",
       "      <th>count</th>\n",
       "      <td>8124</td>\n",
       "      <td>8124</td>\n",
       "      <td>8124</td>\n",
       "      <td>8124</td>\n",
       "      <td>8124</td>\n",
       "      <td>8124</td>\n",
       "      <td>8124</td>\n",
       "      <td>8124</td>\n",
       "      <td>8124</td>\n",
       "      <td>8124</td>\n",
       "      <td>...</td>\n",
       "      <td>8124</td>\n",
       "      <td>8124</td>\n",
       "      <td>8124</td>\n",
       "      <td>8124</td>\n",
       "      <td>8124</td>\n",
       "      <td>8124</td>\n",
       "      <td>8124</td>\n",
       "      <td>8124</td>\n",
       "      <td>8124</td>\n",
       "      <td>8124</td>\n",
       "    </tr>\n",
       "    <tr>\n",
       "      <th>unique</th>\n",
       "      <td>2</td>\n",
       "      <td>6</td>\n",
       "      <td>4</td>\n",
       "      <td>10</td>\n",
       "      <td>2</td>\n",
       "      <td>9</td>\n",
       "      <td>2</td>\n",
       "      <td>2</td>\n",
       "      <td>2</td>\n",
       "      <td>12</td>\n",
       "      <td>...</td>\n",
       "      <td>4</td>\n",
       "      <td>9</td>\n",
       "      <td>9</td>\n",
       "      <td>1</td>\n",
       "      <td>4</td>\n",
       "      <td>3</td>\n",
       "      <td>5</td>\n",
       "      <td>9</td>\n",
       "      <td>6</td>\n",
       "      <td>7</td>\n",
       "    </tr>\n",
       "    <tr>\n",
       "      <th>top</th>\n",
       "      <td>e</td>\n",
       "      <td>x</td>\n",
       "      <td>y</td>\n",
       "      <td>n</td>\n",
       "      <td>f</td>\n",
       "      <td>n</td>\n",
       "      <td>f</td>\n",
       "      <td>c</td>\n",
       "      <td>b</td>\n",
       "      <td>b</td>\n",
       "      <td>...</td>\n",
       "      <td>s</td>\n",
       "      <td>w</td>\n",
       "      <td>w</td>\n",
       "      <td>p</td>\n",
       "      <td>w</td>\n",
       "      <td>o</td>\n",
       "      <td>p</td>\n",
       "      <td>w</td>\n",
       "      <td>v</td>\n",
       "      <td>d</td>\n",
       "    </tr>\n",
       "    <tr>\n",
       "      <th>freq</th>\n",
       "      <td>4208</td>\n",
       "      <td>3656</td>\n",
       "      <td>3244</td>\n",
       "      <td>2284</td>\n",
       "      <td>4748</td>\n",
       "      <td>3528</td>\n",
       "      <td>7914</td>\n",
       "      <td>6812</td>\n",
       "      <td>5612</td>\n",
       "      <td>1728</td>\n",
       "      <td>...</td>\n",
       "      <td>4936</td>\n",
       "      <td>4464</td>\n",
       "      <td>4384</td>\n",
       "      <td>8124</td>\n",
       "      <td>7924</td>\n",
       "      <td>7488</td>\n",
       "      <td>3968</td>\n",
       "      <td>2388</td>\n",
       "      <td>4040</td>\n",
       "      <td>3148</td>\n",
       "    </tr>\n",
       "  </tbody>\n",
       "</table>\n",
       "<p>4 rows × 23 columns</p>\n",
       "</div>"
      ],
      "text/plain": [
       "       class cap-shape cap-surface cap-color bruises  odor gill-attachment  \\\n",
       "count   8124      8124        8124      8124    8124  8124            8124   \n",
       "unique     2         6           4        10       2     9               2   \n",
       "top        e         x           y         n       f     n               f   \n",
       "freq    4208      3656        3244      2284    4748  3528            7914   \n",
       "\n",
       "       gill-spacing gill-size gill-color  ... stalk-surface-below-ring  \\\n",
       "count          8124      8124       8124  ...                     8124   \n",
       "unique            2         2         12  ...                        4   \n",
       "top               c         b          b  ...                        s   \n",
       "freq           6812      5612       1728  ...                     4936   \n",
       "\n",
       "       stalk-color-above-ring stalk-color-below-ring veil-type veil-color  \\\n",
       "count                    8124                   8124      8124       8124   \n",
       "unique                      9                      9         1          4   \n",
       "top                         w                      w         p          w   \n",
       "freq                     4464                   4384      8124       7924   \n",
       "\n",
       "       ring-number ring-type spore-print-color population habitat  \n",
       "count         8124      8124              8124       8124    8124  \n",
       "unique           3         5                 9          6       7  \n",
       "top              o         p                 w          v       d  \n",
       "freq          7488      3968              2388       4040    3148  \n",
       "\n",
       "[4 rows x 23 columns]"
      ]
     },
     "execution_count": 5,
     "metadata": {},
     "output_type": "execute_result"
    }
   ],
   "source": [
    "df.describe() #Describing Numerical values"
   ]
  },
  {
   "cell_type": "markdown",
   "id": "d6e755ac",
   "metadata": {},
   "source": [
    "## Checking Null Values"
   ]
  },
  {
   "cell_type": "code",
   "execution_count": 6,
   "id": "46923dfb",
   "metadata": {},
   "outputs": [
    {
     "data": {
      "text/plain": [
       "class                       0\n",
       "cap-shape                   0\n",
       "cap-surface                 0\n",
       "cap-color                   0\n",
       "bruises                     0\n",
       "odor                        0\n",
       "gill-attachment             0\n",
       "gill-spacing                0\n",
       "gill-size                   0\n",
       "gill-color                  0\n",
       "stalk-shape                 0\n",
       "stalk-root                  0\n",
       "stalk-surface-above-ring    0\n",
       "stalk-surface-below-ring    0\n",
       "stalk-color-above-ring      0\n",
       "stalk-color-below-ring      0\n",
       "veil-type                   0\n",
       "veil-color                  0\n",
       "ring-number                 0\n",
       "ring-type                   0\n",
       "spore-print-color           0\n",
       "population                  0\n",
       "habitat                     0\n",
       "dtype: int64"
      ]
     },
     "execution_count": 6,
     "metadata": {},
     "output_type": "execute_result"
    }
   ],
   "source": [
    "df.isnull().sum()"
   ]
  },
  {
   "cell_type": "markdown",
   "id": "98593f56",
   "metadata": {},
   "source": [
    "## Unique elements in each attribute"
   ]
  },
  {
   "cell_type": "code",
   "execution_count": 53,
   "id": "c06c8845",
   "metadata": {},
   "outputs": [
    {
     "data": {
      "text/plain": [
       "class                        2\n",
       "cap-shape                    6\n",
       "cap-surface                  4\n",
       "cap-color                   10\n",
       "bruises                      2\n",
       "odor                         9\n",
       "gill-attachment              2\n",
       "gill-spacing                 2\n",
       "gill-size                    2\n",
       "gill-color                  12\n",
       "stalk-shape                  2\n",
       "stalk-root                   5\n",
       "stalk-surface-above-ring     4\n",
       "stalk-surface-below-ring     4\n",
       "stalk-color-above-ring       9\n",
       "stalk-color-below-ring       9\n",
       "veil-color                   4\n",
       "ring-number                  3\n",
       "ring-type                    5\n",
       "spore-print-color            9\n",
       "population                   6\n",
       "habitat                      7\n",
       "dtype: int64"
      ]
     },
     "execution_count": 53,
     "metadata": {},
     "output_type": "execute_result"
    }
   ],
   "source": [
    "df.nunique()"
   ]
  },
  {
   "cell_type": "code",
   "execution_count": 77,
   "id": "2819491e",
   "metadata": {},
   "outputs": [
    {
     "data": {
      "text/plain": [
       "Index(['class', 'cap-shape', 'cap-surface', 'cap-color', 'bruises', 'odor',\n",
       "       'gill-attachment', 'gill-spacing', 'gill-size', 'gill-color',\n",
       "       'stalk-shape', 'stalk-root', 'stalk-surface-above-ring',\n",
       "       'stalk-surface-below-ring', 'stalk-color-above-ring',\n",
       "       'stalk-color-below-ring', 'veil-color', 'ring-number', 'ring-type',\n",
       "       'spore-print-color', 'population', 'habitat'],\n",
       "      dtype='object')"
      ]
     },
     "execution_count": 77,
     "metadata": {},
     "output_type": "execute_result"
    }
   ],
   "source": [
    "df.columns"
   ]
  },
  {
   "cell_type": "markdown",
   "id": "10f98cfc",
   "metadata": {},
   "source": [
    "## Exploratory Data Analysis"
   ]
  },
  {
   "cell_type": "markdown",
   "id": "1dbf4de5",
   "metadata": {},
   "source": [
    "### Class"
   ]
  },
  {
   "cell_type": "code",
   "execution_count": 8,
   "id": "0295a789",
   "metadata": {},
   "outputs": [
    {
     "data": {
      "text/plain": [
       "e    4208\n",
       "p    3916\n",
       "Name: class, dtype: int64"
      ]
     },
     "execution_count": 8,
     "metadata": {},
     "output_type": "execute_result"
    }
   ],
   "source": [
    "df['class'].value_counts()"
   ]
  },
  {
   "cell_type": "code",
   "execution_count": 9,
   "id": "0a1e55b7",
   "metadata": {},
   "outputs": [
    {
     "name": "stderr",
     "output_type": "stream",
     "text": [
      "E:\\Anaconda\\lib\\site-packages\\seaborn\\_decorators.py:36: FutureWarning: Pass the following variable as a keyword arg: x. From version 0.12, the only valid positional argument will be `data`, and passing other arguments without an explicit keyword will result in an error or misinterpretation.\n",
      "  warnings.warn(\n"
     ]
    },
    {
     "data": {
      "text/plain": [
       "Text(0.5, 1.0, 'Number of poisonous/edible mushrooms')"
      ]
     },
     "execution_count": 9,
     "metadata": {},
     "output_type": "execute_result"
    },
    {
     "data": {
      "image/png": "[encoded data removed]",
      "text/plain": [
       "<Figure size 432x288 with 1 Axes>"
      ]
     },
     "metadata": {
      "needs_background": "light"
     },
     "output_type": "display_data"
    }
   ],
   "source": [
    "sns.countplot(df['class'])\n",
    "plt.title('Number of poisonous/edible mushrooms')"
   ]
  },
  {
   "cell_type": "markdown",
   "id": "473a7eba",
   "metadata": {},
   "source": [
    "## Pipelines"
   ]
  },
  {
   "cell_type": "markdown",
   "id": "0fd18ec4",
   "metadata": {},
   "source": [
    "Using Pipelines for\n",
    "1. Numerical Data: \\\n",
    "    a.Handling Missing Values\\\n",
    "    b.Scaling\n",
    "2. Categorical Data:<br /> \n",
    "    a.Handling Missing Values<br /> \n",
    "    b.Encoding\n",
    "3. Training the model\n",
    "\n",
    "Stages of Pipeline:<br /> \n",
    "    &nbsp;&nbsp;&nbsp;&nbsp;&nbsp;&nbsp; Stage 1 - Preprocessing <br /> \n",
    "    &nbsp;&nbsp;&nbsp;&nbsp;&nbsp;&nbsp; Stage 2 - Model Training"
   ]
  },
  {
   "cell_type": "markdown",
   "id": "99066e9c",
   "metadata": {},
   "source": [
    "### Splitting data into independent & dependent variables"
   ]
  },
  {
   "cell_type": "code",
   "execution_count": 10,
   "id": "4e589206",
   "metadata": {},
   "outputs": [
    {
     "data": {
      "text/html": [
       "<div>\n",
       "<style scoped>\n",
       "    .dataframe tbody tr th:only-of-type {\n",
       "        vertical-align: middle;\n",
       "    }\n",
       "\n",
       "    .dataframe tbody tr th {\n",
       "        vertical-align: top;\n",
       "    }\n",
       "\n",
       "    .dataframe thead th {\n",
       "        text-align: right;\n",
       "    }\n",
       "</style>\n",
       "<table border=\"1\" class=\"dataframe\">\n",
       "  <thead>\n",
       "    <tr style=\"text-align: right;\">\n",
       "      <th></th>\n",
       "      <th>cap-shape</th>\n",
       "      <th>cap-surface</th>\n",
       "      <th>cap-color</th>\n",
       "      <th>bruises</th>\n",
       "      <th>odor</th>\n",
       "      <th>gill-attachment</th>\n",
       "      <th>gill-spacing</th>\n",
       "      <th>gill-size</th>\n",
       "      <th>gill-color</th>\n",
       "      <th>stalk-shape</th>\n",
       "      <th>...</th>\n",
       "      <th>stalk-surface-above-ring</th>\n",
       "      <th>stalk-surface-below-ring</th>\n",
       "      <th>stalk-color-above-ring</th>\n",
       "      <th>stalk-color-below-ring</th>\n",
       "      <th>veil-color</th>\n",
       "      <th>ring-number</th>\n",
       "      <th>ring-type</th>\n",
       "      <th>spore-print-color</th>\n",
       "      <th>population</th>\n",
       "      <th>habitat</th>\n",
       "    </tr>\n",
       "  </thead>\n",
       "  <tbody>\n",
       "    <tr>\n",
       "      <th>0</th>\n",
       "      <td>x</td>\n",
       "      <td>s</td>\n",
       "      <td>n</td>\n",
       "      <td>t</td>\n",
       "      <td>p</td>\n",
       "      <td>f</td>\n",
       "      <td>c</td>\n",
       "      <td>n</td>\n",
       "      <td>k</td>\n",
       "      <td>e</td>\n",
       "      <td>...</td>\n",
       "      <td>s</td>\n",
       "      <td>s</td>\n",
       "      <td>w</td>\n",
       "      <td>w</td>\n",
       "      <td>w</td>\n",
       "      <td>o</td>\n",
       "      <td>p</td>\n",
       "      <td>k</td>\n",
       "      <td>s</td>\n",
       "      <td>u</td>\n",
       "    </tr>\n",
       "    <tr>\n",
       "      <th>1</th>\n",
       "      <td>x</td>\n",
       "      <td>s</td>\n",
       "      <td>y</td>\n",
       "      <td>t</td>\n",
       "      <td>a</td>\n",
       "      <td>f</td>\n",
       "      <td>c</td>\n",
       "      <td>b</td>\n",
       "      <td>k</td>\n",
       "      <td>e</td>\n",
       "      <td>...</td>\n",
       "      <td>s</td>\n",
       "      <td>s</td>\n",
       "      <td>w</td>\n",
       "      <td>w</td>\n",
       "      <td>w</td>\n",
       "      <td>o</td>\n",
       "      <td>p</td>\n",
       "      <td>n</td>\n",
       "      <td>n</td>\n",
       "      <td>g</td>\n",
       "    </tr>\n",
       "    <tr>\n",
       "      <th>2</th>\n",
       "      <td>b</td>\n",
       "      <td>s</td>\n",
       "      <td>w</td>\n",
       "      <td>t</td>\n",
       "      <td>l</td>\n",
       "      <td>f</td>\n",
       "      <td>c</td>\n",
       "      <td>b</td>\n",
       "      <td>n</td>\n",
       "      <td>e</td>\n",
       "      <td>...</td>\n",
       "      <td>s</td>\n",
       "      <td>s</td>\n",
       "      <td>w</td>\n",
       "      <td>w</td>\n",
       "      <td>w</td>\n",
       "      <td>o</td>\n",
       "      <td>p</td>\n",
       "      <td>n</td>\n",
       "      <td>n</td>\n",
       "      <td>m</td>\n",
       "    </tr>\n",
       "    <tr>\n",
       "      <th>3</th>\n",
       "      <td>x</td>\n",
       "      <td>y</td>\n",
       "      <td>w</td>\n",
       "      <td>t</td>\n",
       "      <td>p</td>\n",
       "      <td>f</td>\n",
       "      <td>c</td>\n",
       "      <td>n</td>\n",
       "      <td>n</td>\n",
       "      <td>e</td>\n",
       "      <td>...</td>\n",
       "      <td>s</td>\n",
       "      <td>s</td>\n",
       "      <td>w</td>\n",
       "      <td>w</td>\n",
       "      <td>w</td>\n",
       "      <td>o</td>\n",
       "      <td>p</td>\n",
       "      <td>k</td>\n",
       "      <td>s</td>\n",
       "      <td>u</td>\n",
       "    </tr>\n",
       "    <tr>\n",
       "      <th>4</th>\n",
       "      <td>x</td>\n",
       "      <td>s</td>\n",
       "      <td>g</td>\n",
       "      <td>f</td>\n",
       "      <td>n</td>\n",
       "      <td>f</td>\n",
       "      <td>w</td>\n",
       "      <td>b</td>\n",
       "      <td>k</td>\n",
       "      <td>t</td>\n",
       "      <td>...</td>\n",
       "      <td>s</td>\n",
       "      <td>s</td>\n",
       "      <td>w</td>\n",
       "      <td>w</td>\n",
       "      <td>w</td>\n",
       "      <td>o</td>\n",
       "      <td>e</td>\n",
       "      <td>n</td>\n",
       "      <td>a</td>\n",
       "      <td>g</td>\n",
       "    </tr>\n",
       "  </tbody>\n",
       "</table>\n",
       "<p>5 rows × 21 columns</p>\n",
       "</div>"
      ],
      "text/plain": [
       "  cap-shape cap-surface cap-color bruises odor gill-attachment gill-spacing  \\\n",
       "0         x           s         n       t    p               f            c   \n",
       "1         x           s         y       t    a               f            c   \n",
       "2         b           s         w       t    l               f            c   \n",
       "3         x           y         w       t    p               f            c   \n",
       "4         x           s         g       f    n               f            w   \n",
       "\n",
       "  gill-size gill-color stalk-shape  ... stalk-surface-above-ring  \\\n",
       "0         n          k           e  ...                        s   \n",
       "1         b          k           e  ...                        s   \n",
       "2         b          n           e  ...                        s   \n",
       "3         n          n           e  ...                        s   \n",
       "4         b          k           t  ...                        s   \n",
       "\n",
       "  stalk-surface-below-ring stalk-color-above-ring stalk-color-below-ring  \\\n",
       "0                        s                      w                      w   \n",
       "1                        s                      w                      w   \n",
       "2                        s                      w                      w   \n",
       "3                        s                      w                      w   \n",
       "4                        s                      w                      w   \n",
       "\n",
       "  veil-color ring-number ring-type spore-print-color population habitat  \n",
       "0          w           o         p                 k          s       u  \n",
       "1          w           o         p                 n          n       g  \n",
       "2          w           o         p                 n          n       m  \n",
       "3          w           o         p                 k          s       u  \n",
       "4          w           o         e                 n          a       g  \n",
       "\n",
       "[5 rows x 21 columns]"
      ]
     },
     "execution_count": 10,
     "metadata": {},
     "output_type": "execute_result"
    }
   ],
   "source": [
    "df=df.drop(\"veil-type\", axis=1)\n",
    "X=df.drop('class',axis=1)\n",
    "X.head()"
   ]
  },
  {
   "cell_type": "code",
   "execution_count": 11,
   "id": "d11a5fac",
   "metadata": {},
   "outputs": [
    {
     "data": {
      "text/plain": [
       "(8124, 21)"
      ]
     },
     "execution_count": 11,
     "metadata": {},
     "output_type": "execute_result"
    }
   ],
   "source": [
    "X.shape"
   ]
  },
  {
   "cell_type": "code",
   "execution_count": 12,
   "id": "980ebd64",
   "metadata": {},
   "outputs": [
    {
     "data": {
      "text/plain": [
       "0    p\n",
       "1    e\n",
       "2    e\n",
       "3    p\n",
       "4    e\n",
       "Name: class, dtype: object"
      ]
     },
     "execution_count": 12,
     "metadata": {},
     "output_type": "execute_result"
    }
   ],
   "source": [
    "y=df['class']\n",
    "y.head()"
   ]
  },
  {
   "cell_type": "code",
   "execution_count": 13,
   "id": "eb73b149",
   "metadata": {},
   "outputs": [
    {
     "data": {
      "text/plain": [
       "(8124,)"
      ]
     },
     "execution_count": 13,
     "metadata": {},
     "output_type": "execute_result"
    }
   ],
   "source": [
    "y.shape"
   ]
  },
  {
   "cell_type": "markdown",
   "id": "63455183",
   "metadata": {},
   "source": [
    "### Splitting Data as Train and Test Set"
   ]
  },
  {
   "cell_type": "code",
   "execution_count": 14,
   "id": "636cf149",
   "metadata": {},
   "outputs": [],
   "source": [
    "from sklearn.model_selection import train_test_split\n",
    "X_train, X_test, y_train, y_test = train_test_split(X, y, test_size=0.3, random_state=42)"
   ]
  },
  {
   "cell_type": "markdown",
   "id": "e6695047",
   "metadata": {},
   "source": [
    "### Preprocessing and Model Training using Pipelines"
   ]
  },
  {
   "cell_type": "code",
   "execution_count": 15,
   "id": "2d99dcfb",
   "metadata": {},
   "outputs": [],
   "source": [
    "numeric_columns= X.select_dtypes(include=['int','float']).columns"
   ]
  },
  {
   "cell_type": "code",
   "execution_count": 16,
   "id": "26e19e37",
   "metadata": {},
   "outputs": [],
   "source": [
    "#Numerical\n",
    "numeric_processor=Pipeline(\n",
    "    steps=[(\"imputation_mode\", SimpleImputer(missing_values=np.NaN,strategy=\"most_frequent\")), \n",
    "            (\"standard_scaler\", StandardScaler())]\n",
    ")"
   ]
  },
  {
   "cell_type": "code",
   "execution_count": 17,
   "id": "f40daef7",
   "metadata": {},
   "outputs": [],
   "source": [
    "category_columns=X.select_dtypes(include=['category', 'object']).columns"
   ]
  },
  {
   "cell_type": "code",
   "execution_count": 18,
   "id": "95e12dfd",
   "metadata": {},
   "outputs": [],
   "source": [
    "#Categorical\n",
    "from sklearn.preprocessing import OneHotEncoder\n",
    "categorical_processor=Pipeline(\n",
    "    steps=[(\"imputation_constant\", SimpleImputer(fill_value=\"missing\", strategy=\"constant\")), \n",
    "            (\"onehot\", OneHotEncoder(handle_unknown=\"ignore\"))]\n",
    ") "
   ]
  },
  {
   "cell_type": "code",
   "execution_count": 19,
   "id": "81244357",
   "metadata": {},
   "outputs": [],
   "source": [
    "from sklearn.compose import ColumnTransformer\n",
    "preprocessor=ColumnTransformer(\n",
    "    transformers=[(\"categorical\", categorical_processor, category_columns),\n",
    "    (\"numerical\", numeric_processor, numeric_columns)]\n",
    ")"
   ]
  },
  {
   "cell_type": "code",
   "execution_count": 20,
   "id": "61839d74",
   "metadata": {},
   "outputs": [],
   "source": [
    "set_config(display=\"diagram\")"
   ]
  },
  {
   "cell_type": "code",
   "execution_count": 21,
   "id": "8597c656",
   "metadata": {},
   "outputs": [
    {
     "data": {
      "text/html": [
       "<style>#sk-f66c43b4-b7a1-4994-8141-8a1f300ed8fc {color: black;background-color: white;}#sk-f66c43b4-b7a1-4994-8141-8a1f300ed8fc pre{padding: 0;}#sk-f66c43b4-b7a1-4994-8141-8a1f300ed8fc div.sk-toggleable {background-color: white;}#sk-f66c43b4-b7a1-4994-8141-8a1f300ed8fc label.sk-toggleable__label {cursor: pointer;display: block;width: 100%;margin-bottom: 0;padding: 0.3em;box-sizing: border-box;text-align: center;}#sk-f66c43b4-b7a1-4994-8141-8a1f300ed8fc label.sk-toggleable__label-arrow:before {content: \"▸\";float: left;margin-right: 0.25em;color: #696969;}#sk-f66c43b4-b7a1-4994-8141-8a1f300ed8fc label.sk-toggleable__label-arrow:hover:before {color: black;}#sk-f66c43b4-b7a1-4994-8141-8a1f300ed8fc div.sk-estimator:hover label.sk-toggleable__label-arrow:before {color: black;}#sk-f66c43b4-b7a1-4994-8141-8a1f300ed8fc div.sk-toggleable__content {max-height: 0;max-width: 0;overflow: hidden;text-align: left;background-color: #f0f8ff;}#sk-f66c43b4-b7a1-4994-8141-8a1f300ed8fc div.sk-toggleable__content pre {margin: 0.2em;color: black;border-radius: 0.25em;background-color: #f0f8ff;}#sk-f66c43b4-b7a1-4994-8141-8a1f300ed8fc input.sk-toggleable__control:checked~div.sk-toggleable__content {max-height: 200px;max-width: 100%;overflow: auto;}#sk-f66c43b4-b7a1-4994-8141-8a1f300ed8fc input.sk-toggleable__control:checked~label.sk-toggleable__label-arrow:before {content: \"▾\";}#sk-f66c43b4-b7a1-4994-8141-8a1f300ed8fc div.sk-estimator input.sk-toggleable__control:checked~label.sk-toggleable__label {background-color: #d4ebff;}#sk-f66c43b4-b7a1-4994-8141-8a1f300ed8fc div.sk-label input.sk-toggleable__control:checked~label.sk-toggleable__label {background-color: #d4ebff;}#sk-f66c43b4-b7a1-4994-8141-8a1f300ed8fc input.sk-hidden--visually {border: 0;clip: rect(1px 1px 1px 1px);clip: rect(1px, 1px, 1px, 1px);height: 1px;margin: -1px;overflow: hidden;padding: 0;position: absolute;width: 1px;}#sk-f66c43b4-b7a1-4994-8141-8a1f300ed8fc div.sk-estimator {font-family: monospace;background-color: #f0f8ff;border: 1px dotted black;border-radius: 0.25em;box-sizing: border-box;margin-bottom: 0.5em;}#sk-f66c43b4-b7a1-4994-8141-8a1f300ed8fc div.sk-estimator:hover {background-color: #d4ebff;}#sk-f66c43b4-b7a1-4994-8141-8a1f300ed8fc div.sk-parallel-item::after {content: \"\";width: 100%;border-bottom: 1px solid gray;flex-grow: 1;}#sk-f66c43b4-b7a1-4994-8141-8a1f300ed8fc div.sk-label:hover label.sk-toggleable__label {background-color: #d4ebff;}#sk-f66c43b4-b7a1-4994-8141-8a1f300ed8fc div.sk-serial::before {content: \"\";position: absolute;border-left: 1px solid gray;box-sizing: border-box;top: 2em;bottom: 0;left: 50%;}#sk-f66c43b4-b7a1-4994-8141-8a1f300ed8fc div.sk-serial {display: flex;flex-direction: column;align-items: center;background-color: white;padding-right: 0.2em;padding-left: 0.2em;}#sk-f66c43b4-b7a1-4994-8141-8a1f300ed8fc div.sk-item {z-index: 1;}#sk-f66c43b4-b7a1-4994-8141-8a1f300ed8fc div.sk-parallel {display: flex;align-items: stretch;justify-content: center;background-color: white;}#sk-f66c43b4-b7a1-4994-8141-8a1f300ed8fc div.sk-parallel::before {content: \"\";position: absolute;border-left: 1px solid gray;box-sizing: border-box;top: 2em;bottom: 0;left: 50%;}#sk-f66c43b4-b7a1-4994-8141-8a1f300ed8fc div.sk-parallel-item {display: flex;flex-direction: column;position: relative;background-color: white;}#sk-f66c43b4-b7a1-4994-8141-8a1f300ed8fc div.sk-parallel-item:first-child::after {align-self: flex-end;width: 50%;}#sk-f66c43b4-b7a1-4994-8141-8a1f300ed8fc div.sk-parallel-item:last-child::after {align-self: flex-start;width: 50%;}#sk-f66c43b4-b7a1-4994-8141-8a1f300ed8fc div.sk-parallel-item:only-child::after {width: 0;}#sk-f66c43b4-b7a1-4994-8141-8a1f300ed8fc div.sk-dashed-wrapped {border: 1px dashed gray;margin: 0 0.4em 0.5em 0.4em;box-sizing: border-box;padding-bottom: 0.4em;background-color: white;position: relative;}#sk-f66c43b4-b7a1-4994-8141-8a1f300ed8fc div.sk-label label {font-family: monospace;font-weight: bold;background-color: white;display: inline-block;line-height: 1.2em;}#sk-f66c43b4-b7a1-4994-8141-8a1f300ed8fc div.sk-label-container {position: relative;z-index: 2;text-align: center;}#sk-f66c43b4-b7a1-4994-8141-8a1f300ed8fc div.sk-container {/* jupyter's `normalize.less` sets `[hidden] { display: none; }` but bootstrap.min.css set `[hidden] { display: none !important; }` so we also need the `!important` here to be able to override the default hidden behavior on the sphinx rendered scikit-learn.org. See: https://github.com/scikit-learn/scikit-learn/issues/21755 */display: inline-block !important;position: relative;}#sk-f66c43b4-b7a1-4994-8141-8a1f300ed8fc div.sk-text-repr-fallback {display: none;}</style><div id=\"sk-f66c43b4-b7a1-4994-8141-8a1f300ed8fc\" class=\"sk-top-container\"><div class=\"sk-text-repr-fallback\"><pre>ColumnTransformer(transformers=[(&#x27;categorical&#x27;,\n",
       "                                 Pipeline(steps=[(&#x27;imputation_constant&#x27;,\n",
       "                                                  SimpleImputer(fill_value=&#x27;missing&#x27;,\n",
       "                                                                strategy=&#x27;constant&#x27;)),\n",
       "                                                 (&#x27;onehot&#x27;,\n",
       "                                                  OneHotEncoder(handle_unknown=&#x27;ignore&#x27;))]),\n",
       "                                 Index([&#x27;cap-shape&#x27;, &#x27;cap-surface&#x27;, &#x27;cap-color&#x27;, &#x27;bruises&#x27;, &#x27;odor&#x27;,\n",
       "       &#x27;gill-attachment&#x27;, &#x27;gill-spacing&#x27;, &#x27;gill-size&#x27;, &#x27;gill-color&#x27;,\n",
       "       &#x27;stalk-shape&#x27;, &#x27;stalk-root&#x27;, &#x27;stalk-surface-above-ring&#x27;,\n",
       "       &#x27;stalk-surface-below-ring&#x27;, &#x27;stalk-color-above-ring&#x27;,\n",
       "       &#x27;stalk-color-below-ring&#x27;, &#x27;veil-color&#x27;, &#x27;ring-number&#x27;, &#x27;ring-type&#x27;,\n",
       "       &#x27;spore-print-color&#x27;, &#x27;population&#x27;, &#x27;habitat&#x27;],\n",
       "      dtype=&#x27;object&#x27;)),\n",
       "                                (&#x27;numerical&#x27;,\n",
       "                                 Pipeline(steps=[(&#x27;imputation_mode&#x27;,\n",
       "                                                  SimpleImputer(strategy=&#x27;most_frequent&#x27;)),\n",
       "                                                 (&#x27;standard_scaler&#x27;,\n",
       "                                                  StandardScaler())]),\n",
       "                                 Index([], dtype=&#x27;object&#x27;))])</pre><b>Please rerun this cell to show the HTML repr or trust the notebook.</b></div><div class=\"sk-container\" hidden><div class=\"sk-item sk-dashed-wrapped\"><div class=\"sk-label-container\"><div class=\"sk-label sk-toggleable\"><input class=\"sk-toggleable__control sk-hidden--visually\" id=\"c1393475-07c4-4106-b246-6931efeb3144\" type=\"checkbox\" ><label for=\"c1393475-07c4-4106-b246-6931efeb3144\" class=\"sk-toggleable__label sk-toggleable__label-arrow\">ColumnTransformer</label><div class=\"sk-toggleable__content\"><pre>ColumnTransformer(transformers=[(&#x27;categorical&#x27;,\n",
       "                                 Pipeline(steps=[(&#x27;imputation_constant&#x27;,\n",
       "                                                  SimpleImputer(fill_value=&#x27;missing&#x27;,\n",
       "                                                                strategy=&#x27;constant&#x27;)),\n",
       "                                                 (&#x27;onehot&#x27;,\n",
       "                                                  OneHotEncoder(handle_unknown=&#x27;ignore&#x27;))]),\n",
       "                                 Index([&#x27;cap-shape&#x27;, &#x27;cap-surface&#x27;, &#x27;cap-color&#x27;, &#x27;bruises&#x27;, &#x27;odor&#x27;,\n",
       "       &#x27;gill-attachment&#x27;, &#x27;gill-spacing&#x27;, &#x27;gill-size&#x27;, &#x27;gill-color&#x27;,\n",
       "       &#x27;stalk-shape&#x27;, &#x27;stalk-root&#x27;, &#x27;stalk-surface-above-ring&#x27;,\n",
       "       &#x27;stalk-surface-below-ring&#x27;, &#x27;stalk-color-above-ring&#x27;,\n",
       "       &#x27;stalk-color-below-ring&#x27;, &#x27;veil-color&#x27;, &#x27;ring-number&#x27;, &#x27;ring-type&#x27;,\n",
       "       &#x27;spore-print-color&#x27;, &#x27;population&#x27;, &#x27;habitat&#x27;],\n",
       "      dtype=&#x27;object&#x27;)),\n",
       "                                (&#x27;numerical&#x27;,\n",
       "                                 Pipeline(steps=[(&#x27;imputation_mode&#x27;,\n",
       "                                                  SimpleImputer(strategy=&#x27;most_frequent&#x27;)),\n",
       "                                                 (&#x27;standard_scaler&#x27;,\n",
       "                                                  StandardScaler())]),\n",
       "                                 Index([], dtype=&#x27;object&#x27;))])</pre></div></div></div><div class=\"sk-parallel\"><div class=\"sk-parallel-item\"><div class=\"sk-item\"><div class=\"sk-label-container\"><div class=\"sk-label sk-toggleable\"><input class=\"sk-toggleable__control sk-hidden--visually\" id=\"d337ea4c-1407-4c0d-8506-2b1491f93f4c\" type=\"checkbox\" ><label for=\"d337ea4c-1407-4c0d-8506-2b1491f93f4c\" class=\"sk-toggleable__label sk-toggleable__label-arrow\">categorical</label><div class=\"sk-toggleable__content\"><pre>Index([&#x27;cap-shape&#x27;, &#x27;cap-surface&#x27;, &#x27;cap-color&#x27;, &#x27;bruises&#x27;, &#x27;odor&#x27;,\n",
       "       &#x27;gill-attachment&#x27;, &#x27;gill-spacing&#x27;, &#x27;gill-size&#x27;, &#x27;gill-color&#x27;,\n",
       "       &#x27;stalk-shape&#x27;, &#x27;stalk-root&#x27;, &#x27;stalk-surface-above-ring&#x27;,\n",
       "       &#x27;stalk-surface-below-ring&#x27;, &#x27;stalk-color-above-ring&#x27;,\n",
       "       &#x27;stalk-color-below-ring&#x27;, &#x27;veil-color&#x27;, &#x27;ring-number&#x27;, &#x27;ring-type&#x27;,\n",
       "       &#x27;spore-print-color&#x27;, &#x27;population&#x27;, &#x27;habitat&#x27;],\n",
       "      dtype=&#x27;object&#x27;)</pre></div></div></div><div class=\"sk-serial\"><div class=\"sk-item\"><div class=\"sk-serial\"><div class=\"sk-item\"><div class=\"sk-estimator sk-toggleable\"><input class=\"sk-toggleable__control sk-hidden--visually\" id=\"f8d012d4-9878-4b07-a52e-8e59b04d1964\" type=\"checkbox\" ><label for=\"f8d012d4-9878-4b07-a52e-8e59b04d1964\" class=\"sk-toggleable__label sk-toggleable__label-arrow\">SimpleImputer</label><div class=\"sk-toggleable__content\"><pre>SimpleImputer(fill_value=&#x27;missing&#x27;, strategy=&#x27;constant&#x27;)</pre></div></div></div><div class=\"sk-item\"><div class=\"sk-estimator sk-toggleable\"><input class=\"sk-toggleable__control sk-hidden--visually\" id=\"609abc55-b1b5-4913-858e-726821846643\" type=\"checkbox\" ><label for=\"609abc55-b1b5-4913-858e-726821846643\" class=\"sk-toggleable__label sk-toggleable__label-arrow\">OneHotEncoder</label><div class=\"sk-toggleable__content\"><pre>OneHotEncoder(handle_unknown=&#x27;ignore&#x27;)</pre></div></div></div></div></div></div></div></div><div class=\"sk-parallel-item\"><div class=\"sk-item\"><div class=\"sk-label-container\"><div class=\"sk-label sk-toggleable\"><input class=\"sk-toggleable__control sk-hidden--visually\" id=\"d1728c51-d23a-4e1d-9c8c-ed758051ba13\" type=\"checkbox\" ><label for=\"d1728c51-d23a-4e1d-9c8c-ed758051ba13\" class=\"sk-toggleable__label sk-toggleable__label-arrow\">numerical</label><div class=\"sk-toggleable__content\"><pre>Index([], dtype=&#x27;object&#x27;)</pre></div></div></div><div class=\"sk-serial\"><div class=\"sk-item\"><div class=\"sk-serial\"><div class=\"sk-item\"><div class=\"sk-estimator sk-toggleable\"><input class=\"sk-toggleable__control sk-hidden--visually\" id=\"addf0769-f692-425c-bdea-d5e6aa45a5b0\" type=\"checkbox\" ><label for=\"addf0769-f692-425c-bdea-d5e6aa45a5b0\" class=\"sk-toggleable__label sk-toggleable__label-arrow\">SimpleImputer</label><div class=\"sk-toggleable__content\"><pre>SimpleImputer(strategy=&#x27;most_frequent&#x27;)</pre></div></div></div><div class=\"sk-item\"><div class=\"sk-estimator sk-toggleable\"><input class=\"sk-toggleable__control sk-hidden--visually\" id=\"902e04db-43c6-4808-816d-746fb69fd5b0\" type=\"checkbox\" ><label for=\"902e04db-43c6-4808-816d-746fb69fd5b0\" class=\"sk-toggleable__label sk-toggleable__label-arrow\">StandardScaler</label><div class=\"sk-toggleable__content\"><pre>StandardScaler()</pre></div></div></div></div></div></div></div></div></div></div></div></div>"
      ],
      "text/plain": [
       "ColumnTransformer(transformers=[('categorical',\n",
       "                                 Pipeline(steps=[('imputation_constant',\n",
       "                                                  SimpleImputer(fill_value='missing',\n",
       "                                                                strategy='constant')),\n",
       "                                                 ('onehot',\n",
       "                                                  OneHotEncoder(handle_unknown='ignore'))]),\n",
       "                                 Index(['cap-shape', 'cap-surface', 'cap-color', 'bruises', 'odor',\n",
       "       'gill-attachment', 'gill-spacing', 'gill-size', 'gill-color',\n",
       "       'stalk-shape', 'stalk-root', 'stalk-surface-above-ring',\n",
       "       'stalk-surface-below-ring', 'stalk-color-above-ring',\n",
       "       'stalk-color-below-ring', 'veil-color', 'ring-number', 'ring-type',\n",
       "       'spore-print-color', 'population', 'habitat'],\n",
       "      dtype='object')),\n",
       "                                ('numerical',\n",
       "                                 Pipeline(steps=[('imputation_mode',\n",
       "                                                  SimpleImputer(strategy='most_frequent')),\n",
       "                                                 ('standard_scaler',\n",
       "                                                  StandardScaler())]),\n",
       "                                 Index([], dtype='object'))])"
      ]
     },
     "execution_count": 21,
     "metadata": {},
     "output_type": "execute_result"
    }
   ],
   "source": [
    "preprocessor"
   ]
  },
  {
   "cell_type": "markdown",
   "id": "eeca3e16",
   "metadata": {},
   "source": [
    "### Logistic Regression"
   ]
  },
  {
   "cell_type": "code",
   "execution_count": 22,
   "id": "b4b33001",
   "metadata": {},
   "outputs": [
    {
     "data": {
      "text/html": [
       "<style>#sk-801974bd-50d0-4227-bdb8-29a9d336ac57 {color: black;background-color: white;}#sk-801974bd-50d0-4227-bdb8-29a9d336ac57 pre{padding: 0;}#sk-801974bd-50d0-4227-bdb8-29a9d336ac57 div.sk-toggleable {background-color: white;}#sk-801974bd-50d0-4227-bdb8-29a9d336ac57 label.sk-toggleable__label {cursor: pointer;display: block;width: 100%;margin-bottom: 0;padding: 0.3em;box-sizing: border-box;text-align: center;}#sk-801974bd-50d0-4227-bdb8-29a9d336ac57 label.sk-toggleable__label-arrow:before {content: \"▸\";float: left;margin-right: 0.25em;color: #696969;}#sk-801974bd-50d0-4227-bdb8-29a9d336ac57 label.sk-toggleable__label-arrow:hover:before {color: black;}#sk-801974bd-50d0-4227-bdb8-29a9d336ac57 div.sk-estimator:hover label.sk-toggleable__label-arrow:before {color: black;}#sk-801974bd-50d0-4227-bdb8-29a9d336ac57 div.sk-toggleable__content {max-height: 0;max-width: 0;overflow: hidden;text-align: left;background-color: #f0f8ff;}#sk-801974bd-50d0-4227-bdb8-29a9d336ac57 div.sk-toggleable__content pre {margin: 0.2em;color: black;border-radius: 0.25em;background-color: #f0f8ff;}#sk-801974bd-50d0-4227-bdb8-29a9d336ac57 input.sk-toggleable__control:checked~div.sk-toggleable__content {max-height: 200px;max-width: 100%;overflow: auto;}#sk-801974bd-50d0-4227-bdb8-29a9d336ac57 input.sk-toggleable__control:checked~label.sk-toggleable__label-arrow:before {content: \"▾\";}#sk-801974bd-50d0-4227-bdb8-29a9d336ac57 div.sk-estimator input.sk-toggleable__control:checked~label.sk-toggleable__label {background-color: #d4ebff;}#sk-801974bd-50d0-4227-bdb8-29a9d336ac57 div.sk-label input.sk-toggleable__control:checked~label.sk-toggleable__label {background-color: #d4ebff;}#sk-801974bd-50d0-4227-bdb8-29a9d336ac57 input.sk-hidden--visually {border: 0;clip: rect(1px 1px 1px 1px);clip: rect(1px, 1px, 1px, 1px);height: 1px;margin: -1px;overflow: hidden;padding: 0;position: absolute;width: 1px;}#sk-801974bd-50d0-4227-bdb8-29a9d336ac57 div.sk-estimator {font-family: monospace;background-color: #f0f8ff;border: 1px dotted black;border-radius: 0.25em;box-sizing: border-box;margin-bottom: 0.5em;}#sk-801974bd-50d0-4227-bdb8-29a9d336ac57 div.sk-estimator:hover {background-color: #d4ebff;}#sk-801974bd-50d0-4227-bdb8-29a9d336ac57 div.sk-parallel-item::after {content: \"\";width: 100%;border-bottom: 1px solid gray;flex-grow: 1;}#sk-801974bd-50d0-4227-bdb8-29a9d336ac57 div.sk-label:hover label.sk-toggleable__label {background-color: #d4ebff;}#sk-801974bd-50d0-4227-bdb8-29a9d336ac57 div.sk-serial::before {content: \"\";position: absolute;border-left: 1px solid gray;box-sizing: border-box;top: 2em;bottom: 0;left: 50%;}#sk-801974bd-50d0-4227-bdb8-29a9d336ac57 div.sk-serial {display: flex;flex-direction: column;align-items: center;background-color: white;padding-right: 0.2em;padding-left: 0.2em;}#sk-801974bd-50d0-4227-bdb8-29a9d336ac57 div.sk-item {z-index: 1;}#sk-801974bd-50d0-4227-bdb8-29a9d336ac57 div.sk-parallel {display: flex;align-items: stretch;justify-content: center;background-color: white;}#sk-801974bd-50d0-4227-bdb8-29a9d336ac57 div.sk-parallel::before {content: \"\";position: absolute;border-left: 1px solid gray;box-sizing: border-box;top: 2em;bottom: 0;left: 50%;}#sk-801974bd-50d0-4227-bdb8-29a9d336ac57 div.sk-parallel-item {display: flex;flex-direction: column;position: relative;background-color: white;}#sk-801974bd-50d0-4227-bdb8-29a9d336ac57 div.sk-parallel-item:first-child::after {align-self: flex-end;width: 50%;}#sk-801974bd-50d0-4227-bdb8-29a9d336ac57 div.sk-parallel-item:last-child::after {align-self: flex-start;width: 50%;}#sk-801974bd-50d0-4227-bdb8-29a9d336ac57 div.sk-parallel-item:only-child::after {width: 0;}#sk-801974bd-50d0-4227-bdb8-29a9d336ac57 div.sk-dashed-wrapped {border: 1px dashed gray;margin: 0 0.4em 0.5em 0.4em;box-sizing: border-box;padding-bottom: 0.4em;background-color: white;position: relative;}#sk-801974bd-50d0-4227-bdb8-29a9d336ac57 div.sk-label label {font-family: monospace;font-weight: bold;background-color: white;display: inline-block;line-height: 1.2em;}#sk-801974bd-50d0-4227-bdb8-29a9d336ac57 div.sk-label-container {position: relative;z-index: 2;text-align: center;}#sk-801974bd-50d0-4227-bdb8-29a9d336ac57 div.sk-container {/* jupyter's `normalize.less` sets `[hidden] { display: none; }` but bootstrap.min.css set `[hidden] { display: none !important; }` so we also need the `!important` here to be able to override the default hidden behavior on the sphinx rendered scikit-learn.org. See: https://github.com/scikit-learn/scikit-learn/issues/21755 */display: inline-block !important;position: relative;}#sk-801974bd-50d0-4227-bdb8-29a9d336ac57 div.sk-text-repr-fallback {display: none;}</style><div id=\"sk-801974bd-50d0-4227-bdb8-29a9d336ac57\" class=\"sk-top-container\"><div class=\"sk-text-repr-fallback\"><pre>Pipeline(steps=[(&#x27;columntransformer&#x27;,\n",
       "                 ColumnTransformer(transformers=[(&#x27;categorical&#x27;,\n",
       "                                                  Pipeline(steps=[(&#x27;imputation_constant&#x27;,\n",
       "                                                                   SimpleImputer(fill_value=&#x27;missing&#x27;,\n",
       "                                                                                 strategy=&#x27;constant&#x27;)),\n",
       "                                                                  (&#x27;onehot&#x27;,\n",
       "                                                                   OneHotEncoder(handle_unknown=&#x27;ignore&#x27;))]),\n",
       "                                                  Index([&#x27;cap-shape&#x27;, &#x27;cap-surface&#x27;, &#x27;cap-color&#x27;, &#x27;bruises&#x27;, &#x27;odor&#x27;,\n",
       "       &#x27;gill-attachment&#x27;, &#x27;gill-spacing&#x27;, &#x27;gill-size&#x27;, &#x27;gill-color...\n",
       "       &#x27;stalk-surface-below-ring&#x27;, &#x27;stalk-color-above-ring&#x27;,\n",
       "       &#x27;stalk-color-below-ring&#x27;, &#x27;veil-color&#x27;, &#x27;ring-number&#x27;, &#x27;ring-type&#x27;,\n",
       "       &#x27;spore-print-color&#x27;, &#x27;population&#x27;, &#x27;habitat&#x27;],\n",
       "      dtype=&#x27;object&#x27;)),\n",
       "                                                 (&#x27;numerical&#x27;,\n",
       "                                                  Pipeline(steps=[(&#x27;imputation_mode&#x27;,\n",
       "                                                                   SimpleImputer(strategy=&#x27;most_frequent&#x27;)),\n",
       "                                                                  (&#x27;standard_scaler&#x27;,\n",
       "                                                                   StandardScaler())]),\n",
       "                                                  Index([], dtype=&#x27;object&#x27;))])),\n",
       "                (&#x27;logisticregression&#x27;, LogisticRegression())])</pre><b>Please rerun this cell to show the HTML repr or trust the notebook.</b></div><div class=\"sk-container\" hidden><div class=\"sk-item sk-dashed-wrapped\"><div class=\"sk-label-container\"><div class=\"sk-label sk-toggleable\"><input class=\"sk-toggleable__control sk-hidden--visually\" id=\"498cd069-a8fe-4881-8e2b-e589c31b37af\" type=\"checkbox\" ><label for=\"498cd069-a8fe-4881-8e2b-e589c31b37af\" class=\"sk-toggleable__label sk-toggleable__label-arrow\">Pipeline</label><div class=\"sk-toggleable__content\"><pre>Pipeline(steps=[(&#x27;columntransformer&#x27;,\n",
       "                 ColumnTransformer(transformers=[(&#x27;categorical&#x27;,\n",
       "                                                  Pipeline(steps=[(&#x27;imputation_constant&#x27;,\n",
       "                                                                   SimpleImputer(fill_value=&#x27;missing&#x27;,\n",
       "                                                                                 strategy=&#x27;constant&#x27;)),\n",
       "                                                                  (&#x27;onehot&#x27;,\n",
       "                                                                   OneHotEncoder(handle_unknown=&#x27;ignore&#x27;))]),\n",
       "                                                  Index([&#x27;cap-shape&#x27;, &#x27;cap-surface&#x27;, &#x27;cap-color&#x27;, &#x27;bruises&#x27;, &#x27;odor&#x27;,\n",
       "       &#x27;gill-attachment&#x27;, &#x27;gill-spacing&#x27;, &#x27;gill-size&#x27;, &#x27;gill-color...\n",
       "       &#x27;stalk-surface-below-ring&#x27;, &#x27;stalk-color-above-ring&#x27;,\n",
       "       &#x27;stalk-color-below-ring&#x27;, &#x27;veil-color&#x27;, &#x27;ring-number&#x27;, &#x27;ring-type&#x27;,\n",
       "       &#x27;spore-print-color&#x27;, &#x27;population&#x27;, &#x27;habitat&#x27;],\n",
       "      dtype=&#x27;object&#x27;)),\n",
       "                                                 (&#x27;numerical&#x27;,\n",
       "                                                  Pipeline(steps=[(&#x27;imputation_mode&#x27;,\n",
       "                                                                   SimpleImputer(strategy=&#x27;most_frequent&#x27;)),\n",
       "                                                                  (&#x27;standard_scaler&#x27;,\n",
       "                                                                   StandardScaler())]),\n",
       "                                                  Index([], dtype=&#x27;object&#x27;))])),\n",
       "                (&#x27;logisticregression&#x27;, LogisticRegression())])</pre></div></div></div><div class=\"sk-serial\"><div class=\"sk-item sk-dashed-wrapped\"><div class=\"sk-label-container\"><div class=\"sk-label sk-toggleable\"><input class=\"sk-toggleable__control sk-hidden--visually\" id=\"61f0adec-4372-4b47-9b3e-dcf56f735c96\" type=\"checkbox\" ><label for=\"61f0adec-4372-4b47-9b3e-dcf56f735c96\" class=\"sk-toggleable__label sk-toggleable__label-arrow\">columntransformer: ColumnTransformer</label><div class=\"sk-toggleable__content\"><pre>ColumnTransformer(transformers=[(&#x27;categorical&#x27;,\n",
       "                                 Pipeline(steps=[(&#x27;imputation_constant&#x27;,\n",
       "                                                  SimpleImputer(fill_value=&#x27;missing&#x27;,\n",
       "                                                                strategy=&#x27;constant&#x27;)),\n",
       "                                                 (&#x27;onehot&#x27;,\n",
       "                                                  OneHotEncoder(handle_unknown=&#x27;ignore&#x27;))]),\n",
       "                                 Index([&#x27;cap-shape&#x27;, &#x27;cap-surface&#x27;, &#x27;cap-color&#x27;, &#x27;bruises&#x27;, &#x27;odor&#x27;,\n",
       "       &#x27;gill-attachment&#x27;, &#x27;gill-spacing&#x27;, &#x27;gill-size&#x27;, &#x27;gill-color&#x27;,\n",
       "       &#x27;stalk-shape&#x27;, &#x27;stalk-root&#x27;, &#x27;stalk-surface-above-ring&#x27;,\n",
       "       &#x27;stalk-surface-below-ring&#x27;, &#x27;stalk-color-above-ring&#x27;,\n",
       "       &#x27;stalk-color-below-ring&#x27;, &#x27;veil-color&#x27;, &#x27;ring-number&#x27;, &#x27;ring-type&#x27;,\n",
       "       &#x27;spore-print-color&#x27;, &#x27;population&#x27;, &#x27;habitat&#x27;],\n",
       "      dtype=&#x27;object&#x27;)),\n",
       "                                (&#x27;numerical&#x27;,\n",
       "                                 Pipeline(steps=[(&#x27;imputation_mode&#x27;,\n",
       "                                                  SimpleImputer(strategy=&#x27;most_frequent&#x27;)),\n",
       "                                                 (&#x27;standard_scaler&#x27;,\n",
       "                                                  StandardScaler())]),\n",
       "                                 Index([], dtype=&#x27;object&#x27;))])</pre></div></div></div><div class=\"sk-parallel\"><div class=\"sk-parallel-item\"><div class=\"sk-item\"><div class=\"sk-label-container\"><div class=\"sk-label sk-toggleable\"><input class=\"sk-toggleable__control sk-hidden--visually\" id=\"fea64065-e9b8-43ba-90f0-d8e9ef91ce7d\" type=\"checkbox\" ><label for=\"fea64065-e9b8-43ba-90f0-d8e9ef91ce7d\" class=\"sk-toggleable__label sk-toggleable__label-arrow\">categorical</label><div class=\"sk-toggleable__content\"><pre>Index([&#x27;cap-shape&#x27;, &#x27;cap-surface&#x27;, &#x27;cap-color&#x27;, &#x27;bruises&#x27;, &#x27;odor&#x27;,\n",
       "       &#x27;gill-attachment&#x27;, &#x27;gill-spacing&#x27;, &#x27;gill-size&#x27;, &#x27;gill-color&#x27;,\n",
       "       &#x27;stalk-shape&#x27;, &#x27;stalk-root&#x27;, &#x27;stalk-surface-above-ring&#x27;,\n",
       "       &#x27;stalk-surface-below-ring&#x27;, &#x27;stalk-color-above-ring&#x27;,\n",
       "       &#x27;stalk-color-below-ring&#x27;, &#x27;veil-color&#x27;, &#x27;ring-number&#x27;, &#x27;ring-type&#x27;,\n",
       "       &#x27;spore-print-color&#x27;, &#x27;population&#x27;, &#x27;habitat&#x27;],\n",
       "      dtype=&#x27;object&#x27;)</pre></div></div></div><div class=\"sk-serial\"><div class=\"sk-item\"><div class=\"sk-serial\"><div class=\"sk-item\"><div class=\"sk-estimator sk-toggleable\"><input class=\"sk-toggleable__control sk-hidden--visually\" id=\"3e6bef04-986c-4de5-8ee6-1c4810b719e1\" type=\"checkbox\" ><label for=\"3e6bef04-986c-4de5-8ee6-1c4810b719e1\" class=\"sk-toggleable__label sk-toggleable__label-arrow\">SimpleImputer</label><div class=\"sk-toggleable__content\"><pre>SimpleImputer(fill_value=&#x27;missing&#x27;, strategy=&#x27;constant&#x27;)</pre></div></div></div><div class=\"sk-item\"><div class=\"sk-estimator sk-toggleable\"><input class=\"sk-toggleable__control sk-hidden--visually\" id=\"bd35b3a8-a6fb-40f2-8757-2d1304dfd342\" type=\"checkbox\" ><label for=\"bd35b3a8-a6fb-40f2-8757-2d1304dfd342\" class=\"sk-toggleable__label sk-toggleable__label-arrow\">OneHotEncoder</label><div class=\"sk-toggleable__content\"><pre>OneHotEncoder(handle_unknown=&#x27;ignore&#x27;)</pre></div></div></div></div></div></div></div></div><div class=\"sk-parallel-item\"><div class=\"sk-item\"><div class=\"sk-label-container\"><div class=\"sk-label sk-toggleable\"><input class=\"sk-toggleable__control sk-hidden--visually\" id=\"2332684d-f5a5-494c-8214-edecd5aab181\" type=\"checkbox\" ><label for=\"2332684d-f5a5-494c-8214-edecd5aab181\" class=\"sk-toggleable__label sk-toggleable__label-arrow\">numerical</label><div class=\"sk-toggleable__content\"><pre>Index([], dtype=&#x27;object&#x27;)</pre></div></div></div><div class=\"sk-serial\"><div class=\"sk-item\"><div class=\"sk-serial\"><div class=\"sk-item\"><div class=\"sk-estimator sk-toggleable\"><input class=\"sk-toggleable__control sk-hidden--visually\" id=\"3ecd0f85-4b8c-4240-8460-2c7a047c12dc\" type=\"checkbox\" ><label for=\"3ecd0f85-4b8c-4240-8460-2c7a047c12dc\" class=\"sk-toggleable__label sk-toggleable__label-arrow\">SimpleImputer</label><div class=\"sk-toggleable__content\"><pre>SimpleImputer(strategy=&#x27;most_frequent&#x27;)</pre></div></div></div><div class=\"sk-item\"><div class=\"sk-estimator sk-toggleable\"><input class=\"sk-toggleable__control sk-hidden--visually\" id=\"779ade98-8b64-431d-8627-7a69a9096933\" type=\"checkbox\" ><label for=\"779ade98-8b64-431d-8627-7a69a9096933\" class=\"sk-toggleable__label sk-toggleable__label-arrow\">StandardScaler</label><div class=\"sk-toggleable__content\"><pre>StandardScaler()</pre></div></div></div></div></div></div></div></div></div></div><div class=\"sk-item\"><div class=\"sk-estimator sk-toggleable\"><input class=\"sk-toggleable__control sk-hidden--visually\" id=\"30241774-962d-4103-8663-bcf198ca97fc\" type=\"checkbox\" ><label for=\"30241774-962d-4103-8663-bcf198ca97fc\" class=\"sk-toggleable__label sk-toggleable__label-arrow\">LogisticRegression</label><div class=\"sk-toggleable__content\"><pre>LogisticRegression()</pre></div></div></div></div></div></div></div>"
      ],
      "text/plain": [
       "Pipeline(steps=[('columntransformer',\n",
       "                 ColumnTransformer(transformers=[('categorical',\n",
       "                                                  Pipeline(steps=[('imputation_constant',\n",
       "                                                                   SimpleImputer(fill_value='missing',\n",
       "                                                                                 strategy='constant')),\n",
       "                                                                  ('onehot',\n",
       "                                                                   OneHotEncoder(handle_unknown='ignore'))]),\n",
       "                                                  Index(['cap-shape', 'cap-surface', 'cap-color', 'bruises', 'odor',\n",
       "       'gill-attachment', 'gill-spacing', 'gill-size', 'gill-color...\n",
       "       'stalk-surface-below-ring', 'stalk-color-above-ring',\n",
       "       'stalk-color-below-ring', 'veil-color', 'ring-number', 'ring-type',\n",
       "       'spore-print-color', 'population', 'habitat'],\n",
       "      dtype='object')),\n",
       "                                                 ('numerical',\n",
       "                                                  Pipeline(steps=[('imputation_mode',\n",
       "                                                                   SimpleImputer(strategy='most_frequent')),\n",
       "                                                                  ('standard_scaler',\n",
       "                                                                   StandardScaler())]),\n",
       "                                                  Index([], dtype='object'))])),\n",
       "                ('logisticregression', LogisticRegression())])"
      ]
     },
     "execution_count": 22,
     "metadata": {},
     "output_type": "execute_result"
    }
   ],
   "source": [
    "#Logistic Regression\n",
    "from sklearn.linear_model import LogisticRegression\n",
    "lr = make_pipeline(preprocessor, LogisticRegression())\n",
    "lr"
   ]
  },
  {
   "cell_type": "code",
   "execution_count": 23,
   "id": "0034f285",
   "metadata": {},
   "outputs": [
    {
     "data": {
      "text/html": [
       "<style>#sk-11d6acd8-af4d-4063-81fc-6d40d554dae3 {color: black;background-color: white;}#sk-11d6acd8-af4d-4063-81fc-6d40d554dae3 pre{padding: 0;}#sk-11d6acd8-af4d-4063-81fc-6d40d554dae3 div.sk-toggleable {background-color: white;}#sk-11d6acd8-af4d-4063-81fc-6d40d554dae3 label.sk-toggleable__label {cursor: pointer;display: block;width: 100%;margin-bottom: 0;padding: 0.3em;box-sizing: border-box;text-align: center;}#sk-11d6acd8-af4d-4063-81fc-6d40d554dae3 label.sk-toggleable__label-arrow:before {content: \"▸\";float: left;margin-right: 0.25em;color: #696969;}#sk-11d6acd8-af4d-4063-81fc-6d40d554dae3 label.sk-toggleable__label-arrow:hover:before {color: black;}#sk-11d6acd8-af4d-4063-81fc-6d40d554dae3 div.sk-estimator:hover label.sk-toggleable__label-arrow:before {color: black;}#sk-11d6acd8-af4d-4063-81fc-6d40d554dae3 div.sk-toggleable__content {max-height: 0;max-width: 0;overflow: hidden;text-align: left;background-color: #f0f8ff;}#sk-11d6acd8-af4d-4063-81fc-6d40d554dae3 div.sk-toggleable__content pre {margin: 0.2em;color: black;border-radius: 0.25em;background-color: #f0f8ff;}#sk-11d6acd8-af4d-4063-81fc-6d40d554dae3 input.sk-toggleable__control:checked~div.sk-toggleable__content {max-height: 200px;max-width: 100%;overflow: auto;}#sk-11d6acd8-af4d-4063-81fc-6d40d554dae3 input.sk-toggleable__control:checked~label.sk-toggleable__label-arrow:before {content: \"▾\";}#sk-11d6acd8-af4d-4063-81fc-6d40d554dae3 div.sk-estimator input.sk-toggleable__control:checked~label.sk-toggleable__label {background-color: #d4ebff;}#sk-11d6acd8-af4d-4063-81fc-6d40d554dae3 div.sk-label input.sk-toggleable__control:checked~label.sk-toggleable__label {background-color: #d4ebff;}#sk-11d6acd8-af4d-4063-81fc-6d40d554dae3 input.sk-hidden--visually {border: 0;clip: rect(1px 1px 1px 1px);clip: rect(1px, 1px, 1px, 1px);height: 1px;margin: -1px;overflow: hidden;padding: 0;position: absolute;width: 1px;}#sk-11d6acd8-af4d-4063-81fc-6d40d554dae3 div.sk-estimator {font-family: monospace;background-color: #f0f8ff;border: 1px dotted black;border-radius: 0.25em;box-sizing: border-box;margin-bottom: 0.5em;}#sk-11d6acd8-af4d-4063-81fc-6d40d554dae3 div.sk-estimator:hover {background-color: #d4ebff;}#sk-11d6acd8-af4d-4063-81fc-6d40d554dae3 div.sk-parallel-item::after {content: \"\";width: 100%;border-bottom: 1px solid gray;flex-grow: 1;}#sk-11d6acd8-af4d-4063-81fc-6d40d554dae3 div.sk-label:hover label.sk-toggleable__label {background-color: #d4ebff;}#sk-11d6acd8-af4d-4063-81fc-6d40d554dae3 div.sk-serial::before {content: \"\";position: absolute;border-left: 1px solid gray;box-sizing: border-box;top: 2em;bottom: 0;left: 50%;}#sk-11d6acd8-af4d-4063-81fc-6d40d554dae3 div.sk-serial {display: flex;flex-direction: column;align-items: center;background-color: white;padding-right: 0.2em;padding-left: 0.2em;}#sk-11d6acd8-af4d-4063-81fc-6d40d554dae3 div.sk-item {z-index: 1;}#sk-11d6acd8-af4d-4063-81fc-6d40d554dae3 div.sk-parallel {display: flex;align-items: stretch;justify-content: center;background-color: white;}#sk-11d6acd8-af4d-4063-81fc-6d40d554dae3 div.sk-parallel::before {content: \"\";position: absolute;border-left: 1px solid gray;box-sizing: border-box;top: 2em;bottom: 0;left: 50%;}#sk-11d6acd8-af4d-4063-81fc-6d40d554dae3 div.sk-parallel-item {display: flex;flex-direction: column;position: relative;background-color: white;}#sk-11d6acd8-af4d-4063-81fc-6d40d554dae3 div.sk-parallel-item:first-child::after {align-self: flex-end;width: 50%;}#sk-11d6acd8-af4d-4063-81fc-6d40d554dae3 div.sk-parallel-item:last-child::after {align-self: flex-start;width: 50%;}#sk-11d6acd8-af4d-4063-81fc-6d40d554dae3 div.sk-parallel-item:only-child::after {width: 0;}#sk-11d6acd8-af4d-4063-81fc-6d40d554dae3 div.sk-dashed-wrapped {border: 1px dashed gray;margin: 0 0.4em 0.5em 0.4em;box-sizing: border-box;padding-bottom: 0.4em;background-color: white;position: relative;}#sk-11d6acd8-af4d-4063-81fc-6d40d554dae3 div.sk-label label {font-family: monospace;font-weight: bold;background-color: white;display: inline-block;line-height: 1.2em;}#sk-11d6acd8-af4d-4063-81fc-6d40d554dae3 div.sk-label-container {position: relative;z-index: 2;text-align: center;}#sk-11d6acd8-af4d-4063-81fc-6d40d554dae3 div.sk-container {/* jupyter's `normalize.less` sets `[hidden] { display: none; }` but bootstrap.min.css set `[hidden] { display: none !important; }` so we also need the `!important` here to be able to override the default hidden behavior on the sphinx rendered scikit-learn.org. See: https://github.com/scikit-learn/scikit-learn/issues/21755 */display: inline-block !important;position: relative;}#sk-11d6acd8-af4d-4063-81fc-6d40d554dae3 div.sk-text-repr-fallback {display: none;}</style><div id=\"sk-11d6acd8-af4d-4063-81fc-6d40d554dae3\" class=\"sk-top-container\"><div class=\"sk-text-repr-fallback\"><pre>Pipeline(steps=[(&#x27;columntransformer&#x27;,\n",
       "                 ColumnTransformer(transformers=[(&#x27;categorical&#x27;,\n",
       "                                                  Pipeline(steps=[(&#x27;imputation_constant&#x27;,\n",
       "                                                                   SimpleImputer(fill_value=&#x27;missing&#x27;,\n",
       "                                                                                 strategy=&#x27;constant&#x27;)),\n",
       "                                                                  (&#x27;onehot&#x27;,\n",
       "                                                                   OneHotEncoder(handle_unknown=&#x27;ignore&#x27;))]),\n",
       "                                                  Index([&#x27;cap-shape&#x27;, &#x27;cap-surface&#x27;, &#x27;cap-color&#x27;, &#x27;bruises&#x27;, &#x27;odor&#x27;,\n",
       "       &#x27;gill-attachment&#x27;, &#x27;gill-spacing&#x27;, &#x27;gill-size&#x27;, &#x27;gill-color...\n",
       "       &#x27;stalk-surface-below-ring&#x27;, &#x27;stalk-color-above-ring&#x27;,\n",
       "       &#x27;stalk-color-below-ring&#x27;, &#x27;veil-color&#x27;, &#x27;ring-number&#x27;, &#x27;ring-type&#x27;,\n",
       "       &#x27;spore-print-color&#x27;, &#x27;population&#x27;, &#x27;habitat&#x27;],\n",
       "      dtype=&#x27;object&#x27;)),\n",
       "                                                 (&#x27;numerical&#x27;,\n",
       "                                                  Pipeline(steps=[(&#x27;imputation_mode&#x27;,\n",
       "                                                                   SimpleImputer(strategy=&#x27;most_frequent&#x27;)),\n",
       "                                                                  (&#x27;standard_scaler&#x27;,\n",
       "                                                                   StandardScaler())]),\n",
       "                                                  Index([], dtype=&#x27;object&#x27;))])),\n",
       "                (&#x27;logisticregression&#x27;, LogisticRegression())])</pre><b>Please rerun this cell to show the HTML repr or trust the notebook.</b></div><div class=\"sk-container\" hidden><div class=\"sk-item sk-dashed-wrapped\"><div class=\"sk-label-container\"><div class=\"sk-label sk-toggleable\"><input class=\"sk-toggleable__control sk-hidden--visually\" id=\"9ba14574-a25b-4baf-9ac0-318c3f224065\" type=\"checkbox\" ><label for=\"9ba14574-a25b-4baf-9ac0-318c3f224065\" class=\"sk-toggleable__label sk-toggleable__label-arrow\">Pipeline</label><div class=\"sk-toggleable__content\"><pre>Pipeline(steps=[(&#x27;columntransformer&#x27;,\n",
       "                 ColumnTransformer(transformers=[(&#x27;categorical&#x27;,\n",
       "                                                  Pipeline(steps=[(&#x27;imputation_constant&#x27;,\n",
       "                                                                   SimpleImputer(fill_value=&#x27;missing&#x27;,\n",
       "                                                                                 strategy=&#x27;constant&#x27;)),\n",
       "                                                                  (&#x27;onehot&#x27;,\n",
       "                                                                   OneHotEncoder(handle_unknown=&#x27;ignore&#x27;))]),\n",
       "                                                  Index([&#x27;cap-shape&#x27;, &#x27;cap-surface&#x27;, &#x27;cap-color&#x27;, &#x27;bruises&#x27;, &#x27;odor&#x27;,\n",
       "       &#x27;gill-attachment&#x27;, &#x27;gill-spacing&#x27;, &#x27;gill-size&#x27;, &#x27;gill-color...\n",
       "       &#x27;stalk-surface-below-ring&#x27;, &#x27;stalk-color-above-ring&#x27;,\n",
       "       &#x27;stalk-color-below-ring&#x27;, &#x27;veil-color&#x27;, &#x27;ring-number&#x27;, &#x27;ring-type&#x27;,\n",
       "       &#x27;spore-print-color&#x27;, &#x27;population&#x27;, &#x27;habitat&#x27;],\n",
       "      dtype=&#x27;object&#x27;)),\n",
       "                                                 (&#x27;numerical&#x27;,\n",
       "                                                  Pipeline(steps=[(&#x27;imputation_mode&#x27;,\n",
       "                                                                   SimpleImputer(strategy=&#x27;most_frequent&#x27;)),\n",
       "                                                                  (&#x27;standard_scaler&#x27;,\n",
       "                                                                   StandardScaler())]),\n",
       "                                                  Index([], dtype=&#x27;object&#x27;))])),\n",
       "                (&#x27;logisticregression&#x27;, LogisticRegression())])</pre></div></div></div><div class=\"sk-serial\"><div class=\"sk-item sk-dashed-wrapped\"><div class=\"sk-label-container\"><div class=\"sk-label sk-toggleable\"><input class=\"sk-toggleable__control sk-hidden--visually\" id=\"a1e92398-ac3b-4a43-a009-71dc1d8697f0\" type=\"checkbox\" ><label for=\"a1e92398-ac3b-4a43-a009-71dc1d8697f0\" class=\"sk-toggleable__label sk-toggleable__label-arrow\">columntransformer: ColumnTransformer</label><div class=\"sk-toggleable__content\"><pre>ColumnTransformer(transformers=[(&#x27;categorical&#x27;,\n",
       "                                 Pipeline(steps=[(&#x27;imputation_constant&#x27;,\n",
       "                                                  SimpleImputer(fill_value=&#x27;missing&#x27;,\n",
       "                                                                strategy=&#x27;constant&#x27;)),\n",
       "                                                 (&#x27;onehot&#x27;,\n",
       "                                                  OneHotEncoder(handle_unknown=&#x27;ignore&#x27;))]),\n",
       "                                 Index([&#x27;cap-shape&#x27;, &#x27;cap-surface&#x27;, &#x27;cap-color&#x27;, &#x27;bruises&#x27;, &#x27;odor&#x27;,\n",
       "       &#x27;gill-attachment&#x27;, &#x27;gill-spacing&#x27;, &#x27;gill-size&#x27;, &#x27;gill-color&#x27;,\n",
       "       &#x27;stalk-shape&#x27;, &#x27;stalk-root&#x27;, &#x27;stalk-surface-above-ring&#x27;,\n",
       "       &#x27;stalk-surface-below-ring&#x27;, &#x27;stalk-color-above-ring&#x27;,\n",
       "       &#x27;stalk-color-below-ring&#x27;, &#x27;veil-color&#x27;, &#x27;ring-number&#x27;, &#x27;ring-type&#x27;,\n",
       "       &#x27;spore-print-color&#x27;, &#x27;population&#x27;, &#x27;habitat&#x27;],\n",
       "      dtype=&#x27;object&#x27;)),\n",
       "                                (&#x27;numerical&#x27;,\n",
       "                                 Pipeline(steps=[(&#x27;imputation_mode&#x27;,\n",
       "                                                  SimpleImputer(strategy=&#x27;most_frequent&#x27;)),\n",
       "                                                 (&#x27;standard_scaler&#x27;,\n",
       "                                                  StandardScaler())]),\n",
       "                                 Index([], dtype=&#x27;object&#x27;))])</pre></div></div></div><div class=\"sk-parallel\"><div class=\"sk-parallel-item\"><div class=\"sk-item\"><div class=\"sk-label-container\"><div class=\"sk-label sk-toggleable\"><input class=\"sk-toggleable__control sk-hidden--visually\" id=\"2048c313-1bf4-4d33-82ad-8eed9ba80409\" type=\"checkbox\" ><label for=\"2048c313-1bf4-4d33-82ad-8eed9ba80409\" class=\"sk-toggleable__label sk-toggleable__label-arrow\">categorical</label><div class=\"sk-toggleable__content\"><pre>Index([&#x27;cap-shape&#x27;, &#x27;cap-surface&#x27;, &#x27;cap-color&#x27;, &#x27;bruises&#x27;, &#x27;odor&#x27;,\n",
       "       &#x27;gill-attachment&#x27;, &#x27;gill-spacing&#x27;, &#x27;gill-size&#x27;, &#x27;gill-color&#x27;,\n",
       "       &#x27;stalk-shape&#x27;, &#x27;stalk-root&#x27;, &#x27;stalk-surface-above-ring&#x27;,\n",
       "       &#x27;stalk-surface-below-ring&#x27;, &#x27;stalk-color-above-ring&#x27;,\n",
       "       &#x27;stalk-color-below-ring&#x27;, &#x27;veil-color&#x27;, &#x27;ring-number&#x27;, &#x27;ring-type&#x27;,\n",
       "       &#x27;spore-print-color&#x27;, &#x27;population&#x27;, &#x27;habitat&#x27;],\n",
       "      dtype=&#x27;object&#x27;)</pre></div></div></div><div class=\"sk-serial\"><div class=\"sk-item\"><div class=\"sk-serial\"><div class=\"sk-item\"><div class=\"sk-estimator sk-toggleable\"><input class=\"sk-toggleable__control sk-hidden--visually\" id=\"19d02134-3909-4c51-93dc-649e353a3cd1\" type=\"checkbox\" ><label for=\"19d02134-3909-4c51-93dc-649e353a3cd1\" class=\"sk-toggleable__label sk-toggleable__label-arrow\">SimpleImputer</label><div class=\"sk-toggleable__content\"><pre>SimpleImputer(fill_value=&#x27;missing&#x27;, strategy=&#x27;constant&#x27;)</pre></div></div></div><div class=\"sk-item\"><div class=\"sk-estimator sk-toggleable\"><input class=\"sk-toggleable__control sk-hidden--visually\" id=\"b45d20b6-88da-4420-889e-40e7492fcd05\" type=\"checkbox\" ><label for=\"b45d20b6-88da-4420-889e-40e7492fcd05\" class=\"sk-toggleable__label sk-toggleable__label-arrow\">OneHotEncoder</label><div class=\"sk-toggleable__content\"><pre>OneHotEncoder(handle_unknown=&#x27;ignore&#x27;)</pre></div></div></div></div></div></div></div></div><div class=\"sk-parallel-item\"><div class=\"sk-item\"><div class=\"sk-label-container\"><div class=\"sk-label sk-toggleable\"><input class=\"sk-toggleable__control sk-hidden--visually\" id=\"893849a6-59f5-4fa0-8bbd-1b90aae05011\" type=\"checkbox\" ><label for=\"893849a6-59f5-4fa0-8bbd-1b90aae05011\" class=\"sk-toggleable__label sk-toggleable__label-arrow\">numerical</label><div class=\"sk-toggleable__content\"><pre>Index([], dtype=&#x27;object&#x27;)</pre></div></div></div><div class=\"sk-serial\"><div class=\"sk-item\"><div class=\"sk-serial\"><div class=\"sk-item\"><div class=\"sk-estimator sk-toggleable\"><input class=\"sk-toggleable__control sk-hidden--visually\" id=\"12a17beb-4d98-4fac-a7c6-0c67d81b253c\" type=\"checkbox\" ><label for=\"12a17beb-4d98-4fac-a7c6-0c67d81b253c\" class=\"sk-toggleable__label sk-toggleable__label-arrow\">SimpleImputer</label><div class=\"sk-toggleable__content\"><pre>SimpleImputer(strategy=&#x27;most_frequent&#x27;)</pre></div></div></div><div class=\"sk-item\"><div class=\"sk-estimator sk-toggleable\"><input class=\"sk-toggleable__control sk-hidden--visually\" id=\"7472772c-6164-41ef-bb7c-bddcca2721ef\" type=\"checkbox\" ><label for=\"7472772c-6164-41ef-bb7c-bddcca2721ef\" class=\"sk-toggleable__label sk-toggleable__label-arrow\">StandardScaler</label><div class=\"sk-toggleable__content\"><pre>StandardScaler()</pre></div></div></div></div></div></div></div></div></div></div><div class=\"sk-item\"><div class=\"sk-estimator sk-toggleable\"><input class=\"sk-toggleable__control sk-hidden--visually\" id=\"f94dfe00-07e7-4eb1-8f31-10afdf863860\" type=\"checkbox\" ><label for=\"f94dfe00-07e7-4eb1-8f31-10afdf863860\" class=\"sk-toggleable__label sk-toggleable__label-arrow\">LogisticRegression</label><div class=\"sk-toggleable__content\"><pre>LogisticRegression()</pre></div></div></div></div></div></div></div>"
      ],
      "text/plain": [
       "Pipeline(steps=[('columntransformer',\n",
       "                 ColumnTransformer(transformers=[('categorical',\n",
       "                                                  Pipeline(steps=[('imputation_constant',\n",
       "                                                                   SimpleImputer(fill_value='missing',\n",
       "                                                                                 strategy='constant')),\n",
       "                                                                  ('onehot',\n",
       "                                                                   OneHotEncoder(handle_unknown='ignore'))]),\n",
       "                                                  Index(['cap-shape', 'cap-surface', 'cap-color', 'bruises', 'odor',\n",
       "       'gill-attachment', 'gill-spacing', 'gill-size', 'gill-color...\n",
       "       'stalk-surface-below-ring', 'stalk-color-above-ring',\n",
       "       'stalk-color-below-ring', 'veil-color', 'ring-number', 'ring-type',\n",
       "       'spore-print-color', 'population', 'habitat'],\n",
       "      dtype='object')),\n",
       "                                                 ('numerical',\n",
       "                                                  Pipeline(steps=[('imputation_mode',\n",
       "                                                                   SimpleImputer(strategy='most_frequent')),\n",
       "                                                                  ('standard_scaler',\n",
       "                                                                   StandardScaler())]),\n",
       "                                                  Index([], dtype='object'))])),\n",
       "                ('logisticregression', LogisticRegression())])"
      ]
     },
     "execution_count": 23,
     "metadata": {},
     "output_type": "execute_result"
    }
   ],
   "source": [
    "lr.fit(X_train, y_train)"
   ]
  },
  {
   "cell_type": "code",
   "execution_count": 24,
   "id": "30d5a897",
   "metadata": {},
   "outputs": [],
   "source": [
    "y_pred_lr = lr.predict(X_test)"
   ]
  },
  {
   "cell_type": "code",
   "execution_count": 25,
   "id": "da296675",
   "metadata": {},
   "outputs": [
    {
     "data": {
      "text/plain": [
       "array([[1257,    0],\n",
       "       [   0, 1181]], dtype=int64)"
      ]
     },
     "execution_count": 25,
     "metadata": {},
     "output_type": "execute_result"
    }
   ],
   "source": [
    "from sklearn.metrics import confusion_matrix\n",
    "cm=confusion_matrix(y_test, y_pred_lr)\n",
    "cm"
   ]
  },
  {
   "cell_type": "code",
   "execution_count": 26,
   "id": "280a141c",
   "metadata": {},
   "outputs": [
    {
     "name": "stderr",
     "output_type": "stream",
     "text": [
      "E:\\Anaconda\\lib\\site-packages\\sklearn\\utils\\deprecation.py:87: FutureWarning: Function plot_confusion_matrix is deprecated; Function `plot_confusion_matrix` is deprecated in 1.0 and will be removed in 1.2. Use one of the class methods: ConfusionMatrixDisplay.from_predictions or ConfusionMatrixDisplay.from_estimator.\n",
      "  warnings.warn(msg, category=FutureWarning)\n"
     ]
    },
    {
     "data": {
      "image/png": "[encoded data removed]",
      "text/plain": [
       "<Figure size 432x288 with 2 Axes>"
      ]
     },
     "metadata": {
      "needs_background": "light"
     },
     "output_type": "display_data"
    }
   ],
   "source": [
    "from sklearn.metrics import plot_confusion_matrix\n",
    "color = 'black'\n",
    "matrix = plot_confusion_matrix(lr, X_test, y_test, cmap=plt.cm.Blues)\n",
    "matrix.ax_.set_title('Confusion Matrix', color=color)\n",
    "plt.xlabel('Predicted Label', color=color)\n",
    "plt.ylabel('True Label', color=color)\n",
    "plt.show()"
   ]
  },
  {
   "cell_type": "code",
   "execution_count": 27,
   "id": "09d0a8f5",
   "metadata": {},
   "outputs": [
    {
     "name": "stdout",
     "output_type": "stream",
     "text": [
      "              precision    recall  f1-score   support\n",
      "\n",
      "           e       1.00      1.00      1.00      1257\n",
      "           p       1.00      1.00      1.00      1181\n",
      "\n",
      "    accuracy                           1.00      2438\n",
      "   macro avg       1.00      1.00      1.00      2438\n",
      "weighted avg       1.00      1.00      1.00      2438\n",
      "\n"
     ]
    }
   ],
   "source": [
    "from sklearn.metrics import classification_report\n",
    "print(classification_report(y_test, y_pred_lr))"
   ]
  },
  {
   "cell_type": "markdown",
   "id": "38badac7",
   "metadata": {},
   "source": [
    "### Decision Tree Classifier"
   ]
  },
  {
   "cell_type": "code",
   "execution_count": 28,
   "id": "a9c4a9e2",
   "metadata": {},
   "outputs": [
    {
     "data": {
      "text/html": [
       "<style>#sk-71dcfc9f-1359-422f-aecc-1d1fe8ac5718 {color: black;background-color: white;}#sk-71dcfc9f-1359-422f-aecc-1d1fe8ac5718 pre{padding: 0;}#sk-71dcfc9f-1359-422f-aecc-1d1fe8ac5718 div.sk-toggleable {background-color: white;}#sk-71dcfc9f-1359-422f-aecc-1d1fe8ac5718 label.sk-toggleable__label {cursor: pointer;display: block;width: 100%;margin-bottom: 0;padding: 0.3em;box-sizing: border-box;text-align: center;}#sk-71dcfc9f-1359-422f-aecc-1d1fe8ac5718 label.sk-toggleable__label-arrow:before {content: \"▸\";float: left;margin-right: 0.25em;color: #696969;}#sk-71dcfc9f-1359-422f-aecc-1d1fe8ac5718 label.sk-toggleable__label-arrow:hover:before {color: black;}#sk-71dcfc9f-1359-422f-aecc-1d1fe8ac5718 div.sk-estimator:hover label.sk-toggleable__label-arrow:before {color: black;}#sk-71dcfc9f-1359-422f-aecc-1d1fe8ac5718 div.sk-toggleable__content {max-height: 0;max-width: 0;overflow: hidden;text-align: left;background-color: #f0f8ff;}#sk-71dcfc9f-1359-422f-aecc-1d1fe8ac5718 div.sk-toggleable__content pre {margin: 0.2em;color: black;border-radius: 0.25em;background-color: #f0f8ff;}#sk-71dcfc9f-1359-422f-aecc-1d1fe8ac5718 input.sk-toggleable__control:checked~div.sk-toggleable__content {max-height: 200px;max-width: 100%;overflow: auto;}#sk-71dcfc9f-1359-422f-aecc-1d1fe8ac5718 input.sk-toggleable__control:checked~label.sk-toggleable__label-arrow:before {content: \"▾\";}#sk-71dcfc9f-1359-422f-aecc-1d1fe8ac5718 div.sk-estimator input.sk-toggleable__control:checked~label.sk-toggleable__label {background-color: #d4ebff;}#sk-71dcfc9f-1359-422f-aecc-1d1fe8ac5718 div.sk-label input.sk-toggleable__control:checked~label.sk-toggleable__label {background-color: #d4ebff;}#sk-71dcfc9f-1359-422f-aecc-1d1fe8ac5718 input.sk-hidden--visually {border: 0;clip: rect(1px 1px 1px 1px);clip: rect(1px, 1px, 1px, 1px);height: 1px;margin: -1px;overflow: hidden;padding: 0;position: absolute;width: 1px;}#sk-71dcfc9f-1359-422f-aecc-1d1fe8ac5718 div.sk-estimator {font-family: monospace;background-color: #f0f8ff;border: 1px dotted black;border-radius: 0.25em;box-sizing: border-box;margin-bottom: 0.5em;}#sk-71dcfc9f-1359-422f-aecc-1d1fe8ac5718 div.sk-estimator:hover {background-color: #d4ebff;}#sk-71dcfc9f-1359-422f-aecc-1d1fe8ac5718 div.sk-parallel-item::after {content: \"\";width: 100%;border-bottom: 1px solid gray;flex-grow: 1;}#sk-71dcfc9f-1359-422f-aecc-1d1fe8ac5718 div.sk-label:hover label.sk-toggleable__label {background-color: #d4ebff;}#sk-71dcfc9f-1359-422f-aecc-1d1fe8ac5718 div.sk-serial::before {content: \"\";position: absolute;border-left: 1px solid gray;box-sizing: border-box;top: 2em;bottom: 0;left: 50%;}#sk-71dcfc9f-1359-422f-aecc-1d1fe8ac5718 div.sk-serial {display: flex;flex-direction: column;align-items: center;background-color: white;padding-right: 0.2em;padding-left: 0.2em;}#sk-71dcfc9f-1359-422f-aecc-1d1fe8ac5718 div.sk-item {z-index: 1;}#sk-71dcfc9f-1359-422f-aecc-1d1fe8ac5718 div.sk-parallel {display: flex;align-items: stretch;justify-content: center;background-color: white;}#sk-71dcfc9f-1359-422f-aecc-1d1fe8ac5718 div.sk-parallel::before {content: \"\";position: absolute;border-left: 1px solid gray;box-sizing: border-box;top: 2em;bottom: 0;left: 50%;}#sk-71dcfc9f-1359-422f-aecc-1d1fe8ac5718 div.sk-parallel-item {display: flex;flex-direction: column;position: relative;background-color: white;}#sk-71dcfc9f-1359-422f-aecc-1d1fe8ac5718 div.sk-parallel-item:first-child::after {align-self: flex-end;width: 50%;}#sk-71dcfc9f-1359-422f-aecc-1d1fe8ac5718 div.sk-parallel-item:last-child::after {align-self: flex-start;width: 50%;}#sk-71dcfc9f-1359-422f-aecc-1d1fe8ac5718 div.sk-parallel-item:only-child::after {width: 0;}#sk-71dcfc9f-1359-422f-aecc-1d1fe8ac5718 div.sk-dashed-wrapped {border: 1px dashed gray;margin: 0 0.4em 0.5em 0.4em;box-sizing: border-box;padding-bottom: 0.4em;background-color: white;position: relative;}#sk-71dcfc9f-1359-422f-aecc-1d1fe8ac5718 div.sk-label label {font-family: monospace;font-weight: bold;background-color: white;display: inline-block;line-height: 1.2em;}#sk-71dcfc9f-1359-422f-aecc-1d1fe8ac5718 div.sk-label-container {position: relative;z-index: 2;text-align: center;}#sk-71dcfc9f-1359-422f-aecc-1d1fe8ac5718 div.sk-container {/* jupyter's `normalize.less` sets `[hidden] { display: none; }` but bootstrap.min.css set `[hidden] { display: none !important; }` so we also need the `!important` here to be able to override the default hidden behavior on the sphinx rendered scikit-learn.org. See: https://github.com/scikit-learn/scikit-learn/issues/21755 */display: inline-block !important;position: relative;}#sk-71dcfc9f-1359-422f-aecc-1d1fe8ac5718 div.sk-text-repr-fallback {display: none;}</style><div id=\"sk-71dcfc9f-1359-422f-aecc-1d1fe8ac5718\" class=\"sk-top-container\"><div class=\"sk-text-repr-fallback\"><pre>Pipeline(steps=[(&#x27;columntransformer&#x27;,\n",
       "                 ColumnTransformer(transformers=[(&#x27;categorical&#x27;,\n",
       "                                                  Pipeline(steps=[(&#x27;imputation_constant&#x27;,\n",
       "                                                                   SimpleImputer(fill_value=&#x27;missing&#x27;,\n",
       "                                                                                 strategy=&#x27;constant&#x27;)),\n",
       "                                                                  (&#x27;onehot&#x27;,\n",
       "                                                                   OneHotEncoder(handle_unknown=&#x27;ignore&#x27;))]),\n",
       "                                                  Index([&#x27;cap-shape&#x27;, &#x27;cap-surface&#x27;, &#x27;cap-color&#x27;, &#x27;bruises&#x27;, &#x27;odor&#x27;,\n",
       "       &#x27;gill-attachment&#x27;, &#x27;gill-spacing&#x27;, &#x27;gill-size&#x27;, &#x27;gill-color...\n",
       "       &#x27;stalk-surface-below-ring&#x27;, &#x27;stalk-color-above-ring&#x27;,\n",
       "       &#x27;stalk-color-below-ring&#x27;, &#x27;veil-color&#x27;, &#x27;ring-number&#x27;, &#x27;ring-type&#x27;,\n",
       "       &#x27;spore-print-color&#x27;, &#x27;population&#x27;, &#x27;habitat&#x27;],\n",
       "      dtype=&#x27;object&#x27;)),\n",
       "                                                 (&#x27;numerical&#x27;,\n",
       "                                                  Pipeline(steps=[(&#x27;imputation_mode&#x27;,\n",
       "                                                                   SimpleImputer(strategy=&#x27;most_frequent&#x27;)),\n",
       "                                                                  (&#x27;standard_scaler&#x27;,\n",
       "                                                                   StandardScaler())]),\n",
       "                                                  Index([], dtype=&#x27;object&#x27;))])),\n",
       "                (&#x27;decisiontreeclassifier&#x27;, DecisionTreeClassifier())])</pre><b>Please rerun this cell to show the HTML repr or trust the notebook.</b></div><div class=\"sk-container\" hidden><div class=\"sk-item sk-dashed-wrapped\"><div class=\"sk-label-container\"><div class=\"sk-label sk-toggleable\"><input class=\"sk-toggleable__control sk-hidden--visually\" id=\"96229441-9c5f-498c-8133-d493c03d0655\" type=\"checkbox\" ><label for=\"96229441-9c5f-498c-8133-d493c03d0655\" class=\"sk-toggleable__label sk-toggleable__label-arrow\">Pipeline</label><div class=\"sk-toggleable__content\"><pre>Pipeline(steps=[(&#x27;columntransformer&#x27;,\n",
       "                 ColumnTransformer(transformers=[(&#x27;categorical&#x27;,\n",
       "                                                  Pipeline(steps=[(&#x27;imputation_constant&#x27;,\n",
       "                                                                   SimpleImputer(fill_value=&#x27;missing&#x27;,\n",
       "                                                                                 strategy=&#x27;constant&#x27;)),\n",
       "                                                                  (&#x27;onehot&#x27;,\n",
       "                                                                   OneHotEncoder(handle_unknown=&#x27;ignore&#x27;))]),\n",
       "                                                  Index([&#x27;cap-shape&#x27;, &#x27;cap-surface&#x27;, &#x27;cap-color&#x27;, &#x27;bruises&#x27;, &#x27;odor&#x27;,\n",
       "       &#x27;gill-attachment&#x27;, &#x27;gill-spacing&#x27;, &#x27;gill-size&#x27;, &#x27;gill-color...\n",
       "       &#x27;stalk-surface-below-ring&#x27;, &#x27;stalk-color-above-ring&#x27;,\n",
       "       &#x27;stalk-color-below-ring&#x27;, &#x27;veil-color&#x27;, &#x27;ring-number&#x27;, &#x27;ring-type&#x27;,\n",
       "       &#x27;spore-print-color&#x27;, &#x27;population&#x27;, &#x27;habitat&#x27;],\n",
       "      dtype=&#x27;object&#x27;)),\n",
       "                                                 (&#x27;numerical&#x27;,\n",
       "                                                  Pipeline(steps=[(&#x27;imputation_mode&#x27;,\n",
       "                                                                   SimpleImputer(strategy=&#x27;most_frequent&#x27;)),\n",
       "                                                                  (&#x27;standard_scaler&#x27;,\n",
       "                                                                   StandardScaler())]),\n",
       "                                                  Index([], dtype=&#x27;object&#x27;))])),\n",
       "                (&#x27;decisiontreeclassifier&#x27;, DecisionTreeClassifier())])</pre></div></div></div><div class=\"sk-serial\"><div class=\"sk-item sk-dashed-wrapped\"><div class=\"sk-label-container\"><div class=\"sk-label sk-toggleable\"><input class=\"sk-toggleable__control sk-hidden--visually\" id=\"7764efa6-7809-44c2-9dae-fddb0cc38b10\" type=\"checkbox\" ><label for=\"7764efa6-7809-44c2-9dae-fddb0cc38b10\" class=\"sk-toggleable__label sk-toggleable__label-arrow\">columntransformer: ColumnTransformer</label><div class=\"sk-toggleable__content\"><pre>ColumnTransformer(transformers=[(&#x27;categorical&#x27;,\n",
       "                                 Pipeline(steps=[(&#x27;imputation_constant&#x27;,\n",
       "                                                  SimpleImputer(fill_value=&#x27;missing&#x27;,\n",
       "                                                                strategy=&#x27;constant&#x27;)),\n",
       "                                                 (&#x27;onehot&#x27;,\n",
       "                                                  OneHotEncoder(handle_unknown=&#x27;ignore&#x27;))]),\n",
       "                                 Index([&#x27;cap-shape&#x27;, &#x27;cap-surface&#x27;, &#x27;cap-color&#x27;, &#x27;bruises&#x27;, &#x27;odor&#x27;,\n",
       "       &#x27;gill-attachment&#x27;, &#x27;gill-spacing&#x27;, &#x27;gill-size&#x27;, &#x27;gill-color&#x27;,\n",
       "       &#x27;stalk-shape&#x27;, &#x27;stalk-root&#x27;, &#x27;stalk-surface-above-ring&#x27;,\n",
       "       &#x27;stalk-surface-below-ring&#x27;, &#x27;stalk-color-above-ring&#x27;,\n",
       "       &#x27;stalk-color-below-ring&#x27;, &#x27;veil-color&#x27;, &#x27;ring-number&#x27;, &#x27;ring-type&#x27;,\n",
       "       &#x27;spore-print-color&#x27;, &#x27;population&#x27;, &#x27;habitat&#x27;],\n",
       "      dtype=&#x27;object&#x27;)),\n",
       "                                (&#x27;numerical&#x27;,\n",
       "                                 Pipeline(steps=[(&#x27;imputation_mode&#x27;,\n",
       "                                                  SimpleImputer(strategy=&#x27;most_frequent&#x27;)),\n",
       "                                                 (&#x27;standard_scaler&#x27;,\n",
       "                                                  StandardScaler())]),\n",
       "                                 Index([], dtype=&#x27;object&#x27;))])</pre></div></div></div><div class=\"sk-parallel\"><div class=\"sk-parallel-item\"><div class=\"sk-item\"><div class=\"sk-label-container\"><div class=\"sk-label sk-toggleable\"><input class=\"sk-toggleable__control sk-hidden--visually\" id=\"79ba1509-b9a0-4ec1-9175-239706b9ea79\" type=\"checkbox\" ><label for=\"79ba1509-b9a0-4ec1-9175-239706b9ea79\" class=\"sk-toggleable__label sk-toggleable__label-arrow\">categorical</label><div class=\"sk-toggleable__content\"><pre>Index([&#x27;cap-shape&#x27;, &#x27;cap-surface&#x27;, &#x27;cap-color&#x27;, &#x27;bruises&#x27;, &#x27;odor&#x27;,\n",
       "       &#x27;gill-attachment&#x27;, &#x27;gill-spacing&#x27;, &#x27;gill-size&#x27;, &#x27;gill-color&#x27;,\n",
       "       &#x27;stalk-shape&#x27;, &#x27;stalk-root&#x27;, &#x27;stalk-surface-above-ring&#x27;,\n",
       "       &#x27;stalk-surface-below-ring&#x27;, &#x27;stalk-color-above-ring&#x27;,\n",
       "       &#x27;stalk-color-below-ring&#x27;, &#x27;veil-color&#x27;, &#x27;ring-number&#x27;, &#x27;ring-type&#x27;,\n",
       "       &#x27;spore-print-color&#x27;, &#x27;population&#x27;, &#x27;habitat&#x27;],\n",
       "      dtype=&#x27;object&#x27;)</pre></div></div></div><div class=\"sk-serial\"><div class=\"sk-item\"><div class=\"sk-serial\"><div class=\"sk-item\"><div class=\"sk-estimator sk-toggleable\"><input class=\"sk-toggleable__control sk-hidden--visually\" id=\"00803fb0-2b43-40bf-b25e-ed2c1e36186e\" type=\"checkbox\" ><label for=\"00803fb0-2b43-40bf-b25e-ed2c1e36186e\" class=\"sk-toggleable__label sk-toggleable__label-arrow\">SimpleImputer</label><div class=\"sk-toggleable__content\"><pre>SimpleImputer(fill_value=&#x27;missing&#x27;, strategy=&#x27;constant&#x27;)</pre></div></div></div><div class=\"sk-item\"><div class=\"sk-estimator sk-toggleable\"><input class=\"sk-toggleable__control sk-hidden--visually\" id=\"723270b1-bdea-4646-bf1b-ff96f99e6156\" type=\"checkbox\" ><label for=\"723270b1-bdea-4646-bf1b-ff96f99e6156\" class=\"sk-toggleable__label sk-toggleable__label-arrow\">OneHotEncoder</label><div class=\"sk-toggleable__content\"><pre>OneHotEncoder(handle_unknown=&#x27;ignore&#x27;)</pre></div></div></div></div></div></div></div></div><div class=\"sk-parallel-item\"><div class=\"sk-item\"><div class=\"sk-label-container\"><div class=\"sk-label sk-toggleable\"><input class=\"sk-toggleable__control sk-hidden--visually\" id=\"1f9ee6fb-b1e4-43c3-a73a-90701fbbc8ef\" type=\"checkbox\" ><label for=\"1f9ee6fb-b1e4-43c3-a73a-90701fbbc8ef\" class=\"sk-toggleable__label sk-toggleable__label-arrow\">numerical</label><div class=\"sk-toggleable__content\"><pre>Index([], dtype=&#x27;object&#x27;)</pre></div></div></div><div class=\"sk-serial\"><div class=\"sk-item\"><div class=\"sk-serial\"><div class=\"sk-item\"><div class=\"sk-estimator sk-toggleable\"><input class=\"sk-toggleable__control sk-hidden--visually\" id=\"640cd9ba-1375-49c2-8fb1-f2f2ef3495cd\" type=\"checkbox\" ><label for=\"640cd9ba-1375-49c2-8fb1-f2f2ef3495cd\" class=\"sk-toggleable__label sk-toggleable__label-arrow\">SimpleImputer</label><div class=\"sk-toggleable__content\"><pre>SimpleImputer(strategy=&#x27;most_frequent&#x27;)</pre></div></div></div><div class=\"sk-item\"><div class=\"sk-estimator sk-toggleable\"><input class=\"sk-toggleable__control sk-hidden--visually\" id=\"ee954d0b-40ef-482f-8406-35c4bb2281d7\" type=\"checkbox\" ><label for=\"ee954d0b-40ef-482f-8406-35c4bb2281d7\" class=\"sk-toggleable__label sk-toggleable__label-arrow\">StandardScaler</label><div class=\"sk-toggleable__content\"><pre>StandardScaler()</pre></div></div></div></div></div></div></div></div></div></div><div class=\"sk-item\"><div class=\"sk-estimator sk-toggleable\"><input class=\"sk-toggleable__control sk-hidden--visually\" id=\"ec28d0cc-2316-45bf-b2a5-af327be19292\" type=\"checkbox\" ><label for=\"ec28d0cc-2316-45bf-b2a5-af327be19292\" class=\"sk-toggleable__label sk-toggleable__label-arrow\">DecisionTreeClassifier</label><div class=\"sk-toggleable__content\"><pre>DecisionTreeClassifier()</pre></div></div></div></div></div></div></div>"
      ],
      "text/plain": [
       "Pipeline(steps=[('columntransformer',\n",
       "                 ColumnTransformer(transformers=[('categorical',\n",
       "                                                  Pipeline(steps=[('imputation_constant',\n",
       "                                                                   SimpleImputer(fill_value='missing',\n",
       "                                                                                 strategy='constant')),\n",
       "                                                                  ('onehot',\n",
       "                                                                   OneHotEncoder(handle_unknown='ignore'))]),\n",
       "                                                  Index(['cap-shape', 'cap-surface', 'cap-color', 'bruises', 'odor',\n",
       "       'gill-attachment', 'gill-spacing', 'gill-size', 'gill-color...\n",
       "       'stalk-surface-below-ring', 'stalk-color-above-ring',\n",
       "       'stalk-color-below-ring', 'veil-color', 'ring-number', 'ring-type',\n",
       "       'spore-print-color', 'population', 'habitat'],\n",
       "      dtype='object')),\n",
       "                                                 ('numerical',\n",
       "                                                  Pipeline(steps=[('imputation_mode',\n",
       "                                                                   SimpleImputer(strategy='most_frequent')),\n",
       "                                                                  ('standard_scaler',\n",
       "                                                                   StandardScaler())]),\n",
       "                                                  Index([], dtype='object'))])),\n",
       "                ('decisiontreeclassifier', DecisionTreeClassifier())])"
      ]
     },
     "execution_count": 28,
     "metadata": {},
     "output_type": "execute_result"
    }
   ],
   "source": [
    "#Decision Tree Classifier\n",
    "from sklearn.tree import DecisionTreeClassifier\n",
    "dt = make_pipeline(preprocessor, DecisionTreeClassifier())\n",
    "dt"
   ]
  },
  {
   "cell_type": "code",
   "execution_count": 29,
   "id": "254da3c8",
   "metadata": {},
   "outputs": [
    {
     "data": {
      "text/html": [
       "<style>#sk-5dd5e756-4ab0-479b-b1f5-96c27e3e7527 {color: black;background-color: white;}#sk-5dd5e756-4ab0-479b-b1f5-96c27e3e7527 pre{padding: 0;}#sk-5dd5e756-4ab0-479b-b1f5-96c27e3e7527 div.sk-toggleable {background-color: white;}#sk-5dd5e756-4ab0-479b-b1f5-96c27e3e7527 label.sk-toggleable__label {cursor: pointer;display: block;width: 100%;margin-bottom: 0;padding: 0.3em;box-sizing: border-box;text-align: center;}#sk-5dd5e756-4ab0-479b-b1f5-96c27e3e7527 label.sk-toggleable__label-arrow:before {content: \"▸\";float: left;margin-right: 0.25em;color: #696969;}#sk-5dd5e756-4ab0-479b-b1f5-96c27e3e7527 label.sk-toggleable__label-arrow:hover:before {color: black;}#sk-5dd5e756-4ab0-479b-b1f5-96c27e3e7527 div.sk-estimator:hover label.sk-toggleable__label-arrow:before {color: black;}#sk-5dd5e756-4ab0-479b-b1f5-96c27e3e7527 div.sk-toggleable__content {max-height: 0;max-width: 0;overflow: hidden;text-align: left;background-color: #f0f8ff;}#sk-5dd5e756-4ab0-479b-b1f5-96c27e3e7527 div.sk-toggleable__content pre {margin: 0.2em;color: black;border-radius: 0.25em;background-color: #f0f8ff;}#sk-5dd5e756-4ab0-479b-b1f5-96c27e3e7527 input.sk-toggleable__control:checked~div.sk-toggleable__content {max-height: 200px;max-width: 100%;overflow: auto;}#sk-5dd5e756-4ab0-479b-b1f5-96c27e3e7527 input.sk-toggleable__control:checked~label.sk-toggleable__label-arrow:before {content: \"▾\";}#sk-5dd5e756-4ab0-479b-b1f5-96c27e3e7527 div.sk-estimator input.sk-toggleable__control:checked~label.sk-toggleable__label {background-color: #d4ebff;}#sk-5dd5e756-4ab0-479b-b1f5-96c27e3e7527 div.sk-label input.sk-toggleable__control:checked~label.sk-toggleable__label {background-color: #d4ebff;}#sk-5dd5e756-4ab0-479b-b1f5-96c27e3e7527 input.sk-hidden--visually {border: 0;clip: rect(1px 1px 1px 1px);clip: rect(1px, 1px, 1px, 1px);height: 1px;margin: -1px;overflow: hidden;padding: 0;position: absolute;width: 1px;}#sk-5dd5e756-4ab0-479b-b1f5-96c27e3e7527 div.sk-estimator {font-family: monospace;background-color: #f0f8ff;border: 1px dotted black;border-radius: 0.25em;box-sizing: border-box;margin-bottom: 0.5em;}#sk-5dd5e756-4ab0-479b-b1f5-96c27e3e7527 div.sk-estimator:hover {background-color: #d4ebff;}#sk-5dd5e756-4ab0-479b-b1f5-96c27e3e7527 div.sk-parallel-item::after {content: \"\";width: 100%;border-bottom: 1px solid gray;flex-grow: 1;}#sk-5dd5e756-4ab0-479b-b1f5-96c27e3e7527 div.sk-label:hover label.sk-toggleable__label {background-color: #d4ebff;}#sk-5dd5e756-4ab0-479b-b1f5-96c27e3e7527 div.sk-serial::before {content: \"\";position: absolute;border-left: 1px solid gray;box-sizing: border-box;top: 2em;bottom: 0;left: 50%;}#sk-5dd5e756-4ab0-479b-b1f5-96c27e3e7527 div.sk-serial {display: flex;flex-direction: column;align-items: center;background-color: white;padding-right: 0.2em;padding-left: 0.2em;}#sk-5dd5e756-4ab0-479b-b1f5-96c27e3e7527 div.sk-item {z-index: 1;}#sk-5dd5e756-4ab0-479b-b1f5-96c27e3e7527 div.sk-parallel {display: flex;align-items: stretch;justify-content: center;background-color: white;}#sk-5dd5e756-4ab0-479b-b1f5-96c27e3e7527 div.sk-parallel::before {content: \"\";position: absolute;border-left: 1px solid gray;box-sizing: border-box;top: 2em;bottom: 0;left: 50%;}#sk-5dd5e756-4ab0-479b-b1f5-96c27e3e7527 div.sk-parallel-item {display: flex;flex-direction: column;position: relative;background-color: white;}#sk-5dd5e756-4ab0-479b-b1f5-96c27e3e7527 div.sk-parallel-item:first-child::after {align-self: flex-end;width: 50%;}#sk-5dd5e756-4ab0-479b-b1f5-96c27e3e7527 div.sk-parallel-item:last-child::after {align-self: flex-start;width: 50%;}#sk-5dd5e756-4ab0-479b-b1f5-96c27e3e7527 div.sk-parallel-item:only-child::after {width: 0;}#sk-5dd5e756-4ab0-479b-b1f5-96c27e3e7527 div.sk-dashed-wrapped {border: 1px dashed gray;margin: 0 0.4em 0.5em 0.4em;box-sizing: border-box;padding-bottom: 0.4em;background-color: white;position: relative;}#sk-5dd5e756-4ab0-479b-b1f5-96c27e3e7527 div.sk-label label {font-family: monospace;font-weight: bold;background-color: white;display: inline-block;line-height: 1.2em;}#sk-5dd5e756-4ab0-479b-b1f5-96c27e3e7527 div.sk-label-container {position: relative;z-index: 2;text-align: center;}#sk-5dd5e756-4ab0-479b-b1f5-96c27e3e7527 div.sk-container {/* jupyter's `normalize.less` sets `[hidden] { display: none; }` but bootstrap.min.css set `[hidden] { display: none !important; }` so we also need the `!important` here to be able to override the default hidden behavior on the sphinx rendered scikit-learn.org. See: https://github.com/scikit-learn/scikit-learn/issues/21755 */display: inline-block !important;position: relative;}#sk-5dd5e756-4ab0-479b-b1f5-96c27e3e7527 div.sk-text-repr-fallback {display: none;}</style><div id=\"sk-5dd5e756-4ab0-479b-b1f5-96c27e3e7527\" class=\"sk-top-container\"><div class=\"sk-text-repr-fallback\"><pre>Pipeline(steps=[(&#x27;columntransformer&#x27;,\n",
       "                 ColumnTransformer(transformers=[(&#x27;categorical&#x27;,\n",
       "                                                  Pipeline(steps=[(&#x27;imputation_constant&#x27;,\n",
       "                                                                   SimpleImputer(fill_value=&#x27;missing&#x27;,\n",
       "                                                                                 strategy=&#x27;constant&#x27;)),\n",
       "                                                                  (&#x27;onehot&#x27;,\n",
       "                                                                   OneHotEncoder(handle_unknown=&#x27;ignore&#x27;))]),\n",
       "                                                  Index([&#x27;cap-shape&#x27;, &#x27;cap-surface&#x27;, &#x27;cap-color&#x27;, &#x27;bruises&#x27;, &#x27;odor&#x27;,\n",
       "       &#x27;gill-attachment&#x27;, &#x27;gill-spacing&#x27;, &#x27;gill-size&#x27;, &#x27;gill-color...\n",
       "       &#x27;stalk-surface-below-ring&#x27;, &#x27;stalk-color-above-ring&#x27;,\n",
       "       &#x27;stalk-color-below-ring&#x27;, &#x27;veil-color&#x27;, &#x27;ring-number&#x27;, &#x27;ring-type&#x27;,\n",
       "       &#x27;spore-print-color&#x27;, &#x27;population&#x27;, &#x27;habitat&#x27;],\n",
       "      dtype=&#x27;object&#x27;)),\n",
       "                                                 (&#x27;numerical&#x27;,\n",
       "                                                  Pipeline(steps=[(&#x27;imputation_mode&#x27;,\n",
       "                                                                   SimpleImputer(strategy=&#x27;most_frequent&#x27;)),\n",
       "                                                                  (&#x27;standard_scaler&#x27;,\n",
       "                                                                   StandardScaler())]),\n",
       "                                                  Index([], dtype=&#x27;object&#x27;))])),\n",
       "                (&#x27;decisiontreeclassifier&#x27;, DecisionTreeClassifier())])</pre><b>Please rerun this cell to show the HTML repr or trust the notebook.</b></div><div class=\"sk-container\" hidden><div class=\"sk-item sk-dashed-wrapped\"><div class=\"sk-label-container\"><div class=\"sk-label sk-toggleable\"><input class=\"sk-toggleable__control sk-hidden--visually\" id=\"0f33e4ac-0b39-42f9-881f-aeceb317097d\" type=\"checkbox\" ><label for=\"0f33e4ac-0b39-42f9-881f-aeceb317097d\" class=\"sk-toggleable__label sk-toggleable__label-arrow\">Pipeline</label><div class=\"sk-toggleable__content\"><pre>Pipeline(steps=[(&#x27;columntransformer&#x27;,\n",
       "                 ColumnTransformer(transformers=[(&#x27;categorical&#x27;,\n",
       "                                                  Pipeline(steps=[(&#x27;imputation_constant&#x27;,\n",
       "                                                                   SimpleImputer(fill_value=&#x27;missing&#x27;,\n",
       "                                                                                 strategy=&#x27;constant&#x27;)),\n",
       "                                                                  (&#x27;onehot&#x27;,\n",
       "                                                                   OneHotEncoder(handle_unknown=&#x27;ignore&#x27;))]),\n",
       "                                                  Index([&#x27;cap-shape&#x27;, &#x27;cap-surface&#x27;, &#x27;cap-color&#x27;, &#x27;bruises&#x27;, &#x27;odor&#x27;,\n",
       "       &#x27;gill-attachment&#x27;, &#x27;gill-spacing&#x27;, &#x27;gill-size&#x27;, &#x27;gill-color...\n",
       "       &#x27;stalk-surface-below-ring&#x27;, &#x27;stalk-color-above-ring&#x27;,\n",
       "       &#x27;stalk-color-below-ring&#x27;, &#x27;veil-color&#x27;, &#x27;ring-number&#x27;, &#x27;ring-type&#x27;,\n",
       "       &#x27;spore-print-color&#x27;, &#x27;population&#x27;, &#x27;habitat&#x27;],\n",
       "      dtype=&#x27;object&#x27;)),\n",
       "                                                 (&#x27;numerical&#x27;,\n",
       "                                                  Pipeline(steps=[(&#x27;imputation_mode&#x27;,\n",
       "                                                                   SimpleImputer(strategy=&#x27;most_frequent&#x27;)),\n",
       "                                                                  (&#x27;standard_scaler&#x27;,\n",
       "                                                                   StandardScaler())]),\n",
       "                                                  Index([], dtype=&#x27;object&#x27;))])),\n",
       "                (&#x27;decisiontreeclassifier&#x27;, DecisionTreeClassifier())])</pre></div></div></div><div class=\"sk-serial\"><div class=\"sk-item sk-dashed-wrapped\"><div class=\"sk-label-container\"><div class=\"sk-label sk-toggleable\"><input class=\"sk-toggleable__control sk-hidden--visually\" id=\"5ca179e6-9ed2-45d9-9f01-f6c8fdaab4bd\" type=\"checkbox\" ><label for=\"5ca179e6-9ed2-45d9-9f01-f6c8fdaab4bd\" class=\"sk-toggleable__label sk-toggleable__label-arrow\">columntransformer: ColumnTransformer</label><div class=\"sk-toggleable__content\"><pre>ColumnTransformer(transformers=[(&#x27;categorical&#x27;,\n",
       "                                 Pipeline(steps=[(&#x27;imputation_constant&#x27;,\n",
       "                                                  SimpleImputer(fill_value=&#x27;missing&#x27;,\n",
       "                                                                strategy=&#x27;constant&#x27;)),\n",
       "                                                 (&#x27;onehot&#x27;,\n",
       "                                                  OneHotEncoder(handle_unknown=&#x27;ignore&#x27;))]),\n",
       "                                 Index([&#x27;cap-shape&#x27;, &#x27;cap-surface&#x27;, &#x27;cap-color&#x27;, &#x27;bruises&#x27;, &#x27;odor&#x27;,\n",
       "       &#x27;gill-attachment&#x27;, &#x27;gill-spacing&#x27;, &#x27;gill-size&#x27;, &#x27;gill-color&#x27;,\n",
       "       &#x27;stalk-shape&#x27;, &#x27;stalk-root&#x27;, &#x27;stalk-surface-above-ring&#x27;,\n",
       "       &#x27;stalk-surface-below-ring&#x27;, &#x27;stalk-color-above-ring&#x27;,\n",
       "       &#x27;stalk-color-below-ring&#x27;, &#x27;veil-color&#x27;, &#x27;ring-number&#x27;, &#x27;ring-type&#x27;,\n",
       "       &#x27;spore-print-color&#x27;, &#x27;population&#x27;, &#x27;habitat&#x27;],\n",
       "      dtype=&#x27;object&#x27;)),\n",
       "                                (&#x27;numerical&#x27;,\n",
       "                                 Pipeline(steps=[(&#x27;imputation_mode&#x27;,\n",
       "                                                  SimpleImputer(strategy=&#x27;most_frequent&#x27;)),\n",
       "                                                 (&#x27;standard_scaler&#x27;,\n",
       "                                                  StandardScaler())]),\n",
       "                                 Index([], dtype=&#x27;object&#x27;))])</pre></div></div></div><div class=\"sk-parallel\"><div class=\"sk-parallel-item\"><div class=\"sk-item\"><div class=\"sk-label-container\"><div class=\"sk-label sk-toggleable\"><input class=\"sk-toggleable__control sk-hidden--visually\" id=\"39b189e6-8026-4271-ad98-eca2a603c2f8\" type=\"checkbox\" ><label for=\"39b189e6-8026-4271-ad98-eca2a603c2f8\" class=\"sk-toggleable__label sk-toggleable__label-arrow\">categorical</label><div class=\"sk-toggleable__content\"><pre>Index([&#x27;cap-shape&#x27;, &#x27;cap-surface&#x27;, &#x27;cap-color&#x27;, &#x27;bruises&#x27;, &#x27;odor&#x27;,\n",
       "       &#x27;gill-attachment&#x27;, &#x27;gill-spacing&#x27;, &#x27;gill-size&#x27;, &#x27;gill-color&#x27;,\n",
       "       &#x27;stalk-shape&#x27;, &#x27;stalk-root&#x27;, &#x27;stalk-surface-above-ring&#x27;,\n",
       "       &#x27;stalk-surface-below-ring&#x27;, &#x27;stalk-color-above-ring&#x27;,\n",
       "       &#x27;stalk-color-below-ring&#x27;, &#x27;veil-color&#x27;, &#x27;ring-number&#x27;, &#x27;ring-type&#x27;,\n",
       "       &#x27;spore-print-color&#x27;, &#x27;population&#x27;, &#x27;habitat&#x27;],\n",
       "      dtype=&#x27;object&#x27;)</pre></div></div></div><div class=\"sk-serial\"><div class=\"sk-item\"><div class=\"sk-serial\"><div class=\"sk-item\"><div class=\"sk-estimator sk-toggleable\"><input class=\"sk-toggleable__control sk-hidden--visually\" id=\"85ce25f2-e4a3-4f38-b57a-3ff5aea7aeea\" type=\"checkbox\" ><label for=\"85ce25f2-e4a3-4f38-b57a-3ff5aea7aeea\" class=\"sk-toggleable__label sk-toggleable__label-arrow\">SimpleImputer</label><div class=\"sk-toggleable__content\"><pre>SimpleImputer(fill_value=&#x27;missing&#x27;, strategy=&#x27;constant&#x27;)</pre></div></div></div><div class=\"sk-item\"><div class=\"sk-estimator sk-toggleable\"><input class=\"sk-toggleable__control sk-hidden--visually\" id=\"63a4df31-640e-4b52-9b1b-0bdcdfa3d7f2\" type=\"checkbox\" ><label for=\"63a4df31-640e-4b52-9b1b-0bdcdfa3d7f2\" class=\"sk-toggleable__label sk-toggleable__label-arrow\">OneHotEncoder</label><div class=\"sk-toggleable__content\"><pre>OneHotEncoder(handle_unknown=&#x27;ignore&#x27;)</pre></div></div></div></div></div></div></div></div><div class=\"sk-parallel-item\"><div class=\"sk-item\"><div class=\"sk-label-container\"><div class=\"sk-label sk-toggleable\"><input class=\"sk-toggleable__control sk-hidden--visually\" id=\"1770a9eb-5df6-4408-82eb-e3852dc6cf13\" type=\"checkbox\" ><label for=\"1770a9eb-5df6-4408-82eb-e3852dc6cf13\" class=\"sk-toggleable__label sk-toggleable__label-arrow\">numerical</label><div class=\"sk-toggleable__content\"><pre>Index([], dtype=&#x27;object&#x27;)</pre></div></div></div><div class=\"sk-serial\"><div class=\"sk-item\"><div class=\"sk-serial\"><div class=\"sk-item\"><div class=\"sk-estimator sk-toggleable\"><input class=\"sk-toggleable__control sk-hidden--visually\" id=\"014e7358-0c51-4bea-95da-d54b02108426\" type=\"checkbox\" ><label for=\"014e7358-0c51-4bea-95da-d54b02108426\" class=\"sk-toggleable__label sk-toggleable__label-arrow\">SimpleImputer</label><div class=\"sk-toggleable__content\"><pre>SimpleImputer(strategy=&#x27;most_frequent&#x27;)</pre></div></div></div><div class=\"sk-item\"><div class=\"sk-estimator sk-toggleable\"><input class=\"sk-toggleable__control sk-hidden--visually\" id=\"36e63d93-24fa-45b4-ace4-4110add480f2\" type=\"checkbox\" ><label for=\"36e63d93-24fa-45b4-ace4-4110add480f2\" class=\"sk-toggleable__label sk-toggleable__label-arrow\">StandardScaler</label><div class=\"sk-toggleable__content\"><pre>StandardScaler()</pre></div></div></div></div></div></div></div></div></div></div><div class=\"sk-item\"><div class=\"sk-estimator sk-toggleable\"><input class=\"sk-toggleable__control sk-hidden--visually\" id=\"fbaac35a-921b-4b7b-b3de-41180372fb96\" type=\"checkbox\" ><label for=\"fbaac35a-921b-4b7b-b3de-41180372fb96\" class=\"sk-toggleable__label sk-toggleable__label-arrow\">DecisionTreeClassifier</label><div class=\"sk-toggleable__content\"><pre>DecisionTreeClassifier()</pre></div></div></div></div></div></div></div>"
      ],
      "text/plain": [
       "Pipeline(steps=[('columntransformer',\n",
       "                 ColumnTransformer(transformers=[('categorical',\n",
       "                                                  Pipeline(steps=[('imputation_constant',\n",
       "                                                                   SimpleImputer(fill_value='missing',\n",
       "                                                                                 strategy='constant')),\n",
       "                                                                  ('onehot',\n",
       "                                                                   OneHotEncoder(handle_unknown='ignore'))]),\n",
       "                                                  Index(['cap-shape', 'cap-surface', 'cap-color', 'bruises', 'odor',\n",
       "       'gill-attachment', 'gill-spacing', 'gill-size', 'gill-color...\n",
       "       'stalk-surface-below-ring', 'stalk-color-above-ring',\n",
       "       'stalk-color-below-ring', 'veil-color', 'ring-number', 'ring-type',\n",
       "       'spore-print-color', 'population', 'habitat'],\n",
       "      dtype='object')),\n",
       "                                                 ('numerical',\n",
       "                                                  Pipeline(steps=[('imputation_mode',\n",
       "                                                                   SimpleImputer(strategy='most_frequent')),\n",
       "                                                                  ('standard_scaler',\n",
       "                                                                   StandardScaler())]),\n",
       "                                                  Index([], dtype='object'))])),\n",
       "                ('decisiontreeclassifier', DecisionTreeClassifier())])"
      ]
     },
     "execution_count": 29,
     "metadata": {},
     "output_type": "execute_result"
    }
   ],
   "source": [
    "dt.fit(X_train, y_train)"
   ]
  },
  {
   "cell_type": "code",
   "execution_count": 30,
   "id": "2b766b69",
   "metadata": {},
   "outputs": [],
   "source": [
    "y_pred_dt = dt.predict(X_test)"
   ]
  },
  {
   "cell_type": "code",
   "execution_count": 31,
   "id": "88325764",
   "metadata": {},
   "outputs": [
    {
     "data": {
      "text/plain": [
       "array([[1257,    0],\n",
       "       [   0, 1181]], dtype=int64)"
      ]
     },
     "execution_count": 31,
     "metadata": {},
     "output_type": "execute_result"
    }
   ],
   "source": [
    "from sklearn.metrics import confusion_matrix\n",
    "cm=confusion_matrix(y_test, y_pred_dt)\n",
    "cm"
   ]
  },
  {
   "cell_type": "code",
   "execution_count": 32,
   "id": "2b300831",
   "metadata": {},
   "outputs": [
    {
     "name": "stderr",
     "output_type": "stream",
     "text": [
      "E:\\Anaconda\\lib\\site-packages\\sklearn\\utils\\deprecation.py:87: FutureWarning: Function plot_confusion_matrix is deprecated; Function `plot_confusion_matrix` is deprecated in 1.0 and will be removed in 1.2. Use one of the class methods: ConfusionMatrixDisplay.from_predictions or ConfusionMatrixDisplay.from_estimator.\n",
      "  warnings.warn(msg, category=FutureWarning)\n"
     ]
    },
    {
     "data": {
      "image/png": "[encoded data removed]",
      "text/plain": [
       "<Figure size 432x288 with 2 Axes>"
      ]
     },
     "metadata": {
      "needs_background": "light"
     },
     "output_type": "display_data"
    }
   ],
   "source": [
    "from sklearn.metrics import plot_confusion_matrix\n",
    "color = 'black'\n",
    "matrix = plot_confusion_matrix(dt, X_test, y_test, cmap=plt.cm.Blues)\n",
    "matrix.ax_.set_title('Confusion Matrix', color=color)\n",
    "plt.xlabel('Predicted Label', color=color)\n",
    "plt.ylabel('True Label', color=color)\n",
    "plt.show()"
   ]
  },
  {
   "cell_type": "code",
   "execution_count": 33,
   "id": "59407337",
   "metadata": {},
   "outputs": [
    {
     "name": "stdout",
     "output_type": "stream",
     "text": [
      "              precision    recall  f1-score   support\n",
      "\n",
      "           e       1.00      1.00      1.00      1257\n",
      "           p       1.00      1.00      1.00      1181\n",
      "\n",
      "    accuracy                           1.00      2438\n",
      "   macro avg       1.00      1.00      1.00      2438\n",
      "weighted avg       1.00      1.00      1.00      2438\n",
      "\n"
     ]
    }
   ],
   "source": [
    "from sklearn.metrics import classification_report\n",
    "print(classification_report(y_test, y_pred_dt))"
   ]
  },
  {
   "cell_type": "markdown",
   "id": "71b865ca",
   "metadata": {},
   "source": [
    "### KNN"
   ]
  },
  {
   "cell_type": "code",
   "execution_count": 34,
   "id": "72a92207",
   "metadata": {},
   "outputs": [
    {
     "data": {
      "text/html": [
       "<style>#sk-1fc94ade-dbbc-4b0e-bde2-564eeb301474 {color: black;background-color: white;}#sk-1fc94ade-dbbc-4b0e-bde2-564eeb301474 pre{padding: 0;}#sk-1fc94ade-dbbc-4b0e-bde2-564eeb301474 div.sk-toggleable {background-color: white;}#sk-1fc94ade-dbbc-4b0e-bde2-564eeb301474 label.sk-toggleable__label {cursor: pointer;display: block;width: 100%;margin-bottom: 0;padding: 0.3em;box-sizing: border-box;text-align: center;}#sk-1fc94ade-dbbc-4b0e-bde2-564eeb301474 label.sk-toggleable__label-arrow:before {content: \"▸\";float: left;margin-right: 0.25em;color: #696969;}#sk-1fc94ade-dbbc-4b0e-bde2-564eeb301474 label.sk-toggleable__label-arrow:hover:before {color: black;}#sk-1fc94ade-dbbc-4b0e-bde2-564eeb301474 div.sk-estimator:hover label.sk-toggleable__label-arrow:before {color: black;}#sk-1fc94ade-dbbc-4b0e-bde2-564eeb301474 div.sk-toggleable__content {max-height: 0;max-width: 0;overflow: hidden;text-align: left;background-color: #f0f8ff;}#sk-1fc94ade-dbbc-4b0e-bde2-564eeb301474 div.sk-toggleable__content pre {margin: 0.2em;color: black;border-radius: 0.25em;background-color: #f0f8ff;}#sk-1fc94ade-dbbc-4b0e-bde2-564eeb301474 input.sk-toggleable__control:checked~div.sk-toggleable__content {max-height: 200px;max-width: 100%;overflow: auto;}#sk-1fc94ade-dbbc-4b0e-bde2-564eeb301474 input.sk-toggleable__control:checked~label.sk-toggleable__label-arrow:before {content: \"▾\";}#sk-1fc94ade-dbbc-4b0e-bde2-564eeb301474 div.sk-estimator input.sk-toggleable__control:checked~label.sk-toggleable__label {background-color: #d4ebff;}#sk-1fc94ade-dbbc-4b0e-bde2-564eeb301474 div.sk-label input.sk-toggleable__control:checked~label.sk-toggleable__label {background-color: #d4ebff;}#sk-1fc94ade-dbbc-4b0e-bde2-564eeb301474 input.sk-hidden--visually {border: 0;clip: rect(1px 1px 1px 1px);clip: rect(1px, 1px, 1px, 1px);height: 1px;margin: -1px;overflow: hidden;padding: 0;position: absolute;width: 1px;}#sk-1fc94ade-dbbc-4b0e-bde2-564eeb301474 div.sk-estimator {font-family: monospace;background-color: #f0f8ff;border: 1px dotted black;border-radius: 0.25em;box-sizing: border-box;margin-bottom: 0.5em;}#sk-1fc94ade-dbbc-4b0e-bde2-564eeb301474 div.sk-estimator:hover {background-color: #d4ebff;}#sk-1fc94ade-dbbc-4b0e-bde2-564eeb301474 div.sk-parallel-item::after {content: \"\";width: 100%;border-bottom: 1px solid gray;flex-grow: 1;}#sk-1fc94ade-dbbc-4b0e-bde2-564eeb301474 div.sk-label:hover label.sk-toggleable__label {background-color: #d4ebff;}#sk-1fc94ade-dbbc-4b0e-bde2-564eeb301474 div.sk-serial::before {content: \"\";position: absolute;border-left: 1px solid gray;box-sizing: border-box;top: 2em;bottom: 0;left: 50%;}#sk-1fc94ade-dbbc-4b0e-bde2-564eeb301474 div.sk-serial {display: flex;flex-direction: column;align-items: center;background-color: white;padding-right: 0.2em;padding-left: 0.2em;}#sk-1fc94ade-dbbc-4b0e-bde2-564eeb301474 div.sk-item {z-index: 1;}#sk-1fc94ade-dbbc-4b0e-bde2-564eeb301474 div.sk-parallel {display: flex;align-items: stretch;justify-content: center;background-color: white;}#sk-1fc94ade-dbbc-4b0e-bde2-564eeb301474 div.sk-parallel::before {content: \"\";position: absolute;border-left: 1px solid gray;box-sizing: border-box;top: 2em;bottom: 0;left: 50%;}#sk-1fc94ade-dbbc-4b0e-bde2-564eeb301474 div.sk-parallel-item {display: flex;flex-direction: column;position: relative;background-color: white;}#sk-1fc94ade-dbbc-4b0e-bde2-564eeb301474 div.sk-parallel-item:first-child::after {align-self: flex-end;width: 50%;}#sk-1fc94ade-dbbc-4b0e-bde2-564eeb301474 div.sk-parallel-item:last-child::after {align-self: flex-start;width: 50%;}#sk-1fc94ade-dbbc-4b0e-bde2-564eeb301474 div.sk-parallel-item:only-child::after {width: 0;}#sk-1fc94ade-dbbc-4b0e-bde2-564eeb301474 div.sk-dashed-wrapped {border: 1px dashed gray;margin: 0 0.4em 0.5em 0.4em;box-sizing: border-box;padding-bottom: 0.4em;background-color: white;position: relative;}#sk-1fc94ade-dbbc-4b0e-bde2-564eeb301474 div.sk-label label {font-family: monospace;font-weight: bold;background-color: white;display: inline-block;line-height: 1.2em;}#sk-1fc94ade-dbbc-4b0e-bde2-564eeb301474 div.sk-label-container {position: relative;z-index: 2;text-align: center;}#sk-1fc94ade-dbbc-4b0e-bde2-564eeb301474 div.sk-container {/* jupyter's `normalize.less` sets `[hidden] { display: none; }` but bootstrap.min.css set `[hidden] { display: none !important; }` so we also need the `!important` here to be able to override the default hidden behavior on the sphinx rendered scikit-learn.org. See: https://github.com/scikit-learn/scikit-learn/issues/21755 */display: inline-block !important;position: relative;}#sk-1fc94ade-dbbc-4b0e-bde2-564eeb301474 div.sk-text-repr-fallback {display: none;}</style><div id=\"sk-1fc94ade-dbbc-4b0e-bde2-564eeb301474\" class=\"sk-top-container\"><div class=\"sk-text-repr-fallback\"><pre>Pipeline(steps=[(&#x27;columntransformer&#x27;,\n",
       "                 ColumnTransformer(transformers=[(&#x27;categorical&#x27;,\n",
       "                                                  Pipeline(steps=[(&#x27;imputation_constant&#x27;,\n",
       "                                                                   SimpleImputer(fill_value=&#x27;missing&#x27;,\n",
       "                                                                                 strategy=&#x27;constant&#x27;)),\n",
       "                                                                  (&#x27;onehot&#x27;,\n",
       "                                                                   OneHotEncoder(handle_unknown=&#x27;ignore&#x27;))]),\n",
       "                                                  Index([&#x27;cap-shape&#x27;, &#x27;cap-surface&#x27;, &#x27;cap-color&#x27;, &#x27;bruises&#x27;, &#x27;odor&#x27;,\n",
       "       &#x27;gill-attachment&#x27;, &#x27;gill-spacing&#x27;, &#x27;gill-size&#x27;, &#x27;gill-color...\n",
       "       &#x27;stalk-surface-below-ring&#x27;, &#x27;stalk-color-above-ring&#x27;,\n",
       "       &#x27;stalk-color-below-ring&#x27;, &#x27;veil-color&#x27;, &#x27;ring-number&#x27;, &#x27;ring-type&#x27;,\n",
       "       &#x27;spore-print-color&#x27;, &#x27;population&#x27;, &#x27;habitat&#x27;],\n",
       "      dtype=&#x27;object&#x27;)),\n",
       "                                                 (&#x27;numerical&#x27;,\n",
       "                                                  Pipeline(steps=[(&#x27;imputation_mode&#x27;,\n",
       "                                                                   SimpleImputer(strategy=&#x27;most_frequent&#x27;)),\n",
       "                                                                  (&#x27;standard_scaler&#x27;,\n",
       "                                                                   StandardScaler())]),\n",
       "                                                  Index([], dtype=&#x27;object&#x27;))])),\n",
       "                (&#x27;kneighborsclassifier&#x27;, KNeighborsClassifier())])</pre><b>Please rerun this cell to show the HTML repr or trust the notebook.</b></div><div class=\"sk-container\" hidden><div class=\"sk-item sk-dashed-wrapped\"><div class=\"sk-label-container\"><div class=\"sk-label sk-toggleable\"><input class=\"sk-toggleable__control sk-hidden--visually\" id=\"670ae5ff-7093-43f2-a9b7-8037e5a7cf99\" type=\"checkbox\" ><label for=\"670ae5ff-7093-43f2-a9b7-8037e5a7cf99\" class=\"sk-toggleable__label sk-toggleable__label-arrow\">Pipeline</label><div class=\"sk-toggleable__content\"><pre>Pipeline(steps=[(&#x27;columntransformer&#x27;,\n",
       "                 ColumnTransformer(transformers=[(&#x27;categorical&#x27;,\n",
       "                                                  Pipeline(steps=[(&#x27;imputation_constant&#x27;,\n",
       "                                                                   SimpleImputer(fill_value=&#x27;missing&#x27;,\n",
       "                                                                                 strategy=&#x27;constant&#x27;)),\n",
       "                                                                  (&#x27;onehot&#x27;,\n",
       "                                                                   OneHotEncoder(handle_unknown=&#x27;ignore&#x27;))]),\n",
       "                                                  Index([&#x27;cap-shape&#x27;, &#x27;cap-surface&#x27;, &#x27;cap-color&#x27;, &#x27;bruises&#x27;, &#x27;odor&#x27;,\n",
       "       &#x27;gill-attachment&#x27;, &#x27;gill-spacing&#x27;, &#x27;gill-size&#x27;, &#x27;gill-color...\n",
       "       &#x27;stalk-surface-below-ring&#x27;, &#x27;stalk-color-above-ring&#x27;,\n",
       "       &#x27;stalk-color-below-ring&#x27;, &#x27;veil-color&#x27;, &#x27;ring-number&#x27;, &#x27;ring-type&#x27;,\n",
       "       &#x27;spore-print-color&#x27;, &#x27;population&#x27;, &#x27;habitat&#x27;],\n",
       "      dtype=&#x27;object&#x27;)),\n",
       "                                                 (&#x27;numerical&#x27;,\n",
       "                                                  Pipeline(steps=[(&#x27;imputation_mode&#x27;,\n",
       "                                                                   SimpleImputer(strategy=&#x27;most_frequent&#x27;)),\n",
       "                                                                  (&#x27;standard_scaler&#x27;,\n",
       "                                                                   StandardScaler())]),\n",
       "                                                  Index([], dtype=&#x27;object&#x27;))])),\n",
       "                (&#x27;kneighborsclassifier&#x27;, KNeighborsClassifier())])</pre></div></div></div><div class=\"sk-serial\"><div class=\"sk-item sk-dashed-wrapped\"><div class=\"sk-label-container\"><div class=\"sk-label sk-toggleable\"><input class=\"sk-toggleable__control sk-hidden--visually\" id=\"f4763058-11c2-4cac-bccf-5f8a4017dc17\" type=\"checkbox\" ><label for=\"f4763058-11c2-4cac-bccf-5f8a4017dc17\" class=\"sk-toggleable__label sk-toggleable__label-arrow\">columntransformer: ColumnTransformer</label><div class=\"sk-toggleable__content\"><pre>ColumnTransformer(transformers=[(&#x27;categorical&#x27;,\n",
       "                                 Pipeline(steps=[(&#x27;imputation_constant&#x27;,\n",
       "                                                  SimpleImputer(fill_value=&#x27;missing&#x27;,\n",
       "                                                                strategy=&#x27;constant&#x27;)),\n",
       "                                                 (&#x27;onehot&#x27;,\n",
       "                                                  OneHotEncoder(handle_unknown=&#x27;ignore&#x27;))]),\n",
       "                                 Index([&#x27;cap-shape&#x27;, &#x27;cap-surface&#x27;, &#x27;cap-color&#x27;, &#x27;bruises&#x27;, &#x27;odor&#x27;,\n",
       "       &#x27;gill-attachment&#x27;, &#x27;gill-spacing&#x27;, &#x27;gill-size&#x27;, &#x27;gill-color&#x27;,\n",
       "       &#x27;stalk-shape&#x27;, &#x27;stalk-root&#x27;, &#x27;stalk-surface-above-ring&#x27;,\n",
       "       &#x27;stalk-surface-below-ring&#x27;, &#x27;stalk-color-above-ring&#x27;,\n",
       "       &#x27;stalk-color-below-ring&#x27;, &#x27;veil-color&#x27;, &#x27;ring-number&#x27;, &#x27;ring-type&#x27;,\n",
       "       &#x27;spore-print-color&#x27;, &#x27;population&#x27;, &#x27;habitat&#x27;],\n",
       "      dtype=&#x27;object&#x27;)),\n",
       "                                (&#x27;numerical&#x27;,\n",
       "                                 Pipeline(steps=[(&#x27;imputation_mode&#x27;,\n",
       "                                                  SimpleImputer(strategy=&#x27;most_frequent&#x27;)),\n",
       "                                                 (&#x27;standard_scaler&#x27;,\n",
       "                                                  StandardScaler())]),\n",
       "                                 Index([], dtype=&#x27;object&#x27;))])</pre></div></div></div><div class=\"sk-parallel\"><div class=\"sk-parallel-item\"><div class=\"sk-item\"><div class=\"sk-label-container\"><div class=\"sk-label sk-toggleable\"><input class=\"sk-toggleable__control sk-hidden--visually\" id=\"aef998a2-fc8b-4fbc-a391-efa6e8da3be5\" type=\"checkbox\" ><label for=\"aef998a2-fc8b-4fbc-a391-efa6e8da3be5\" class=\"sk-toggleable__label sk-toggleable__label-arrow\">categorical</label><div class=\"sk-toggleable__content\"><pre>Index([&#x27;cap-shape&#x27;, &#x27;cap-surface&#x27;, &#x27;cap-color&#x27;, &#x27;bruises&#x27;, &#x27;odor&#x27;,\n",
       "       &#x27;gill-attachment&#x27;, &#x27;gill-spacing&#x27;, &#x27;gill-size&#x27;, &#x27;gill-color&#x27;,\n",
       "       &#x27;stalk-shape&#x27;, &#x27;stalk-root&#x27;, &#x27;stalk-surface-above-ring&#x27;,\n",
       "       &#x27;stalk-surface-below-ring&#x27;, &#x27;stalk-color-above-ring&#x27;,\n",
       "       &#x27;stalk-color-below-ring&#x27;, &#x27;veil-color&#x27;, &#x27;ring-number&#x27;, &#x27;ring-type&#x27;,\n",
       "       &#x27;spore-print-color&#x27;, &#x27;population&#x27;, &#x27;habitat&#x27;],\n",
       "      dtype=&#x27;object&#x27;)</pre></div></div></div><div class=\"sk-serial\"><div class=\"sk-item\"><div class=\"sk-serial\"><div class=\"sk-item\"><div class=\"sk-estimator sk-toggleable\"><input class=\"sk-toggleable__control sk-hidden--visually\" id=\"ea5a6fdf-cd99-4ebe-9425-95033c59bfc2\" type=\"checkbox\" ><label for=\"ea5a6fdf-cd99-4ebe-9425-95033c59bfc2\" class=\"sk-toggleable__label sk-toggleable__label-arrow\">SimpleImputer</label><div class=\"sk-toggleable__content\"><pre>SimpleImputer(fill_value=&#x27;missing&#x27;, strategy=&#x27;constant&#x27;)</pre></div></div></div><div class=\"sk-item\"><div class=\"sk-estimator sk-toggleable\"><input class=\"sk-toggleable__control sk-hidden--visually\" id=\"e1807f48-c381-4926-a182-d92bda373607\" type=\"checkbox\" ><label for=\"e1807f48-c381-4926-a182-d92bda373607\" class=\"sk-toggleable__label sk-toggleable__label-arrow\">OneHotEncoder</label><div class=\"sk-toggleable__content\"><pre>OneHotEncoder(handle_unknown=&#x27;ignore&#x27;)</pre></div></div></div></div></div></div></div></div><div class=\"sk-parallel-item\"><div class=\"sk-item\"><div class=\"sk-label-container\"><div class=\"sk-label sk-toggleable\"><input class=\"sk-toggleable__control sk-hidden--visually\" id=\"63215303-c89b-4b26-b5d4-bf69840a2a2a\" type=\"checkbox\" ><label for=\"63215303-c89b-4b26-b5d4-bf69840a2a2a\" class=\"sk-toggleable__label sk-toggleable__label-arrow\">numerical</label><div class=\"sk-toggleable__content\"><pre>Index([], dtype=&#x27;object&#x27;)</pre></div></div></div><div class=\"sk-serial\"><div class=\"sk-item\"><div class=\"sk-serial\"><div class=\"sk-item\"><div class=\"sk-estimator sk-toggleable\"><input class=\"sk-toggleable__control sk-hidden--visually\" id=\"ee4a0def-0cb4-4cd3-b7d9-011644d13b1a\" type=\"checkbox\" ><label for=\"ee4a0def-0cb4-4cd3-b7d9-011644d13b1a\" class=\"sk-toggleable__label sk-toggleable__label-arrow\">SimpleImputer</label><div class=\"sk-toggleable__content\"><pre>SimpleImputer(strategy=&#x27;most_frequent&#x27;)</pre></div></div></div><div class=\"sk-item\"><div class=\"sk-estimator sk-toggleable\"><input class=\"sk-toggleable__control sk-hidden--visually\" id=\"ae7c0af0-827b-4e86-bb39-6c4a05aea08c\" type=\"checkbox\" ><label for=\"ae7c0af0-827b-4e86-bb39-6c4a05aea08c\" class=\"sk-toggleable__label sk-toggleable__label-arrow\">StandardScaler</label><div class=\"sk-toggleable__content\"><pre>StandardScaler()</pre></div></div></div></div></div></div></div></div></div></div><div class=\"sk-item\"><div class=\"sk-estimator sk-toggleable\"><input class=\"sk-toggleable__control sk-hidden--visually\" id=\"2549e18e-fe5e-4467-9462-2575fd2abe15\" type=\"checkbox\" ><label for=\"2549e18e-fe5e-4467-9462-2575fd2abe15\" class=\"sk-toggleable__label sk-toggleable__label-arrow\">KNeighborsClassifier</label><div class=\"sk-toggleable__content\"><pre>KNeighborsClassifier()</pre></div></div></div></div></div></div></div>"
      ],
      "text/plain": [
       "Pipeline(steps=[('columntransformer',\n",
       "                 ColumnTransformer(transformers=[('categorical',\n",
       "                                                  Pipeline(steps=[('imputation_constant',\n",
       "                                                                   SimpleImputer(fill_value='missing',\n",
       "                                                                                 strategy='constant')),\n",
       "                                                                  ('onehot',\n",
       "                                                                   OneHotEncoder(handle_unknown='ignore'))]),\n",
       "                                                  Index(['cap-shape', 'cap-surface', 'cap-color', 'bruises', 'odor',\n",
       "       'gill-attachment', 'gill-spacing', 'gill-size', 'gill-color...\n",
       "       'stalk-surface-below-ring', 'stalk-color-above-ring',\n",
       "       'stalk-color-below-ring', 'veil-color', 'ring-number', 'ring-type',\n",
       "       'spore-print-color', 'population', 'habitat'],\n",
       "      dtype='object')),\n",
       "                                                 ('numerical',\n",
       "                                                  Pipeline(steps=[('imputation_mode',\n",
       "                                                                   SimpleImputer(strategy='most_frequent')),\n",
       "                                                                  ('standard_scaler',\n",
       "                                                                   StandardScaler())]),\n",
       "                                                  Index([], dtype='object'))])),\n",
       "                ('kneighborsclassifier', KNeighborsClassifier())])"
      ]
     },
     "execution_count": 34,
     "metadata": {},
     "output_type": "execute_result"
    }
   ],
   "source": [
    "from sklearn.neighbors import KNeighborsClassifier\n",
    "knn=make_pipeline(preprocessor, KNeighborsClassifier())\n",
    "knn"
   ]
  },
  {
   "cell_type": "code",
   "execution_count": 35,
   "id": "5c87c5d3",
   "metadata": {},
   "outputs": [
    {
     "data": {
      "text/html": [
       "<style>#sk-cd0d1f77-3d28-4445-8a01-b92b4e9b202f {color: black;background-color: white;}#sk-cd0d1f77-3d28-4445-8a01-b92b4e9b202f pre{padding: 0;}#sk-cd0d1f77-3d28-4445-8a01-b92b4e9b202f div.sk-toggleable {background-color: white;}#sk-cd0d1f77-3d28-4445-8a01-b92b4e9b202f label.sk-toggleable__label {cursor: pointer;display: block;width: 100%;margin-bottom: 0;padding: 0.3em;box-sizing: border-box;text-align: center;}#sk-cd0d1f77-3d28-4445-8a01-b92b4e9b202f label.sk-toggleable__label-arrow:before {content: \"▸\";float: left;margin-right: 0.25em;color: #696969;}#sk-cd0d1f77-3d28-4445-8a01-b92b4e9b202f label.sk-toggleable__label-arrow:hover:before {color: black;}#sk-cd0d1f77-3d28-4445-8a01-b92b4e9b202f div.sk-estimator:hover label.sk-toggleable__label-arrow:before {color: black;}#sk-cd0d1f77-3d28-4445-8a01-b92b4e9b202f div.sk-toggleable__content {max-height: 0;max-width: 0;overflow: hidden;text-align: left;background-color: #f0f8ff;}#sk-cd0d1f77-3d28-4445-8a01-b92b4e9b202f div.sk-toggleable__content pre {margin: 0.2em;color: black;border-radius: 0.25em;background-color: #f0f8ff;}#sk-cd0d1f77-3d28-4445-8a01-b92b4e9b202f input.sk-toggleable__control:checked~div.sk-toggleable__content {max-height: 200px;max-width: 100%;overflow: auto;}#sk-cd0d1f77-3d28-4445-8a01-b92b4e9b202f input.sk-toggleable__control:checked~label.sk-toggleable__label-arrow:before {content: \"▾\";}#sk-cd0d1f77-3d28-4445-8a01-b92b4e9b202f div.sk-estimator input.sk-toggleable__control:checked~label.sk-toggleable__label {background-color: #d4ebff;}#sk-cd0d1f77-3d28-4445-8a01-b92b4e9b202f div.sk-label input.sk-toggleable__control:checked~label.sk-toggleable__label {background-color: #d4ebff;}#sk-cd0d1f77-3d28-4445-8a01-b92b4e9b202f input.sk-hidden--visually {border: 0;clip: rect(1px 1px 1px 1px);clip: rect(1px, 1px, 1px, 1px);height: 1px;margin: -1px;overflow: hidden;padding: 0;position: absolute;width: 1px;}#sk-cd0d1f77-3d28-4445-8a01-b92b4e9b202f div.sk-estimator {font-family: monospace;background-color: #f0f8ff;border: 1px dotted black;border-radius: 0.25em;box-sizing: border-box;margin-bottom: 0.5em;}#sk-cd0d1f77-3d28-4445-8a01-b92b4e9b202f div.sk-estimator:hover {background-color: #d4ebff;}#sk-cd0d1f77-3d28-4445-8a01-b92b4e9b202f div.sk-parallel-item::after {content: \"\";width: 100%;border-bottom: 1px solid gray;flex-grow: 1;}#sk-cd0d1f77-3d28-4445-8a01-b92b4e9b202f div.sk-label:hover label.sk-toggleable__label {background-color: #d4ebff;}#sk-cd0d1f77-3d28-4445-8a01-b92b4e9b202f div.sk-serial::before {content: \"\";position: absolute;border-left: 1px solid gray;box-sizing: border-box;top: 2em;bottom: 0;left: 50%;}#sk-cd0d1f77-3d28-4445-8a01-b92b4e9b202f div.sk-serial {display: flex;flex-direction: column;align-items: center;background-color: white;padding-right: 0.2em;padding-left: 0.2em;}#sk-cd0d1f77-3d28-4445-8a01-b92b4e9b202f div.sk-item {z-index: 1;}#sk-cd0d1f77-3d28-4445-8a01-b92b4e9b202f div.sk-parallel {display: flex;align-items: stretch;justify-content: center;background-color: white;}#sk-cd0d1f77-3d28-4445-8a01-b92b4e9b202f div.sk-parallel::before {content: \"\";position: absolute;border-left: 1px solid gray;box-sizing: border-box;top: 2em;bottom: 0;left: 50%;}#sk-cd0d1f77-3d28-4445-8a01-b92b4e9b202f div.sk-parallel-item {display: flex;flex-direction: column;position: relative;background-color: white;}#sk-cd0d1f77-3d28-4445-8a01-b92b4e9b202f div.sk-parallel-item:first-child::after {align-self: flex-end;width: 50%;}#sk-cd0d1f77-3d28-4445-8a01-b92b4e9b202f div.sk-parallel-item:last-child::after {align-self: flex-start;width: 50%;}#sk-cd0d1f77-3d28-4445-8a01-b92b4e9b202f div.sk-parallel-item:only-child::after {width: 0;}#sk-cd0d1f77-3d28-4445-8a01-b92b4e9b202f div.sk-dashed-wrapped {border: 1px dashed gray;margin: 0 0.4em 0.5em 0.4em;box-sizing: border-box;padding-bottom: 0.4em;background-color: white;position: relative;}#sk-cd0d1f77-3d28-4445-8a01-b92b4e9b202f div.sk-label label {font-family: monospace;font-weight: bold;background-color: white;display: inline-block;line-height: 1.2em;}#sk-cd0d1f77-3d28-4445-8a01-b92b4e9b202f div.sk-label-container {position: relative;z-index: 2;text-align: center;}#sk-cd0d1f77-3d28-4445-8a01-b92b4e9b202f div.sk-container {/* jupyter's `normalize.less` sets `[hidden] { display: none; }` but bootstrap.min.css set `[hidden] { display: none !important; }` so we also need the `!important` here to be able to override the default hidden behavior on the sphinx rendered scikit-learn.org. See: https://github.com/scikit-learn/scikit-learn/issues/21755 */display: inline-block !important;position: relative;}#sk-cd0d1f77-3d28-4445-8a01-b92b4e9b202f div.sk-text-repr-fallback {display: none;}</style><div id=\"sk-cd0d1f77-3d28-4445-8a01-b92b4e9b202f\" class=\"sk-top-container\"><div class=\"sk-text-repr-fallback\"><pre>Pipeline(steps=[(&#x27;columntransformer&#x27;,\n",
       "                 ColumnTransformer(transformers=[(&#x27;categorical&#x27;,\n",
       "                                                  Pipeline(steps=[(&#x27;imputation_constant&#x27;,\n",
       "                                                                   SimpleImputer(fill_value=&#x27;missing&#x27;,\n",
       "                                                                                 strategy=&#x27;constant&#x27;)),\n",
       "                                                                  (&#x27;onehot&#x27;,\n",
       "                                                                   OneHotEncoder(handle_unknown=&#x27;ignore&#x27;))]),\n",
       "                                                  Index([&#x27;cap-shape&#x27;, &#x27;cap-surface&#x27;, &#x27;cap-color&#x27;, &#x27;bruises&#x27;, &#x27;odor&#x27;,\n",
       "       &#x27;gill-attachment&#x27;, &#x27;gill-spacing&#x27;, &#x27;gill-size&#x27;, &#x27;gill-color...\n",
       "       &#x27;stalk-surface-below-ring&#x27;, &#x27;stalk-color-above-ring&#x27;,\n",
       "       &#x27;stalk-color-below-ring&#x27;, &#x27;veil-color&#x27;, &#x27;ring-number&#x27;, &#x27;ring-type&#x27;,\n",
       "       &#x27;spore-print-color&#x27;, &#x27;population&#x27;, &#x27;habitat&#x27;],\n",
       "      dtype=&#x27;object&#x27;)),\n",
       "                                                 (&#x27;numerical&#x27;,\n",
       "                                                  Pipeline(steps=[(&#x27;imputation_mode&#x27;,\n",
       "                                                                   SimpleImputer(strategy=&#x27;most_frequent&#x27;)),\n",
       "                                                                  (&#x27;standard_scaler&#x27;,\n",
       "                                                                   StandardScaler())]),\n",
       "                                                  Index([], dtype=&#x27;object&#x27;))])),\n",
       "                (&#x27;kneighborsclassifier&#x27;, KNeighborsClassifier())])</pre><b>Please rerun this cell to show the HTML repr or trust the notebook.</b></div><div class=\"sk-container\" hidden><div class=\"sk-item sk-dashed-wrapped\"><div class=\"sk-label-container\"><div class=\"sk-label sk-toggleable\"><input class=\"sk-toggleable__control sk-hidden--visually\" id=\"fd4b5654-5518-4099-85b4-40902250e087\" type=\"checkbox\" ><label for=\"fd4b5654-5518-4099-85b4-40902250e087\" class=\"sk-toggleable__label sk-toggleable__label-arrow\">Pipeline</label><div class=\"sk-toggleable__content\"><pre>Pipeline(steps=[(&#x27;columntransformer&#x27;,\n",
       "                 ColumnTransformer(transformers=[(&#x27;categorical&#x27;,\n",
       "                                                  Pipeline(steps=[(&#x27;imputation_constant&#x27;,\n",
       "                                                                   SimpleImputer(fill_value=&#x27;missing&#x27;,\n",
       "                                                                                 strategy=&#x27;constant&#x27;)),\n",
       "                                                                  (&#x27;onehot&#x27;,\n",
       "                                                                   OneHotEncoder(handle_unknown=&#x27;ignore&#x27;))]),\n",
       "                                                  Index([&#x27;cap-shape&#x27;, &#x27;cap-surface&#x27;, &#x27;cap-color&#x27;, &#x27;bruises&#x27;, &#x27;odor&#x27;,\n",
       "       &#x27;gill-attachment&#x27;, &#x27;gill-spacing&#x27;, &#x27;gill-size&#x27;, &#x27;gill-color...\n",
       "       &#x27;stalk-surface-below-ring&#x27;, &#x27;stalk-color-above-ring&#x27;,\n",
       "       &#x27;stalk-color-below-ring&#x27;, &#x27;veil-color&#x27;, &#x27;ring-number&#x27;, &#x27;ring-type&#x27;,\n",
       "       &#x27;spore-print-color&#x27;, &#x27;population&#x27;, &#x27;habitat&#x27;],\n",
       "      dtype=&#x27;object&#x27;)),\n",
       "                                                 (&#x27;numerical&#x27;,\n",
       "                                                  Pipeline(steps=[(&#x27;imputation_mode&#x27;,\n",
       "                                                                   SimpleImputer(strategy=&#x27;most_frequent&#x27;)),\n",
       "                                                                  (&#x27;standard_scaler&#x27;,\n",
       "                                                                   StandardScaler())]),\n",
       "                                                  Index([], dtype=&#x27;object&#x27;))])),\n",
       "                (&#x27;kneighborsclassifier&#x27;, KNeighborsClassifier())])</pre></div></div></div><div class=\"sk-serial\"><div class=\"sk-item sk-dashed-wrapped\"><div class=\"sk-label-container\"><div class=\"sk-label sk-toggleable\"><input class=\"sk-toggleable__control sk-hidden--visually\" id=\"661b1f98-0e28-4f03-ac00-0ccbc9d49000\" type=\"checkbox\" ><label for=\"661b1f98-0e28-4f03-ac00-0ccbc9d49000\" class=\"sk-toggleable__label sk-toggleable__label-arrow\">columntransformer: ColumnTransformer</label><div class=\"sk-toggleable__content\"><pre>ColumnTransformer(transformers=[(&#x27;categorical&#x27;,\n",
       "                                 Pipeline(steps=[(&#x27;imputation_constant&#x27;,\n",
       "                                                  SimpleImputer(fill_value=&#x27;missing&#x27;,\n",
       "                                                                strategy=&#x27;constant&#x27;)),\n",
       "                                                 (&#x27;onehot&#x27;,\n",
       "                                                  OneHotEncoder(handle_unknown=&#x27;ignore&#x27;))]),\n",
       "                                 Index([&#x27;cap-shape&#x27;, &#x27;cap-surface&#x27;, &#x27;cap-color&#x27;, &#x27;bruises&#x27;, &#x27;odor&#x27;,\n",
       "       &#x27;gill-attachment&#x27;, &#x27;gill-spacing&#x27;, &#x27;gill-size&#x27;, &#x27;gill-color&#x27;,\n",
       "       &#x27;stalk-shape&#x27;, &#x27;stalk-root&#x27;, &#x27;stalk-surface-above-ring&#x27;,\n",
       "       &#x27;stalk-surface-below-ring&#x27;, &#x27;stalk-color-above-ring&#x27;,\n",
       "       &#x27;stalk-color-below-ring&#x27;, &#x27;veil-color&#x27;, &#x27;ring-number&#x27;, &#x27;ring-type&#x27;,\n",
       "       &#x27;spore-print-color&#x27;, &#x27;population&#x27;, &#x27;habitat&#x27;],\n",
       "      dtype=&#x27;object&#x27;)),\n",
       "                                (&#x27;numerical&#x27;,\n",
       "                                 Pipeline(steps=[(&#x27;imputation_mode&#x27;,\n",
       "                                                  SimpleImputer(strategy=&#x27;most_frequent&#x27;)),\n",
       "                                                 (&#x27;standard_scaler&#x27;,\n",
       "                                                  StandardScaler())]),\n",
       "                                 Index([], dtype=&#x27;object&#x27;))])</pre></div></div></div><div class=\"sk-parallel\"><div class=\"sk-parallel-item\"><div class=\"sk-item\"><div class=\"sk-label-container\"><div class=\"sk-label sk-toggleable\"><input class=\"sk-toggleable__control sk-hidden--visually\" id=\"086b3af7-bead-4320-8a71-663be1f80c91\" type=\"checkbox\" ><label for=\"086b3af7-bead-4320-8a71-663be1f80c91\" class=\"sk-toggleable__label sk-toggleable__label-arrow\">categorical</label><div class=\"sk-toggleable__content\"><pre>Index([&#x27;cap-shape&#x27;, &#x27;cap-surface&#x27;, &#x27;cap-color&#x27;, &#x27;bruises&#x27;, &#x27;odor&#x27;,\n",
       "       &#x27;gill-attachment&#x27;, &#x27;gill-spacing&#x27;, &#x27;gill-size&#x27;, &#x27;gill-color&#x27;,\n",
       "       &#x27;stalk-shape&#x27;, &#x27;stalk-root&#x27;, &#x27;stalk-surface-above-ring&#x27;,\n",
       "       &#x27;stalk-surface-below-ring&#x27;, &#x27;stalk-color-above-ring&#x27;,\n",
       "       &#x27;stalk-color-below-ring&#x27;, &#x27;veil-color&#x27;, &#x27;ring-number&#x27;, &#x27;ring-type&#x27;,\n",
       "       &#x27;spore-print-color&#x27;, &#x27;population&#x27;, &#x27;habitat&#x27;],\n",
       "      dtype=&#x27;object&#x27;)</pre></div></div></div><div class=\"sk-serial\"><div class=\"sk-item\"><div class=\"sk-serial\"><div class=\"sk-item\"><div class=\"sk-estimator sk-toggleable\"><input class=\"sk-toggleable__control sk-hidden--visually\" id=\"72d01020-b80c-400c-b7de-8de70b6e3afa\" type=\"checkbox\" ><label for=\"72d01020-b80c-400c-b7de-8de70b6e3afa\" class=\"sk-toggleable__label sk-toggleable__label-arrow\">SimpleImputer</label><div class=\"sk-toggleable__content\"><pre>SimpleImputer(fill_value=&#x27;missing&#x27;, strategy=&#x27;constant&#x27;)</pre></div></div></div><div class=\"sk-item\"><div class=\"sk-estimator sk-toggleable\"><input class=\"sk-toggleable__control sk-hidden--visually\" id=\"9dbfa624-70d4-4a57-a4a6-3a95470d02d1\" type=\"checkbox\" ><label for=\"9dbfa624-70d4-4a57-a4a6-3a95470d02d1\" class=\"sk-toggleable__label sk-toggleable__label-arrow\">OneHotEncoder</label><div class=\"sk-toggleable__content\"><pre>OneHotEncoder(handle_unknown=&#x27;ignore&#x27;)</pre></div></div></div></div></div></div></div></div><div class=\"sk-parallel-item\"><div class=\"sk-item\"><div class=\"sk-label-container\"><div class=\"sk-label sk-toggleable\"><input class=\"sk-toggleable__control sk-hidden--visually\" id=\"dfd724b5-d88b-4cf7-b3e8-b655b0836c24\" type=\"checkbox\" ><label for=\"dfd724b5-d88b-4cf7-b3e8-b655b0836c24\" class=\"sk-toggleable__label sk-toggleable__label-arrow\">numerical</label><div class=\"sk-toggleable__content\"><pre>Index([], dtype=&#x27;object&#x27;)</pre></div></div></div><div class=\"sk-serial\"><div class=\"sk-item\"><div class=\"sk-serial\"><div class=\"sk-item\"><div class=\"sk-estimator sk-toggleable\"><input class=\"sk-toggleable__control sk-hidden--visually\" id=\"fce844fb-bdae-455b-b422-980843a8baec\" type=\"checkbox\" ><label for=\"fce844fb-bdae-455b-b422-980843a8baec\" class=\"sk-toggleable__label sk-toggleable__label-arrow\">SimpleImputer</label><div class=\"sk-toggleable__content\"><pre>SimpleImputer(strategy=&#x27;most_frequent&#x27;)</pre></div></div></div><div class=\"sk-item\"><div class=\"sk-estimator sk-toggleable\"><input class=\"sk-toggleable__control sk-hidden--visually\" id=\"b3bfd6ab-72fa-4564-bcfd-9e1938f605e8\" type=\"checkbox\" ><label for=\"b3bfd6ab-72fa-4564-bcfd-9e1938f605e8\" class=\"sk-toggleable__label sk-toggleable__label-arrow\">StandardScaler</label><div class=\"sk-toggleable__content\"><pre>StandardScaler()</pre></div></div></div></div></div></div></div></div></div></div><div class=\"sk-item\"><div class=\"sk-estimator sk-toggleable\"><input class=\"sk-toggleable__control sk-hidden--visually\" id=\"c37525fd-45ea-4c21-bbaa-6772285fa7c6\" type=\"checkbox\" ><label for=\"c37525fd-45ea-4c21-bbaa-6772285fa7c6\" class=\"sk-toggleable__label sk-toggleable__label-arrow\">KNeighborsClassifier</label><div class=\"sk-toggleable__content\"><pre>KNeighborsClassifier()</pre></div></div></div></div></div></div></div>"
      ],
      "text/plain": [
       "Pipeline(steps=[('columntransformer',\n",
       "                 ColumnTransformer(transformers=[('categorical',\n",
       "                                                  Pipeline(steps=[('imputation_constant',\n",
       "                                                                   SimpleImputer(fill_value='missing',\n",
       "                                                                                 strategy='constant')),\n",
       "                                                                  ('onehot',\n",
       "                                                                   OneHotEncoder(handle_unknown='ignore'))]),\n",
       "                                                  Index(['cap-shape', 'cap-surface', 'cap-color', 'bruises', 'odor',\n",
       "       'gill-attachment', 'gill-spacing', 'gill-size', 'gill-color...\n",
       "       'stalk-surface-below-ring', 'stalk-color-above-ring',\n",
       "       'stalk-color-below-ring', 'veil-color', 'ring-number', 'ring-type',\n",
       "       'spore-print-color', 'population', 'habitat'],\n",
       "      dtype='object')),\n",
       "                                                 ('numerical',\n",
       "                                                  Pipeline(steps=[('imputation_mode',\n",
       "                                                                   SimpleImputer(strategy='most_frequent')),\n",
       "                                                                  ('standard_scaler',\n",
       "                                                                   StandardScaler())]),\n",
       "                                                  Index([], dtype='object'))])),\n",
       "                ('kneighborsclassifier', KNeighborsClassifier())])"
      ]
     },
     "execution_count": 35,
     "metadata": {},
     "output_type": "execute_result"
    }
   ],
   "source": [
    "knn.fit(X_train, y_train)"
   ]
  },
  {
   "cell_type": "code",
   "execution_count": 36,
   "id": "dc615cc0",
   "metadata": {},
   "outputs": [],
   "source": [
    "y_pred_knn = knn.predict(X_test)"
   ]
  },
  {
   "cell_type": "code",
   "execution_count": 37,
   "id": "2e54ac56",
   "metadata": {},
   "outputs": [
    {
     "data": {
      "text/plain": [
       "array([[1257,    0],\n",
       "       [   0, 1181]], dtype=int64)"
      ]
     },
     "execution_count": 37,
     "metadata": {},
     "output_type": "execute_result"
    }
   ],
   "source": [
    "from sklearn.metrics import confusion_matrix\n",
    "cm=confusion_matrix(y_test, y_pred_knn)\n",
    "cm"
   ]
  },
  {
   "cell_type": "code",
   "execution_count": 38,
   "id": "243e723d",
   "metadata": {},
   "outputs": [
    {
     "name": "stderr",
     "output_type": "stream",
     "text": [
      "E:\\Anaconda\\lib\\site-packages\\sklearn\\utils\\deprecation.py:87: FutureWarning: Function plot_confusion_matrix is deprecated; Function `plot_confusion_matrix` is deprecated in 1.0 and will be removed in 1.2. Use one of the class methods: ConfusionMatrixDisplay.from_predictions or ConfusionMatrixDisplay.from_estimator.\n",
      "  warnings.warn(msg, category=FutureWarning)\n"
     ]
    },
    {
     "data": {
      "image/png": "[encoded data removed]",
      "text/plain": [
       "<Figure size 432x288 with 2 Axes>"
      ]
     },
     "metadata": {
      "needs_background": "light"
     },
     "output_type": "display_data"
    }
   ],
   "source": [
    "from sklearn.metrics import plot_confusion_matrix\n",
    "color = 'black'\n",
    "matrix = plot_confusion_matrix(knn, X_test, y_test, cmap=plt.cm.Blues)\n",
    "matrix.ax_.set_title('Confusion Matrix', color=color)\n",
    "plt.xlabel('Predicted Label', color=color)\n",
    "plt.ylabel('True Label', color=color)\n",
    "plt.show()"
   ]
  },
  {
   "cell_type": "code",
   "execution_count": 39,
   "id": "e3155899",
   "metadata": {},
   "outputs": [
    {
     "name": "stdout",
     "output_type": "stream",
     "text": [
      "              precision    recall  f1-score   support\n",
      "\n",
      "           e       1.00      1.00      1.00      1257\n",
      "           p       1.00      1.00      1.00      1181\n",
      "\n",
      "    accuracy                           1.00      2438\n",
      "   macro avg       1.00      1.00      1.00      2438\n",
      "weighted avg       1.00      1.00      1.00      2438\n",
      "\n"
     ]
    }
   ],
   "source": [
    "from sklearn.metrics import classification_report\n",
    "print(classification_report(y_test, y_pred_knn))"
   ]
  },
  {
   "cell_type": "markdown",
   "id": "af6a1b25",
   "metadata": {},
   "source": [
    "### Random Forest Classifier"
   ]
  },
  {
   "cell_type": "code",
   "execution_count": 40,
   "id": "cf330cae",
   "metadata": {},
   "outputs": [
    {
     "data": {
      "text/html": [
       "<style>#sk-87b223fe-96d6-4c45-bed7-47b36b70f8c0 {color: black;background-color: white;}#sk-87b223fe-96d6-4c45-bed7-47b36b70f8c0 pre{padding: 0;}#sk-87b223fe-96d6-4c45-bed7-47b36b70f8c0 div.sk-toggleable {background-color: white;}#sk-87b223fe-96d6-4c45-bed7-47b36b70f8c0 label.sk-toggleable__label {cursor: pointer;display: block;width: 100%;margin-bottom: 0;padding: 0.3em;box-sizing: border-box;text-align: center;}#sk-87b223fe-96d6-4c45-bed7-47b36b70f8c0 label.sk-toggleable__label-arrow:before {content: \"▸\";float: left;margin-right: 0.25em;color: #696969;}#sk-87b223fe-96d6-4c45-bed7-47b36b70f8c0 label.sk-toggleable__label-arrow:hover:before {color: black;}#sk-87b223fe-96d6-4c45-bed7-47b36b70f8c0 div.sk-estimator:hover label.sk-toggleable__label-arrow:before {color: black;}#sk-87b223fe-96d6-4c45-bed7-47b36b70f8c0 div.sk-toggleable__content {max-height: 0;max-width: 0;overflow: hidden;text-align: left;background-color: #f0f8ff;}#sk-87b223fe-96d6-4c45-bed7-47b36b70f8c0 div.sk-toggleable__content pre {margin: 0.2em;color: black;border-radius: 0.25em;background-color: #f0f8ff;}#sk-87b223fe-96d6-4c45-bed7-47b36b70f8c0 input.sk-toggleable__control:checked~div.sk-toggleable__content {max-height: 200px;max-width: 100%;overflow: auto;}#sk-87b223fe-96d6-4c45-bed7-47b36b70f8c0 input.sk-toggleable__control:checked~label.sk-toggleable__label-arrow:before {content: \"▾\";}#sk-87b223fe-96d6-4c45-bed7-47b36b70f8c0 div.sk-estimator input.sk-toggleable__control:checked~label.sk-toggleable__label {background-color: #d4ebff;}#sk-87b223fe-96d6-4c45-bed7-47b36b70f8c0 div.sk-label input.sk-toggleable__control:checked~label.sk-toggleable__label {background-color: #d4ebff;}#sk-87b223fe-96d6-4c45-bed7-47b36b70f8c0 input.sk-hidden--visually {border: 0;clip: rect(1px 1px 1px 1px);clip: rect(1px, 1px, 1px, 1px);height: 1px;margin: -1px;overflow: hidden;padding: 0;position: absolute;width: 1px;}#sk-87b223fe-96d6-4c45-bed7-47b36b70f8c0 div.sk-estimator {font-family: monospace;background-color: #f0f8ff;border: 1px dotted black;border-radius: 0.25em;box-sizing: border-box;margin-bottom: 0.5em;}#sk-87b223fe-96d6-4c45-bed7-47b36b70f8c0 div.sk-estimator:hover {background-color: #d4ebff;}#sk-87b223fe-96d6-4c45-bed7-47b36b70f8c0 div.sk-parallel-item::after {content: \"\";width: 100%;border-bottom: 1px solid gray;flex-grow: 1;}#sk-87b223fe-96d6-4c45-bed7-47b36b70f8c0 div.sk-label:hover label.sk-toggleable__label {background-color: #d4ebff;}#sk-87b223fe-96d6-4c45-bed7-47b36b70f8c0 div.sk-serial::before {content: \"\";position: absolute;border-left: 1px solid gray;box-sizing: border-box;top: 2em;bottom: 0;left: 50%;}#sk-87b223fe-96d6-4c45-bed7-47b36b70f8c0 div.sk-serial {display: flex;flex-direction: column;align-items: center;background-color: white;padding-right: 0.2em;padding-left: 0.2em;}#sk-87b223fe-96d6-4c45-bed7-47b36b70f8c0 div.sk-item {z-index: 1;}#sk-87b223fe-96d6-4c45-bed7-47b36b70f8c0 div.sk-parallel {display: flex;align-items: stretch;justify-content: center;background-color: white;}#sk-87b223fe-96d6-4c45-bed7-47b36b70f8c0 div.sk-parallel::before {content: \"\";position: absolute;border-left: 1px solid gray;box-sizing: border-box;top: 2em;bottom: 0;left: 50%;}#sk-87b223fe-96d6-4c45-bed7-47b36b70f8c0 div.sk-parallel-item {display: flex;flex-direction: column;position: relative;background-color: white;}#sk-87b223fe-96d6-4c45-bed7-47b36b70f8c0 div.sk-parallel-item:first-child::after {align-self: flex-end;width: 50%;}#sk-87b223fe-96d6-4c45-bed7-47b36b70f8c0 div.sk-parallel-item:last-child::after {align-self: flex-start;width: 50%;}#sk-87b223fe-96d6-4c45-bed7-47b36b70f8c0 div.sk-parallel-item:only-child::after {width: 0;}#sk-87b223fe-96d6-4c45-bed7-47b36b70f8c0 div.sk-dashed-wrapped {border: 1px dashed gray;margin: 0 0.4em 0.5em 0.4em;box-sizing: border-box;padding-bottom: 0.4em;background-color: white;position: relative;}#sk-87b223fe-96d6-4c45-bed7-47b36b70f8c0 div.sk-label label {font-family: monospace;font-weight: bold;background-color: white;display: inline-block;line-height: 1.2em;}#sk-87b223fe-96d6-4c45-bed7-47b36b70f8c0 div.sk-label-container {position: relative;z-index: 2;text-align: center;}#sk-87b223fe-96d6-4c45-bed7-47b36b70f8c0 div.sk-container {/* jupyter's `normalize.less` sets `[hidden] { display: none; }` but bootstrap.min.css set `[hidden] { display: none !important; }` so we also need the `!important` here to be able to override the default hidden behavior on the sphinx rendered scikit-learn.org. See: https://github.com/scikit-learn/scikit-learn/issues/21755 */display: inline-block !important;position: relative;}#sk-87b223fe-96d6-4c45-bed7-47b36b70f8c0 div.sk-text-repr-fallback {display: none;}</style><div id=\"sk-87b223fe-96d6-4c45-bed7-47b36b70f8c0\" class=\"sk-top-container\"><div class=\"sk-text-repr-fallback\"><pre>Pipeline(steps=[(&#x27;columntransformer&#x27;,\n",
       "                 ColumnTransformer(transformers=[(&#x27;categorical&#x27;,\n",
       "                                                  Pipeline(steps=[(&#x27;imputation_constant&#x27;,\n",
       "                                                                   SimpleImputer(fill_value=&#x27;missing&#x27;,\n",
       "                                                                                 strategy=&#x27;constant&#x27;)),\n",
       "                                                                  (&#x27;onehot&#x27;,\n",
       "                                                                   OneHotEncoder(handle_unknown=&#x27;ignore&#x27;))]),\n",
       "                                                  Index([&#x27;cap-shape&#x27;, &#x27;cap-surface&#x27;, &#x27;cap-color&#x27;, &#x27;bruises&#x27;, &#x27;odor&#x27;,\n",
       "       &#x27;gill-attachment&#x27;, &#x27;gill-spacing&#x27;, &#x27;gill-size&#x27;, &#x27;gill-color...\n",
       "       &#x27;stalk-surface-below-ring&#x27;, &#x27;stalk-color-above-ring&#x27;,\n",
       "       &#x27;stalk-color-below-ring&#x27;, &#x27;veil-color&#x27;, &#x27;ring-number&#x27;, &#x27;ring-type&#x27;,\n",
       "       &#x27;spore-print-color&#x27;, &#x27;population&#x27;, &#x27;habitat&#x27;],\n",
       "      dtype=&#x27;object&#x27;)),\n",
       "                                                 (&#x27;numerical&#x27;,\n",
       "                                                  Pipeline(steps=[(&#x27;imputation_mode&#x27;,\n",
       "                                                                   SimpleImputer(strategy=&#x27;most_frequent&#x27;)),\n",
       "                                                                  (&#x27;standard_scaler&#x27;,\n",
       "                                                                   StandardScaler())]),\n",
       "                                                  Index([], dtype=&#x27;object&#x27;))])),\n",
       "                (&#x27;randomforestclassifier&#x27;, RandomForestClassifier())])</pre><b>Please rerun this cell to show the HTML repr or trust the notebook.</b></div><div class=\"sk-container\" hidden><div class=\"sk-item sk-dashed-wrapped\"><div class=\"sk-label-container\"><div class=\"sk-label sk-toggleable\"><input class=\"sk-toggleable__control sk-hidden--visually\" id=\"a517c6fa-2496-4fb2-998c-2543d6d87ef4\" type=\"checkbox\" ><label for=\"a517c6fa-2496-4fb2-998c-2543d6d87ef4\" class=\"sk-toggleable__label sk-toggleable__label-arrow\">Pipeline</label><div class=\"sk-toggleable__content\"><pre>Pipeline(steps=[(&#x27;columntransformer&#x27;,\n",
       "                 ColumnTransformer(transformers=[(&#x27;categorical&#x27;,\n",
       "                                                  Pipeline(steps=[(&#x27;imputation_constant&#x27;,\n",
       "                                                                   SimpleImputer(fill_value=&#x27;missing&#x27;,\n",
       "                                                                                 strategy=&#x27;constant&#x27;)),\n",
       "                                                                  (&#x27;onehot&#x27;,\n",
       "                                                                   OneHotEncoder(handle_unknown=&#x27;ignore&#x27;))]),\n",
       "                                                  Index([&#x27;cap-shape&#x27;, &#x27;cap-surface&#x27;, &#x27;cap-color&#x27;, &#x27;bruises&#x27;, &#x27;odor&#x27;,\n",
       "       &#x27;gill-attachment&#x27;, &#x27;gill-spacing&#x27;, &#x27;gill-size&#x27;, &#x27;gill-color...\n",
       "       &#x27;stalk-surface-below-ring&#x27;, &#x27;stalk-color-above-ring&#x27;,\n",
       "       &#x27;stalk-color-below-ring&#x27;, &#x27;veil-color&#x27;, &#x27;ring-number&#x27;, &#x27;ring-type&#x27;,\n",
       "       &#x27;spore-print-color&#x27;, &#x27;population&#x27;, &#x27;habitat&#x27;],\n",
       "      dtype=&#x27;object&#x27;)),\n",
       "                                                 (&#x27;numerical&#x27;,\n",
       "                                                  Pipeline(steps=[(&#x27;imputation_mode&#x27;,\n",
       "                                                                   SimpleImputer(strategy=&#x27;most_frequent&#x27;)),\n",
       "                                                                  (&#x27;standard_scaler&#x27;,\n",
       "                                                                   StandardScaler())]),\n",
       "                                                  Index([], dtype=&#x27;object&#x27;))])),\n",
       "                (&#x27;randomforestclassifier&#x27;, RandomForestClassifier())])</pre></div></div></div><div class=\"sk-serial\"><div class=\"sk-item sk-dashed-wrapped\"><div class=\"sk-label-container\"><div class=\"sk-label sk-toggleable\"><input class=\"sk-toggleable__control sk-hidden--visually\" id=\"7fcff0d8-2d3d-4e48-949e-03e4c2dd7c1e\" type=\"checkbox\" ><label for=\"7fcff0d8-2d3d-4e48-949e-03e4c2dd7c1e\" class=\"sk-toggleable__label sk-toggleable__label-arrow\">columntransformer: ColumnTransformer</label><div class=\"sk-toggleable__content\"><pre>ColumnTransformer(transformers=[(&#x27;categorical&#x27;,\n",
       "                                 Pipeline(steps=[(&#x27;imputation_constant&#x27;,\n",
       "                                                  SimpleImputer(fill_value=&#x27;missing&#x27;,\n",
       "                                                                strategy=&#x27;constant&#x27;)),\n",
       "                                                 (&#x27;onehot&#x27;,\n",
       "                                                  OneHotEncoder(handle_unknown=&#x27;ignore&#x27;))]),\n",
       "                                 Index([&#x27;cap-shape&#x27;, &#x27;cap-surface&#x27;, &#x27;cap-color&#x27;, &#x27;bruises&#x27;, &#x27;odor&#x27;,\n",
       "       &#x27;gill-attachment&#x27;, &#x27;gill-spacing&#x27;, &#x27;gill-size&#x27;, &#x27;gill-color&#x27;,\n",
       "       &#x27;stalk-shape&#x27;, &#x27;stalk-root&#x27;, &#x27;stalk-surface-above-ring&#x27;,\n",
       "       &#x27;stalk-surface-below-ring&#x27;, &#x27;stalk-color-above-ring&#x27;,\n",
       "       &#x27;stalk-color-below-ring&#x27;, &#x27;veil-color&#x27;, &#x27;ring-number&#x27;, &#x27;ring-type&#x27;,\n",
       "       &#x27;spore-print-color&#x27;, &#x27;population&#x27;, &#x27;habitat&#x27;],\n",
       "      dtype=&#x27;object&#x27;)),\n",
       "                                (&#x27;numerical&#x27;,\n",
       "                                 Pipeline(steps=[(&#x27;imputation_mode&#x27;,\n",
       "                                                  SimpleImputer(strategy=&#x27;most_frequent&#x27;)),\n",
       "                                                 (&#x27;standard_scaler&#x27;,\n",
       "                                                  StandardScaler())]),\n",
       "                                 Index([], dtype=&#x27;object&#x27;))])</pre></div></div></div><div class=\"sk-parallel\"><div class=\"sk-parallel-item\"><div class=\"sk-item\"><div class=\"sk-label-container\"><div class=\"sk-label sk-toggleable\"><input class=\"sk-toggleable__control sk-hidden--visually\" id=\"a7955406-5f40-48aa-ad8b-461716ae8272\" type=\"checkbox\" ><label for=\"a7955406-5f40-48aa-ad8b-461716ae8272\" class=\"sk-toggleable__label sk-toggleable__label-arrow\">categorical</label><div class=\"sk-toggleable__content\"><pre>Index([&#x27;cap-shape&#x27;, &#x27;cap-surface&#x27;, &#x27;cap-color&#x27;, &#x27;bruises&#x27;, &#x27;odor&#x27;,\n",
       "       &#x27;gill-attachment&#x27;, &#x27;gill-spacing&#x27;, &#x27;gill-size&#x27;, &#x27;gill-color&#x27;,\n",
       "       &#x27;stalk-shape&#x27;, &#x27;stalk-root&#x27;, &#x27;stalk-surface-above-ring&#x27;,\n",
       "       &#x27;stalk-surface-below-ring&#x27;, &#x27;stalk-color-above-ring&#x27;,\n",
       "       &#x27;stalk-color-below-ring&#x27;, &#x27;veil-color&#x27;, &#x27;ring-number&#x27;, &#x27;ring-type&#x27;,\n",
       "       &#x27;spore-print-color&#x27;, &#x27;population&#x27;, &#x27;habitat&#x27;],\n",
       "      dtype=&#x27;object&#x27;)</pre></div></div></div><div class=\"sk-serial\"><div class=\"sk-item\"><div class=\"sk-serial\"><div class=\"sk-item\"><div class=\"sk-estimator sk-toggleable\"><input class=\"sk-toggleable__control sk-hidden--visually\" id=\"a076814c-a921-4ffa-8a27-c17682a2f66c\" type=\"checkbox\" ><label for=\"a076814c-a921-4ffa-8a27-c17682a2f66c\" class=\"sk-toggleable__label sk-toggleable__label-arrow\">SimpleImputer</label><div class=\"sk-toggleable__content\"><pre>SimpleImputer(fill_value=&#x27;missing&#x27;, strategy=&#x27;constant&#x27;)</pre></div></div></div><div class=\"sk-item\"><div class=\"sk-estimator sk-toggleable\"><input class=\"sk-toggleable__control sk-hidden--visually\" id=\"e36e9fc2-2bd9-402f-8ad9-ebc292820364\" type=\"checkbox\" ><label for=\"e36e9fc2-2bd9-402f-8ad9-ebc292820364\" class=\"sk-toggleable__label sk-toggleable__label-arrow\">OneHotEncoder</label><div class=\"sk-toggleable__content\"><pre>OneHotEncoder(handle_unknown=&#x27;ignore&#x27;)</pre></div></div></div></div></div></div></div></div><div class=\"sk-parallel-item\"><div class=\"sk-item\"><div class=\"sk-label-container\"><div class=\"sk-label sk-toggleable\"><input class=\"sk-toggleable__control sk-hidden--visually\" id=\"4fc9b9be-895c-458b-a282-dbc70a64634b\" type=\"checkbox\" ><label for=\"4fc9b9be-895c-458b-a282-dbc70a64634b\" class=\"sk-toggleable__label sk-toggleable__label-arrow\">numerical</label><div class=\"sk-toggleable__content\"><pre>Index([], dtype=&#x27;object&#x27;)</pre></div></div></div><div class=\"sk-serial\"><div class=\"sk-item\"><div class=\"sk-serial\"><div class=\"sk-item\"><div class=\"sk-estimator sk-toggleable\"><input class=\"sk-toggleable__control sk-hidden--visually\" id=\"0e24b272-2e29-44ca-898f-d3d1657ec6c8\" type=\"checkbox\" ><label for=\"0e24b272-2e29-44ca-898f-d3d1657ec6c8\" class=\"sk-toggleable__label sk-toggleable__label-arrow\">SimpleImputer</label><div class=\"sk-toggleable__content\"><pre>SimpleImputer(strategy=&#x27;most_frequent&#x27;)</pre></div></div></div><div class=\"sk-item\"><div class=\"sk-estimator sk-toggleable\"><input class=\"sk-toggleable__control sk-hidden--visually\" id=\"c85f5826-7bd1-4ae8-8747-fecc5cb2754d\" type=\"checkbox\" ><label for=\"c85f5826-7bd1-4ae8-8747-fecc5cb2754d\" class=\"sk-toggleable__label sk-toggleable__label-arrow\">StandardScaler</label><div class=\"sk-toggleable__content\"><pre>StandardScaler()</pre></div></div></div></div></div></div></div></div></div></div><div class=\"sk-item\"><div class=\"sk-estimator sk-toggleable\"><input class=\"sk-toggleable__control sk-hidden--visually\" id=\"ed07b437-562c-4318-a087-399916dceeca\" type=\"checkbox\" ><label for=\"ed07b437-562c-4318-a087-399916dceeca\" class=\"sk-toggleable__label sk-toggleable__label-arrow\">RandomForestClassifier</label><div class=\"sk-toggleable__content\"><pre>RandomForestClassifier()</pre></div></div></div></div></div></div></div>"
      ],
      "text/plain": [
       "Pipeline(steps=[('columntransformer',\n",
       "                 ColumnTransformer(transformers=[('categorical',\n",
       "                                                  Pipeline(steps=[('imputation_constant',\n",
       "                                                                   SimpleImputer(fill_value='missing',\n",
       "                                                                                 strategy='constant')),\n",
       "                                                                  ('onehot',\n",
       "                                                                   OneHotEncoder(handle_unknown='ignore'))]),\n",
       "                                                  Index(['cap-shape', 'cap-surface', 'cap-color', 'bruises', 'odor',\n",
       "       'gill-attachment', 'gill-spacing', 'gill-size', 'gill-color...\n",
       "       'stalk-surface-below-ring', 'stalk-color-above-ring',\n",
       "       'stalk-color-below-ring', 'veil-color', 'ring-number', 'ring-type',\n",
       "       'spore-print-color', 'population', 'habitat'],\n",
       "      dtype='object')),\n",
       "                                                 ('numerical',\n",
       "                                                  Pipeline(steps=[('imputation_mode',\n",
       "                                                                   SimpleImputer(strategy='most_frequent')),\n",
       "                                                                  ('standard_scaler',\n",
       "                                                                   StandardScaler())]),\n",
       "                                                  Index([], dtype='object'))])),\n",
       "                ('randomforestclassifier', RandomForestClassifier())])"
      ]
     },
     "execution_count": 40,
     "metadata": {},
     "output_type": "execute_result"
    }
   ],
   "source": [
    "from sklearn.ensemble import RandomForestClassifier\n",
    "rfc = make_pipeline(preprocessor, RandomForestClassifier())\n",
    "rfc"
   ]
  },
  {
   "cell_type": "code",
   "execution_count": 41,
   "id": "95074b69",
   "metadata": {},
   "outputs": [],
   "source": [
    "model=rfc.fit(X_train, y_train)"
   ]
  },
  {
   "cell_type": "code",
   "execution_count": 42,
   "id": "b81edd67",
   "metadata": {},
   "outputs": [],
   "source": [
    "y_pred_rfc = model.predict(X_test)"
   ]
  },
  {
   "cell_type": "code",
   "execution_count": 43,
   "id": "666b05aa",
   "metadata": {},
   "outputs": [
    {
     "data": {
      "text/plain": [
       "array([[1257,    0],\n",
       "       [   0, 1181]], dtype=int64)"
      ]
     },
     "execution_count": 43,
     "metadata": {},
     "output_type": "execute_result"
    }
   ],
   "source": [
    "from sklearn.metrics import confusion_matrix\n",
    "cm=confusion_matrix(y_test, y_pred_rfc)\n",
    "cm"
   ]
  },
  {
   "cell_type": "code",
   "execution_count": 44,
   "id": "bda5813b",
   "metadata": {},
   "outputs": [
    {
     "name": "stderr",
     "output_type": "stream",
     "text": [
      "E:\\Anaconda\\lib\\site-packages\\sklearn\\utils\\deprecation.py:87: FutureWarning: Function plot_confusion_matrix is deprecated; Function `plot_confusion_matrix` is deprecated in 1.0 and will be removed in 1.2. Use one of the class methods: ConfusionMatrixDisplay.from_predictions or ConfusionMatrixDisplay.from_estimator.\n",
      "  warnings.warn(msg, category=FutureWarning)\n"
     ]
    },
    {
     "data": {
      "image/png": "[encoded data removed]",
      "text/plain": [
       "<Figure size 432x288 with 2 Axes>"
      ]
     },
     "metadata": {
      "needs_background": "light"
     },
     "output_type": "display_data"
    }
   ],
   "source": [
    "from sklearn.metrics import plot_confusion_matrix\n",
    "color = 'black'\n",
    "matrix = plot_confusion_matrix(rfc, X_test, y_test, cmap=plt.cm.Blues)\n",
    "matrix.ax_.set_title('Confusion Matrix', color=color)\n",
    "plt.xlabel('Predicted Label', color=color)\n",
    "plt.ylabel('True Label', color=color)\n",
    "plt.show()"
   ]
  },
  {
   "cell_type": "code",
   "execution_count": 45,
   "id": "e882443b",
   "metadata": {},
   "outputs": [
    {
     "name": "stdout",
     "output_type": "stream",
     "text": [
      "              precision    recall  f1-score   support\n",
      "\n",
      "           e       1.00      1.00      1.00      1257\n",
      "           p       1.00      1.00      1.00      1181\n",
      "\n",
      "    accuracy                           1.00      2438\n",
      "   macro avg       1.00      1.00      1.00      2438\n",
      "weighted avg       1.00      1.00      1.00      2438\n",
      "\n"
     ]
    }
   ],
   "source": [
    "from sklearn.metrics import classification_report\n",
    "print(classification_report(y_test, y_pred_rfc))"
   ]
  },
  {
   "cell_type": "markdown",
   "id": "1c80b4a5",
   "metadata": {},
   "source": [
    "### Gradient Boosting Classifier"
   ]
  },
  {
   "cell_type": "code",
   "execution_count": 46,
   "id": "64ee941d",
   "metadata": {},
   "outputs": [
    {
     "data": {
      "text/html": [
       "<style>#sk-a0a4a0fd-4f12-47e6-b478-2e0ed576f437 {color: black;background-color: white;}#sk-a0a4a0fd-4f12-47e6-b478-2e0ed576f437 pre{padding: 0;}#sk-a0a4a0fd-4f12-47e6-b478-2e0ed576f437 div.sk-toggleable {background-color: white;}#sk-a0a4a0fd-4f12-47e6-b478-2e0ed576f437 label.sk-toggleable__label {cursor: pointer;display: block;width: 100%;margin-bottom: 0;padding: 0.3em;box-sizing: border-box;text-align: center;}#sk-a0a4a0fd-4f12-47e6-b478-2e0ed576f437 label.sk-toggleable__label-arrow:before {content: \"▸\";float: left;margin-right: 0.25em;color: #696969;}#sk-a0a4a0fd-4f12-47e6-b478-2e0ed576f437 label.sk-toggleable__label-arrow:hover:before {color: black;}#sk-a0a4a0fd-4f12-47e6-b478-2e0ed576f437 div.sk-estimator:hover label.sk-toggleable__label-arrow:before {color: black;}#sk-a0a4a0fd-4f12-47e6-b478-2e0ed576f437 div.sk-toggleable__content {max-height: 0;max-width: 0;overflow: hidden;text-align: left;background-color: #f0f8ff;}#sk-a0a4a0fd-4f12-47e6-b478-2e0ed576f437 div.sk-toggleable__content pre {margin: 0.2em;color: black;border-radius: 0.25em;background-color: #f0f8ff;}#sk-a0a4a0fd-4f12-47e6-b478-2e0ed576f437 input.sk-toggleable__control:checked~div.sk-toggleable__content {max-height: 200px;max-width: 100%;overflow: auto;}#sk-a0a4a0fd-4f12-47e6-b478-2e0ed576f437 input.sk-toggleable__control:checked~label.sk-toggleable__label-arrow:before {content: \"▾\";}#sk-a0a4a0fd-4f12-47e6-b478-2e0ed576f437 div.sk-estimator input.sk-toggleable__control:checked~label.sk-toggleable__label {background-color: #d4ebff;}#sk-a0a4a0fd-4f12-47e6-b478-2e0ed576f437 div.sk-label input.sk-toggleable__control:checked~label.sk-toggleable__label {background-color: #d4ebff;}#sk-a0a4a0fd-4f12-47e6-b478-2e0ed576f437 input.sk-hidden--visually {border: 0;clip: rect(1px 1px 1px 1px);clip: rect(1px, 1px, 1px, 1px);height: 1px;margin: -1px;overflow: hidden;padding: 0;position: absolute;width: 1px;}#sk-a0a4a0fd-4f12-47e6-b478-2e0ed576f437 div.sk-estimator {font-family: monospace;background-color: #f0f8ff;border: 1px dotted black;border-radius: 0.25em;box-sizing: border-box;margin-bottom: 0.5em;}#sk-a0a4a0fd-4f12-47e6-b478-2e0ed576f437 div.sk-estimator:hover {background-color: #d4ebff;}#sk-a0a4a0fd-4f12-47e6-b478-2e0ed576f437 div.sk-parallel-item::after {content: \"\";width: 100%;border-bottom: 1px solid gray;flex-grow: 1;}#sk-a0a4a0fd-4f12-47e6-b478-2e0ed576f437 div.sk-label:hover label.sk-toggleable__label {background-color: #d4ebff;}#sk-a0a4a0fd-4f12-47e6-b478-2e0ed576f437 div.sk-serial::before {content: \"\";position: absolute;border-left: 1px solid gray;box-sizing: border-box;top: 2em;bottom: 0;left: 50%;}#sk-a0a4a0fd-4f12-47e6-b478-2e0ed576f437 div.sk-serial {display: flex;flex-direction: column;align-items: center;background-color: white;padding-right: 0.2em;padding-left: 0.2em;}#sk-a0a4a0fd-4f12-47e6-b478-2e0ed576f437 div.sk-item {z-index: 1;}#sk-a0a4a0fd-4f12-47e6-b478-2e0ed576f437 div.sk-parallel {display: flex;align-items: stretch;justify-content: center;background-color: white;}#sk-a0a4a0fd-4f12-47e6-b478-2e0ed576f437 div.sk-parallel::before {content: \"\";position: absolute;border-left: 1px solid gray;box-sizing: border-box;top: 2em;bottom: 0;left: 50%;}#sk-a0a4a0fd-4f12-47e6-b478-2e0ed576f437 div.sk-parallel-item {display: flex;flex-direction: column;position: relative;background-color: white;}#sk-a0a4a0fd-4f12-47e6-b478-2e0ed576f437 div.sk-parallel-item:first-child::after {align-self: flex-end;width: 50%;}#sk-a0a4a0fd-4f12-47e6-b478-2e0ed576f437 div.sk-parallel-item:last-child::after {align-self: flex-start;width: 50%;}#sk-a0a4a0fd-4f12-47e6-b478-2e0ed576f437 div.sk-parallel-item:only-child::after {width: 0;}#sk-a0a4a0fd-4f12-47e6-b478-2e0ed576f437 div.sk-dashed-wrapped {border: 1px dashed gray;margin: 0 0.4em 0.5em 0.4em;box-sizing: border-box;padding-bottom: 0.4em;background-color: white;position: relative;}#sk-a0a4a0fd-4f12-47e6-b478-2e0ed576f437 div.sk-label label {font-family: monospace;font-weight: bold;background-color: white;display: inline-block;line-height: 1.2em;}#sk-a0a4a0fd-4f12-47e6-b478-2e0ed576f437 div.sk-label-container {position: relative;z-index: 2;text-align: center;}#sk-a0a4a0fd-4f12-47e6-b478-2e0ed576f437 div.sk-container {/* jupyter's `normalize.less` sets `[hidden] { display: none; }` but bootstrap.min.css set `[hidden] { display: none !important; }` so we also need the `!important` here to be able to override the default hidden behavior on the sphinx rendered scikit-learn.org. See: https://github.com/scikit-learn/scikit-learn/issues/21755 */display: inline-block !important;position: relative;}#sk-a0a4a0fd-4f12-47e6-b478-2e0ed576f437 div.sk-text-repr-fallback {display: none;}</style><div id=\"sk-a0a4a0fd-4f12-47e6-b478-2e0ed576f437\" class=\"sk-top-container\"><div class=\"sk-text-repr-fallback\"><pre>Pipeline(steps=[(&#x27;columntransformer&#x27;,\n",
       "                 ColumnTransformer(transformers=[(&#x27;categorical&#x27;,\n",
       "                                                  Pipeline(steps=[(&#x27;imputation_constant&#x27;,\n",
       "                                                                   SimpleImputer(fill_value=&#x27;missing&#x27;,\n",
       "                                                                                 strategy=&#x27;constant&#x27;)),\n",
       "                                                                  (&#x27;onehot&#x27;,\n",
       "                                                                   OneHotEncoder(handle_unknown=&#x27;ignore&#x27;))]),\n",
       "                                                  Index([&#x27;cap-shape&#x27;, &#x27;cap-surface&#x27;, &#x27;cap-color&#x27;, &#x27;bruises&#x27;, &#x27;odor&#x27;,\n",
       "       &#x27;gill-attachment&#x27;, &#x27;gill-spacing&#x27;, &#x27;gill-size&#x27;, &#x27;gill-color...\n",
       "       &#x27;stalk-surface-below-ring&#x27;, &#x27;stalk-color-above-ring&#x27;,\n",
       "       &#x27;stalk-color-below-ring&#x27;, &#x27;veil-color&#x27;, &#x27;ring-number&#x27;, &#x27;ring-type&#x27;,\n",
       "       &#x27;spore-print-color&#x27;, &#x27;population&#x27;, &#x27;habitat&#x27;],\n",
       "      dtype=&#x27;object&#x27;)),\n",
       "                                                 (&#x27;numerical&#x27;,\n",
       "                                                  Pipeline(steps=[(&#x27;imputation_mode&#x27;,\n",
       "                                                                   SimpleImputer(strategy=&#x27;most_frequent&#x27;)),\n",
       "                                                                  (&#x27;standard_scaler&#x27;,\n",
       "                                                                   StandardScaler())]),\n",
       "                                                  Index([], dtype=&#x27;object&#x27;))])),\n",
       "                (&#x27;gradientboostingclassifier&#x27;, GradientBoostingClassifier())])</pre><b>Please rerun this cell to show the HTML repr or trust the notebook.</b></div><div class=\"sk-container\" hidden><div class=\"sk-item sk-dashed-wrapped\"><div class=\"sk-label-container\"><div class=\"sk-label sk-toggleable\"><input class=\"sk-toggleable__control sk-hidden--visually\" id=\"9a24f8c5-f607-45b5-982a-5191a1bc2d5a\" type=\"checkbox\" ><label for=\"9a24f8c5-f607-45b5-982a-5191a1bc2d5a\" class=\"sk-toggleable__label sk-toggleable__label-arrow\">Pipeline</label><div class=\"sk-toggleable__content\"><pre>Pipeline(steps=[(&#x27;columntransformer&#x27;,\n",
       "                 ColumnTransformer(transformers=[(&#x27;categorical&#x27;,\n",
       "                                                  Pipeline(steps=[(&#x27;imputation_constant&#x27;,\n",
       "                                                                   SimpleImputer(fill_value=&#x27;missing&#x27;,\n",
       "                                                                                 strategy=&#x27;constant&#x27;)),\n",
       "                                                                  (&#x27;onehot&#x27;,\n",
       "                                                                   OneHotEncoder(handle_unknown=&#x27;ignore&#x27;))]),\n",
       "                                                  Index([&#x27;cap-shape&#x27;, &#x27;cap-surface&#x27;, &#x27;cap-color&#x27;, &#x27;bruises&#x27;, &#x27;odor&#x27;,\n",
       "       &#x27;gill-attachment&#x27;, &#x27;gill-spacing&#x27;, &#x27;gill-size&#x27;, &#x27;gill-color...\n",
       "       &#x27;stalk-surface-below-ring&#x27;, &#x27;stalk-color-above-ring&#x27;,\n",
       "       &#x27;stalk-color-below-ring&#x27;, &#x27;veil-color&#x27;, &#x27;ring-number&#x27;, &#x27;ring-type&#x27;,\n",
       "       &#x27;spore-print-color&#x27;, &#x27;population&#x27;, &#x27;habitat&#x27;],\n",
       "      dtype=&#x27;object&#x27;)),\n",
       "                                                 (&#x27;numerical&#x27;,\n",
       "                                                  Pipeline(steps=[(&#x27;imputation_mode&#x27;,\n",
       "                                                                   SimpleImputer(strategy=&#x27;most_frequent&#x27;)),\n",
       "                                                                  (&#x27;standard_scaler&#x27;,\n",
       "                                                                   StandardScaler())]),\n",
       "                                                  Index([], dtype=&#x27;object&#x27;))])),\n",
       "                (&#x27;gradientboostingclassifier&#x27;, GradientBoostingClassifier())])</pre></div></div></div><div class=\"sk-serial\"><div class=\"sk-item sk-dashed-wrapped\"><div class=\"sk-label-container\"><div class=\"sk-label sk-toggleable\"><input class=\"sk-toggleable__control sk-hidden--visually\" id=\"2b065841-fde5-462d-a2d4-d8b1479dd8a0\" type=\"checkbox\" ><label for=\"2b065841-fde5-462d-a2d4-d8b1479dd8a0\" class=\"sk-toggleable__label sk-toggleable__label-arrow\">columntransformer: ColumnTransformer</label><div class=\"sk-toggleable__content\"><pre>ColumnTransformer(transformers=[(&#x27;categorical&#x27;,\n",
       "                                 Pipeline(steps=[(&#x27;imputation_constant&#x27;,\n",
       "                                                  SimpleImputer(fill_value=&#x27;missing&#x27;,\n",
       "                                                                strategy=&#x27;constant&#x27;)),\n",
       "                                                 (&#x27;onehot&#x27;,\n",
       "                                                  OneHotEncoder(handle_unknown=&#x27;ignore&#x27;))]),\n",
       "                                 Index([&#x27;cap-shape&#x27;, &#x27;cap-surface&#x27;, &#x27;cap-color&#x27;, &#x27;bruises&#x27;, &#x27;odor&#x27;,\n",
       "       &#x27;gill-attachment&#x27;, &#x27;gill-spacing&#x27;, &#x27;gill-size&#x27;, &#x27;gill-color&#x27;,\n",
       "       &#x27;stalk-shape&#x27;, &#x27;stalk-root&#x27;, &#x27;stalk-surface-above-ring&#x27;,\n",
       "       &#x27;stalk-surface-below-ring&#x27;, &#x27;stalk-color-above-ring&#x27;,\n",
       "       &#x27;stalk-color-below-ring&#x27;, &#x27;veil-color&#x27;, &#x27;ring-number&#x27;, &#x27;ring-type&#x27;,\n",
       "       &#x27;spore-print-color&#x27;, &#x27;population&#x27;, &#x27;habitat&#x27;],\n",
       "      dtype=&#x27;object&#x27;)),\n",
       "                                (&#x27;numerical&#x27;,\n",
       "                                 Pipeline(steps=[(&#x27;imputation_mode&#x27;,\n",
       "                                                  SimpleImputer(strategy=&#x27;most_frequent&#x27;)),\n",
       "                                                 (&#x27;standard_scaler&#x27;,\n",
       "                                                  StandardScaler())]),\n",
       "                                 Index([], dtype=&#x27;object&#x27;))])</pre></div></div></div><div class=\"sk-parallel\"><div class=\"sk-parallel-item\"><div class=\"sk-item\"><div class=\"sk-label-container\"><div class=\"sk-label sk-toggleable\"><input class=\"sk-toggleable__control sk-hidden--visually\" id=\"63c40b7c-360c-47a3-a2f8-723fb6151848\" type=\"checkbox\" ><label for=\"63c40b7c-360c-47a3-a2f8-723fb6151848\" class=\"sk-toggleable__label sk-toggleable__label-arrow\">categorical</label><div class=\"sk-toggleable__content\"><pre>Index([&#x27;cap-shape&#x27;, &#x27;cap-surface&#x27;, &#x27;cap-color&#x27;, &#x27;bruises&#x27;, &#x27;odor&#x27;,\n",
       "       &#x27;gill-attachment&#x27;, &#x27;gill-spacing&#x27;, &#x27;gill-size&#x27;, &#x27;gill-color&#x27;,\n",
       "       &#x27;stalk-shape&#x27;, &#x27;stalk-root&#x27;, &#x27;stalk-surface-above-ring&#x27;,\n",
       "       &#x27;stalk-surface-below-ring&#x27;, &#x27;stalk-color-above-ring&#x27;,\n",
       "       &#x27;stalk-color-below-ring&#x27;, &#x27;veil-color&#x27;, &#x27;ring-number&#x27;, &#x27;ring-type&#x27;,\n",
       "       &#x27;spore-print-color&#x27;, &#x27;population&#x27;, &#x27;habitat&#x27;],\n",
       "      dtype=&#x27;object&#x27;)</pre></div></div></div><div class=\"sk-serial\"><div class=\"sk-item\"><div class=\"sk-serial\"><div class=\"sk-item\"><div class=\"sk-estimator sk-toggleable\"><input class=\"sk-toggleable__control sk-hidden--visually\" id=\"151df1bb-6d68-4ca5-94e8-a870f993a4a0\" type=\"checkbox\" ><label for=\"151df1bb-6d68-4ca5-94e8-a870f993a4a0\" class=\"sk-toggleable__label sk-toggleable__label-arrow\">SimpleImputer</label><div class=\"sk-toggleable__content\"><pre>SimpleImputer(fill_value=&#x27;missing&#x27;, strategy=&#x27;constant&#x27;)</pre></div></div></div><div class=\"sk-item\"><div class=\"sk-estimator sk-toggleable\"><input class=\"sk-toggleable__control sk-hidden--visually\" id=\"63e754de-7868-4bf2-85ea-8ebf8344ac83\" type=\"checkbox\" ><label for=\"63e754de-7868-4bf2-85ea-8ebf8344ac83\" class=\"sk-toggleable__label sk-toggleable__label-arrow\">OneHotEncoder</label><div class=\"sk-toggleable__content\"><pre>OneHotEncoder(handle_unknown=&#x27;ignore&#x27;)</pre></div></div></div></div></div></div></div></div><div class=\"sk-parallel-item\"><div class=\"sk-item\"><div class=\"sk-label-container\"><div class=\"sk-label sk-toggleable\"><input class=\"sk-toggleable__control sk-hidden--visually\" id=\"8e12079a-4631-44cb-972e-d91d1aef6f95\" type=\"checkbox\" ><label for=\"8e12079a-4631-44cb-972e-d91d1aef6f95\" class=\"sk-toggleable__label sk-toggleable__label-arrow\">numerical</label><div class=\"sk-toggleable__content\"><pre>Index([], dtype=&#x27;object&#x27;)</pre></div></div></div><div class=\"sk-serial\"><div class=\"sk-item\"><div class=\"sk-serial\"><div class=\"sk-item\"><div class=\"sk-estimator sk-toggleable\"><input class=\"sk-toggleable__control sk-hidden--visually\" id=\"b5014098-843b-4e5c-ac36-976d58682777\" type=\"checkbox\" ><label for=\"b5014098-843b-4e5c-ac36-976d58682777\" class=\"sk-toggleable__label sk-toggleable__label-arrow\">SimpleImputer</label><div class=\"sk-toggleable__content\"><pre>SimpleImputer(strategy=&#x27;most_frequent&#x27;)</pre></div></div></div><div class=\"sk-item\"><div class=\"sk-estimator sk-toggleable\"><input class=\"sk-toggleable__control sk-hidden--visually\" id=\"9f65aa62-7a5f-4aa6-b4d4-c9fb37f4ed86\" type=\"checkbox\" ><label for=\"9f65aa62-7a5f-4aa6-b4d4-c9fb37f4ed86\" class=\"sk-toggleable__label sk-toggleable__label-arrow\">StandardScaler</label><div class=\"sk-toggleable__content\"><pre>StandardScaler()</pre></div></div></div></div></div></div></div></div></div></div><div class=\"sk-item\"><div class=\"sk-estimator sk-toggleable\"><input class=\"sk-toggleable__control sk-hidden--visually\" id=\"1ab28665-982c-49ca-81f2-43eabb49e68b\" type=\"checkbox\" ><label for=\"1ab28665-982c-49ca-81f2-43eabb49e68b\" class=\"sk-toggleable__label sk-toggleable__label-arrow\">GradientBoostingClassifier</label><div class=\"sk-toggleable__content\"><pre>GradientBoostingClassifier()</pre></div></div></div></div></div></div></div>"
      ],
      "text/plain": [
       "Pipeline(steps=[('columntransformer',\n",
       "                 ColumnTransformer(transformers=[('categorical',\n",
       "                                                  Pipeline(steps=[('imputation_constant',\n",
       "                                                                   SimpleImputer(fill_value='missing',\n",
       "                                                                                 strategy='constant')),\n",
       "                                                                  ('onehot',\n",
       "                                                                   OneHotEncoder(handle_unknown='ignore'))]),\n",
       "                                                  Index(['cap-shape', 'cap-surface', 'cap-color', 'bruises', 'odor',\n",
       "       'gill-attachment', 'gill-spacing', 'gill-size', 'gill-color...\n",
       "       'stalk-surface-below-ring', 'stalk-color-above-ring',\n",
       "       'stalk-color-below-ring', 'veil-color', 'ring-number', 'ring-type',\n",
       "       'spore-print-color', 'population', 'habitat'],\n",
       "      dtype='object')),\n",
       "                                                 ('numerical',\n",
       "                                                  Pipeline(steps=[('imputation_mode',\n",
       "                                                                   SimpleImputer(strategy='most_frequent')),\n",
       "                                                                  ('standard_scaler',\n",
       "                                                                   StandardScaler())]),\n",
       "                                                  Index([], dtype='object'))])),\n",
       "                ('gradientboostingclassifier', GradientBoostingClassifier())])"
      ]
     },
     "execution_count": 46,
     "metadata": {},
     "output_type": "execute_result"
    }
   ],
   "source": [
    "from sklearn.ensemble import GradientBoostingClassifier\n",
    "grad = make_pipeline(preprocessor,GradientBoostingClassifier())\n",
    "grad"
   ]
  },
  {
   "cell_type": "code",
   "execution_count": 47,
   "id": "bed645f0",
   "metadata": {},
   "outputs": [
    {
     "data": {
      "text/html": [
       "<style>#sk-23264e57-d563-40ec-a16a-9042c7e11605 {color: black;background-color: white;}#sk-23264e57-d563-40ec-a16a-9042c7e11605 pre{padding: 0;}#sk-23264e57-d563-40ec-a16a-9042c7e11605 div.sk-toggleable {background-color: white;}#sk-23264e57-d563-40ec-a16a-9042c7e11605 label.sk-toggleable__label {cursor: pointer;display: block;width: 100%;margin-bottom: 0;padding: 0.3em;box-sizing: border-box;text-align: center;}#sk-23264e57-d563-40ec-a16a-9042c7e11605 label.sk-toggleable__label-arrow:before {content: \"▸\";float: left;margin-right: 0.25em;color: #696969;}#sk-23264e57-d563-40ec-a16a-9042c7e11605 label.sk-toggleable__label-arrow:hover:before {color: black;}#sk-23264e57-d563-40ec-a16a-9042c7e11605 div.sk-estimator:hover label.sk-toggleable__label-arrow:before {color: black;}#sk-23264e57-d563-40ec-a16a-9042c7e11605 div.sk-toggleable__content {max-height: 0;max-width: 0;overflow: hidden;text-align: left;background-color: #f0f8ff;}#sk-23264e57-d563-40ec-a16a-9042c7e11605 div.sk-toggleable__content pre {margin: 0.2em;color: black;border-radius: 0.25em;background-color: #f0f8ff;}#sk-23264e57-d563-40ec-a16a-9042c7e11605 input.sk-toggleable__control:checked~div.sk-toggleable__content {max-height: 200px;max-width: 100%;overflow: auto;}#sk-23264e57-d563-40ec-a16a-9042c7e11605 input.sk-toggleable__control:checked~label.sk-toggleable__label-arrow:before {content: \"▾\";}#sk-23264e57-d563-40ec-a16a-9042c7e11605 div.sk-estimator input.sk-toggleable__control:checked~label.sk-toggleable__label {background-color: #d4ebff;}#sk-23264e57-d563-40ec-a16a-9042c7e11605 div.sk-label input.sk-toggleable__control:checked~label.sk-toggleable__label {background-color: #d4ebff;}#sk-23264e57-d563-40ec-a16a-9042c7e11605 input.sk-hidden--visually {border: 0;clip: rect(1px 1px 1px 1px);clip: rect(1px, 1px, 1px, 1px);height: 1px;margin: -1px;overflow: hidden;padding: 0;position: absolute;width: 1px;}#sk-23264e57-d563-40ec-a16a-9042c7e11605 div.sk-estimator {font-family: monospace;background-color: #f0f8ff;border: 1px dotted black;border-radius: 0.25em;box-sizing: border-box;margin-bottom: 0.5em;}#sk-23264e57-d563-40ec-a16a-9042c7e11605 div.sk-estimator:hover {background-color: #d4ebff;}#sk-23264e57-d563-40ec-a16a-9042c7e11605 div.sk-parallel-item::after {content: \"\";width: 100%;border-bottom: 1px solid gray;flex-grow: 1;}#sk-23264e57-d563-40ec-a16a-9042c7e11605 div.sk-label:hover label.sk-toggleable__label {background-color: #d4ebff;}#sk-23264e57-d563-40ec-a16a-9042c7e11605 div.sk-serial::before {content: \"\";position: absolute;border-left: 1px solid gray;box-sizing: border-box;top: 2em;bottom: 0;left: 50%;}#sk-23264e57-d563-40ec-a16a-9042c7e11605 div.sk-serial {display: flex;flex-direction: column;align-items: center;background-color: white;padding-right: 0.2em;padding-left: 0.2em;}#sk-23264e57-d563-40ec-a16a-9042c7e11605 div.sk-item {z-index: 1;}#sk-23264e57-d563-40ec-a16a-9042c7e11605 div.sk-parallel {display: flex;align-items: stretch;justify-content: center;background-color: white;}#sk-23264e57-d563-40ec-a16a-9042c7e11605 div.sk-parallel::before {content: \"\";position: absolute;border-left: 1px solid gray;box-sizing: border-box;top: 2em;bottom: 0;left: 50%;}#sk-23264e57-d563-40ec-a16a-9042c7e11605 div.sk-parallel-item {display: flex;flex-direction: column;position: relative;background-color: white;}#sk-23264e57-d563-40ec-a16a-9042c7e11605 div.sk-parallel-item:first-child::after {align-self: flex-end;width: 50%;}#sk-23264e57-d563-40ec-a16a-9042c7e11605 div.sk-parallel-item:last-child::after {align-self: flex-start;width: 50%;}#sk-23264e57-d563-40ec-a16a-9042c7e11605 div.sk-parallel-item:only-child::after {width: 0;}#sk-23264e57-d563-40ec-a16a-9042c7e11605 div.sk-dashed-wrapped {border: 1px dashed gray;margin: 0 0.4em 0.5em 0.4em;box-sizing: border-box;padding-bottom: 0.4em;background-color: white;position: relative;}#sk-23264e57-d563-40ec-a16a-9042c7e11605 div.sk-label label {font-family: monospace;font-weight: bold;background-color: white;display: inline-block;line-height: 1.2em;}#sk-23264e57-d563-40ec-a16a-9042c7e11605 div.sk-label-container {position: relative;z-index: 2;text-align: center;}#sk-23264e57-d563-40ec-a16a-9042c7e11605 div.sk-container {/* jupyter's `normalize.less` sets `[hidden] { display: none; }` but bootstrap.min.css set `[hidden] { display: none !important; }` so we also need the `!important` here to be able to override the default hidden behavior on the sphinx rendered scikit-learn.org. See: https://github.com/scikit-learn/scikit-learn/issues/21755 */display: inline-block !important;position: relative;}#sk-23264e57-d563-40ec-a16a-9042c7e11605 div.sk-text-repr-fallback {display: none;}</style><div id=\"sk-23264e57-d563-40ec-a16a-9042c7e11605\" class=\"sk-top-container\"><div class=\"sk-text-repr-fallback\"><pre>Pipeline(steps=[(&#x27;columntransformer&#x27;,\n",
       "                 ColumnTransformer(transformers=[(&#x27;categorical&#x27;,\n",
       "                                                  Pipeline(steps=[(&#x27;imputation_constant&#x27;,\n",
       "                                                                   SimpleImputer(fill_value=&#x27;missing&#x27;,\n",
       "                                                                                 strategy=&#x27;constant&#x27;)),\n",
       "                                                                  (&#x27;onehot&#x27;,\n",
       "                                                                   OneHotEncoder(handle_unknown=&#x27;ignore&#x27;))]),\n",
       "                                                  Index([&#x27;cap-shape&#x27;, &#x27;cap-surface&#x27;, &#x27;cap-color&#x27;, &#x27;bruises&#x27;, &#x27;odor&#x27;,\n",
       "       &#x27;gill-attachment&#x27;, &#x27;gill-spacing&#x27;, &#x27;gill-size&#x27;, &#x27;gill-color...\n",
       "       &#x27;stalk-surface-below-ring&#x27;, &#x27;stalk-color-above-ring&#x27;,\n",
       "       &#x27;stalk-color-below-ring&#x27;, &#x27;veil-color&#x27;, &#x27;ring-number&#x27;, &#x27;ring-type&#x27;,\n",
       "       &#x27;spore-print-color&#x27;, &#x27;population&#x27;, &#x27;habitat&#x27;],\n",
       "      dtype=&#x27;object&#x27;)),\n",
       "                                                 (&#x27;numerical&#x27;,\n",
       "                                                  Pipeline(steps=[(&#x27;imputation_mode&#x27;,\n",
       "                                                                   SimpleImputer(strategy=&#x27;most_frequent&#x27;)),\n",
       "                                                                  (&#x27;standard_scaler&#x27;,\n",
       "                                                                   StandardScaler())]),\n",
       "                                                  Index([], dtype=&#x27;object&#x27;))])),\n",
       "                (&#x27;gradientboostingclassifier&#x27;, GradientBoostingClassifier())])</pre><b>Please rerun this cell to show the HTML repr or trust the notebook.</b></div><div class=\"sk-container\" hidden><div class=\"sk-item sk-dashed-wrapped\"><div class=\"sk-label-container\"><div class=\"sk-label sk-toggleable\"><input class=\"sk-toggleable__control sk-hidden--visually\" id=\"971170e9-692f-4995-b4e0-e6e6eef82aa0\" type=\"checkbox\" ><label for=\"971170e9-692f-4995-b4e0-e6e6eef82aa0\" class=\"sk-toggleable__label sk-toggleable__label-arrow\">Pipeline</label><div class=\"sk-toggleable__content\"><pre>Pipeline(steps=[(&#x27;columntransformer&#x27;,\n",
       "                 ColumnTransformer(transformers=[(&#x27;categorical&#x27;,\n",
       "                                                  Pipeline(steps=[(&#x27;imputation_constant&#x27;,\n",
       "                                                                   SimpleImputer(fill_value=&#x27;missing&#x27;,\n",
       "                                                                                 strategy=&#x27;constant&#x27;)),\n",
       "                                                                  (&#x27;onehot&#x27;,\n",
       "                                                                   OneHotEncoder(handle_unknown=&#x27;ignore&#x27;))]),\n",
       "                                                  Index([&#x27;cap-shape&#x27;, &#x27;cap-surface&#x27;, &#x27;cap-color&#x27;, &#x27;bruises&#x27;, &#x27;odor&#x27;,\n",
       "       &#x27;gill-attachment&#x27;, &#x27;gill-spacing&#x27;, &#x27;gill-size&#x27;, &#x27;gill-color...\n",
       "       &#x27;stalk-surface-below-ring&#x27;, &#x27;stalk-color-above-ring&#x27;,\n",
       "       &#x27;stalk-color-below-ring&#x27;, &#x27;veil-color&#x27;, &#x27;ring-number&#x27;, &#x27;ring-type&#x27;,\n",
       "       &#x27;spore-print-color&#x27;, &#x27;population&#x27;, &#x27;habitat&#x27;],\n",
       "      dtype=&#x27;object&#x27;)),\n",
       "                                                 (&#x27;numerical&#x27;,\n",
       "                                                  Pipeline(steps=[(&#x27;imputation_mode&#x27;,\n",
       "                                                                   SimpleImputer(strategy=&#x27;most_frequent&#x27;)),\n",
       "                                                                  (&#x27;standard_scaler&#x27;,\n",
       "                                                                   StandardScaler())]),\n",
       "                                                  Index([], dtype=&#x27;object&#x27;))])),\n",
       "                (&#x27;gradientboostingclassifier&#x27;, GradientBoostingClassifier())])</pre></div></div></div><div class=\"sk-serial\"><div class=\"sk-item sk-dashed-wrapped\"><div class=\"sk-label-container\"><div class=\"sk-label sk-toggleable\"><input class=\"sk-toggleable__control sk-hidden--visually\" id=\"308325db-32a3-49ab-86f4-eb1dd13a6c03\" type=\"checkbox\" ><label for=\"308325db-32a3-49ab-86f4-eb1dd13a6c03\" class=\"sk-toggleable__label sk-toggleable__label-arrow\">columntransformer: ColumnTransformer</label><div class=\"sk-toggleable__content\"><pre>ColumnTransformer(transformers=[(&#x27;categorical&#x27;,\n",
       "                                 Pipeline(steps=[(&#x27;imputation_constant&#x27;,\n",
       "                                                  SimpleImputer(fill_value=&#x27;missing&#x27;,\n",
       "                                                                strategy=&#x27;constant&#x27;)),\n",
       "                                                 (&#x27;onehot&#x27;,\n",
       "                                                  OneHotEncoder(handle_unknown=&#x27;ignore&#x27;))]),\n",
       "                                 Index([&#x27;cap-shape&#x27;, &#x27;cap-surface&#x27;, &#x27;cap-color&#x27;, &#x27;bruises&#x27;, &#x27;odor&#x27;,\n",
       "       &#x27;gill-attachment&#x27;, &#x27;gill-spacing&#x27;, &#x27;gill-size&#x27;, &#x27;gill-color&#x27;,\n",
       "       &#x27;stalk-shape&#x27;, &#x27;stalk-root&#x27;, &#x27;stalk-surface-above-ring&#x27;,\n",
       "       &#x27;stalk-surface-below-ring&#x27;, &#x27;stalk-color-above-ring&#x27;,\n",
       "       &#x27;stalk-color-below-ring&#x27;, &#x27;veil-color&#x27;, &#x27;ring-number&#x27;, &#x27;ring-type&#x27;,\n",
       "       &#x27;spore-print-color&#x27;, &#x27;population&#x27;, &#x27;habitat&#x27;],\n",
       "      dtype=&#x27;object&#x27;)),\n",
       "                                (&#x27;numerical&#x27;,\n",
       "                                 Pipeline(steps=[(&#x27;imputation_mode&#x27;,\n",
       "                                                  SimpleImputer(strategy=&#x27;most_frequent&#x27;)),\n",
       "                                                 (&#x27;standard_scaler&#x27;,\n",
       "                                                  StandardScaler())]),\n",
       "                                 Index([], dtype=&#x27;object&#x27;))])</pre></div></div></div><div class=\"sk-parallel\"><div class=\"sk-parallel-item\"><div class=\"sk-item\"><div class=\"sk-label-container\"><div class=\"sk-label sk-toggleable\"><input class=\"sk-toggleable__control sk-hidden--visually\" id=\"3a05a657-00d0-4101-aba1-b274cf892f48\" type=\"checkbox\" ><label for=\"3a05a657-00d0-4101-aba1-b274cf892f48\" class=\"sk-toggleable__label sk-toggleable__label-arrow\">categorical</label><div class=\"sk-toggleable__content\"><pre>Index([&#x27;cap-shape&#x27;, &#x27;cap-surface&#x27;, &#x27;cap-color&#x27;, &#x27;bruises&#x27;, &#x27;odor&#x27;,\n",
       "       &#x27;gill-attachment&#x27;, &#x27;gill-spacing&#x27;, &#x27;gill-size&#x27;, &#x27;gill-color&#x27;,\n",
       "       &#x27;stalk-shape&#x27;, &#x27;stalk-root&#x27;, &#x27;stalk-surface-above-ring&#x27;,\n",
       "       &#x27;stalk-surface-below-ring&#x27;, &#x27;stalk-color-above-ring&#x27;,\n",
       "       &#x27;stalk-color-below-ring&#x27;, &#x27;veil-color&#x27;, &#x27;ring-number&#x27;, &#x27;ring-type&#x27;,\n",
       "       &#x27;spore-print-color&#x27;, &#x27;population&#x27;, &#x27;habitat&#x27;],\n",
       "      dtype=&#x27;object&#x27;)</pre></div></div></div><div class=\"sk-serial\"><div class=\"sk-item\"><div class=\"sk-serial\"><div class=\"sk-item\"><div class=\"sk-estimator sk-toggleable\"><input class=\"sk-toggleable__control sk-hidden--visually\" id=\"ec210d9e-bac6-447d-a5bf-e592cd97d5c0\" type=\"checkbox\" ><label for=\"ec210d9e-bac6-447d-a5bf-e592cd97d5c0\" class=\"sk-toggleable__label sk-toggleable__label-arrow\">SimpleImputer</label><div class=\"sk-toggleable__content\"><pre>SimpleImputer(fill_value=&#x27;missing&#x27;, strategy=&#x27;constant&#x27;)</pre></div></div></div><div class=\"sk-item\"><div class=\"sk-estimator sk-toggleable\"><input class=\"sk-toggleable__control sk-hidden--visually\" id=\"988f05e4-a4e1-49aa-a940-a02507530782\" type=\"checkbox\" ><label for=\"988f05e4-a4e1-49aa-a940-a02507530782\" class=\"sk-toggleable__label sk-toggleable__label-arrow\">OneHotEncoder</label><div class=\"sk-toggleable__content\"><pre>OneHotEncoder(handle_unknown=&#x27;ignore&#x27;)</pre></div></div></div></div></div></div></div></div><div class=\"sk-parallel-item\"><div class=\"sk-item\"><div class=\"sk-label-container\"><div class=\"sk-label sk-toggleable\"><input class=\"sk-toggleable__control sk-hidden--visually\" id=\"0864428f-9f54-4dca-bd55-8c571ff879cc\" type=\"checkbox\" ><label for=\"0864428f-9f54-4dca-bd55-8c571ff879cc\" class=\"sk-toggleable__label sk-toggleable__label-arrow\">numerical</label><div class=\"sk-toggleable__content\"><pre>Index([], dtype=&#x27;object&#x27;)</pre></div></div></div><div class=\"sk-serial\"><div class=\"sk-item\"><div class=\"sk-serial\"><div class=\"sk-item\"><div class=\"sk-estimator sk-toggleable\"><input class=\"sk-toggleable__control sk-hidden--visually\" id=\"4c240416-4de6-4480-91db-cd721a599c81\" type=\"checkbox\" ><label for=\"4c240416-4de6-4480-91db-cd721a599c81\" class=\"sk-toggleable__label sk-toggleable__label-arrow\">SimpleImputer</label><div class=\"sk-toggleable__content\"><pre>SimpleImputer(strategy=&#x27;most_frequent&#x27;)</pre></div></div></div><div class=\"sk-item\"><div class=\"sk-estimator sk-toggleable\"><input class=\"sk-toggleable__control sk-hidden--visually\" id=\"ba21772a-fe7b-4b6a-805f-652953d3e75a\" type=\"checkbox\" ><label for=\"ba21772a-fe7b-4b6a-805f-652953d3e75a\" class=\"sk-toggleable__label sk-toggleable__label-arrow\">StandardScaler</label><div class=\"sk-toggleable__content\"><pre>StandardScaler()</pre></div></div></div></div></div></div></div></div></div></div><div class=\"sk-item\"><div class=\"sk-estimator sk-toggleable\"><input class=\"sk-toggleable__control sk-hidden--visually\" id=\"14c43b27-3b11-406c-9270-84544b1073bc\" type=\"checkbox\" ><label for=\"14c43b27-3b11-406c-9270-84544b1073bc\" class=\"sk-toggleable__label sk-toggleable__label-arrow\">GradientBoostingClassifier</label><div class=\"sk-toggleable__content\"><pre>GradientBoostingClassifier()</pre></div></div></div></div></div></div></div>"
      ],
      "text/plain": [
       "Pipeline(steps=[('columntransformer',\n",
       "                 ColumnTransformer(transformers=[('categorical',\n",
       "                                                  Pipeline(steps=[('imputation_constant',\n",
       "                                                                   SimpleImputer(fill_value='missing',\n",
       "                                                                                 strategy='constant')),\n",
       "                                                                  ('onehot',\n",
       "                                                                   OneHotEncoder(handle_unknown='ignore'))]),\n",
       "                                                  Index(['cap-shape', 'cap-surface', 'cap-color', 'bruises', 'odor',\n",
       "       'gill-attachment', 'gill-spacing', 'gill-size', 'gill-color...\n",
       "       'stalk-surface-below-ring', 'stalk-color-above-ring',\n",
       "       'stalk-color-below-ring', 'veil-color', 'ring-number', 'ring-type',\n",
       "       'spore-print-color', 'population', 'habitat'],\n",
       "      dtype='object')),\n",
       "                                                 ('numerical',\n",
       "                                                  Pipeline(steps=[('imputation_mode',\n",
       "                                                                   SimpleImputer(strategy='most_frequent')),\n",
       "                                                                  ('standard_scaler',\n",
       "                                                                   StandardScaler())]),\n",
       "                                                  Index([], dtype='object'))])),\n",
       "                ('gradientboostingclassifier', GradientBoostingClassifier())])"
      ]
     },
     "execution_count": 47,
     "metadata": {},
     "output_type": "execute_result"
    }
   ],
   "source": [
    "grad.fit(X_train, y_train)"
   ]
  },
  {
   "cell_type": "code",
   "execution_count": 48,
   "id": "6206d466",
   "metadata": {},
   "outputs": [],
   "source": [
    "y_pred_grad = grad.predict(X_test)"
   ]
  },
  {
   "cell_type": "code",
   "execution_count": 49,
   "id": "2554aea8",
   "metadata": {},
   "outputs": [
    {
     "data": {
      "text/plain": [
       "array([[1257,    0],\n",
       "       [   0, 1181]], dtype=int64)"
      ]
     },
     "execution_count": 49,
     "metadata": {},
     "output_type": "execute_result"
    }
   ],
   "source": [
    "from sklearn.metrics import confusion_matrix\n",
    "cm=confusion_matrix(y_test, y_pred_grad)\n",
    "cm"
   ]
  },
  {
   "cell_type": "code",
   "execution_count": 50,
   "id": "91e38b59",
   "metadata": {},
   "outputs": [
    {
     "name": "stderr",
     "output_type": "stream",
     "text": [
      "E:\\Anaconda\\lib\\site-packages\\sklearn\\utils\\deprecation.py:87: FutureWarning: Function plot_confusion_matrix is deprecated; Function `plot_confusion_matrix` is deprecated in 1.0 and will be removed in 1.2. Use one of the class methods: ConfusionMatrixDisplay.from_predictions or ConfusionMatrixDisplay.from_estimator.\n",
      "  warnings.warn(msg, category=FutureWarning)\n"
     ]
    },
    {
     "data": {
      "image/png": "[encoded data removed]",
      "text/plain": [
       "<Figure size 432x288 with 2 Axes>"
      ]
     },
     "metadata": {
      "needs_background": "light"
     },
     "output_type": "display_data"
    }
   ],
   "source": [
    "from sklearn.metrics import plot_confusion_matrix\n",
    "color = 'black'\n",
    "matrix = plot_confusion_matrix(grad, X_test, y_test, cmap=plt.cm.Blues)\n",
    "matrix.ax_.set_title('Confusion Matrix', color=color)\n",
    "plt.xlabel('Predicted Label', color=color)\n",
    "plt.ylabel('True Label', color=color)\n",
    "plt.show()"
   ]
  },
  {
   "cell_type": "code",
   "execution_count": 51,
   "id": "5ad312e8",
   "metadata": {},
   "outputs": [
    {
     "name": "stdout",
     "output_type": "stream",
     "text": [
      "              precision    recall  f1-score   support\n",
      "\n",
      "           e       1.00      1.00      1.00      1257\n",
      "           p       1.00      1.00      1.00      1181\n",
      "\n",
      "    accuracy                           1.00      2438\n",
      "   macro avg       1.00      1.00      1.00      2438\n",
      "weighted avg       1.00      1.00      1.00      2438\n",
      "\n"
     ]
    }
   ],
   "source": [
    "from sklearn.metrics import classification_report\n",
    "print(classification_report(y_test, y_pred_grad))"
   ]
  },
  {
   "cell_type": "markdown",
   "id": "6872d12b",
   "metadata": {},
   "source": [
    "#### Conclusion\n",
    "Most of the classification methods hit 100% accuracy with this dataset."
   ]
  },
  {
   "cell_type": "markdown",
   "id": "cd952304",
   "metadata": {},
   "source": [
    "### Saving and Exporting the Model as .pkl"
   ]
  },
  {
   "cell_type": "code",
   "execution_count": 52,
   "id": "bdd7eb00",
   "metadata": {},
   "outputs": [],
   "source": [
    "import pickle\n",
    "pickle.dump(model, open(\"rfc.pkl\", \"wb\"))"
   ]
  }
 ],
 "metadata": {
  "kernelspec": {
   "display_name": "Python 3 (ipykernel)",
   "language": "python",
   "name": "python3"
  },
  "language_info": {
   "codemirror_mode": {
    "name": "ipython",
    "version": 3
   },
   "file_extension": ".py",
   "mimetype": "text/x-python",
   "name": "python",
   "nbconvert_exporter": "python",
   "pygments_lexer": "ipython3",
   "version": "3.9.12"
  }
 },
 "nbformat": 4,
 "nbformat_minor": 5
}
