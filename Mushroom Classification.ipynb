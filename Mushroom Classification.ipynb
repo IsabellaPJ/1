{
 "cells": [
  {
   "cell_type": "markdown",
   "id": "b5277036",
   "metadata": {},
   "source": [
    "# Mushroom Classification"
   ]
  },
  {
   "cell_type": "markdown",
   "id": "5fd1c333",
   "metadata": {},
   "source": [
    "## Problem Statement\n",
    "This dataset includes descriptions of hypothetical samples corresponding to 23 species of gilled mushrooms in the Agaricus and Lepiota Family Mushroom drawn from The Audubon Society Field Guide to North American Mushrooms (1981). Each species is identified as definitely edible, definitely poisonous, or of unknown edibility and not recommended. This latter class was combined with the poisonous one. The Guide clearly states that there is no simple rule for determining the edibility of a mushroom; no rule like \"leaflets three, let it be'' for Poisonous Oak and Ivy."
   ]
  },
  {
   "cell_type": "markdown",
   "id": "bd3c56e2",
   "metadata": {},
   "source": [
    "## Data Description\n",
    "The data contained features like cap-shape, cap-surface, cap-color, bruises, odor etc. The dataset contains a set of 8,125 records under 23 attributes: Our model will be predicting whether the mushroom is edible or poisonous.\n"
   ]
  },
  {
   "cell_type": "markdown",
   "id": "44aee4bf",
   "metadata": {},
   "source": [
    "## Importing Libraries"
   ]
  },
  {
   "cell_type": "code",
   "execution_count": 46,
   "id": "25e812a6",
   "metadata": {},
   "outputs": [],
   "source": [
    "import pandas as pd\n",
    "import numpy as np\n",
    "import matplotlib.pyplot as plt\n",
    "import seaborn as sns\n",
    "%matplotlib inline\n",
    "from sklearn.pipeline import Pipeline\n",
    "from sklearn.pipeline import make_pipeline\n",
    "from sklearn.impute import SimpleImputer\n",
    "from sklearn import set_config\n",
    "from sklearn.preprocessing import StandardScaler"
   ]
  },
  {
   "cell_type": "markdown",
   "id": "47204a26",
   "metadata": {},
   "source": [
    "## Importing the dataset"
   ]
  },
  {
   "cell_type": "code",
   "execution_count": 47,
   "id": "cf432bd4",
   "metadata": {},
   "outputs": [
    {
     "data": {
      "text/html": [
       "<div>\n",
       "<style scoped>\n",
       "    .dataframe tbody tr th:only-of-type {\n",
       "        vertical-align: middle;\n",
       "    }\n",
       "\n",
       "    .dataframe tbody tr th {\n",
       "        vertical-align: top;\n",
       "    }\n",
       "\n",
       "    .dataframe thead th {\n",
       "        text-align: right;\n",
       "    }\n",
       "</style>\n",
       "<table border=\"1\" class=\"dataframe\">\n",
       "  <thead>\n",
       "    <tr style=\"text-align: right;\">\n",
       "      <th></th>\n",
       "      <th>class</th>\n",
       "      <th>cap-shape</th>\n",
       "      <th>cap-surface</th>\n",
       "      <th>cap-color</th>\n",
       "      <th>bruises</th>\n",
       "      <th>odor</th>\n",
       "      <th>gill-attachment</th>\n",
       "      <th>gill-spacing</th>\n",
       "      <th>gill-size</th>\n",
       "      <th>gill-color</th>\n",
       "      <th>...</th>\n",
       "      <th>stalk-surface-below-ring</th>\n",
       "      <th>stalk-color-above-ring</th>\n",
       "      <th>stalk-color-below-ring</th>\n",
       "      <th>veil-type</th>\n",
       "      <th>veil-color</th>\n",
       "      <th>ring-number</th>\n",
       "      <th>ring-type</th>\n",
       "      <th>spore-print-color</th>\n",
       "      <th>population</th>\n",
       "      <th>habitat</th>\n",
       "    </tr>\n",
       "  </thead>\n",
       "  <tbody>\n",
       "    <tr>\n",
       "      <th>0</th>\n",
       "      <td>p</td>\n",
       "      <td>x</td>\n",
       "      <td>s</td>\n",
       "      <td>n</td>\n",
       "      <td>t</td>\n",
       "      <td>p</td>\n",
       "      <td>f</td>\n",
       "      <td>c</td>\n",
       "      <td>n</td>\n",
       "      <td>k</td>\n",
       "      <td>...</td>\n",
       "      <td>s</td>\n",
       "      <td>w</td>\n",
       "      <td>w</td>\n",
       "      <td>p</td>\n",
       "      <td>w</td>\n",
       "      <td>o</td>\n",
       "      <td>p</td>\n",
       "      <td>k</td>\n",
       "      <td>s</td>\n",
       "      <td>u</td>\n",
       "    </tr>\n",
       "    <tr>\n",
       "      <th>1</th>\n",
       "      <td>e</td>\n",
       "      <td>x</td>\n",
       "      <td>s</td>\n",
       "      <td>y</td>\n",
       "      <td>t</td>\n",
       "      <td>a</td>\n",
       "      <td>f</td>\n",
       "      <td>c</td>\n",
       "      <td>b</td>\n",
       "      <td>k</td>\n",
       "      <td>...</td>\n",
       "      <td>s</td>\n",
       "      <td>w</td>\n",
       "      <td>w</td>\n",
       "      <td>p</td>\n",
       "      <td>w</td>\n",
       "      <td>o</td>\n",
       "      <td>p</td>\n",
       "      <td>n</td>\n",
       "      <td>n</td>\n",
       "      <td>g</td>\n",
       "    </tr>\n",
       "    <tr>\n",
       "      <th>2</th>\n",
       "      <td>e</td>\n",
       "      <td>b</td>\n",
       "      <td>s</td>\n",
       "      <td>w</td>\n",
       "      <td>t</td>\n",
       "      <td>l</td>\n",
       "      <td>f</td>\n",
       "      <td>c</td>\n",
       "      <td>b</td>\n",
       "      <td>n</td>\n",
       "      <td>...</td>\n",
       "      <td>s</td>\n",
       "      <td>w</td>\n",
       "      <td>w</td>\n",
       "      <td>p</td>\n",
       "      <td>w</td>\n",
       "      <td>o</td>\n",
       "      <td>p</td>\n",
       "      <td>n</td>\n",
       "      <td>n</td>\n",
       "      <td>m</td>\n",
       "    </tr>\n",
       "    <tr>\n",
       "      <th>3</th>\n",
       "      <td>p</td>\n",
       "      <td>x</td>\n",
       "      <td>y</td>\n",
       "      <td>w</td>\n",
       "      <td>t</td>\n",
       "      <td>p</td>\n",
       "      <td>f</td>\n",
       "      <td>c</td>\n",
       "      <td>n</td>\n",
       "      <td>n</td>\n",
       "      <td>...</td>\n",
       "      <td>s</td>\n",
       "      <td>w</td>\n",
       "      <td>w</td>\n",
       "      <td>p</td>\n",
       "      <td>w</td>\n",
       "      <td>o</td>\n",
       "      <td>p</td>\n",
       "      <td>k</td>\n",
       "      <td>s</td>\n",
       "      <td>u</td>\n",
       "    </tr>\n",
       "    <tr>\n",
       "      <th>4</th>\n",
       "      <td>e</td>\n",
       "      <td>x</td>\n",
       "      <td>s</td>\n",
       "      <td>g</td>\n",
       "      <td>f</td>\n",
       "      <td>n</td>\n",
       "      <td>f</td>\n",
       "      <td>w</td>\n",
       "      <td>b</td>\n",
       "      <td>k</td>\n",
       "      <td>...</td>\n",
       "      <td>s</td>\n",
       "      <td>w</td>\n",
       "      <td>w</td>\n",
       "      <td>p</td>\n",
       "      <td>w</td>\n",
       "      <td>o</td>\n",
       "      <td>e</td>\n",
       "      <td>n</td>\n",
       "      <td>a</td>\n",
       "      <td>g</td>\n",
       "    </tr>\n",
       "  </tbody>\n",
       "</table>\n",
       "<p>5 rows × 23 columns</p>\n",
       "</div>"
      ],
      "text/plain": [
       "  class cap-shape cap-surface cap-color bruises odor gill-attachment  \\\n",
       "0     p         x           s         n       t    p               f   \n",
       "1     e         x           s         y       t    a               f   \n",
       "2     e         b           s         w       t    l               f   \n",
       "3     p         x           y         w       t    p               f   \n",
       "4     e         x           s         g       f    n               f   \n",
       "\n",
       "  gill-spacing gill-size gill-color  ... stalk-surface-below-ring  \\\n",
       "0            c         n          k  ...                        s   \n",
       "1            c         b          k  ...                        s   \n",
       "2            c         b          n  ...                        s   \n",
       "3            c         n          n  ...                        s   \n",
       "4            w         b          k  ...                        s   \n",
       "\n",
       "  stalk-color-above-ring stalk-color-below-ring veil-type veil-color  \\\n",
       "0                      w                      w         p          w   \n",
       "1                      w                      w         p          w   \n",
       "2                      w                      w         p          w   \n",
       "3                      w                      w         p          w   \n",
       "4                      w                      w         p          w   \n",
       "\n",
       "  ring-number ring-type spore-print-color population habitat  \n",
       "0           o         p                 k          s       u  \n",
       "1           o         p                 n          n       g  \n",
       "2           o         p                 n          n       m  \n",
       "3           o         p                 k          s       u  \n",
       "4           o         e                 n          a       g  \n",
       "\n",
       "[5 rows x 23 columns]"
      ]
     },
     "execution_count": 47,
     "metadata": {},
     "output_type": "execute_result"
    }
   ],
   "source": [
    "df = pd.read_csv(\"mushrooms.csv\")\n",
    "df.head()"
   ]
  },
  {
   "cell_type": "code",
   "execution_count": 48,
   "id": "647d47d0",
   "metadata": {},
   "outputs": [
    {
     "data": {
      "text/plain": [
       "(8124, 23)"
      ]
     },
     "execution_count": 48,
     "metadata": {},
     "output_type": "execute_result"
    }
   ],
   "source": [
    "df.shape"
   ]
  },
  {
   "cell_type": "code",
   "execution_count": 49,
   "id": "4d57d3ff",
   "metadata": {},
   "outputs": [
    {
     "name": "stdout",
     "output_type": "stream",
     "text": [
      "<class 'pandas.core.frame.DataFrame'>\n",
      "RangeIndex: 8124 entries, 0 to 8123\n",
      "Data columns (total 23 columns):\n",
      " #   Column                    Non-Null Count  Dtype \n",
      "---  ------                    --------------  ----- \n",
      " 0   class                     8124 non-null   object\n",
      " 1   cap-shape                 8124 non-null   object\n",
      " 2   cap-surface               8124 non-null   object\n",
      " 3   cap-color                 8124 non-null   object\n",
      " 4   bruises                   8124 non-null   object\n",
      " 5   odor                      8124 non-null   object\n",
      " 6   gill-attachment           8124 non-null   object\n",
      " 7   gill-spacing              8124 non-null   object\n",
      " 8   gill-size                 8124 non-null   object\n",
      " 9   gill-color                8124 non-null   object\n",
      " 10  stalk-shape               8124 non-null   object\n",
      " 11  stalk-root                8124 non-null   object\n",
      " 12  stalk-surface-above-ring  8124 non-null   object\n",
      " 13  stalk-surface-below-ring  8124 non-null   object\n",
      " 14  stalk-color-above-ring    8124 non-null   object\n",
      " 15  stalk-color-below-ring    8124 non-null   object\n",
      " 16  veil-type                 8124 non-null   object\n",
      " 17  veil-color                8124 non-null   object\n",
      " 18  ring-number               8124 non-null   object\n",
      " 19  ring-type                 8124 non-null   object\n",
      " 20  spore-print-color         8124 non-null   object\n",
      " 21  population                8124 non-null   object\n",
      " 22  habitat                   8124 non-null   object\n",
      "dtypes: object(23)\n",
      "memory usage: 1.4+ MB\n"
     ]
    }
   ],
   "source": [
    "df.info()"
   ]
  },
  {
   "cell_type": "code",
   "execution_count": 50,
   "id": "9f67dc6e",
   "metadata": {},
   "outputs": [
    {
     "data": {
      "text/html": [
       "<div>\n",
       "<style scoped>\n",
       "    .dataframe tbody tr th:only-of-type {\n",
       "        vertical-align: middle;\n",
       "    }\n",
       "\n",
       "    .dataframe tbody tr th {\n",
       "        vertical-align: top;\n",
       "    }\n",
       "\n",
       "    .dataframe thead th {\n",
       "        text-align: right;\n",
       "    }\n",
       "</style>\n",
       "<table border=\"1\" class=\"dataframe\">\n",
       "  <thead>\n",
       "    <tr style=\"text-align: right;\">\n",
       "      <th></th>\n",
       "      <th>class</th>\n",
       "      <th>cap-shape</th>\n",
       "      <th>cap-surface</th>\n",
       "      <th>cap-color</th>\n",
       "      <th>bruises</th>\n",
       "      <th>odor</th>\n",
       "      <th>gill-attachment</th>\n",
       "      <th>gill-spacing</th>\n",
       "      <th>gill-size</th>\n",
       "      <th>gill-color</th>\n",
       "      <th>...</th>\n",
       "      <th>stalk-surface-below-ring</th>\n",
       "      <th>stalk-color-above-ring</th>\n",
       "      <th>stalk-color-below-ring</th>\n",
       "      <th>veil-type</th>\n",
       "      <th>veil-color</th>\n",
       "      <th>ring-number</th>\n",
       "      <th>ring-type</th>\n",
       "      <th>spore-print-color</th>\n",
       "      <th>population</th>\n",
       "      <th>habitat</th>\n",
       "    </tr>\n",
       "  </thead>\n",
       "  <tbody>\n",
       "    <tr>\n",
       "      <th>count</th>\n",
       "      <td>8124</td>\n",
       "      <td>8124</td>\n",
       "      <td>8124</td>\n",
       "      <td>8124</td>\n",
       "      <td>8124</td>\n",
       "      <td>8124</td>\n",
       "      <td>8124</td>\n",
       "      <td>8124</td>\n",
       "      <td>8124</td>\n",
       "      <td>8124</td>\n",
       "      <td>...</td>\n",
       "      <td>8124</td>\n",
       "      <td>8124</td>\n",
       "      <td>8124</td>\n",
       "      <td>8124</td>\n",
       "      <td>8124</td>\n",
       "      <td>8124</td>\n",
       "      <td>8124</td>\n",
       "      <td>8124</td>\n",
       "      <td>8124</td>\n",
       "      <td>8124</td>\n",
       "    </tr>\n",
       "    <tr>\n",
       "      <th>unique</th>\n",
       "      <td>2</td>\n",
       "      <td>6</td>\n",
       "      <td>4</td>\n",
       "      <td>10</td>\n",
       "      <td>2</td>\n",
       "      <td>9</td>\n",
       "      <td>2</td>\n",
       "      <td>2</td>\n",
       "      <td>2</td>\n",
       "      <td>12</td>\n",
       "      <td>...</td>\n",
       "      <td>4</td>\n",
       "      <td>9</td>\n",
       "      <td>9</td>\n",
       "      <td>1</td>\n",
       "      <td>4</td>\n",
       "      <td>3</td>\n",
       "      <td>5</td>\n",
       "      <td>9</td>\n",
       "      <td>6</td>\n",
       "      <td>7</td>\n",
       "    </tr>\n",
       "    <tr>\n",
       "      <th>top</th>\n",
       "      <td>e</td>\n",
       "      <td>x</td>\n",
       "      <td>y</td>\n",
       "      <td>n</td>\n",
       "      <td>f</td>\n",
       "      <td>n</td>\n",
       "      <td>f</td>\n",
       "      <td>c</td>\n",
       "      <td>b</td>\n",
       "      <td>b</td>\n",
       "      <td>...</td>\n",
       "      <td>s</td>\n",
       "      <td>w</td>\n",
       "      <td>w</td>\n",
       "      <td>p</td>\n",
       "      <td>w</td>\n",
       "      <td>o</td>\n",
       "      <td>p</td>\n",
       "      <td>w</td>\n",
       "      <td>v</td>\n",
       "      <td>d</td>\n",
       "    </tr>\n",
       "    <tr>\n",
       "      <th>freq</th>\n",
       "      <td>4208</td>\n",
       "      <td>3656</td>\n",
       "      <td>3244</td>\n",
       "      <td>2284</td>\n",
       "      <td>4748</td>\n",
       "      <td>3528</td>\n",
       "      <td>7914</td>\n",
       "      <td>6812</td>\n",
       "      <td>5612</td>\n",
       "      <td>1728</td>\n",
       "      <td>...</td>\n",
       "      <td>4936</td>\n",
       "      <td>4464</td>\n",
       "      <td>4384</td>\n",
       "      <td>8124</td>\n",
       "      <td>7924</td>\n",
       "      <td>7488</td>\n",
       "      <td>3968</td>\n",
       "      <td>2388</td>\n",
       "      <td>4040</td>\n",
       "      <td>3148</td>\n",
       "    </tr>\n",
       "  </tbody>\n",
       "</table>\n",
       "<p>4 rows × 23 columns</p>\n",
       "</div>"
      ],
      "text/plain": [
       "       class cap-shape cap-surface cap-color bruises  odor gill-attachment  \\\n",
       "count   8124      8124        8124      8124    8124  8124            8124   \n",
       "unique     2         6           4        10       2     9               2   \n",
       "top        e         x           y         n       f     n               f   \n",
       "freq    4208      3656        3244      2284    4748  3528            7914   \n",
       "\n",
       "       gill-spacing gill-size gill-color  ... stalk-surface-below-ring  \\\n",
       "count          8124      8124       8124  ...                     8124   \n",
       "unique            2         2         12  ...                        4   \n",
       "top               c         b          b  ...                        s   \n",
       "freq           6812      5612       1728  ...                     4936   \n",
       "\n",
       "       stalk-color-above-ring stalk-color-below-ring veil-type veil-color  \\\n",
       "count                    8124                   8124      8124       8124   \n",
       "unique                      9                      9         1          4   \n",
       "top                         w                      w         p          w   \n",
       "freq                     4464                   4384      8124       7924   \n",
       "\n",
       "       ring-number ring-type spore-print-color population habitat  \n",
       "count         8124      8124              8124       8124    8124  \n",
       "unique           3         5                 9          6       7  \n",
       "top              o         p                 w          v       d  \n",
       "freq          7488      3968              2388       4040    3148  \n",
       "\n",
       "[4 rows x 23 columns]"
      ]
     },
     "execution_count": 50,
     "metadata": {},
     "output_type": "execute_result"
    }
   ],
   "source": [
    "df.describe() #Describing Numerical values"
   ]
  },
  {
   "cell_type": "markdown",
   "id": "d6e755ac",
   "metadata": {},
   "source": [
    "## Checking Null Values"
   ]
  },
  {
   "cell_type": "code",
   "execution_count": 51,
   "id": "46923dfb",
   "metadata": {},
   "outputs": [
    {
     "data": {
      "text/plain": [
       "class                       0\n",
       "cap-shape                   0\n",
       "cap-surface                 0\n",
       "cap-color                   0\n",
       "bruises                     0\n",
       "odor                        0\n",
       "gill-attachment             0\n",
       "gill-spacing                0\n",
       "gill-size                   0\n",
       "gill-color                  0\n",
       "stalk-shape                 0\n",
       "stalk-root                  0\n",
       "stalk-surface-above-ring    0\n",
       "stalk-surface-below-ring    0\n",
       "stalk-color-above-ring      0\n",
       "stalk-color-below-ring      0\n",
       "veil-type                   0\n",
       "veil-color                  0\n",
       "ring-number                 0\n",
       "ring-type                   0\n",
       "spore-print-color           0\n",
       "population                  0\n",
       "habitat                     0\n",
       "dtype: int64"
      ]
     },
     "execution_count": 51,
     "metadata": {},
     "output_type": "execute_result"
    }
   ],
   "source": [
    "df.isnull().sum()"
   ]
  },
  {
   "cell_type": "markdown",
   "id": "98593f56",
   "metadata": {},
   "source": [
    "## Unique elements in each attribute"
   ]
  },
  {
   "cell_type": "code",
   "execution_count": 52,
   "id": "c06c8845",
   "metadata": {},
   "outputs": [
    {
     "data": {
      "text/plain": [
       "class                        2\n",
       "cap-shape                    6\n",
       "cap-surface                  4\n",
       "cap-color                   10\n",
       "bruises                      2\n",
       "odor                         9\n",
       "gill-attachment              2\n",
       "gill-spacing                 2\n",
       "gill-size                    2\n",
       "gill-color                  12\n",
       "stalk-shape                  2\n",
       "stalk-root                   5\n",
       "stalk-surface-above-ring     4\n",
       "stalk-surface-below-ring     4\n",
       "stalk-color-above-ring       9\n",
       "stalk-color-below-ring       9\n",
       "veil-type                    1\n",
       "veil-color                   4\n",
       "ring-number                  3\n",
       "ring-type                    5\n",
       "spore-print-color            9\n",
       "population                   6\n",
       "habitat                      7\n",
       "dtype: int64"
      ]
     },
     "execution_count": 52,
     "metadata": {},
     "output_type": "execute_result"
    }
   ],
   "source": [
    "df.nunique()"
   ]
  },
  {
   "cell_type": "markdown",
   "id": "10f98cfc",
   "metadata": {},
   "source": [
    "## Exploratory Data Analysis"
   ]
  },
  {
   "cell_type": "markdown",
   "id": "1dbf4de5",
   "metadata": {},
   "source": [
    "### Class"
   ]
  },
  {
   "cell_type": "code",
   "execution_count": 53,
   "id": "0295a789",
   "metadata": {},
   "outputs": [
    {
     "data": {
      "text/plain": [
       "e    4208\n",
       "p    3916\n",
       "Name: class, dtype: int64"
      ]
     },
     "execution_count": 53,
     "metadata": {},
     "output_type": "execute_result"
    }
   ],
   "source": [
    "df['class'].value_counts()"
   ]
  },
  {
   "cell_type": "code",
   "execution_count": 104,
   "id": "0a1e55b7",
   "metadata": {},
   "outputs": [
    {
     "name": "stderr",
     "output_type": "stream",
     "text": [
      "E:\\Anaconda\\lib\\site-packages\\seaborn\\_decorators.py:36: FutureWarning: Pass the following variable as a keyword arg: x. From version 0.12, the only valid positional argument will be `data`, and passing other arguments without an explicit keyword will result in an error or misinterpretation.\n",
      "  warnings.warn(\n"
     ]
    },
    {
     "data": {
      "text/plain": [
       "Text(0.5, 1.0, 'Number of poisonous/edible mushrooms')"
      ]
     },
     "execution_count": 104,
     "metadata": {},
     "output_type": "execute_result"
    },
    {
     "data": {
      "image/png": "[encoded data removed]",
      "text/plain": [
       "<Figure size 432x288 with 1 Axes>"
      ]
     },
     "metadata": {
      "needs_background": "light"
     },
     "output_type": "display_data"
    }
   ],
   "source": [
    "sns.countplot(df['class'])\n",
    "plt.title('Number of poisonous/edible mushrooms')"
   ]
  },
  {
   "cell_type": "markdown",
   "id": "473a7eba",
   "metadata": {},
   "source": [
    "## Pipelines"
   ]
  },
  {
   "cell_type": "markdown",
   "id": "0fd18ec4",
   "metadata": {},
   "source": [
    "Using Pipelines for\n",
    "1. Numerical Data: \\\n",
    "    a.Handling Missing Values\\\n",
    "    b.Scaling\n",
    "2. Categorical Data:<br /> \n",
    "    a.Handling Missing Values<br /> \n",
    "    b.Encoding\n",
    "3. Training the model\n",
    "\n",
    "Stages of Pipeline:<br /> \n",
    "    &nbsp;&nbsp;&nbsp;&nbsp;&nbsp;&nbsp; Stage 1 - Preprocessing <br /> \n",
    "    &nbsp;&nbsp;&nbsp;&nbsp;&nbsp;&nbsp; Stage 2 - Model Training"
   ]
  },
  {
   "cell_type": "markdown",
   "id": "99066e9c",
   "metadata": {},
   "source": [
    "### Splitting data into independent & dependent variables"
   ]
  },
  {
   "cell_type": "code",
   "execution_count": 55,
   "id": "4e589206",
   "metadata": {},
   "outputs": [
    {
     "data": {
      "text/html": [
       "<div>\n",
       "<style scoped>\n",
       "    .dataframe tbody tr th:only-of-type {\n",
       "        vertical-align: middle;\n",
       "    }\n",
       "\n",
       "    .dataframe tbody tr th {\n",
       "        vertical-align: top;\n",
       "    }\n",
       "\n",
       "    .dataframe thead th {\n",
       "        text-align: right;\n",
       "    }\n",
       "</style>\n",
       "<table border=\"1\" class=\"dataframe\">\n",
       "  <thead>\n",
       "    <tr style=\"text-align: right;\">\n",
       "      <th></th>\n",
       "      <th>cap-shape</th>\n",
       "      <th>cap-surface</th>\n",
       "      <th>cap-color</th>\n",
       "      <th>bruises</th>\n",
       "      <th>odor</th>\n",
       "      <th>gill-attachment</th>\n",
       "      <th>gill-spacing</th>\n",
       "      <th>gill-size</th>\n",
       "      <th>gill-color</th>\n",
       "      <th>stalk-shape</th>\n",
       "      <th>...</th>\n",
       "      <th>stalk-surface-above-ring</th>\n",
       "      <th>stalk-surface-below-ring</th>\n",
       "      <th>stalk-color-above-ring</th>\n",
       "      <th>stalk-color-below-ring</th>\n",
       "      <th>veil-color</th>\n",
       "      <th>ring-number</th>\n",
       "      <th>ring-type</th>\n",
       "      <th>spore-print-color</th>\n",
       "      <th>population</th>\n",
       "      <th>habitat</th>\n",
       "    </tr>\n",
       "  </thead>\n",
       "  <tbody>\n",
       "    <tr>\n",
       "      <th>0</th>\n",
       "      <td>x</td>\n",
       "      <td>s</td>\n",
       "      <td>n</td>\n",
       "      <td>t</td>\n",
       "      <td>p</td>\n",
       "      <td>f</td>\n",
       "      <td>c</td>\n",
       "      <td>n</td>\n",
       "      <td>k</td>\n",
       "      <td>e</td>\n",
       "      <td>...</td>\n",
       "      <td>s</td>\n",
       "      <td>s</td>\n",
       "      <td>w</td>\n",
       "      <td>w</td>\n",
       "      <td>w</td>\n",
       "      <td>o</td>\n",
       "      <td>p</td>\n",
       "      <td>k</td>\n",
       "      <td>s</td>\n",
       "      <td>u</td>\n",
       "    </tr>\n",
       "    <tr>\n",
       "      <th>1</th>\n",
       "      <td>x</td>\n",
       "      <td>s</td>\n",
       "      <td>y</td>\n",
       "      <td>t</td>\n",
       "      <td>a</td>\n",
       "      <td>f</td>\n",
       "      <td>c</td>\n",
       "      <td>b</td>\n",
       "      <td>k</td>\n",
       "      <td>e</td>\n",
       "      <td>...</td>\n",
       "      <td>s</td>\n",
       "      <td>s</td>\n",
       "      <td>w</td>\n",
       "      <td>w</td>\n",
       "      <td>w</td>\n",
       "      <td>o</td>\n",
       "      <td>p</td>\n",
       "      <td>n</td>\n",
       "      <td>n</td>\n",
       "      <td>g</td>\n",
       "    </tr>\n",
       "    <tr>\n",
       "      <th>2</th>\n",
       "      <td>b</td>\n",
       "      <td>s</td>\n",
       "      <td>w</td>\n",
       "      <td>t</td>\n",
       "      <td>l</td>\n",
       "      <td>f</td>\n",
       "      <td>c</td>\n",
       "      <td>b</td>\n",
       "      <td>n</td>\n",
       "      <td>e</td>\n",
       "      <td>...</td>\n",
       "      <td>s</td>\n",
       "      <td>s</td>\n",
       "      <td>w</td>\n",
       "      <td>w</td>\n",
       "      <td>w</td>\n",
       "      <td>o</td>\n",
       "      <td>p</td>\n",
       "      <td>n</td>\n",
       "      <td>n</td>\n",
       "      <td>m</td>\n",
       "    </tr>\n",
       "    <tr>\n",
       "      <th>3</th>\n",
       "      <td>x</td>\n",
       "      <td>y</td>\n",
       "      <td>w</td>\n",
       "      <td>t</td>\n",
       "      <td>p</td>\n",
       "      <td>f</td>\n",
       "      <td>c</td>\n",
       "      <td>n</td>\n",
       "      <td>n</td>\n",
       "      <td>e</td>\n",
       "      <td>...</td>\n",
       "      <td>s</td>\n",
       "      <td>s</td>\n",
       "      <td>w</td>\n",
       "      <td>w</td>\n",
       "      <td>w</td>\n",
       "      <td>o</td>\n",
       "      <td>p</td>\n",
       "      <td>k</td>\n",
       "      <td>s</td>\n",
       "      <td>u</td>\n",
       "    </tr>\n",
       "    <tr>\n",
       "      <th>4</th>\n",
       "      <td>x</td>\n",
       "      <td>s</td>\n",
       "      <td>g</td>\n",
       "      <td>f</td>\n",
       "      <td>n</td>\n",
       "      <td>f</td>\n",
       "      <td>w</td>\n",
       "      <td>b</td>\n",
       "      <td>k</td>\n",
       "      <td>t</td>\n",
       "      <td>...</td>\n",
       "      <td>s</td>\n",
       "      <td>s</td>\n",
       "      <td>w</td>\n",
       "      <td>w</td>\n",
       "      <td>w</td>\n",
       "      <td>o</td>\n",
       "      <td>e</td>\n",
       "      <td>n</td>\n",
       "      <td>a</td>\n",
       "      <td>g</td>\n",
       "    </tr>\n",
       "  </tbody>\n",
       "</table>\n",
       "<p>5 rows × 21 columns</p>\n",
       "</div>"
      ],
      "text/plain": [
       "  cap-shape cap-surface cap-color bruises odor gill-attachment gill-spacing  \\\n",
       "0         x           s         n       t    p               f            c   \n",
       "1         x           s         y       t    a               f            c   \n",
       "2         b           s         w       t    l               f            c   \n",
       "3         x           y         w       t    p               f            c   \n",
       "4         x           s         g       f    n               f            w   \n",
       "\n",
       "  gill-size gill-color stalk-shape  ... stalk-surface-above-ring  \\\n",
       "0         n          k           e  ...                        s   \n",
       "1         b          k           e  ...                        s   \n",
       "2         b          n           e  ...                        s   \n",
       "3         n          n           e  ...                        s   \n",
       "4         b          k           t  ...                        s   \n",
       "\n",
       "  stalk-surface-below-ring stalk-color-above-ring stalk-color-below-ring  \\\n",
       "0                        s                      w                      w   \n",
       "1                        s                      w                      w   \n",
       "2                        s                      w                      w   \n",
       "3                        s                      w                      w   \n",
       "4                        s                      w                      w   \n",
       "\n",
       "  veil-color ring-number ring-type spore-print-color population habitat  \n",
       "0          w           o         p                 k          s       u  \n",
       "1          w           o         p                 n          n       g  \n",
       "2          w           o         p                 n          n       m  \n",
       "3          w           o         p                 k          s       u  \n",
       "4          w           o         e                 n          a       g  \n",
       "\n",
       "[5 rows x 21 columns]"
      ]
     },
     "execution_count": 55,
     "metadata": {},
     "output_type": "execute_result"
    }
   ],
   "source": [
    "df=df.drop(\"veil-type\", axis=1)\n",
    "X=df.drop('class',axis=1)\n",
    "X.head()"
   ]
  },
  {
   "cell_type": "code",
   "execution_count": 56,
   "id": "d11a5fac",
   "metadata": {},
   "outputs": [
    {
     "data": {
      "text/plain": [
       "(8124, 21)"
      ]
     },
     "execution_count": 56,
     "metadata": {},
     "output_type": "execute_result"
    }
   ],
   "source": [
    "X.shape"
   ]
  },
  {
   "cell_type": "code",
   "execution_count": 57,
   "id": "980ebd64",
   "metadata": {},
   "outputs": [
    {
     "data": {
      "text/plain": [
       "0    p\n",
       "1    e\n",
       "2    e\n",
       "3    p\n",
       "4    e\n",
       "Name: class, dtype: object"
      ]
     },
     "execution_count": 57,
     "metadata": {},
     "output_type": "execute_result"
    }
   ],
   "source": [
    "y=df['class']\n",
    "y.head()"
   ]
  },
  {
   "cell_type": "code",
   "execution_count": 58,
   "id": "eb73b149",
   "metadata": {},
   "outputs": [
    {
     "data": {
      "text/plain": [
       "(8124,)"
      ]
     },
     "execution_count": 58,
     "metadata": {},
     "output_type": "execute_result"
    }
   ],
   "source": [
    "y.shape"
   ]
  },
  {
   "cell_type": "markdown",
   "id": "63455183",
   "metadata": {},
   "source": [
    "### Splitting Data as Train and Test Set"
   ]
  },
  {
   "cell_type": "code",
   "execution_count": 59,
   "id": "636cf149",
   "metadata": {},
   "outputs": [],
   "source": [
    "from sklearn.model_selection import train_test_split\n",
    "X_train, X_test, y_train, y_test = train_test_split(X, y, test_size=0.3, random_state=42)"
   ]
  },
  {
   "cell_type": "markdown",
   "id": "e6695047",
   "metadata": {},
   "source": [
    "### Preprocessing and Model Training using Pipelines"
   ]
  },
  {
   "cell_type": "code",
   "execution_count": 60,
   "id": "2d99dcfb",
   "metadata": {},
   "outputs": [],
   "source": [
    "numeric_columns= X.select_dtypes(include=['int','float']).columns"
   ]
  },
  {
   "cell_type": "code",
   "execution_count": 61,
   "id": "26e19e37",
   "metadata": {},
   "outputs": [],
   "source": [
    "#Numerical\n",
    "numeric_processor=Pipeline(\n",
    "    steps=[(\"imputation_mode\", SimpleImputer(missing_values=np.NaN,strategy=\"most_frequent\")), \n",
    "            (\"standard_scaler\", StandardScaler())]\n",
    ")"
   ]
  },
  {
   "cell_type": "code",
   "execution_count": 62,
   "id": "f40daef7",
   "metadata": {},
   "outputs": [],
   "source": [
    "category_columns=X.select_dtypes(include=['category', 'object']).columns"
   ]
  },
  {
   "cell_type": "code",
   "execution_count": 63,
   "id": "95e12dfd",
   "metadata": {},
   "outputs": [],
   "source": [
    "#Categorical\n",
    "from sklearn.preprocessing import OneHotEncoder\n",
    "categorical_processor=Pipeline(\n",
    "    steps=[(\"imputation_constant\", SimpleImputer(fill_value=\"missing\", strategy=\"constant\")), \n",
    "            (\"onehot\", OneHotEncoder(handle_unknown=\"ignore\"))]\n",
    ") "
   ]
  },
  {
   "cell_type": "code",
   "execution_count": 64,
   "id": "81244357",
   "metadata": {},
   "outputs": [],
   "source": [
    "from sklearn.compose import ColumnTransformer\n",
    "preprocessor=ColumnTransformer(\n",
    "    transformers=[(\"categorical\", categorical_processor, category_columns),\n",
    "    (\"numerical\", numeric_processor, numeric_columns)]\n",
    ")"
   ]
  },
  {
   "cell_type": "code",
   "execution_count": 65,
   "id": "61839d74",
   "metadata": {},
   "outputs": [],
   "source": [
    "set_config(display=\"diagram\")"
   ]
  },
  {
   "cell_type": "code",
   "execution_count": 81,
   "id": "8597c656",
   "metadata": {},
   "outputs": [
    {
     "data": {
      "text/html": [
       "<style>#sk-6f7bab10-4230-446c-97e6-c2e6c9554004 {color: black;background-color: white;}#sk-6f7bab10-4230-446c-97e6-c2e6c9554004 pre{padding: 0;}#sk-6f7bab10-4230-446c-97e6-c2e6c9554004 div.sk-toggleable {background-color: white;}#sk-6f7bab10-4230-446c-97e6-c2e6c9554004 label.sk-toggleable__label {cursor: pointer;display: block;width: 100%;margin-bottom: 0;padding: 0.3em;box-sizing: border-box;text-align: center;}#sk-6f7bab10-4230-446c-97e6-c2e6c9554004 label.sk-toggleable__label-arrow:before {content: \"▸\";float: left;margin-right: 0.25em;color: #696969;}#sk-6f7bab10-4230-446c-97e6-c2e6c9554004 label.sk-toggleable__label-arrow:hover:before {color: black;}#sk-6f7bab10-4230-446c-97e6-c2e6c9554004 div.sk-estimator:hover label.sk-toggleable__label-arrow:before {color: black;}#sk-6f7bab10-4230-446c-97e6-c2e6c9554004 div.sk-toggleable__content {max-height: 0;max-width: 0;overflow: hidden;text-align: left;background-color: #f0f8ff;}#sk-6f7bab10-4230-446c-97e6-c2e6c9554004 div.sk-toggleable__content pre {margin: 0.2em;color: black;border-radius: 0.25em;background-color: #f0f8ff;}#sk-6f7bab10-4230-446c-97e6-c2e6c9554004 input.sk-toggleable__control:checked~div.sk-toggleable__content {max-height: 200px;max-width: 100%;overflow: auto;}#sk-6f7bab10-4230-446c-97e6-c2e6c9554004 input.sk-toggleable__control:checked~label.sk-toggleable__label-arrow:before {content: \"▾\";}#sk-6f7bab10-4230-446c-97e6-c2e6c9554004 div.sk-estimator input.sk-toggleable__control:checked~label.sk-toggleable__label {background-color: #d4ebff;}#sk-6f7bab10-4230-446c-97e6-c2e6c9554004 div.sk-label input.sk-toggleable__control:checked~label.sk-toggleable__label {background-color: #d4ebff;}#sk-6f7bab10-4230-446c-97e6-c2e6c9554004 input.sk-hidden--visually {border: 0;clip: rect(1px 1px 1px 1px);clip: rect(1px, 1px, 1px, 1px);height: 1px;margin: -1px;overflow: hidden;padding: 0;position: absolute;width: 1px;}#sk-6f7bab10-4230-446c-97e6-c2e6c9554004 div.sk-estimator {font-family: monospace;background-color: #f0f8ff;border: 1px dotted black;border-radius: 0.25em;box-sizing: border-box;margin-bottom: 0.5em;}#sk-6f7bab10-4230-446c-97e6-c2e6c9554004 div.sk-estimator:hover {background-color: #d4ebff;}#sk-6f7bab10-4230-446c-97e6-c2e6c9554004 div.sk-parallel-item::after {content: \"\";width: 100%;border-bottom: 1px solid gray;flex-grow: 1;}#sk-6f7bab10-4230-446c-97e6-c2e6c9554004 div.sk-label:hover label.sk-toggleable__label {background-color: #d4ebff;}#sk-6f7bab10-4230-446c-97e6-c2e6c9554004 div.sk-serial::before {content: \"\";position: absolute;border-left: 1px solid gray;box-sizing: border-box;top: 2em;bottom: 0;left: 50%;}#sk-6f7bab10-4230-446c-97e6-c2e6c9554004 div.sk-serial {display: flex;flex-direction: column;align-items: center;background-color: white;padding-right: 0.2em;padding-left: 0.2em;}#sk-6f7bab10-4230-446c-97e6-c2e6c9554004 div.sk-item {z-index: 1;}#sk-6f7bab10-4230-446c-97e6-c2e6c9554004 div.sk-parallel {display: flex;align-items: stretch;justify-content: center;background-color: white;}#sk-6f7bab10-4230-446c-97e6-c2e6c9554004 div.sk-parallel::before {content: \"\";position: absolute;border-left: 1px solid gray;box-sizing: border-box;top: 2em;bottom: 0;left: 50%;}#sk-6f7bab10-4230-446c-97e6-c2e6c9554004 div.sk-parallel-item {display: flex;flex-direction: column;position: relative;background-color: white;}#sk-6f7bab10-4230-446c-97e6-c2e6c9554004 div.sk-parallel-item:first-child::after {align-self: flex-end;width: 50%;}#sk-6f7bab10-4230-446c-97e6-c2e6c9554004 div.sk-parallel-item:last-child::after {align-self: flex-start;width: 50%;}#sk-6f7bab10-4230-446c-97e6-c2e6c9554004 div.sk-parallel-item:only-child::after {width: 0;}#sk-6f7bab10-4230-446c-97e6-c2e6c9554004 div.sk-dashed-wrapped {border: 1px dashed gray;margin: 0 0.4em 0.5em 0.4em;box-sizing: border-box;padding-bottom: 0.4em;background-color: white;position: relative;}#sk-6f7bab10-4230-446c-97e6-c2e6c9554004 div.sk-label label {font-family: monospace;font-weight: bold;background-color: white;display: inline-block;line-height: 1.2em;}#sk-6f7bab10-4230-446c-97e6-c2e6c9554004 div.sk-label-container {position: relative;z-index: 2;text-align: center;}#sk-6f7bab10-4230-446c-97e6-c2e6c9554004 div.sk-container {/* jupyter's `normalize.less` sets `[hidden] { display: none; }` but bootstrap.min.css set `[hidden] { display: none !important; }` so we also need the `!important` here to be able to override the default hidden behavior on the sphinx rendered scikit-learn.org. See: https://github.com/scikit-learn/scikit-learn/issues/21755 */display: inline-block !important;position: relative;}#sk-6f7bab10-4230-446c-97e6-c2e6c9554004 div.sk-text-repr-fallback {display: none;}</style><div id=\"sk-6f7bab10-4230-446c-97e6-c2e6c9554004\" class=\"sk-top-container\"><div class=\"sk-text-repr-fallback\"><pre>ColumnTransformer(transformers=[(&#x27;categorical&#x27;,\n",
       "                                 Pipeline(steps=[(&#x27;imputation_constant&#x27;,\n",
       "                                                  SimpleImputer(fill_value=&#x27;missing&#x27;,\n",
       "                                                                strategy=&#x27;constant&#x27;)),\n",
       "                                                 (&#x27;onehot&#x27;,\n",
       "                                                  OneHotEncoder(handle_unknown=&#x27;ignore&#x27;))]),\n",
       "                                 Index([&#x27;cap-shape&#x27;, &#x27;cap-surface&#x27;, &#x27;cap-color&#x27;, &#x27;bruises&#x27;, &#x27;odor&#x27;,\n",
       "       &#x27;gill-attachment&#x27;, &#x27;gill-spacing&#x27;, &#x27;gill-size&#x27;, &#x27;gill-color&#x27;,\n",
       "       &#x27;stalk-shape&#x27;, &#x27;stalk-root&#x27;, &#x27;stalk-surface-above-ring&#x27;,\n",
       "       &#x27;stalk-surface-below-ring&#x27;, &#x27;stalk-color-above-ring&#x27;,\n",
       "       &#x27;stalk-color-below-ring&#x27;, &#x27;veil-color&#x27;, &#x27;ring-number&#x27;, &#x27;ring-type&#x27;,\n",
       "       &#x27;spore-print-color&#x27;, &#x27;population&#x27;, &#x27;habitat&#x27;],\n",
       "      dtype=&#x27;object&#x27;)),\n",
       "                                (&#x27;numerical&#x27;,\n",
       "                                 Pipeline(steps=[(&#x27;imputation_mode&#x27;,\n",
       "                                                  SimpleImputer(strategy=&#x27;most_frequent&#x27;)),\n",
       "                                                 (&#x27;standard_scaler&#x27;,\n",
       "                                                  StandardScaler())]),\n",
       "                                 Index([], dtype=&#x27;object&#x27;))])</pre><b>Please rerun this cell to show the HTML repr or trust the notebook.</b></div><div class=\"sk-container\" hidden><div class=\"sk-item sk-dashed-wrapped\"><div class=\"sk-label-container\"><div class=\"sk-label sk-toggleable\"><input class=\"sk-toggleable__control sk-hidden--visually\" id=\"f9edd411-db2e-40bb-8200-bd3f03950f41\" type=\"checkbox\" ><label for=\"f9edd411-db2e-40bb-8200-bd3f03950f41\" class=\"sk-toggleable__label sk-toggleable__label-arrow\">ColumnTransformer</label><div class=\"sk-toggleable__content\"><pre>ColumnTransformer(transformers=[(&#x27;categorical&#x27;,\n",
       "                                 Pipeline(steps=[(&#x27;imputation_constant&#x27;,\n",
       "                                                  SimpleImputer(fill_value=&#x27;missing&#x27;,\n",
       "                                                                strategy=&#x27;constant&#x27;)),\n",
       "                                                 (&#x27;onehot&#x27;,\n",
       "                                                  OneHotEncoder(handle_unknown=&#x27;ignore&#x27;))]),\n",
       "                                 Index([&#x27;cap-shape&#x27;, &#x27;cap-surface&#x27;, &#x27;cap-color&#x27;, &#x27;bruises&#x27;, &#x27;odor&#x27;,\n",
       "       &#x27;gill-attachment&#x27;, &#x27;gill-spacing&#x27;, &#x27;gill-size&#x27;, &#x27;gill-color&#x27;,\n",
       "       &#x27;stalk-shape&#x27;, &#x27;stalk-root&#x27;, &#x27;stalk-surface-above-ring&#x27;,\n",
       "       &#x27;stalk-surface-below-ring&#x27;, &#x27;stalk-color-above-ring&#x27;,\n",
       "       &#x27;stalk-color-below-ring&#x27;, &#x27;veil-color&#x27;, &#x27;ring-number&#x27;, &#x27;ring-type&#x27;,\n",
       "       &#x27;spore-print-color&#x27;, &#x27;population&#x27;, &#x27;habitat&#x27;],\n",
       "      dtype=&#x27;object&#x27;)),\n",
       "                                (&#x27;numerical&#x27;,\n",
       "                                 Pipeline(steps=[(&#x27;imputation_mode&#x27;,\n",
       "                                                  SimpleImputer(strategy=&#x27;most_frequent&#x27;)),\n",
       "                                                 (&#x27;standard_scaler&#x27;,\n",
       "                                                  StandardScaler())]),\n",
       "                                 Index([], dtype=&#x27;object&#x27;))])</pre></div></div></div><div class=\"sk-parallel\"><div class=\"sk-parallel-item\"><div class=\"sk-item\"><div class=\"sk-label-container\"><div class=\"sk-label sk-toggleable\"><input class=\"sk-toggleable__control sk-hidden--visually\" id=\"79aa0c83-acb3-47d7-a0a1-59170e3a0134\" type=\"checkbox\" ><label for=\"79aa0c83-acb3-47d7-a0a1-59170e3a0134\" class=\"sk-toggleable__label sk-toggleable__label-arrow\">categorical</label><div class=\"sk-toggleable__content\"><pre>Index([&#x27;cap-shape&#x27;, &#x27;cap-surface&#x27;, &#x27;cap-color&#x27;, &#x27;bruises&#x27;, &#x27;odor&#x27;,\n",
       "       &#x27;gill-attachment&#x27;, &#x27;gill-spacing&#x27;, &#x27;gill-size&#x27;, &#x27;gill-color&#x27;,\n",
       "       &#x27;stalk-shape&#x27;, &#x27;stalk-root&#x27;, &#x27;stalk-surface-above-ring&#x27;,\n",
       "       &#x27;stalk-surface-below-ring&#x27;, &#x27;stalk-color-above-ring&#x27;,\n",
       "       &#x27;stalk-color-below-ring&#x27;, &#x27;veil-color&#x27;, &#x27;ring-number&#x27;, &#x27;ring-type&#x27;,\n",
       "       &#x27;spore-print-color&#x27;, &#x27;population&#x27;, &#x27;habitat&#x27;],\n",
       "      dtype=&#x27;object&#x27;)</pre></div></div></div><div class=\"sk-serial\"><div class=\"sk-item\"><div class=\"sk-serial\"><div class=\"sk-item\"><div class=\"sk-estimator sk-toggleable\"><input class=\"sk-toggleable__control sk-hidden--visually\" id=\"40b492e7-9b70-41db-b7a1-332f9c4bb744\" type=\"checkbox\" ><label for=\"40b492e7-9b70-41db-b7a1-332f9c4bb744\" class=\"sk-toggleable__label sk-toggleable__label-arrow\">SimpleImputer</label><div class=\"sk-toggleable__content\"><pre>SimpleImputer(fill_value=&#x27;missing&#x27;, strategy=&#x27;constant&#x27;)</pre></div></div></div><div class=\"sk-item\"><div class=\"sk-estimator sk-toggleable\"><input class=\"sk-toggleable__control sk-hidden--visually\" id=\"1e32030e-e63c-4998-a8f8-daeff1329a6c\" type=\"checkbox\" ><label for=\"1e32030e-e63c-4998-a8f8-daeff1329a6c\" class=\"sk-toggleable__label sk-toggleable__label-arrow\">OneHotEncoder</label><div class=\"sk-toggleable__content\"><pre>OneHotEncoder(handle_unknown=&#x27;ignore&#x27;)</pre></div></div></div></div></div></div></div></div><div class=\"sk-parallel-item\"><div class=\"sk-item\"><div class=\"sk-label-container\"><div class=\"sk-label sk-toggleable\"><input class=\"sk-toggleable__control sk-hidden--visually\" id=\"8bb1054d-02c0-4544-a0af-2bef24010643\" type=\"checkbox\" ><label for=\"8bb1054d-02c0-4544-a0af-2bef24010643\" class=\"sk-toggleable__label sk-toggleable__label-arrow\">numerical</label><div class=\"sk-toggleable__content\"><pre>Index([], dtype=&#x27;object&#x27;)</pre></div></div></div><div class=\"sk-serial\"><div class=\"sk-item\"><div class=\"sk-serial\"><div class=\"sk-item\"><div class=\"sk-estimator sk-toggleable\"><input class=\"sk-toggleable__control sk-hidden--visually\" id=\"508a3941-ce0e-41e6-9067-0a0e37cbd974\" type=\"checkbox\" ><label for=\"508a3941-ce0e-41e6-9067-0a0e37cbd974\" class=\"sk-toggleable__label sk-toggleable__label-arrow\">SimpleImputer</label><div class=\"sk-toggleable__content\"><pre>SimpleImputer(strategy=&#x27;most_frequent&#x27;)</pre></div></div></div><div class=\"sk-item\"><div class=\"sk-estimator sk-toggleable\"><input class=\"sk-toggleable__control sk-hidden--visually\" id=\"f41972c4-7952-4081-8d15-056506a2b661\" type=\"checkbox\" ><label for=\"f41972c4-7952-4081-8d15-056506a2b661\" class=\"sk-toggleable__label sk-toggleable__label-arrow\">StandardScaler</label><div class=\"sk-toggleable__content\"><pre>StandardScaler()</pre></div></div></div></div></div></div></div></div></div></div></div></div>"
      ],
      "text/plain": [
       "ColumnTransformer(transformers=[('categorical',\n",
       "                                 Pipeline(steps=[('imputation_constant',\n",
       "                                                  SimpleImputer(fill_value='missing',\n",
       "                                                                strategy='constant')),\n",
       "                                                 ('onehot',\n",
       "                                                  OneHotEncoder(handle_unknown='ignore'))]),\n",
       "                                 Index(['cap-shape', 'cap-surface', 'cap-color', 'bruises', 'odor',\n",
       "       'gill-attachment', 'gill-spacing', 'gill-size', 'gill-color',\n",
       "       'stalk-shape', 'stalk-root', 'stalk-surface-above-ring',\n",
       "       'stalk-surface-below-ring', 'stalk-color-above-ring',\n",
       "       'stalk-color-below-ring', 'veil-color', 'ring-number', 'ring-type',\n",
       "       'spore-print-color', 'population', 'habitat'],\n",
       "      dtype='object')),\n",
       "                                ('numerical',\n",
       "                                 Pipeline(steps=[('imputation_mode',\n",
       "                                                  SimpleImputer(strategy='most_frequent')),\n",
       "                                                 ('standard_scaler',\n",
       "                                                  StandardScaler())]),\n",
       "                                 Index([], dtype='object'))])"
      ]
     },
     "execution_count": 81,
     "metadata": {},
     "output_type": "execute_result"
    }
   ],
   "source": [
    "preprocessor"
   ]
  },
  {
   "cell_type": "markdown",
   "id": "eeca3e16",
   "metadata": {},
   "source": [
    "### Logistic Regression"
   ]
  },
  {
   "cell_type": "code",
   "execution_count": 82,
   "id": "b4b33001",
   "metadata": {},
   "outputs": [
    {
     "data": {
      "text/html": [
       "<style>#sk-1b6e3e2f-f516-4fd8-917a-226fcb4ec36b {color: black;background-color: white;}#sk-1b6e3e2f-f516-4fd8-917a-226fcb4ec36b pre{padding: 0;}#sk-1b6e3e2f-f516-4fd8-917a-226fcb4ec36b div.sk-toggleable {background-color: white;}#sk-1b6e3e2f-f516-4fd8-917a-226fcb4ec36b label.sk-toggleable__label {cursor: pointer;display: block;width: 100%;margin-bottom: 0;padding: 0.3em;box-sizing: border-box;text-align: center;}#sk-1b6e3e2f-f516-4fd8-917a-226fcb4ec36b label.sk-toggleable__label-arrow:before {content: \"▸\";float: left;margin-right: 0.25em;color: #696969;}#sk-1b6e3e2f-f516-4fd8-917a-226fcb4ec36b label.sk-toggleable__label-arrow:hover:before {color: black;}#sk-1b6e3e2f-f516-4fd8-917a-226fcb4ec36b div.sk-estimator:hover label.sk-toggleable__label-arrow:before {color: black;}#sk-1b6e3e2f-f516-4fd8-917a-226fcb4ec36b div.sk-toggleable__content {max-height: 0;max-width: 0;overflow: hidden;text-align: left;background-color: #f0f8ff;}#sk-1b6e3e2f-f516-4fd8-917a-226fcb4ec36b div.sk-toggleable__content pre {margin: 0.2em;color: black;border-radius: 0.25em;background-color: #f0f8ff;}#sk-1b6e3e2f-f516-4fd8-917a-226fcb4ec36b input.sk-toggleable__control:checked~div.sk-toggleable__content {max-height: 200px;max-width: 100%;overflow: auto;}#sk-1b6e3e2f-f516-4fd8-917a-226fcb4ec36b input.sk-toggleable__control:checked~label.sk-toggleable__label-arrow:before {content: \"▾\";}#sk-1b6e3e2f-f516-4fd8-917a-226fcb4ec36b div.sk-estimator input.sk-toggleable__control:checked~label.sk-toggleable__label {background-color: #d4ebff;}#sk-1b6e3e2f-f516-4fd8-917a-226fcb4ec36b div.sk-label input.sk-toggleable__control:checked~label.sk-toggleable__label {background-color: #d4ebff;}#sk-1b6e3e2f-f516-4fd8-917a-226fcb4ec36b input.sk-hidden--visually {border: 0;clip: rect(1px 1px 1px 1px);clip: rect(1px, 1px, 1px, 1px);height: 1px;margin: -1px;overflow: hidden;padding: 0;position: absolute;width: 1px;}#sk-1b6e3e2f-f516-4fd8-917a-226fcb4ec36b div.sk-estimator {font-family: monospace;background-color: #f0f8ff;border: 1px dotted black;border-radius: 0.25em;box-sizing: border-box;margin-bottom: 0.5em;}#sk-1b6e3e2f-f516-4fd8-917a-226fcb4ec36b div.sk-estimator:hover {background-color: #d4ebff;}#sk-1b6e3e2f-f516-4fd8-917a-226fcb4ec36b div.sk-parallel-item::after {content: \"\";width: 100%;border-bottom: 1px solid gray;flex-grow: 1;}#sk-1b6e3e2f-f516-4fd8-917a-226fcb4ec36b div.sk-label:hover label.sk-toggleable__label {background-color: #d4ebff;}#sk-1b6e3e2f-f516-4fd8-917a-226fcb4ec36b div.sk-serial::before {content: \"\";position: absolute;border-left: 1px solid gray;box-sizing: border-box;top: 2em;bottom: 0;left: 50%;}#sk-1b6e3e2f-f516-4fd8-917a-226fcb4ec36b div.sk-serial {display: flex;flex-direction: column;align-items: center;background-color: white;padding-right: 0.2em;padding-left: 0.2em;}#sk-1b6e3e2f-f516-4fd8-917a-226fcb4ec36b div.sk-item {z-index: 1;}#sk-1b6e3e2f-f516-4fd8-917a-226fcb4ec36b div.sk-parallel {display: flex;align-items: stretch;justify-content: center;background-color: white;}#sk-1b6e3e2f-f516-4fd8-917a-226fcb4ec36b div.sk-parallel::before {content: \"\";position: absolute;border-left: 1px solid gray;box-sizing: border-box;top: 2em;bottom: 0;left: 50%;}#sk-1b6e3e2f-f516-4fd8-917a-226fcb4ec36b div.sk-parallel-item {display: flex;flex-direction: column;position: relative;background-color: white;}#sk-1b6e3e2f-f516-4fd8-917a-226fcb4ec36b div.sk-parallel-item:first-child::after {align-self: flex-end;width: 50%;}#sk-1b6e3e2f-f516-4fd8-917a-226fcb4ec36b div.sk-parallel-item:last-child::after {align-self: flex-start;width: 50%;}#sk-1b6e3e2f-f516-4fd8-917a-226fcb4ec36b div.sk-parallel-item:only-child::after {width: 0;}#sk-1b6e3e2f-f516-4fd8-917a-226fcb4ec36b div.sk-dashed-wrapped {border: 1px dashed gray;margin: 0 0.4em 0.5em 0.4em;box-sizing: border-box;padding-bottom: 0.4em;background-color: white;position: relative;}#sk-1b6e3e2f-f516-4fd8-917a-226fcb4ec36b div.sk-label label {font-family: monospace;font-weight: bold;background-color: white;display: inline-block;line-height: 1.2em;}#sk-1b6e3e2f-f516-4fd8-917a-226fcb4ec36b div.sk-label-container {position: relative;z-index: 2;text-align: center;}#sk-1b6e3e2f-f516-4fd8-917a-226fcb4ec36b div.sk-container {/* jupyter's `normalize.less` sets `[hidden] { display: none; }` but bootstrap.min.css set `[hidden] { display: none !important; }` so we also need the `!important` here to be able to override the default hidden behavior on the sphinx rendered scikit-learn.org. See: https://github.com/scikit-learn/scikit-learn/issues/21755 */display: inline-block !important;position: relative;}#sk-1b6e3e2f-f516-4fd8-917a-226fcb4ec36b div.sk-text-repr-fallback {display: none;}</style><div id=\"sk-1b6e3e2f-f516-4fd8-917a-226fcb4ec36b\" class=\"sk-top-container\"><div class=\"sk-text-repr-fallback\"><pre>Pipeline(steps=[(&#x27;columntransformer&#x27;,\n",
       "                 ColumnTransformer(transformers=[(&#x27;categorical&#x27;,\n",
       "                                                  Pipeline(steps=[(&#x27;imputation_constant&#x27;,\n",
       "                                                                   SimpleImputer(fill_value=&#x27;missing&#x27;,\n",
       "                                                                                 strategy=&#x27;constant&#x27;)),\n",
       "                                                                  (&#x27;onehot&#x27;,\n",
       "                                                                   OneHotEncoder(handle_unknown=&#x27;ignore&#x27;))]),\n",
       "                                                  Index([&#x27;cap-shape&#x27;, &#x27;cap-surface&#x27;, &#x27;cap-color&#x27;, &#x27;bruises&#x27;, &#x27;odor&#x27;,\n",
       "       &#x27;gill-attachment&#x27;, &#x27;gill-spacing&#x27;, &#x27;gill-size&#x27;, &#x27;gill-color...\n",
       "       &#x27;stalk-surface-below-ring&#x27;, &#x27;stalk-color-above-ring&#x27;,\n",
       "       &#x27;stalk-color-below-ring&#x27;, &#x27;veil-color&#x27;, &#x27;ring-number&#x27;, &#x27;ring-type&#x27;,\n",
       "       &#x27;spore-print-color&#x27;, &#x27;population&#x27;, &#x27;habitat&#x27;],\n",
       "      dtype=&#x27;object&#x27;)),\n",
       "                                                 (&#x27;numerical&#x27;,\n",
       "                                                  Pipeline(steps=[(&#x27;imputation_mode&#x27;,\n",
       "                                                                   SimpleImputer(strategy=&#x27;most_frequent&#x27;)),\n",
       "                                                                  (&#x27;standard_scaler&#x27;,\n",
       "                                                                   StandardScaler())]),\n",
       "                                                  Index([], dtype=&#x27;object&#x27;))])),\n",
       "                (&#x27;logisticregression&#x27;, LogisticRegression())])</pre><b>Please rerun this cell to show the HTML repr or trust the notebook.</b></div><div class=\"sk-container\" hidden><div class=\"sk-item sk-dashed-wrapped\"><div class=\"sk-label-container\"><div class=\"sk-label sk-toggleable\"><input class=\"sk-toggleable__control sk-hidden--visually\" id=\"fd0c8835-0c04-4e1c-811e-cf557af97695\" type=\"checkbox\" ><label for=\"fd0c8835-0c04-4e1c-811e-cf557af97695\" class=\"sk-toggleable__label sk-toggleable__label-arrow\">Pipeline</label><div class=\"sk-toggleable__content\"><pre>Pipeline(steps=[(&#x27;columntransformer&#x27;,\n",
       "                 ColumnTransformer(transformers=[(&#x27;categorical&#x27;,\n",
       "                                                  Pipeline(steps=[(&#x27;imputation_constant&#x27;,\n",
       "                                                                   SimpleImputer(fill_value=&#x27;missing&#x27;,\n",
       "                                                                                 strategy=&#x27;constant&#x27;)),\n",
       "                                                                  (&#x27;onehot&#x27;,\n",
       "                                                                   OneHotEncoder(handle_unknown=&#x27;ignore&#x27;))]),\n",
       "                                                  Index([&#x27;cap-shape&#x27;, &#x27;cap-surface&#x27;, &#x27;cap-color&#x27;, &#x27;bruises&#x27;, &#x27;odor&#x27;,\n",
       "       &#x27;gill-attachment&#x27;, &#x27;gill-spacing&#x27;, &#x27;gill-size&#x27;, &#x27;gill-color...\n",
       "       &#x27;stalk-surface-below-ring&#x27;, &#x27;stalk-color-above-ring&#x27;,\n",
       "       &#x27;stalk-color-below-ring&#x27;, &#x27;veil-color&#x27;, &#x27;ring-number&#x27;, &#x27;ring-type&#x27;,\n",
       "       &#x27;spore-print-color&#x27;, &#x27;population&#x27;, &#x27;habitat&#x27;],\n",
       "      dtype=&#x27;object&#x27;)),\n",
       "                                                 (&#x27;numerical&#x27;,\n",
       "                                                  Pipeline(steps=[(&#x27;imputation_mode&#x27;,\n",
       "                                                                   SimpleImputer(strategy=&#x27;most_frequent&#x27;)),\n",
       "                                                                  (&#x27;standard_scaler&#x27;,\n",
       "                                                                   StandardScaler())]),\n",
       "                                                  Index([], dtype=&#x27;object&#x27;))])),\n",
       "                (&#x27;logisticregression&#x27;, LogisticRegression())])</pre></div></div></div><div class=\"sk-serial\"><div class=\"sk-item sk-dashed-wrapped\"><div class=\"sk-label-container\"><div class=\"sk-label sk-toggleable\"><input class=\"sk-toggleable__control sk-hidden--visually\" id=\"00ddb740-c90e-414a-aa8f-2d12b78cd765\" type=\"checkbox\" ><label for=\"00ddb740-c90e-414a-aa8f-2d12b78cd765\" class=\"sk-toggleable__label sk-toggleable__label-arrow\">columntransformer: ColumnTransformer</label><div class=\"sk-toggleable__content\"><pre>ColumnTransformer(transformers=[(&#x27;categorical&#x27;,\n",
       "                                 Pipeline(steps=[(&#x27;imputation_constant&#x27;,\n",
       "                                                  SimpleImputer(fill_value=&#x27;missing&#x27;,\n",
       "                                                                strategy=&#x27;constant&#x27;)),\n",
       "                                                 (&#x27;onehot&#x27;,\n",
       "                                                  OneHotEncoder(handle_unknown=&#x27;ignore&#x27;))]),\n",
       "                                 Index([&#x27;cap-shape&#x27;, &#x27;cap-surface&#x27;, &#x27;cap-color&#x27;, &#x27;bruises&#x27;, &#x27;odor&#x27;,\n",
       "       &#x27;gill-attachment&#x27;, &#x27;gill-spacing&#x27;, &#x27;gill-size&#x27;, &#x27;gill-color&#x27;,\n",
       "       &#x27;stalk-shape&#x27;, &#x27;stalk-root&#x27;, &#x27;stalk-surface-above-ring&#x27;,\n",
       "       &#x27;stalk-surface-below-ring&#x27;, &#x27;stalk-color-above-ring&#x27;,\n",
       "       &#x27;stalk-color-below-ring&#x27;, &#x27;veil-color&#x27;, &#x27;ring-number&#x27;, &#x27;ring-type&#x27;,\n",
       "       &#x27;spore-print-color&#x27;, &#x27;population&#x27;, &#x27;habitat&#x27;],\n",
       "      dtype=&#x27;object&#x27;)),\n",
       "                                (&#x27;numerical&#x27;,\n",
       "                                 Pipeline(steps=[(&#x27;imputation_mode&#x27;,\n",
       "                                                  SimpleImputer(strategy=&#x27;most_frequent&#x27;)),\n",
       "                                                 (&#x27;standard_scaler&#x27;,\n",
       "                                                  StandardScaler())]),\n",
       "                                 Index([], dtype=&#x27;object&#x27;))])</pre></div></div></div><div class=\"sk-parallel\"><div class=\"sk-parallel-item\"><div class=\"sk-item\"><div class=\"sk-label-container\"><div class=\"sk-label sk-toggleable\"><input class=\"sk-toggleable__control sk-hidden--visually\" id=\"552ec39a-4b19-4b0d-9797-b6a967c59308\" type=\"checkbox\" ><label for=\"552ec39a-4b19-4b0d-9797-b6a967c59308\" class=\"sk-toggleable__label sk-toggleable__label-arrow\">categorical</label><div class=\"sk-toggleable__content\"><pre>Index([&#x27;cap-shape&#x27;, &#x27;cap-surface&#x27;, &#x27;cap-color&#x27;, &#x27;bruises&#x27;, &#x27;odor&#x27;,\n",
       "       &#x27;gill-attachment&#x27;, &#x27;gill-spacing&#x27;, &#x27;gill-size&#x27;, &#x27;gill-color&#x27;,\n",
       "       &#x27;stalk-shape&#x27;, &#x27;stalk-root&#x27;, &#x27;stalk-surface-above-ring&#x27;,\n",
       "       &#x27;stalk-surface-below-ring&#x27;, &#x27;stalk-color-above-ring&#x27;,\n",
       "       &#x27;stalk-color-below-ring&#x27;, &#x27;veil-color&#x27;, &#x27;ring-number&#x27;, &#x27;ring-type&#x27;,\n",
       "       &#x27;spore-print-color&#x27;, &#x27;population&#x27;, &#x27;habitat&#x27;],\n",
       "      dtype=&#x27;object&#x27;)</pre></div></div></div><div class=\"sk-serial\"><div class=\"sk-item\"><div class=\"sk-serial\"><div class=\"sk-item\"><div class=\"sk-estimator sk-toggleable\"><input class=\"sk-toggleable__control sk-hidden--visually\" id=\"af925c18-502c-435e-8c26-56b5f4e45330\" type=\"checkbox\" ><label for=\"af925c18-502c-435e-8c26-56b5f4e45330\" class=\"sk-toggleable__label sk-toggleable__label-arrow\">SimpleImputer</label><div class=\"sk-toggleable__content\"><pre>SimpleImputer(fill_value=&#x27;missing&#x27;, strategy=&#x27;constant&#x27;)</pre></div></div></div><div class=\"sk-item\"><div class=\"sk-estimator sk-toggleable\"><input class=\"sk-toggleable__control sk-hidden--visually\" id=\"597af2de-a120-421e-af24-c95ac90f9f7d\" type=\"checkbox\" ><label for=\"597af2de-a120-421e-af24-c95ac90f9f7d\" class=\"sk-toggleable__label sk-toggleable__label-arrow\">OneHotEncoder</label><div class=\"sk-toggleable__content\"><pre>OneHotEncoder(handle_unknown=&#x27;ignore&#x27;)</pre></div></div></div></div></div></div></div></div><div class=\"sk-parallel-item\"><div class=\"sk-item\"><div class=\"sk-label-container\"><div class=\"sk-label sk-toggleable\"><input class=\"sk-toggleable__control sk-hidden--visually\" id=\"f3eb6afc-3eb3-4eea-b5e5-c42ea57e9227\" type=\"checkbox\" ><label for=\"f3eb6afc-3eb3-4eea-b5e5-c42ea57e9227\" class=\"sk-toggleable__label sk-toggleable__label-arrow\">numerical</label><div class=\"sk-toggleable__content\"><pre>Index([], dtype=&#x27;object&#x27;)</pre></div></div></div><div class=\"sk-serial\"><div class=\"sk-item\"><div class=\"sk-serial\"><div class=\"sk-item\"><div class=\"sk-estimator sk-toggleable\"><input class=\"sk-toggleable__control sk-hidden--visually\" id=\"6bcd1813-5710-4d83-8f26-5a84521ae202\" type=\"checkbox\" ><label for=\"6bcd1813-5710-4d83-8f26-5a84521ae202\" class=\"sk-toggleable__label sk-toggleable__label-arrow\">SimpleImputer</label><div class=\"sk-toggleable__content\"><pre>SimpleImputer(strategy=&#x27;most_frequent&#x27;)</pre></div></div></div><div class=\"sk-item\"><div class=\"sk-estimator sk-toggleable\"><input class=\"sk-toggleable__control sk-hidden--visually\" id=\"45562dbf-c732-4eea-bb2a-3ddcfef91492\" type=\"checkbox\" ><label for=\"45562dbf-c732-4eea-bb2a-3ddcfef91492\" class=\"sk-toggleable__label sk-toggleable__label-arrow\">StandardScaler</label><div class=\"sk-toggleable__content\"><pre>StandardScaler()</pre></div></div></div></div></div></div></div></div></div></div><div class=\"sk-item\"><div class=\"sk-estimator sk-toggleable\"><input class=\"sk-toggleable__control sk-hidden--visually\" id=\"1c391609-ce62-41bf-be54-f26754f24f32\" type=\"checkbox\" ><label for=\"1c391609-ce62-41bf-be54-f26754f24f32\" class=\"sk-toggleable__label sk-toggleable__label-arrow\">LogisticRegression</label><div class=\"sk-toggleable__content\"><pre>LogisticRegression()</pre></div></div></div></div></div></div></div>"
      ],
      "text/plain": [
       "Pipeline(steps=[('columntransformer',\n",
       "                 ColumnTransformer(transformers=[('categorical',\n",
       "                                                  Pipeline(steps=[('imputation_constant',\n",
       "                                                                   SimpleImputer(fill_value='missing',\n",
       "                                                                                 strategy='constant')),\n",
       "                                                                  ('onehot',\n",
       "                                                                   OneHotEncoder(handle_unknown='ignore'))]),\n",
       "                                                  Index(['cap-shape', 'cap-surface', 'cap-color', 'bruises', 'odor',\n",
       "       'gill-attachment', 'gill-spacing', 'gill-size', 'gill-color...\n",
       "       'stalk-surface-below-ring', 'stalk-color-above-ring',\n",
       "       'stalk-color-below-ring', 'veil-color', 'ring-number', 'ring-type',\n",
       "       'spore-print-color', 'population', 'habitat'],\n",
       "      dtype='object')),\n",
       "                                                 ('numerical',\n",
       "                                                  Pipeline(steps=[('imputation_mode',\n",
       "                                                                   SimpleImputer(strategy='most_frequent')),\n",
       "                                                                  ('standard_scaler',\n",
       "                                                                   StandardScaler())]),\n",
       "                                                  Index([], dtype='object'))])),\n",
       "                ('logisticregression', LogisticRegression())])"
      ]
     },
     "execution_count": 82,
     "metadata": {},
     "output_type": "execute_result"
    }
   ],
   "source": [
    "#Logistic Regression\n",
    "from sklearn.linear_model import LogisticRegression\n",
    "lr = make_pipeline(preprocessor, LogisticRegression())\n",
    "lr"
   ]
  },
  {
   "cell_type": "code",
   "execution_count": 83,
   "id": "0034f285",
   "metadata": {},
   "outputs": [
    {
     "data": {
      "text/html": [
       "<style>#sk-7a89c3b1-1b84-48f6-83aa-f7fdf7f0ad5b {color: black;background-color: white;}#sk-7a89c3b1-1b84-48f6-83aa-f7fdf7f0ad5b pre{padding: 0;}#sk-7a89c3b1-1b84-48f6-83aa-f7fdf7f0ad5b div.sk-toggleable {background-color: white;}#sk-7a89c3b1-1b84-48f6-83aa-f7fdf7f0ad5b label.sk-toggleable__label {cursor: pointer;display: block;width: 100%;margin-bottom: 0;padding: 0.3em;box-sizing: border-box;text-align: center;}#sk-7a89c3b1-1b84-48f6-83aa-f7fdf7f0ad5b label.sk-toggleable__label-arrow:before {content: \"▸\";float: left;margin-right: 0.25em;color: #696969;}#sk-7a89c3b1-1b84-48f6-83aa-f7fdf7f0ad5b label.sk-toggleable__label-arrow:hover:before {color: black;}#sk-7a89c3b1-1b84-48f6-83aa-f7fdf7f0ad5b div.sk-estimator:hover label.sk-toggleable__label-arrow:before {color: black;}#sk-7a89c3b1-1b84-48f6-83aa-f7fdf7f0ad5b div.sk-toggleable__content {max-height: 0;max-width: 0;overflow: hidden;text-align: left;background-color: #f0f8ff;}#sk-7a89c3b1-1b84-48f6-83aa-f7fdf7f0ad5b div.sk-toggleable__content pre {margin: 0.2em;color: black;border-radius: 0.25em;background-color: #f0f8ff;}#sk-7a89c3b1-1b84-48f6-83aa-f7fdf7f0ad5b input.sk-toggleable__control:checked~div.sk-toggleable__content {max-height: 200px;max-width: 100%;overflow: auto;}#sk-7a89c3b1-1b84-48f6-83aa-f7fdf7f0ad5b input.sk-toggleable__control:checked~label.sk-toggleable__label-arrow:before {content: \"▾\";}#sk-7a89c3b1-1b84-48f6-83aa-f7fdf7f0ad5b div.sk-estimator input.sk-toggleable__control:checked~label.sk-toggleable__label {background-color: #d4ebff;}#sk-7a89c3b1-1b84-48f6-83aa-f7fdf7f0ad5b div.sk-label input.sk-toggleable__control:checked~label.sk-toggleable__label {background-color: #d4ebff;}#sk-7a89c3b1-1b84-48f6-83aa-f7fdf7f0ad5b input.sk-hidden--visually {border: 0;clip: rect(1px 1px 1px 1px);clip: rect(1px, 1px, 1px, 1px);height: 1px;margin: -1px;overflow: hidden;padding: 0;position: absolute;width: 1px;}#sk-7a89c3b1-1b84-48f6-83aa-f7fdf7f0ad5b div.sk-estimator {font-family: monospace;background-color: #f0f8ff;border: 1px dotted black;border-radius: 0.25em;box-sizing: border-box;margin-bottom: 0.5em;}#sk-7a89c3b1-1b84-48f6-83aa-f7fdf7f0ad5b div.sk-estimator:hover {background-color: #d4ebff;}#sk-7a89c3b1-1b84-48f6-83aa-f7fdf7f0ad5b div.sk-parallel-item::after {content: \"\";width: 100%;border-bottom: 1px solid gray;flex-grow: 1;}#sk-7a89c3b1-1b84-48f6-83aa-f7fdf7f0ad5b div.sk-label:hover label.sk-toggleable__label {background-color: #d4ebff;}#sk-7a89c3b1-1b84-48f6-83aa-f7fdf7f0ad5b div.sk-serial::before {content: \"\";position: absolute;border-left: 1px solid gray;box-sizing: border-box;top: 2em;bottom: 0;left: 50%;}#sk-7a89c3b1-1b84-48f6-83aa-f7fdf7f0ad5b div.sk-serial {display: flex;flex-direction: column;align-items: center;background-color: white;padding-right: 0.2em;padding-left: 0.2em;}#sk-7a89c3b1-1b84-48f6-83aa-f7fdf7f0ad5b div.sk-item {z-index: 1;}#sk-7a89c3b1-1b84-48f6-83aa-f7fdf7f0ad5b div.sk-parallel {display: flex;align-items: stretch;justify-content: center;background-color: white;}#sk-7a89c3b1-1b84-48f6-83aa-f7fdf7f0ad5b div.sk-parallel::before {content: \"\";position: absolute;border-left: 1px solid gray;box-sizing: border-box;top: 2em;bottom: 0;left: 50%;}#sk-7a89c3b1-1b84-48f6-83aa-f7fdf7f0ad5b div.sk-parallel-item {display: flex;flex-direction: column;position: relative;background-color: white;}#sk-7a89c3b1-1b84-48f6-83aa-f7fdf7f0ad5b div.sk-parallel-item:first-child::after {align-self: flex-end;width: 50%;}#sk-7a89c3b1-1b84-48f6-83aa-f7fdf7f0ad5b div.sk-parallel-item:last-child::after {align-self: flex-start;width: 50%;}#sk-7a89c3b1-1b84-48f6-83aa-f7fdf7f0ad5b div.sk-parallel-item:only-child::after {width: 0;}#sk-7a89c3b1-1b84-48f6-83aa-f7fdf7f0ad5b div.sk-dashed-wrapped {border: 1px dashed gray;margin: 0 0.4em 0.5em 0.4em;box-sizing: border-box;padding-bottom: 0.4em;background-color: white;position: relative;}#sk-7a89c3b1-1b84-48f6-83aa-f7fdf7f0ad5b div.sk-label label {font-family: monospace;font-weight: bold;background-color: white;display: inline-block;line-height: 1.2em;}#sk-7a89c3b1-1b84-48f6-83aa-f7fdf7f0ad5b div.sk-label-container {position: relative;z-index: 2;text-align: center;}#sk-7a89c3b1-1b84-48f6-83aa-f7fdf7f0ad5b div.sk-container {/* jupyter's `normalize.less` sets `[hidden] { display: none; }` but bootstrap.min.css set `[hidden] { display: none !important; }` so we also need the `!important` here to be able to override the default hidden behavior on the sphinx rendered scikit-learn.org. See: https://github.com/scikit-learn/scikit-learn/issues/21755 */display: inline-block !important;position: relative;}#sk-7a89c3b1-1b84-48f6-83aa-f7fdf7f0ad5b div.sk-text-repr-fallback {display: none;}</style><div id=\"sk-7a89c3b1-1b84-48f6-83aa-f7fdf7f0ad5b\" class=\"sk-top-container\"><div class=\"sk-text-repr-fallback\"><pre>Pipeline(steps=[(&#x27;columntransformer&#x27;,\n",
       "                 ColumnTransformer(transformers=[(&#x27;categorical&#x27;,\n",
       "                                                  Pipeline(steps=[(&#x27;imputation_constant&#x27;,\n",
       "                                                                   SimpleImputer(fill_value=&#x27;missing&#x27;,\n",
       "                                                                                 strategy=&#x27;constant&#x27;)),\n",
       "                                                                  (&#x27;onehot&#x27;,\n",
       "                                                                   OneHotEncoder(handle_unknown=&#x27;ignore&#x27;))]),\n",
       "                                                  Index([&#x27;cap-shape&#x27;, &#x27;cap-surface&#x27;, &#x27;cap-color&#x27;, &#x27;bruises&#x27;, &#x27;odor&#x27;,\n",
       "       &#x27;gill-attachment&#x27;, &#x27;gill-spacing&#x27;, &#x27;gill-size&#x27;, &#x27;gill-color...\n",
       "       &#x27;stalk-surface-below-ring&#x27;, &#x27;stalk-color-above-ring&#x27;,\n",
       "       &#x27;stalk-color-below-ring&#x27;, &#x27;veil-color&#x27;, &#x27;ring-number&#x27;, &#x27;ring-type&#x27;,\n",
       "       &#x27;spore-print-color&#x27;, &#x27;population&#x27;, &#x27;habitat&#x27;],\n",
       "      dtype=&#x27;object&#x27;)),\n",
       "                                                 (&#x27;numerical&#x27;,\n",
       "                                                  Pipeline(steps=[(&#x27;imputation_mode&#x27;,\n",
       "                                                                   SimpleImputer(strategy=&#x27;most_frequent&#x27;)),\n",
       "                                                                  (&#x27;standard_scaler&#x27;,\n",
       "                                                                   StandardScaler())]),\n",
       "                                                  Index([], dtype=&#x27;object&#x27;))])),\n",
       "                (&#x27;logisticregression&#x27;, LogisticRegression())])</pre><b>Please rerun this cell to show the HTML repr or trust the notebook.</b></div><div class=\"sk-container\" hidden><div class=\"sk-item sk-dashed-wrapped\"><div class=\"sk-label-container\"><div class=\"sk-label sk-toggleable\"><input class=\"sk-toggleable__control sk-hidden--visually\" id=\"bd7aad54-1513-4b66-aeec-8275264976a4\" type=\"checkbox\" ><label for=\"bd7aad54-1513-4b66-aeec-8275264976a4\" class=\"sk-toggleable__label sk-toggleable__label-arrow\">Pipeline</label><div class=\"sk-toggleable__content\"><pre>Pipeline(steps=[(&#x27;columntransformer&#x27;,\n",
       "                 ColumnTransformer(transformers=[(&#x27;categorical&#x27;,\n",
       "                                                  Pipeline(steps=[(&#x27;imputation_constant&#x27;,\n",
       "                                                                   SimpleImputer(fill_value=&#x27;missing&#x27;,\n",
       "                                                                                 strategy=&#x27;constant&#x27;)),\n",
       "                                                                  (&#x27;onehot&#x27;,\n",
       "                                                                   OneHotEncoder(handle_unknown=&#x27;ignore&#x27;))]),\n",
       "                                                  Index([&#x27;cap-shape&#x27;, &#x27;cap-surface&#x27;, &#x27;cap-color&#x27;, &#x27;bruises&#x27;, &#x27;odor&#x27;,\n",
       "       &#x27;gill-attachment&#x27;, &#x27;gill-spacing&#x27;, &#x27;gill-size&#x27;, &#x27;gill-color...\n",
       "       &#x27;stalk-surface-below-ring&#x27;, &#x27;stalk-color-above-ring&#x27;,\n",
       "       &#x27;stalk-color-below-ring&#x27;, &#x27;veil-color&#x27;, &#x27;ring-number&#x27;, &#x27;ring-type&#x27;,\n",
       "       &#x27;spore-print-color&#x27;, &#x27;population&#x27;, &#x27;habitat&#x27;],\n",
       "      dtype=&#x27;object&#x27;)),\n",
       "                                                 (&#x27;numerical&#x27;,\n",
       "                                                  Pipeline(steps=[(&#x27;imputation_mode&#x27;,\n",
       "                                                                   SimpleImputer(strategy=&#x27;most_frequent&#x27;)),\n",
       "                                                                  (&#x27;standard_scaler&#x27;,\n",
       "                                                                   StandardScaler())]),\n",
       "                                                  Index([], dtype=&#x27;object&#x27;))])),\n",
       "                (&#x27;logisticregression&#x27;, LogisticRegression())])</pre></div></div></div><div class=\"sk-serial\"><div class=\"sk-item sk-dashed-wrapped\"><div class=\"sk-label-container\"><div class=\"sk-label sk-toggleable\"><input class=\"sk-toggleable__control sk-hidden--visually\" id=\"cc7f2eae-69a5-4a48-af41-073c59505a4c\" type=\"checkbox\" ><label for=\"cc7f2eae-69a5-4a48-af41-073c59505a4c\" class=\"sk-toggleable__label sk-toggleable__label-arrow\">columntransformer: ColumnTransformer</label><div class=\"sk-toggleable__content\"><pre>ColumnTransformer(transformers=[(&#x27;categorical&#x27;,\n",
       "                                 Pipeline(steps=[(&#x27;imputation_constant&#x27;,\n",
       "                                                  SimpleImputer(fill_value=&#x27;missing&#x27;,\n",
       "                                                                strategy=&#x27;constant&#x27;)),\n",
       "                                                 (&#x27;onehot&#x27;,\n",
       "                                                  OneHotEncoder(handle_unknown=&#x27;ignore&#x27;))]),\n",
       "                                 Index([&#x27;cap-shape&#x27;, &#x27;cap-surface&#x27;, &#x27;cap-color&#x27;, &#x27;bruises&#x27;, &#x27;odor&#x27;,\n",
       "       &#x27;gill-attachment&#x27;, &#x27;gill-spacing&#x27;, &#x27;gill-size&#x27;, &#x27;gill-color&#x27;,\n",
       "       &#x27;stalk-shape&#x27;, &#x27;stalk-root&#x27;, &#x27;stalk-surface-above-ring&#x27;,\n",
       "       &#x27;stalk-surface-below-ring&#x27;, &#x27;stalk-color-above-ring&#x27;,\n",
       "       &#x27;stalk-color-below-ring&#x27;, &#x27;veil-color&#x27;, &#x27;ring-number&#x27;, &#x27;ring-type&#x27;,\n",
       "       &#x27;spore-print-color&#x27;, &#x27;population&#x27;, &#x27;habitat&#x27;],\n",
       "      dtype=&#x27;object&#x27;)),\n",
       "                                (&#x27;numerical&#x27;,\n",
       "                                 Pipeline(steps=[(&#x27;imputation_mode&#x27;,\n",
       "                                                  SimpleImputer(strategy=&#x27;most_frequent&#x27;)),\n",
       "                                                 (&#x27;standard_scaler&#x27;,\n",
       "                                                  StandardScaler())]),\n",
       "                                 Index([], dtype=&#x27;object&#x27;))])</pre></div></div></div><div class=\"sk-parallel\"><div class=\"sk-parallel-item\"><div class=\"sk-item\"><div class=\"sk-label-container\"><div class=\"sk-label sk-toggleable\"><input class=\"sk-toggleable__control sk-hidden--visually\" id=\"81d45d78-a505-4204-aff4-0787245a0e2b\" type=\"checkbox\" ><label for=\"81d45d78-a505-4204-aff4-0787245a0e2b\" class=\"sk-toggleable__label sk-toggleable__label-arrow\">categorical</label><div class=\"sk-toggleable__content\"><pre>Index([&#x27;cap-shape&#x27;, &#x27;cap-surface&#x27;, &#x27;cap-color&#x27;, &#x27;bruises&#x27;, &#x27;odor&#x27;,\n",
       "       &#x27;gill-attachment&#x27;, &#x27;gill-spacing&#x27;, &#x27;gill-size&#x27;, &#x27;gill-color&#x27;,\n",
       "       &#x27;stalk-shape&#x27;, &#x27;stalk-root&#x27;, &#x27;stalk-surface-above-ring&#x27;,\n",
       "       &#x27;stalk-surface-below-ring&#x27;, &#x27;stalk-color-above-ring&#x27;,\n",
       "       &#x27;stalk-color-below-ring&#x27;, &#x27;veil-color&#x27;, &#x27;ring-number&#x27;, &#x27;ring-type&#x27;,\n",
       "       &#x27;spore-print-color&#x27;, &#x27;population&#x27;, &#x27;habitat&#x27;],\n",
       "      dtype=&#x27;object&#x27;)</pre></div></div></div><div class=\"sk-serial\"><div class=\"sk-item\"><div class=\"sk-serial\"><div class=\"sk-item\"><div class=\"sk-estimator sk-toggleable\"><input class=\"sk-toggleable__control sk-hidden--visually\" id=\"363dd803-081c-43d3-9c5a-28e722fa3861\" type=\"checkbox\" ><label for=\"363dd803-081c-43d3-9c5a-28e722fa3861\" class=\"sk-toggleable__label sk-toggleable__label-arrow\">SimpleImputer</label><div class=\"sk-toggleable__content\"><pre>SimpleImputer(fill_value=&#x27;missing&#x27;, strategy=&#x27;constant&#x27;)</pre></div></div></div><div class=\"sk-item\"><div class=\"sk-estimator sk-toggleable\"><input class=\"sk-toggleable__control sk-hidden--visually\" id=\"3feeaa4e-0658-4f68-a534-2e7b34fb48bb\" type=\"checkbox\" ><label for=\"3feeaa4e-0658-4f68-a534-2e7b34fb48bb\" class=\"sk-toggleable__label sk-toggleable__label-arrow\">OneHotEncoder</label><div class=\"sk-toggleable__content\"><pre>OneHotEncoder(handle_unknown=&#x27;ignore&#x27;)</pre></div></div></div></div></div></div></div></div><div class=\"sk-parallel-item\"><div class=\"sk-item\"><div class=\"sk-label-container\"><div class=\"sk-label sk-toggleable\"><input class=\"sk-toggleable__control sk-hidden--visually\" id=\"b407547d-19a3-405d-9640-b89945c70663\" type=\"checkbox\" ><label for=\"b407547d-19a3-405d-9640-b89945c70663\" class=\"sk-toggleable__label sk-toggleable__label-arrow\">numerical</label><div class=\"sk-toggleable__content\"><pre>Index([], dtype=&#x27;object&#x27;)</pre></div></div></div><div class=\"sk-serial\"><div class=\"sk-item\"><div class=\"sk-serial\"><div class=\"sk-item\"><div class=\"sk-estimator sk-toggleable\"><input class=\"sk-toggleable__control sk-hidden--visually\" id=\"dcdd8c56-abe0-4c6f-be86-d6867b2db0dc\" type=\"checkbox\" ><label for=\"dcdd8c56-abe0-4c6f-be86-d6867b2db0dc\" class=\"sk-toggleable__label sk-toggleable__label-arrow\">SimpleImputer</label><div class=\"sk-toggleable__content\"><pre>SimpleImputer(strategy=&#x27;most_frequent&#x27;)</pre></div></div></div><div class=\"sk-item\"><div class=\"sk-estimator sk-toggleable\"><input class=\"sk-toggleable__control sk-hidden--visually\" id=\"40f2a362-1636-4ccb-a208-9566e1cc8ed5\" type=\"checkbox\" ><label for=\"40f2a362-1636-4ccb-a208-9566e1cc8ed5\" class=\"sk-toggleable__label sk-toggleable__label-arrow\">StandardScaler</label><div class=\"sk-toggleable__content\"><pre>StandardScaler()</pre></div></div></div></div></div></div></div></div></div></div><div class=\"sk-item\"><div class=\"sk-estimator sk-toggleable\"><input class=\"sk-toggleable__control sk-hidden--visually\" id=\"3d61e424-4b7d-4041-9eb7-9f0ff60b8bd2\" type=\"checkbox\" ><label for=\"3d61e424-4b7d-4041-9eb7-9f0ff60b8bd2\" class=\"sk-toggleable__label sk-toggleable__label-arrow\">LogisticRegression</label><div class=\"sk-toggleable__content\"><pre>LogisticRegression()</pre></div></div></div></div></div></div></div>"
      ],
      "text/plain": [
       "Pipeline(steps=[('columntransformer',\n",
       "                 ColumnTransformer(transformers=[('categorical',\n",
       "                                                  Pipeline(steps=[('imputation_constant',\n",
       "                                                                   SimpleImputer(fill_value='missing',\n",
       "                                                                                 strategy='constant')),\n",
       "                                                                  ('onehot',\n",
       "                                                                   OneHotEncoder(handle_unknown='ignore'))]),\n",
       "                                                  Index(['cap-shape', 'cap-surface', 'cap-color', 'bruises', 'odor',\n",
       "       'gill-attachment', 'gill-spacing', 'gill-size', 'gill-color...\n",
       "       'stalk-surface-below-ring', 'stalk-color-above-ring',\n",
       "       'stalk-color-below-ring', 'veil-color', 'ring-number', 'ring-type',\n",
       "       'spore-print-color', 'population', 'habitat'],\n",
       "      dtype='object')),\n",
       "                                                 ('numerical',\n",
       "                                                  Pipeline(steps=[('imputation_mode',\n",
       "                                                                   SimpleImputer(strategy='most_frequent')),\n",
       "                                                                  ('standard_scaler',\n",
       "                                                                   StandardScaler())]),\n",
       "                                                  Index([], dtype='object'))])),\n",
       "                ('logisticregression', LogisticRegression())])"
      ]
     },
     "execution_count": 83,
     "metadata": {},
     "output_type": "execute_result"
    }
   ],
   "source": [
    "lr.fit(X_train, y_train)"
   ]
  },
  {
   "cell_type": "code",
   "execution_count": 84,
   "id": "30d5a897",
   "metadata": {},
   "outputs": [],
   "source": [
    "y_pred_lr = lr.predict(X_test)"
   ]
  },
  {
   "cell_type": "code",
   "execution_count": 85,
   "id": "da296675",
   "metadata": {},
   "outputs": [
    {
     "data": {
      "text/plain": [
       "array([[1257,    0],\n",
       "       [   0, 1181]], dtype=int64)"
      ]
     },
     "execution_count": 85,
     "metadata": {},
     "output_type": "execute_result"
    }
   ],
   "source": [
    "from sklearn.metrics import confusion_matrix\n",
    "cm=confusion_matrix(y_test, y_pred_lr)\n",
    "cm"
   ]
  },
  {
   "cell_type": "code",
   "execution_count": 87,
   "id": "280a141c",
   "metadata": {},
   "outputs": [
    {
     "name": "stderr",
     "output_type": "stream",
     "text": [
      "E:\\Anaconda\\lib\\site-packages\\sklearn\\utils\\deprecation.py:87: FutureWarning: Function plot_confusion_matrix is deprecated; Function `plot_confusion_matrix` is deprecated in 1.0 and will be removed in 1.2. Use one of the class methods: ConfusionMatrixDisplay.from_predictions or ConfusionMatrixDisplay.from_estimator.\n",
      "  warnings.warn(msg, category=FutureWarning)\n"
     ]
    },
    {
     "data": {
      "image/png": "[encoded data removed]",
      "text/plain": [
       "<Figure size 432x288 with 2 Axes>"
      ]
     },
     "metadata": {
      "needs_background": "light"
     },
     "output_type": "display_data"
    }
   ],
   "source": [
    "from sklearn.metrics import plot_confusion_matrix\n",
    "color = 'black'\n",
    "matrix = plot_confusion_matrix(lr, X_test, y_test, cmap=plt.cm.Blues)\n",
    "matrix.ax_.set_title('Confusion Matrix', color=color)\n",
    "plt.xlabel('Predicted Label', color=color)\n",
    "plt.ylabel('True Label', color=color)\n",
    "plt.show()"
   ]
  },
  {
   "cell_type": "code",
   "execution_count": 88,
   "id": "09d0a8f5",
   "metadata": {},
   "outputs": [
    {
     "name": "stdout",
     "output_type": "stream",
     "text": [
      "              precision    recall  f1-score   support\n",
      "\n",
      "           e       1.00      1.00      1.00      1257\n",
      "           p       1.00      1.00      1.00      1181\n",
      "\n",
      "    accuracy                           1.00      2438\n",
      "   macro avg       1.00      1.00      1.00      2438\n",
      "weighted avg       1.00      1.00      1.00      2438\n",
      "\n"
     ]
    }
   ],
   "source": [
    "from sklearn.metrics import classification_report\n",
    "print(classification_report(y_test, y_pred_lr))"
   ]
  },
  {
   "cell_type": "markdown",
   "id": "38badac7",
   "metadata": {},
   "source": [
    "### Decision Tree Classifier"
   ]
  },
  {
   "cell_type": "code",
   "execution_count": 67,
   "id": "a9c4a9e2",
   "metadata": {},
   "outputs": [
    {
     "data": {
      "text/html": [
       "<style>#sk-951a82fb-3463-4476-830e-39516c41cd5a {color: black;background-color: white;}#sk-951a82fb-3463-4476-830e-39516c41cd5a pre{padding: 0;}#sk-951a82fb-3463-4476-830e-39516c41cd5a div.sk-toggleable {background-color: white;}#sk-951a82fb-3463-4476-830e-39516c41cd5a label.sk-toggleable__label {cursor: pointer;display: block;width: 100%;margin-bottom: 0;padding: 0.3em;box-sizing: border-box;text-align: center;}#sk-951a82fb-3463-4476-830e-39516c41cd5a label.sk-toggleable__label-arrow:before {content: \"▸\";float: left;margin-right: 0.25em;color: #696969;}#sk-951a82fb-3463-4476-830e-39516c41cd5a label.sk-toggleable__label-arrow:hover:before {color: black;}#sk-951a82fb-3463-4476-830e-39516c41cd5a div.sk-estimator:hover label.sk-toggleable__label-arrow:before {color: black;}#sk-951a82fb-3463-4476-830e-39516c41cd5a div.sk-toggleable__content {max-height: 0;max-width: 0;overflow: hidden;text-align: left;background-color: #f0f8ff;}#sk-951a82fb-3463-4476-830e-39516c41cd5a div.sk-toggleable__content pre {margin: 0.2em;color: black;border-radius: 0.25em;background-color: #f0f8ff;}#sk-951a82fb-3463-4476-830e-39516c41cd5a input.sk-toggleable__control:checked~div.sk-toggleable__content {max-height: 200px;max-width: 100%;overflow: auto;}#sk-951a82fb-3463-4476-830e-39516c41cd5a input.sk-toggleable__control:checked~label.sk-toggleable__label-arrow:before {content: \"▾\";}#sk-951a82fb-3463-4476-830e-39516c41cd5a div.sk-estimator input.sk-toggleable__control:checked~label.sk-toggleable__label {background-color: #d4ebff;}#sk-951a82fb-3463-4476-830e-39516c41cd5a div.sk-label input.sk-toggleable__control:checked~label.sk-toggleable__label {background-color: #d4ebff;}#sk-951a82fb-3463-4476-830e-39516c41cd5a input.sk-hidden--visually {border: 0;clip: rect(1px 1px 1px 1px);clip: rect(1px, 1px, 1px, 1px);height: 1px;margin: -1px;overflow: hidden;padding: 0;position: absolute;width: 1px;}#sk-951a82fb-3463-4476-830e-39516c41cd5a div.sk-estimator {font-family: monospace;background-color: #f0f8ff;border: 1px dotted black;border-radius: 0.25em;box-sizing: border-box;margin-bottom: 0.5em;}#sk-951a82fb-3463-4476-830e-39516c41cd5a div.sk-estimator:hover {background-color: #d4ebff;}#sk-951a82fb-3463-4476-830e-39516c41cd5a div.sk-parallel-item::after {content: \"\";width: 100%;border-bottom: 1px solid gray;flex-grow: 1;}#sk-951a82fb-3463-4476-830e-39516c41cd5a div.sk-label:hover label.sk-toggleable__label {background-color: #d4ebff;}#sk-951a82fb-3463-4476-830e-39516c41cd5a div.sk-serial::before {content: \"\";position: absolute;border-left: 1px solid gray;box-sizing: border-box;top: 2em;bottom: 0;left: 50%;}#sk-951a82fb-3463-4476-830e-39516c41cd5a div.sk-serial {display: flex;flex-direction: column;align-items: center;background-color: white;padding-right: 0.2em;padding-left: 0.2em;}#sk-951a82fb-3463-4476-830e-39516c41cd5a div.sk-item {z-index: 1;}#sk-951a82fb-3463-4476-830e-39516c41cd5a div.sk-parallel {display: flex;align-items: stretch;justify-content: center;background-color: white;}#sk-951a82fb-3463-4476-830e-39516c41cd5a div.sk-parallel::before {content: \"\";position: absolute;border-left: 1px solid gray;box-sizing: border-box;top: 2em;bottom: 0;left: 50%;}#sk-951a82fb-3463-4476-830e-39516c41cd5a div.sk-parallel-item {display: flex;flex-direction: column;position: relative;background-color: white;}#sk-951a82fb-3463-4476-830e-39516c41cd5a div.sk-parallel-item:first-child::after {align-self: flex-end;width: 50%;}#sk-951a82fb-3463-4476-830e-39516c41cd5a div.sk-parallel-item:last-child::after {align-self: flex-start;width: 50%;}#sk-951a82fb-3463-4476-830e-39516c41cd5a div.sk-parallel-item:only-child::after {width: 0;}#sk-951a82fb-3463-4476-830e-39516c41cd5a div.sk-dashed-wrapped {border: 1px dashed gray;margin: 0 0.4em 0.5em 0.4em;box-sizing: border-box;padding-bottom: 0.4em;background-color: white;position: relative;}#sk-951a82fb-3463-4476-830e-39516c41cd5a div.sk-label label {font-family: monospace;font-weight: bold;background-color: white;display: inline-block;line-height: 1.2em;}#sk-951a82fb-3463-4476-830e-39516c41cd5a div.sk-label-container {position: relative;z-index: 2;text-align: center;}#sk-951a82fb-3463-4476-830e-39516c41cd5a div.sk-container {/* jupyter's `normalize.less` sets `[hidden] { display: none; }` but bootstrap.min.css set `[hidden] { display: none !important; }` so we also need the `!important` here to be able to override the default hidden behavior on the sphinx rendered scikit-learn.org. See: https://github.com/scikit-learn/scikit-learn/issues/21755 */display: inline-block !important;position: relative;}#sk-951a82fb-3463-4476-830e-39516c41cd5a div.sk-text-repr-fallback {display: none;}</style><div id=\"sk-951a82fb-3463-4476-830e-39516c41cd5a\" class=\"sk-top-container\"><div class=\"sk-text-repr-fallback\"><pre>Pipeline(steps=[(&#x27;columntransformer&#x27;,\n",
       "                 ColumnTransformer(transformers=[(&#x27;categorical&#x27;,\n",
       "                                                  Pipeline(steps=[(&#x27;imputation_constant&#x27;,\n",
       "                                                                   SimpleImputer(fill_value=&#x27;missing&#x27;,\n",
       "                                                                                 strategy=&#x27;constant&#x27;)),\n",
       "                                                                  (&#x27;onehot&#x27;,\n",
       "                                                                   OneHotEncoder(handle_unknown=&#x27;ignore&#x27;))]),\n",
       "                                                  Index([&#x27;cap-shape&#x27;, &#x27;cap-surface&#x27;, &#x27;cap-color&#x27;, &#x27;bruises&#x27;, &#x27;odor&#x27;,\n",
       "       &#x27;gill-attachment&#x27;, &#x27;gill-spacing&#x27;, &#x27;gill-size&#x27;, &#x27;gill-color...\n",
       "       &#x27;stalk-surface-below-ring&#x27;, &#x27;stalk-color-above-ring&#x27;,\n",
       "       &#x27;stalk-color-below-ring&#x27;, &#x27;veil-color&#x27;, &#x27;ring-number&#x27;, &#x27;ring-type&#x27;,\n",
       "       &#x27;spore-print-color&#x27;, &#x27;population&#x27;, &#x27;habitat&#x27;],\n",
       "      dtype=&#x27;object&#x27;)),\n",
       "                                                 (&#x27;numerical&#x27;,\n",
       "                                                  Pipeline(steps=[(&#x27;imputation_mode&#x27;,\n",
       "                                                                   SimpleImputer(strategy=&#x27;most_frequent&#x27;)),\n",
       "                                                                  (&#x27;standard_scaler&#x27;,\n",
       "                                                                   StandardScaler())]),\n",
       "                                                  Index([], dtype=&#x27;object&#x27;))])),\n",
       "                (&#x27;decisiontreeclassifier&#x27;, DecisionTreeClassifier())])</pre><b>Please rerun this cell to show the HTML repr or trust the notebook.</b></div><div class=\"sk-container\" hidden><div class=\"sk-item sk-dashed-wrapped\"><div class=\"sk-label-container\"><div class=\"sk-label sk-toggleable\"><input class=\"sk-toggleable__control sk-hidden--visually\" id=\"d6609f48-1a75-4443-a066-ec3ffb459dd5\" type=\"checkbox\" ><label for=\"d6609f48-1a75-4443-a066-ec3ffb459dd5\" class=\"sk-toggleable__label sk-toggleable__label-arrow\">Pipeline</label><div class=\"sk-toggleable__content\"><pre>Pipeline(steps=[(&#x27;columntransformer&#x27;,\n",
       "                 ColumnTransformer(transformers=[(&#x27;categorical&#x27;,\n",
       "                                                  Pipeline(steps=[(&#x27;imputation_constant&#x27;,\n",
       "                                                                   SimpleImputer(fill_value=&#x27;missing&#x27;,\n",
       "                                                                                 strategy=&#x27;constant&#x27;)),\n",
       "                                                                  (&#x27;onehot&#x27;,\n",
       "                                                                   OneHotEncoder(handle_unknown=&#x27;ignore&#x27;))]),\n",
       "                                                  Index([&#x27;cap-shape&#x27;, &#x27;cap-surface&#x27;, &#x27;cap-color&#x27;, &#x27;bruises&#x27;, &#x27;odor&#x27;,\n",
       "       &#x27;gill-attachment&#x27;, &#x27;gill-spacing&#x27;, &#x27;gill-size&#x27;, &#x27;gill-color...\n",
       "       &#x27;stalk-surface-below-ring&#x27;, &#x27;stalk-color-above-ring&#x27;,\n",
       "       &#x27;stalk-color-below-ring&#x27;, &#x27;veil-color&#x27;, &#x27;ring-number&#x27;, &#x27;ring-type&#x27;,\n",
       "       &#x27;spore-print-color&#x27;, &#x27;population&#x27;, &#x27;habitat&#x27;],\n",
       "      dtype=&#x27;object&#x27;)),\n",
       "                                                 (&#x27;numerical&#x27;,\n",
       "                                                  Pipeline(steps=[(&#x27;imputation_mode&#x27;,\n",
       "                                                                   SimpleImputer(strategy=&#x27;most_frequent&#x27;)),\n",
       "                                                                  (&#x27;standard_scaler&#x27;,\n",
       "                                                                   StandardScaler())]),\n",
       "                                                  Index([], dtype=&#x27;object&#x27;))])),\n",
       "                (&#x27;decisiontreeclassifier&#x27;, DecisionTreeClassifier())])</pre></div></div></div><div class=\"sk-serial\"><div class=\"sk-item sk-dashed-wrapped\"><div class=\"sk-label-container\"><div class=\"sk-label sk-toggleable\"><input class=\"sk-toggleable__control sk-hidden--visually\" id=\"c0551688-93c8-447e-8739-43ea05ea2b72\" type=\"checkbox\" ><label for=\"c0551688-93c8-447e-8739-43ea05ea2b72\" class=\"sk-toggleable__label sk-toggleable__label-arrow\">columntransformer: ColumnTransformer</label><div class=\"sk-toggleable__content\"><pre>ColumnTransformer(transformers=[(&#x27;categorical&#x27;,\n",
       "                                 Pipeline(steps=[(&#x27;imputation_constant&#x27;,\n",
       "                                                  SimpleImputer(fill_value=&#x27;missing&#x27;,\n",
       "                                                                strategy=&#x27;constant&#x27;)),\n",
       "                                                 (&#x27;onehot&#x27;,\n",
       "                                                  OneHotEncoder(handle_unknown=&#x27;ignore&#x27;))]),\n",
       "                                 Index([&#x27;cap-shape&#x27;, &#x27;cap-surface&#x27;, &#x27;cap-color&#x27;, &#x27;bruises&#x27;, &#x27;odor&#x27;,\n",
       "       &#x27;gill-attachment&#x27;, &#x27;gill-spacing&#x27;, &#x27;gill-size&#x27;, &#x27;gill-color&#x27;,\n",
       "       &#x27;stalk-shape&#x27;, &#x27;stalk-root&#x27;, &#x27;stalk-surface-above-ring&#x27;,\n",
       "       &#x27;stalk-surface-below-ring&#x27;, &#x27;stalk-color-above-ring&#x27;,\n",
       "       &#x27;stalk-color-below-ring&#x27;, &#x27;veil-color&#x27;, &#x27;ring-number&#x27;, &#x27;ring-type&#x27;,\n",
       "       &#x27;spore-print-color&#x27;, &#x27;population&#x27;, &#x27;habitat&#x27;],\n",
       "      dtype=&#x27;object&#x27;)),\n",
       "                                (&#x27;numerical&#x27;,\n",
       "                                 Pipeline(steps=[(&#x27;imputation_mode&#x27;,\n",
       "                                                  SimpleImputer(strategy=&#x27;most_frequent&#x27;)),\n",
       "                                                 (&#x27;standard_scaler&#x27;,\n",
       "                                                  StandardScaler())]),\n",
       "                                 Index([], dtype=&#x27;object&#x27;))])</pre></div></div></div><div class=\"sk-parallel\"><div class=\"sk-parallel-item\"><div class=\"sk-item\"><div class=\"sk-label-container\"><div class=\"sk-label sk-toggleable\"><input class=\"sk-toggleable__control sk-hidden--visually\" id=\"903c9fb5-112e-4a6f-b116-01f232b17941\" type=\"checkbox\" ><label for=\"903c9fb5-112e-4a6f-b116-01f232b17941\" class=\"sk-toggleable__label sk-toggleable__label-arrow\">categorical</label><div class=\"sk-toggleable__content\"><pre>Index([&#x27;cap-shape&#x27;, &#x27;cap-surface&#x27;, &#x27;cap-color&#x27;, &#x27;bruises&#x27;, &#x27;odor&#x27;,\n",
       "       &#x27;gill-attachment&#x27;, &#x27;gill-spacing&#x27;, &#x27;gill-size&#x27;, &#x27;gill-color&#x27;,\n",
       "       &#x27;stalk-shape&#x27;, &#x27;stalk-root&#x27;, &#x27;stalk-surface-above-ring&#x27;,\n",
       "       &#x27;stalk-surface-below-ring&#x27;, &#x27;stalk-color-above-ring&#x27;,\n",
       "       &#x27;stalk-color-below-ring&#x27;, &#x27;veil-color&#x27;, &#x27;ring-number&#x27;, &#x27;ring-type&#x27;,\n",
       "       &#x27;spore-print-color&#x27;, &#x27;population&#x27;, &#x27;habitat&#x27;],\n",
       "      dtype=&#x27;object&#x27;)</pre></div></div></div><div class=\"sk-serial\"><div class=\"sk-item\"><div class=\"sk-serial\"><div class=\"sk-item\"><div class=\"sk-estimator sk-toggleable\"><input class=\"sk-toggleable__control sk-hidden--visually\" id=\"8dad9dae-be5c-4a2e-a2e3-4229079ce330\" type=\"checkbox\" ><label for=\"8dad9dae-be5c-4a2e-a2e3-4229079ce330\" class=\"sk-toggleable__label sk-toggleable__label-arrow\">SimpleImputer</label><div class=\"sk-toggleable__content\"><pre>SimpleImputer(fill_value=&#x27;missing&#x27;, strategy=&#x27;constant&#x27;)</pre></div></div></div><div class=\"sk-item\"><div class=\"sk-estimator sk-toggleable\"><input class=\"sk-toggleable__control sk-hidden--visually\" id=\"7ffaac83-fb75-4ab1-bd0b-c81d2b2f06da\" type=\"checkbox\" ><label for=\"7ffaac83-fb75-4ab1-bd0b-c81d2b2f06da\" class=\"sk-toggleable__label sk-toggleable__label-arrow\">OneHotEncoder</label><div class=\"sk-toggleable__content\"><pre>OneHotEncoder(handle_unknown=&#x27;ignore&#x27;)</pre></div></div></div></div></div></div></div></div><div class=\"sk-parallel-item\"><div class=\"sk-item\"><div class=\"sk-label-container\"><div class=\"sk-label sk-toggleable\"><input class=\"sk-toggleable__control sk-hidden--visually\" id=\"131bd963-301a-440a-8889-0b5b2439a1a2\" type=\"checkbox\" ><label for=\"131bd963-301a-440a-8889-0b5b2439a1a2\" class=\"sk-toggleable__label sk-toggleable__label-arrow\">numerical</label><div class=\"sk-toggleable__content\"><pre>Index([], dtype=&#x27;object&#x27;)</pre></div></div></div><div class=\"sk-serial\"><div class=\"sk-item\"><div class=\"sk-serial\"><div class=\"sk-item\"><div class=\"sk-estimator sk-toggleable\"><input class=\"sk-toggleable__control sk-hidden--visually\" id=\"338589be-2eaf-4b08-ab3f-f00900f6f349\" type=\"checkbox\" ><label for=\"338589be-2eaf-4b08-ab3f-f00900f6f349\" class=\"sk-toggleable__label sk-toggleable__label-arrow\">SimpleImputer</label><div class=\"sk-toggleable__content\"><pre>SimpleImputer(strategy=&#x27;most_frequent&#x27;)</pre></div></div></div><div class=\"sk-item\"><div class=\"sk-estimator sk-toggleable\"><input class=\"sk-toggleable__control sk-hidden--visually\" id=\"15f55248-3b7a-492e-8a3c-49b881f2ea7c\" type=\"checkbox\" ><label for=\"15f55248-3b7a-492e-8a3c-49b881f2ea7c\" class=\"sk-toggleable__label sk-toggleable__label-arrow\">StandardScaler</label><div class=\"sk-toggleable__content\"><pre>StandardScaler()</pre></div></div></div></div></div></div></div></div></div></div><div class=\"sk-item\"><div class=\"sk-estimator sk-toggleable\"><input class=\"sk-toggleable__control sk-hidden--visually\" id=\"156ef9b5-5679-497e-b75a-ac45d7f2121d\" type=\"checkbox\" ><label for=\"156ef9b5-5679-497e-b75a-ac45d7f2121d\" class=\"sk-toggleable__label sk-toggleable__label-arrow\">DecisionTreeClassifier</label><div class=\"sk-toggleable__content\"><pre>DecisionTreeClassifier()</pre></div></div></div></div></div></div></div>"
      ],
      "text/plain": [
       "Pipeline(steps=[('columntransformer',\n",
       "                 ColumnTransformer(transformers=[('categorical',\n",
       "                                                  Pipeline(steps=[('imputation_constant',\n",
       "                                                                   SimpleImputer(fill_value='missing',\n",
       "                                                                                 strategy='constant')),\n",
       "                                                                  ('onehot',\n",
       "                                                                   OneHotEncoder(handle_unknown='ignore'))]),\n",
       "                                                  Index(['cap-shape', 'cap-surface', 'cap-color', 'bruises', 'odor',\n",
       "       'gill-attachment', 'gill-spacing', 'gill-size', 'gill-color...\n",
       "       'stalk-surface-below-ring', 'stalk-color-above-ring',\n",
       "       'stalk-color-below-ring', 'veil-color', 'ring-number', 'ring-type',\n",
       "       'spore-print-color', 'population', 'habitat'],\n",
       "      dtype='object')),\n",
       "                                                 ('numerical',\n",
       "                                                  Pipeline(steps=[('imputation_mode',\n",
       "                                                                   SimpleImputer(strategy='most_frequent')),\n",
       "                                                                  ('standard_scaler',\n",
       "                                                                   StandardScaler())]),\n",
       "                                                  Index([], dtype='object'))])),\n",
       "                ('decisiontreeclassifier', DecisionTreeClassifier())])"
      ]
     },
     "execution_count": 67,
     "metadata": {},
     "output_type": "execute_result"
    }
   ],
   "source": [
    "#Decision Tree Classifier\n",
    "from sklearn.tree import DecisionTreeClassifier\n",
    "dt = make_pipeline(preprocessor, DecisionTreeClassifier())\n",
    "dt"
   ]
  },
  {
   "cell_type": "code",
   "execution_count": 68,
   "id": "254da3c8",
   "metadata": {},
   "outputs": [
    {
     "data": {
      "text/html": [
       "<style>#sk-0921c9e8-42a4-43bf-a41e-a2d576e04666 {color: black;background-color: white;}#sk-0921c9e8-42a4-43bf-a41e-a2d576e04666 pre{padding: 0;}#sk-0921c9e8-42a4-43bf-a41e-a2d576e04666 div.sk-toggleable {background-color: white;}#sk-0921c9e8-42a4-43bf-a41e-a2d576e04666 label.sk-toggleable__label {cursor: pointer;display: block;width: 100%;margin-bottom: 0;padding: 0.3em;box-sizing: border-box;text-align: center;}#sk-0921c9e8-42a4-43bf-a41e-a2d576e04666 label.sk-toggleable__label-arrow:before {content: \"▸\";float: left;margin-right: 0.25em;color: #696969;}#sk-0921c9e8-42a4-43bf-a41e-a2d576e04666 label.sk-toggleable__label-arrow:hover:before {color: black;}#sk-0921c9e8-42a4-43bf-a41e-a2d576e04666 div.sk-estimator:hover label.sk-toggleable__label-arrow:before {color: black;}#sk-0921c9e8-42a4-43bf-a41e-a2d576e04666 div.sk-toggleable__content {max-height: 0;max-width: 0;overflow: hidden;text-align: left;background-color: #f0f8ff;}#sk-0921c9e8-42a4-43bf-a41e-a2d576e04666 div.sk-toggleable__content pre {margin: 0.2em;color: black;border-radius: 0.25em;background-color: #f0f8ff;}#sk-0921c9e8-42a4-43bf-a41e-a2d576e04666 input.sk-toggleable__control:checked~div.sk-toggleable__content {max-height: 200px;max-width: 100%;overflow: auto;}#sk-0921c9e8-42a4-43bf-a41e-a2d576e04666 input.sk-toggleable__control:checked~label.sk-toggleable__label-arrow:before {content: \"▾\";}#sk-0921c9e8-42a4-43bf-a41e-a2d576e04666 div.sk-estimator input.sk-toggleable__control:checked~label.sk-toggleable__label {background-color: #d4ebff;}#sk-0921c9e8-42a4-43bf-a41e-a2d576e04666 div.sk-label input.sk-toggleable__control:checked~label.sk-toggleable__label {background-color: #d4ebff;}#sk-0921c9e8-42a4-43bf-a41e-a2d576e04666 input.sk-hidden--visually {border: 0;clip: rect(1px 1px 1px 1px);clip: rect(1px, 1px, 1px, 1px);height: 1px;margin: -1px;overflow: hidden;padding: 0;position: absolute;width: 1px;}#sk-0921c9e8-42a4-43bf-a41e-a2d576e04666 div.sk-estimator {font-family: monospace;background-color: #f0f8ff;border: 1px dotted black;border-radius: 0.25em;box-sizing: border-box;margin-bottom: 0.5em;}#sk-0921c9e8-42a4-43bf-a41e-a2d576e04666 div.sk-estimator:hover {background-color: #d4ebff;}#sk-0921c9e8-42a4-43bf-a41e-a2d576e04666 div.sk-parallel-item::after {content: \"\";width: 100%;border-bottom: 1px solid gray;flex-grow: 1;}#sk-0921c9e8-42a4-43bf-a41e-a2d576e04666 div.sk-label:hover label.sk-toggleable__label {background-color: #d4ebff;}#sk-0921c9e8-42a4-43bf-a41e-a2d576e04666 div.sk-serial::before {content: \"\";position: absolute;border-left: 1px solid gray;box-sizing: border-box;top: 2em;bottom: 0;left: 50%;}#sk-0921c9e8-42a4-43bf-a41e-a2d576e04666 div.sk-serial {display: flex;flex-direction: column;align-items: center;background-color: white;padding-right: 0.2em;padding-left: 0.2em;}#sk-0921c9e8-42a4-43bf-a41e-a2d576e04666 div.sk-item {z-index: 1;}#sk-0921c9e8-42a4-43bf-a41e-a2d576e04666 div.sk-parallel {display: flex;align-items: stretch;justify-content: center;background-color: white;}#sk-0921c9e8-42a4-43bf-a41e-a2d576e04666 div.sk-parallel::before {content: \"\";position: absolute;border-left: 1px solid gray;box-sizing: border-box;top: 2em;bottom: 0;left: 50%;}#sk-0921c9e8-42a4-43bf-a41e-a2d576e04666 div.sk-parallel-item {display: flex;flex-direction: column;position: relative;background-color: white;}#sk-0921c9e8-42a4-43bf-a41e-a2d576e04666 div.sk-parallel-item:first-child::after {align-self: flex-end;width: 50%;}#sk-0921c9e8-42a4-43bf-a41e-a2d576e04666 div.sk-parallel-item:last-child::after {align-self: flex-start;width: 50%;}#sk-0921c9e8-42a4-43bf-a41e-a2d576e04666 div.sk-parallel-item:only-child::after {width: 0;}#sk-0921c9e8-42a4-43bf-a41e-a2d576e04666 div.sk-dashed-wrapped {border: 1px dashed gray;margin: 0 0.4em 0.5em 0.4em;box-sizing: border-box;padding-bottom: 0.4em;background-color: white;position: relative;}#sk-0921c9e8-42a4-43bf-a41e-a2d576e04666 div.sk-label label {font-family: monospace;font-weight: bold;background-color: white;display: inline-block;line-height: 1.2em;}#sk-0921c9e8-42a4-43bf-a41e-a2d576e04666 div.sk-label-container {position: relative;z-index: 2;text-align: center;}#sk-0921c9e8-42a4-43bf-a41e-a2d576e04666 div.sk-container {/* jupyter's `normalize.less` sets `[hidden] { display: none; }` but bootstrap.min.css set `[hidden] { display: none !important; }` so we also need the `!important` here to be able to override the default hidden behavior on the sphinx rendered scikit-learn.org. See: https://github.com/scikit-learn/scikit-learn/issues/21755 */display: inline-block !important;position: relative;}#sk-0921c9e8-42a4-43bf-a41e-a2d576e04666 div.sk-text-repr-fallback {display: none;}</style><div id=\"sk-0921c9e8-42a4-43bf-a41e-a2d576e04666\" class=\"sk-top-container\"><div class=\"sk-text-repr-fallback\"><pre>Pipeline(steps=[(&#x27;columntransformer&#x27;,\n",
       "                 ColumnTransformer(transformers=[(&#x27;categorical&#x27;,\n",
       "                                                  Pipeline(steps=[(&#x27;imputation_constant&#x27;,\n",
       "                                                                   SimpleImputer(fill_value=&#x27;missing&#x27;,\n",
       "                                                                                 strategy=&#x27;constant&#x27;)),\n",
       "                                                                  (&#x27;onehot&#x27;,\n",
       "                                                                   OneHotEncoder(handle_unknown=&#x27;ignore&#x27;))]),\n",
       "                                                  Index([&#x27;cap-shape&#x27;, &#x27;cap-surface&#x27;, &#x27;cap-color&#x27;, &#x27;bruises&#x27;, &#x27;odor&#x27;,\n",
       "       &#x27;gill-attachment&#x27;, &#x27;gill-spacing&#x27;, &#x27;gill-size&#x27;, &#x27;gill-color...\n",
       "       &#x27;stalk-surface-below-ring&#x27;, &#x27;stalk-color-above-ring&#x27;,\n",
       "       &#x27;stalk-color-below-ring&#x27;, &#x27;veil-color&#x27;, &#x27;ring-number&#x27;, &#x27;ring-type&#x27;,\n",
       "       &#x27;spore-print-color&#x27;, &#x27;population&#x27;, &#x27;habitat&#x27;],\n",
       "      dtype=&#x27;object&#x27;)),\n",
       "                                                 (&#x27;numerical&#x27;,\n",
       "                                                  Pipeline(steps=[(&#x27;imputation_mode&#x27;,\n",
       "                                                                   SimpleImputer(strategy=&#x27;most_frequent&#x27;)),\n",
       "                                                                  (&#x27;standard_scaler&#x27;,\n",
       "                                                                   StandardScaler())]),\n",
       "                                                  Index([], dtype=&#x27;object&#x27;))])),\n",
       "                (&#x27;decisiontreeclassifier&#x27;, DecisionTreeClassifier())])</pre><b>Please rerun this cell to show the HTML repr or trust the notebook.</b></div><div class=\"sk-container\" hidden><div class=\"sk-item sk-dashed-wrapped\"><div class=\"sk-label-container\"><div class=\"sk-label sk-toggleable\"><input class=\"sk-toggleable__control sk-hidden--visually\" id=\"87470151-3eae-4ee2-a5f3-f1a2c630d5d3\" type=\"checkbox\" ><label for=\"87470151-3eae-4ee2-a5f3-f1a2c630d5d3\" class=\"sk-toggleable__label sk-toggleable__label-arrow\">Pipeline</label><div class=\"sk-toggleable__content\"><pre>Pipeline(steps=[(&#x27;columntransformer&#x27;,\n",
       "                 ColumnTransformer(transformers=[(&#x27;categorical&#x27;,\n",
       "                                                  Pipeline(steps=[(&#x27;imputation_constant&#x27;,\n",
       "                                                                   SimpleImputer(fill_value=&#x27;missing&#x27;,\n",
       "                                                                                 strategy=&#x27;constant&#x27;)),\n",
       "                                                                  (&#x27;onehot&#x27;,\n",
       "                                                                   OneHotEncoder(handle_unknown=&#x27;ignore&#x27;))]),\n",
       "                                                  Index([&#x27;cap-shape&#x27;, &#x27;cap-surface&#x27;, &#x27;cap-color&#x27;, &#x27;bruises&#x27;, &#x27;odor&#x27;,\n",
       "       &#x27;gill-attachment&#x27;, &#x27;gill-spacing&#x27;, &#x27;gill-size&#x27;, &#x27;gill-color...\n",
       "       &#x27;stalk-surface-below-ring&#x27;, &#x27;stalk-color-above-ring&#x27;,\n",
       "       &#x27;stalk-color-below-ring&#x27;, &#x27;veil-color&#x27;, &#x27;ring-number&#x27;, &#x27;ring-type&#x27;,\n",
       "       &#x27;spore-print-color&#x27;, &#x27;population&#x27;, &#x27;habitat&#x27;],\n",
       "      dtype=&#x27;object&#x27;)),\n",
       "                                                 (&#x27;numerical&#x27;,\n",
       "                                                  Pipeline(steps=[(&#x27;imputation_mode&#x27;,\n",
       "                                                                   SimpleImputer(strategy=&#x27;most_frequent&#x27;)),\n",
       "                                                                  (&#x27;standard_scaler&#x27;,\n",
       "                                                                   StandardScaler())]),\n",
       "                                                  Index([], dtype=&#x27;object&#x27;))])),\n",
       "                (&#x27;decisiontreeclassifier&#x27;, DecisionTreeClassifier())])</pre></div></div></div><div class=\"sk-serial\"><div class=\"sk-item sk-dashed-wrapped\"><div class=\"sk-label-container\"><div class=\"sk-label sk-toggleable\"><input class=\"sk-toggleable__control sk-hidden--visually\" id=\"450d9f39-9656-4ab8-b64c-139b397191d4\" type=\"checkbox\" ><label for=\"450d9f39-9656-4ab8-b64c-139b397191d4\" class=\"sk-toggleable__label sk-toggleable__label-arrow\">columntransformer: ColumnTransformer</label><div class=\"sk-toggleable__content\"><pre>ColumnTransformer(transformers=[(&#x27;categorical&#x27;,\n",
       "                                 Pipeline(steps=[(&#x27;imputation_constant&#x27;,\n",
       "                                                  SimpleImputer(fill_value=&#x27;missing&#x27;,\n",
       "                                                                strategy=&#x27;constant&#x27;)),\n",
       "                                                 (&#x27;onehot&#x27;,\n",
       "                                                  OneHotEncoder(handle_unknown=&#x27;ignore&#x27;))]),\n",
       "                                 Index([&#x27;cap-shape&#x27;, &#x27;cap-surface&#x27;, &#x27;cap-color&#x27;, &#x27;bruises&#x27;, &#x27;odor&#x27;,\n",
       "       &#x27;gill-attachment&#x27;, &#x27;gill-spacing&#x27;, &#x27;gill-size&#x27;, &#x27;gill-color&#x27;,\n",
       "       &#x27;stalk-shape&#x27;, &#x27;stalk-root&#x27;, &#x27;stalk-surface-above-ring&#x27;,\n",
       "       &#x27;stalk-surface-below-ring&#x27;, &#x27;stalk-color-above-ring&#x27;,\n",
       "       &#x27;stalk-color-below-ring&#x27;, &#x27;veil-color&#x27;, &#x27;ring-number&#x27;, &#x27;ring-type&#x27;,\n",
       "       &#x27;spore-print-color&#x27;, &#x27;population&#x27;, &#x27;habitat&#x27;],\n",
       "      dtype=&#x27;object&#x27;)),\n",
       "                                (&#x27;numerical&#x27;,\n",
       "                                 Pipeline(steps=[(&#x27;imputation_mode&#x27;,\n",
       "                                                  SimpleImputer(strategy=&#x27;most_frequent&#x27;)),\n",
       "                                                 (&#x27;standard_scaler&#x27;,\n",
       "                                                  StandardScaler())]),\n",
       "                                 Index([], dtype=&#x27;object&#x27;))])</pre></div></div></div><div class=\"sk-parallel\"><div class=\"sk-parallel-item\"><div class=\"sk-item\"><div class=\"sk-label-container\"><div class=\"sk-label sk-toggleable\"><input class=\"sk-toggleable__control sk-hidden--visually\" id=\"67c86d95-ba88-42c9-a2f2-83e9ad82841f\" type=\"checkbox\" ><label for=\"67c86d95-ba88-42c9-a2f2-83e9ad82841f\" class=\"sk-toggleable__label sk-toggleable__label-arrow\">categorical</label><div class=\"sk-toggleable__content\"><pre>Index([&#x27;cap-shape&#x27;, &#x27;cap-surface&#x27;, &#x27;cap-color&#x27;, &#x27;bruises&#x27;, &#x27;odor&#x27;,\n",
       "       &#x27;gill-attachment&#x27;, &#x27;gill-spacing&#x27;, &#x27;gill-size&#x27;, &#x27;gill-color&#x27;,\n",
       "       &#x27;stalk-shape&#x27;, &#x27;stalk-root&#x27;, &#x27;stalk-surface-above-ring&#x27;,\n",
       "       &#x27;stalk-surface-below-ring&#x27;, &#x27;stalk-color-above-ring&#x27;,\n",
       "       &#x27;stalk-color-below-ring&#x27;, &#x27;veil-color&#x27;, &#x27;ring-number&#x27;, &#x27;ring-type&#x27;,\n",
       "       &#x27;spore-print-color&#x27;, &#x27;population&#x27;, &#x27;habitat&#x27;],\n",
       "      dtype=&#x27;object&#x27;)</pre></div></div></div><div class=\"sk-serial\"><div class=\"sk-item\"><div class=\"sk-serial\"><div class=\"sk-item\"><div class=\"sk-estimator sk-toggleable\"><input class=\"sk-toggleable__control sk-hidden--visually\" id=\"2bc15f06-0db7-48fc-9c24-c88838ffedcf\" type=\"checkbox\" ><label for=\"2bc15f06-0db7-48fc-9c24-c88838ffedcf\" class=\"sk-toggleable__label sk-toggleable__label-arrow\">SimpleImputer</label><div class=\"sk-toggleable__content\"><pre>SimpleImputer(fill_value=&#x27;missing&#x27;, strategy=&#x27;constant&#x27;)</pre></div></div></div><div class=\"sk-item\"><div class=\"sk-estimator sk-toggleable\"><input class=\"sk-toggleable__control sk-hidden--visually\" id=\"7e72c8c0-3230-42c8-a3f3-604359bab1ea\" type=\"checkbox\" ><label for=\"7e72c8c0-3230-42c8-a3f3-604359bab1ea\" class=\"sk-toggleable__label sk-toggleable__label-arrow\">OneHotEncoder</label><div class=\"sk-toggleable__content\"><pre>OneHotEncoder(handle_unknown=&#x27;ignore&#x27;)</pre></div></div></div></div></div></div></div></div><div class=\"sk-parallel-item\"><div class=\"sk-item\"><div class=\"sk-label-container\"><div class=\"sk-label sk-toggleable\"><input class=\"sk-toggleable__control sk-hidden--visually\" id=\"6881a37e-95aa-4b84-80b4-efc3f8f37996\" type=\"checkbox\" ><label for=\"6881a37e-95aa-4b84-80b4-efc3f8f37996\" class=\"sk-toggleable__label sk-toggleable__label-arrow\">numerical</label><div class=\"sk-toggleable__content\"><pre>Index([], dtype=&#x27;object&#x27;)</pre></div></div></div><div class=\"sk-serial\"><div class=\"sk-item\"><div class=\"sk-serial\"><div class=\"sk-item\"><div class=\"sk-estimator sk-toggleable\"><input class=\"sk-toggleable__control sk-hidden--visually\" id=\"3fc1b530-0d46-4b84-bd76-246ce08987f3\" type=\"checkbox\" ><label for=\"3fc1b530-0d46-4b84-bd76-246ce08987f3\" class=\"sk-toggleable__label sk-toggleable__label-arrow\">SimpleImputer</label><div class=\"sk-toggleable__content\"><pre>SimpleImputer(strategy=&#x27;most_frequent&#x27;)</pre></div></div></div><div class=\"sk-item\"><div class=\"sk-estimator sk-toggleable\"><input class=\"sk-toggleable__control sk-hidden--visually\" id=\"2f6272c5-3fda-46bf-a075-91fe7862ef29\" type=\"checkbox\" ><label for=\"2f6272c5-3fda-46bf-a075-91fe7862ef29\" class=\"sk-toggleable__label sk-toggleable__label-arrow\">StandardScaler</label><div class=\"sk-toggleable__content\"><pre>StandardScaler()</pre></div></div></div></div></div></div></div></div></div></div><div class=\"sk-item\"><div class=\"sk-estimator sk-toggleable\"><input class=\"sk-toggleable__control sk-hidden--visually\" id=\"be25a5a9-5010-4c6e-84cc-17b2f9afe460\" type=\"checkbox\" ><label for=\"be25a5a9-5010-4c6e-84cc-17b2f9afe460\" class=\"sk-toggleable__label sk-toggleable__label-arrow\">DecisionTreeClassifier</label><div class=\"sk-toggleable__content\"><pre>DecisionTreeClassifier()</pre></div></div></div></div></div></div></div>"
      ],
      "text/plain": [
       "Pipeline(steps=[('columntransformer',\n",
       "                 ColumnTransformer(transformers=[('categorical',\n",
       "                                                  Pipeline(steps=[('imputation_constant',\n",
       "                                                                   SimpleImputer(fill_value='missing',\n",
       "                                                                                 strategy='constant')),\n",
       "                                                                  ('onehot',\n",
       "                                                                   OneHotEncoder(handle_unknown='ignore'))]),\n",
       "                                                  Index(['cap-shape', 'cap-surface', 'cap-color', 'bruises', 'odor',\n",
       "       'gill-attachment', 'gill-spacing', 'gill-size', 'gill-color...\n",
       "       'stalk-surface-below-ring', 'stalk-color-above-ring',\n",
       "       'stalk-color-below-ring', 'veil-color', 'ring-number', 'ring-type',\n",
       "       'spore-print-color', 'population', 'habitat'],\n",
       "      dtype='object')),\n",
       "                                                 ('numerical',\n",
       "                                                  Pipeline(steps=[('imputation_mode',\n",
       "                                                                   SimpleImputer(strategy='most_frequent')),\n",
       "                                                                  ('standard_scaler',\n",
       "                                                                   StandardScaler())]),\n",
       "                                                  Index([], dtype='object'))])),\n",
       "                ('decisiontreeclassifier', DecisionTreeClassifier())])"
      ]
     },
     "execution_count": 68,
     "metadata": {},
     "output_type": "execute_result"
    }
   ],
   "source": [
    "dt.fit(X_train, y_train)"
   ]
  },
  {
   "cell_type": "code",
   "execution_count": 69,
   "id": "2b766b69",
   "metadata": {},
   "outputs": [],
   "source": [
    "y_pred_dt = dt.predict(X_test)"
   ]
  },
  {
   "cell_type": "code",
   "execution_count": 70,
   "id": "88325764",
   "metadata": {},
   "outputs": [
    {
     "data": {
      "text/plain": [
       "array([[1257,    0],\n",
       "       [   0, 1181]], dtype=int64)"
      ]
     },
     "execution_count": 70,
     "metadata": {},
     "output_type": "execute_result"
    }
   ],
   "source": [
    "from sklearn.metrics import confusion_matrix\n",
    "cm=confusion_matrix(y_test, y_pred_dt)\n",
    "cm"
   ]
  },
  {
   "cell_type": "code",
   "execution_count": 71,
   "id": "2b300831",
   "metadata": {},
   "outputs": [
    {
     "name": "stderr",
     "output_type": "stream",
     "text": [
      "E:\\Anaconda\\lib\\site-packages\\sklearn\\utils\\deprecation.py:87: FutureWarning: Function plot_confusion_matrix is deprecated; Function `plot_confusion_matrix` is deprecated in 1.0 and will be removed in 1.2. Use one of the class methods: ConfusionMatrixDisplay.from_predictions or ConfusionMatrixDisplay.from_estimator.\n",
      "  warnings.warn(msg, category=FutureWarning)\n"
     ]
    },
    {
     "data": {
      "image/png": "[encoded data removed]",
      "text/plain": [
       "<Figure size 432x288 with 2 Axes>"
      ]
     },
     "metadata": {
      "needs_background": "light"
     },
     "output_type": "display_data"
    }
   ],
   "source": [
    "from sklearn.metrics import plot_confusion_matrix\n",
    "color = 'black'\n",
    "matrix = plot_confusion_matrix(dt, X_test, y_test, cmap=plt.cm.Blues)\n",
    "matrix.ax_.set_title('Confusion Matrix', color=color)\n",
    "plt.xlabel('Predicted Label', color=color)\n",
    "plt.ylabel('True Label', color=color)\n",
    "plt.show()"
   ]
  },
  {
   "cell_type": "code",
   "execution_count": 89,
   "id": "59407337",
   "metadata": {},
   "outputs": [
    {
     "name": "stdout",
     "output_type": "stream",
     "text": [
      "              precision    recall  f1-score   support\n",
      "\n",
      "           e       1.00      1.00      1.00      1257\n",
      "           p       1.00      1.00      1.00      1181\n",
      "\n",
      "    accuracy                           1.00      2438\n",
      "   macro avg       1.00      1.00      1.00      2438\n",
      "weighted avg       1.00      1.00      1.00      2438\n",
      "\n"
     ]
    }
   ],
   "source": [
    "from sklearn.metrics import classification_report\n",
    "print(classification_report(y_test, y_pred_dt))"
   ]
  },
  {
   "cell_type": "markdown",
   "id": "71b865ca",
   "metadata": {},
   "source": [
    "### KNN"
   ]
  },
  {
   "cell_type": "code",
   "execution_count": 73,
   "id": "72a92207",
   "metadata": {},
   "outputs": [
    {
     "data": {
      "text/html": [
       "<style>#sk-6974505c-084e-4ea4-88fe-031179e7a4d4 {color: black;background-color: white;}#sk-6974505c-084e-4ea4-88fe-031179e7a4d4 pre{padding: 0;}#sk-6974505c-084e-4ea4-88fe-031179e7a4d4 div.sk-toggleable {background-color: white;}#sk-6974505c-084e-4ea4-88fe-031179e7a4d4 label.sk-toggleable__label {cursor: pointer;display: block;width: 100%;margin-bottom: 0;padding: 0.3em;box-sizing: border-box;text-align: center;}#sk-6974505c-084e-4ea4-88fe-031179e7a4d4 label.sk-toggleable__label-arrow:before {content: \"▸\";float: left;margin-right: 0.25em;color: #696969;}#sk-6974505c-084e-4ea4-88fe-031179e7a4d4 label.sk-toggleable__label-arrow:hover:before {color: black;}#sk-6974505c-084e-4ea4-88fe-031179e7a4d4 div.sk-estimator:hover label.sk-toggleable__label-arrow:before {color: black;}#sk-6974505c-084e-4ea4-88fe-031179e7a4d4 div.sk-toggleable__content {max-height: 0;max-width: 0;overflow: hidden;text-align: left;background-color: #f0f8ff;}#sk-6974505c-084e-4ea4-88fe-031179e7a4d4 div.sk-toggleable__content pre {margin: 0.2em;color: black;border-radius: 0.25em;background-color: #f0f8ff;}#sk-6974505c-084e-4ea4-88fe-031179e7a4d4 input.sk-toggleable__control:checked~div.sk-toggleable__content {max-height: 200px;max-width: 100%;overflow: auto;}#sk-6974505c-084e-4ea4-88fe-031179e7a4d4 input.sk-toggleable__control:checked~label.sk-toggleable__label-arrow:before {content: \"▾\";}#sk-6974505c-084e-4ea4-88fe-031179e7a4d4 div.sk-estimator input.sk-toggleable__control:checked~label.sk-toggleable__label {background-color: #d4ebff;}#sk-6974505c-084e-4ea4-88fe-031179e7a4d4 div.sk-label input.sk-toggleable__control:checked~label.sk-toggleable__label {background-color: #d4ebff;}#sk-6974505c-084e-4ea4-88fe-031179e7a4d4 input.sk-hidden--visually {border: 0;clip: rect(1px 1px 1px 1px);clip: rect(1px, 1px, 1px, 1px);height: 1px;margin: -1px;overflow: hidden;padding: 0;position: absolute;width: 1px;}#sk-6974505c-084e-4ea4-88fe-031179e7a4d4 div.sk-estimator {font-family: monospace;background-color: #f0f8ff;border: 1px dotted black;border-radius: 0.25em;box-sizing: border-box;margin-bottom: 0.5em;}#sk-6974505c-084e-4ea4-88fe-031179e7a4d4 div.sk-estimator:hover {background-color: #d4ebff;}#sk-6974505c-084e-4ea4-88fe-031179e7a4d4 div.sk-parallel-item::after {content: \"\";width: 100%;border-bottom: 1px solid gray;flex-grow: 1;}#sk-6974505c-084e-4ea4-88fe-031179e7a4d4 div.sk-label:hover label.sk-toggleable__label {background-color: #d4ebff;}#sk-6974505c-084e-4ea4-88fe-031179e7a4d4 div.sk-serial::before {content: \"\";position: absolute;border-left: 1px solid gray;box-sizing: border-box;top: 2em;bottom: 0;left: 50%;}#sk-6974505c-084e-4ea4-88fe-031179e7a4d4 div.sk-serial {display: flex;flex-direction: column;align-items: center;background-color: white;padding-right: 0.2em;padding-left: 0.2em;}#sk-6974505c-084e-4ea4-88fe-031179e7a4d4 div.sk-item {z-index: 1;}#sk-6974505c-084e-4ea4-88fe-031179e7a4d4 div.sk-parallel {display: flex;align-items: stretch;justify-content: center;background-color: white;}#sk-6974505c-084e-4ea4-88fe-031179e7a4d4 div.sk-parallel::before {content: \"\";position: absolute;border-left: 1px solid gray;box-sizing: border-box;top: 2em;bottom: 0;left: 50%;}#sk-6974505c-084e-4ea4-88fe-031179e7a4d4 div.sk-parallel-item {display: flex;flex-direction: column;position: relative;background-color: white;}#sk-6974505c-084e-4ea4-88fe-031179e7a4d4 div.sk-parallel-item:first-child::after {align-self: flex-end;width: 50%;}#sk-6974505c-084e-4ea4-88fe-031179e7a4d4 div.sk-parallel-item:last-child::after {align-self: flex-start;width: 50%;}#sk-6974505c-084e-4ea4-88fe-031179e7a4d4 div.sk-parallel-item:only-child::after {width: 0;}#sk-6974505c-084e-4ea4-88fe-031179e7a4d4 div.sk-dashed-wrapped {border: 1px dashed gray;margin: 0 0.4em 0.5em 0.4em;box-sizing: border-box;padding-bottom: 0.4em;background-color: white;position: relative;}#sk-6974505c-084e-4ea4-88fe-031179e7a4d4 div.sk-label label {font-family: monospace;font-weight: bold;background-color: white;display: inline-block;line-height: 1.2em;}#sk-6974505c-084e-4ea4-88fe-031179e7a4d4 div.sk-label-container {position: relative;z-index: 2;text-align: center;}#sk-6974505c-084e-4ea4-88fe-031179e7a4d4 div.sk-container {/* jupyter's `normalize.less` sets `[hidden] { display: none; }` but bootstrap.min.css set `[hidden] { display: none !important; }` so we also need the `!important` here to be able to override the default hidden behavior on the sphinx rendered scikit-learn.org. See: https://github.com/scikit-learn/scikit-learn/issues/21755 */display: inline-block !important;position: relative;}#sk-6974505c-084e-4ea4-88fe-031179e7a4d4 div.sk-text-repr-fallback {display: none;}</style><div id=\"sk-6974505c-084e-4ea4-88fe-031179e7a4d4\" class=\"sk-top-container\"><div class=\"sk-text-repr-fallback\"><pre>Pipeline(steps=[(&#x27;columntransformer&#x27;,\n",
       "                 ColumnTransformer(transformers=[(&#x27;categorical&#x27;,\n",
       "                                                  Pipeline(steps=[(&#x27;imputation_constant&#x27;,\n",
       "                                                                   SimpleImputer(fill_value=&#x27;missing&#x27;,\n",
       "                                                                                 strategy=&#x27;constant&#x27;)),\n",
       "                                                                  (&#x27;onehot&#x27;,\n",
       "                                                                   OneHotEncoder(handle_unknown=&#x27;ignore&#x27;))]),\n",
       "                                                  Index([&#x27;cap-shape&#x27;, &#x27;cap-surface&#x27;, &#x27;cap-color&#x27;, &#x27;bruises&#x27;, &#x27;odor&#x27;,\n",
       "       &#x27;gill-attachment&#x27;, &#x27;gill-spacing&#x27;, &#x27;gill-size&#x27;, &#x27;gill-color...\n",
       "       &#x27;stalk-surface-below-ring&#x27;, &#x27;stalk-color-above-ring&#x27;,\n",
       "       &#x27;stalk-color-below-ring&#x27;, &#x27;veil-color&#x27;, &#x27;ring-number&#x27;, &#x27;ring-type&#x27;,\n",
       "       &#x27;spore-print-color&#x27;, &#x27;population&#x27;, &#x27;habitat&#x27;],\n",
       "      dtype=&#x27;object&#x27;)),\n",
       "                                                 (&#x27;numerical&#x27;,\n",
       "                                                  Pipeline(steps=[(&#x27;imputation_mode&#x27;,\n",
       "                                                                   SimpleImputer(strategy=&#x27;most_frequent&#x27;)),\n",
       "                                                                  (&#x27;standard_scaler&#x27;,\n",
       "                                                                   StandardScaler())]),\n",
       "                                                  Index([], dtype=&#x27;object&#x27;))])),\n",
       "                (&#x27;kneighborsclassifier&#x27;, KNeighborsClassifier())])</pre><b>Please rerun this cell to show the HTML repr or trust the notebook.</b></div><div class=\"sk-container\" hidden><div class=\"sk-item sk-dashed-wrapped\"><div class=\"sk-label-container\"><div class=\"sk-label sk-toggleable\"><input class=\"sk-toggleable__control sk-hidden--visually\" id=\"0ced840b-4198-48e3-a85e-94a3b3df4fe4\" type=\"checkbox\" ><label for=\"0ced840b-4198-48e3-a85e-94a3b3df4fe4\" class=\"sk-toggleable__label sk-toggleable__label-arrow\">Pipeline</label><div class=\"sk-toggleable__content\"><pre>Pipeline(steps=[(&#x27;columntransformer&#x27;,\n",
       "                 ColumnTransformer(transformers=[(&#x27;categorical&#x27;,\n",
       "                                                  Pipeline(steps=[(&#x27;imputation_constant&#x27;,\n",
       "                                                                   SimpleImputer(fill_value=&#x27;missing&#x27;,\n",
       "                                                                                 strategy=&#x27;constant&#x27;)),\n",
       "                                                                  (&#x27;onehot&#x27;,\n",
       "                                                                   OneHotEncoder(handle_unknown=&#x27;ignore&#x27;))]),\n",
       "                                                  Index([&#x27;cap-shape&#x27;, &#x27;cap-surface&#x27;, &#x27;cap-color&#x27;, &#x27;bruises&#x27;, &#x27;odor&#x27;,\n",
       "       &#x27;gill-attachment&#x27;, &#x27;gill-spacing&#x27;, &#x27;gill-size&#x27;, &#x27;gill-color...\n",
       "       &#x27;stalk-surface-below-ring&#x27;, &#x27;stalk-color-above-ring&#x27;,\n",
       "       &#x27;stalk-color-below-ring&#x27;, &#x27;veil-color&#x27;, &#x27;ring-number&#x27;, &#x27;ring-type&#x27;,\n",
       "       &#x27;spore-print-color&#x27;, &#x27;population&#x27;, &#x27;habitat&#x27;],\n",
       "      dtype=&#x27;object&#x27;)),\n",
       "                                                 (&#x27;numerical&#x27;,\n",
       "                                                  Pipeline(steps=[(&#x27;imputation_mode&#x27;,\n",
       "                                                                   SimpleImputer(strategy=&#x27;most_frequent&#x27;)),\n",
       "                                                                  (&#x27;standard_scaler&#x27;,\n",
       "                                                                   StandardScaler())]),\n",
       "                                                  Index([], dtype=&#x27;object&#x27;))])),\n",
       "                (&#x27;kneighborsclassifier&#x27;, KNeighborsClassifier())])</pre></div></div></div><div class=\"sk-serial\"><div class=\"sk-item sk-dashed-wrapped\"><div class=\"sk-label-container\"><div class=\"sk-label sk-toggleable\"><input class=\"sk-toggleable__control sk-hidden--visually\" id=\"f2d3e9c1-b5c6-4a01-9d82-4371d69c2cbe\" type=\"checkbox\" ><label for=\"f2d3e9c1-b5c6-4a01-9d82-4371d69c2cbe\" class=\"sk-toggleable__label sk-toggleable__label-arrow\">columntransformer: ColumnTransformer</label><div class=\"sk-toggleable__content\"><pre>ColumnTransformer(transformers=[(&#x27;categorical&#x27;,\n",
       "                                 Pipeline(steps=[(&#x27;imputation_constant&#x27;,\n",
       "                                                  SimpleImputer(fill_value=&#x27;missing&#x27;,\n",
       "                                                                strategy=&#x27;constant&#x27;)),\n",
       "                                                 (&#x27;onehot&#x27;,\n",
       "                                                  OneHotEncoder(handle_unknown=&#x27;ignore&#x27;))]),\n",
       "                                 Index([&#x27;cap-shape&#x27;, &#x27;cap-surface&#x27;, &#x27;cap-color&#x27;, &#x27;bruises&#x27;, &#x27;odor&#x27;,\n",
       "       &#x27;gill-attachment&#x27;, &#x27;gill-spacing&#x27;, &#x27;gill-size&#x27;, &#x27;gill-color&#x27;,\n",
       "       &#x27;stalk-shape&#x27;, &#x27;stalk-root&#x27;, &#x27;stalk-surface-above-ring&#x27;,\n",
       "       &#x27;stalk-surface-below-ring&#x27;, &#x27;stalk-color-above-ring&#x27;,\n",
       "       &#x27;stalk-color-below-ring&#x27;, &#x27;veil-color&#x27;, &#x27;ring-number&#x27;, &#x27;ring-type&#x27;,\n",
       "       &#x27;spore-print-color&#x27;, &#x27;population&#x27;, &#x27;habitat&#x27;],\n",
       "      dtype=&#x27;object&#x27;)),\n",
       "                                (&#x27;numerical&#x27;,\n",
       "                                 Pipeline(steps=[(&#x27;imputation_mode&#x27;,\n",
       "                                                  SimpleImputer(strategy=&#x27;most_frequent&#x27;)),\n",
       "                                                 (&#x27;standard_scaler&#x27;,\n",
       "                                                  StandardScaler())]),\n",
       "                                 Index([], dtype=&#x27;object&#x27;))])</pre></div></div></div><div class=\"sk-parallel\"><div class=\"sk-parallel-item\"><div class=\"sk-item\"><div class=\"sk-label-container\"><div class=\"sk-label sk-toggleable\"><input class=\"sk-toggleable__control sk-hidden--visually\" id=\"6651736b-0822-4528-8667-9c43fa3d570c\" type=\"checkbox\" ><label for=\"6651736b-0822-4528-8667-9c43fa3d570c\" class=\"sk-toggleable__label sk-toggleable__label-arrow\">categorical</label><div class=\"sk-toggleable__content\"><pre>Index([&#x27;cap-shape&#x27;, &#x27;cap-surface&#x27;, &#x27;cap-color&#x27;, &#x27;bruises&#x27;, &#x27;odor&#x27;,\n",
       "       &#x27;gill-attachment&#x27;, &#x27;gill-spacing&#x27;, &#x27;gill-size&#x27;, &#x27;gill-color&#x27;,\n",
       "       &#x27;stalk-shape&#x27;, &#x27;stalk-root&#x27;, &#x27;stalk-surface-above-ring&#x27;,\n",
       "       &#x27;stalk-surface-below-ring&#x27;, &#x27;stalk-color-above-ring&#x27;,\n",
       "       &#x27;stalk-color-below-ring&#x27;, &#x27;veil-color&#x27;, &#x27;ring-number&#x27;, &#x27;ring-type&#x27;,\n",
       "       &#x27;spore-print-color&#x27;, &#x27;population&#x27;, &#x27;habitat&#x27;],\n",
       "      dtype=&#x27;object&#x27;)</pre></div></div></div><div class=\"sk-serial\"><div class=\"sk-item\"><div class=\"sk-serial\"><div class=\"sk-item\"><div class=\"sk-estimator sk-toggleable\"><input class=\"sk-toggleable__control sk-hidden--visually\" id=\"02a1d09c-dd38-471f-9a6e-a1297c85f00f\" type=\"checkbox\" ><label for=\"02a1d09c-dd38-471f-9a6e-a1297c85f00f\" class=\"sk-toggleable__label sk-toggleable__label-arrow\">SimpleImputer</label><div class=\"sk-toggleable__content\"><pre>SimpleImputer(fill_value=&#x27;missing&#x27;, strategy=&#x27;constant&#x27;)</pre></div></div></div><div class=\"sk-item\"><div class=\"sk-estimator sk-toggleable\"><input class=\"sk-toggleable__control sk-hidden--visually\" id=\"687b1c0b-368d-4505-a3a6-cb44c7ed75d4\" type=\"checkbox\" ><label for=\"687b1c0b-368d-4505-a3a6-cb44c7ed75d4\" class=\"sk-toggleable__label sk-toggleable__label-arrow\">OneHotEncoder</label><div class=\"sk-toggleable__content\"><pre>OneHotEncoder(handle_unknown=&#x27;ignore&#x27;)</pre></div></div></div></div></div></div></div></div><div class=\"sk-parallel-item\"><div class=\"sk-item\"><div class=\"sk-label-container\"><div class=\"sk-label sk-toggleable\"><input class=\"sk-toggleable__control sk-hidden--visually\" id=\"7eca32a2-89c2-4197-a8c6-002deacbc2a1\" type=\"checkbox\" ><label for=\"7eca32a2-89c2-4197-a8c6-002deacbc2a1\" class=\"sk-toggleable__label sk-toggleable__label-arrow\">numerical</label><div class=\"sk-toggleable__content\"><pre>Index([], dtype=&#x27;object&#x27;)</pre></div></div></div><div class=\"sk-serial\"><div class=\"sk-item\"><div class=\"sk-serial\"><div class=\"sk-item\"><div class=\"sk-estimator sk-toggleable\"><input class=\"sk-toggleable__control sk-hidden--visually\" id=\"3d3ea2c5-51ac-46a6-9e8b-499e409bdac5\" type=\"checkbox\" ><label for=\"3d3ea2c5-51ac-46a6-9e8b-499e409bdac5\" class=\"sk-toggleable__label sk-toggleable__label-arrow\">SimpleImputer</label><div class=\"sk-toggleable__content\"><pre>SimpleImputer(strategy=&#x27;most_frequent&#x27;)</pre></div></div></div><div class=\"sk-item\"><div class=\"sk-estimator sk-toggleable\"><input class=\"sk-toggleable__control sk-hidden--visually\" id=\"2616958a-674c-4637-b2d2-c54b84659cbf\" type=\"checkbox\" ><label for=\"2616958a-674c-4637-b2d2-c54b84659cbf\" class=\"sk-toggleable__label sk-toggleable__label-arrow\">StandardScaler</label><div class=\"sk-toggleable__content\"><pre>StandardScaler()</pre></div></div></div></div></div></div></div></div></div></div><div class=\"sk-item\"><div class=\"sk-estimator sk-toggleable\"><input class=\"sk-toggleable__control sk-hidden--visually\" id=\"1cf70cce-6834-4492-8313-75328f3d9d7b\" type=\"checkbox\" ><label for=\"1cf70cce-6834-4492-8313-75328f3d9d7b\" class=\"sk-toggleable__label sk-toggleable__label-arrow\">KNeighborsClassifier</label><div class=\"sk-toggleable__content\"><pre>KNeighborsClassifier()</pre></div></div></div></div></div></div></div>"
      ],
      "text/plain": [
       "Pipeline(steps=[('columntransformer',\n",
       "                 ColumnTransformer(transformers=[('categorical',\n",
       "                                                  Pipeline(steps=[('imputation_constant',\n",
       "                                                                   SimpleImputer(fill_value='missing',\n",
       "                                                                                 strategy='constant')),\n",
       "                                                                  ('onehot',\n",
       "                                                                   OneHotEncoder(handle_unknown='ignore'))]),\n",
       "                                                  Index(['cap-shape', 'cap-surface', 'cap-color', 'bruises', 'odor',\n",
       "       'gill-attachment', 'gill-spacing', 'gill-size', 'gill-color...\n",
       "       'stalk-surface-below-ring', 'stalk-color-above-ring',\n",
       "       'stalk-color-below-ring', 'veil-color', 'ring-number', 'ring-type',\n",
       "       'spore-print-color', 'population', 'habitat'],\n",
       "      dtype='object')),\n",
       "                                                 ('numerical',\n",
       "                                                  Pipeline(steps=[('imputation_mode',\n",
       "                                                                   SimpleImputer(strategy='most_frequent')),\n",
       "                                                                  ('standard_scaler',\n",
       "                                                                   StandardScaler())]),\n",
       "                                                  Index([], dtype='object'))])),\n",
       "                ('kneighborsclassifier', KNeighborsClassifier())])"
      ]
     },
     "execution_count": 73,
     "metadata": {},
     "output_type": "execute_result"
    }
   ],
   "source": [
    "from sklearn.neighbors import KNeighborsClassifier\n",
    "knn=make_pipeline(preprocessor, KNeighborsClassifier())\n",
    "knn"
   ]
  },
  {
   "cell_type": "code",
   "execution_count": 74,
   "id": "5c87c5d3",
   "metadata": {},
   "outputs": [
    {
     "data": {
      "text/html": [
       "<style>#sk-bbfcbe0f-e716-4069-93bb-2543e462fe8d {color: black;background-color: white;}#sk-bbfcbe0f-e716-4069-93bb-2543e462fe8d pre{padding: 0;}#sk-bbfcbe0f-e716-4069-93bb-2543e462fe8d div.sk-toggleable {background-color: white;}#sk-bbfcbe0f-e716-4069-93bb-2543e462fe8d label.sk-toggleable__label {cursor: pointer;display: block;width: 100%;margin-bottom: 0;padding: 0.3em;box-sizing: border-box;text-align: center;}#sk-bbfcbe0f-e716-4069-93bb-2543e462fe8d label.sk-toggleable__label-arrow:before {content: \"▸\";float: left;margin-right: 0.25em;color: #696969;}#sk-bbfcbe0f-e716-4069-93bb-2543e462fe8d label.sk-toggleable__label-arrow:hover:before {color: black;}#sk-bbfcbe0f-e716-4069-93bb-2543e462fe8d div.sk-estimator:hover label.sk-toggleable__label-arrow:before {color: black;}#sk-bbfcbe0f-e716-4069-93bb-2543e462fe8d div.sk-toggleable__content {max-height: 0;max-width: 0;overflow: hidden;text-align: left;background-color: #f0f8ff;}#sk-bbfcbe0f-e716-4069-93bb-2543e462fe8d div.sk-toggleable__content pre {margin: 0.2em;color: black;border-radius: 0.25em;background-color: #f0f8ff;}#sk-bbfcbe0f-e716-4069-93bb-2543e462fe8d input.sk-toggleable__control:checked~div.sk-toggleable__content {max-height: 200px;max-width: 100%;overflow: auto;}#sk-bbfcbe0f-e716-4069-93bb-2543e462fe8d input.sk-toggleable__control:checked~label.sk-toggleable__label-arrow:before {content: \"▾\";}#sk-bbfcbe0f-e716-4069-93bb-2543e462fe8d div.sk-estimator input.sk-toggleable__control:checked~label.sk-toggleable__label {background-color: #d4ebff;}#sk-bbfcbe0f-e716-4069-93bb-2543e462fe8d div.sk-label input.sk-toggleable__control:checked~label.sk-toggleable__label {background-color: #d4ebff;}#sk-bbfcbe0f-e716-4069-93bb-2543e462fe8d input.sk-hidden--visually {border: 0;clip: rect(1px 1px 1px 1px);clip: rect(1px, 1px, 1px, 1px);height: 1px;margin: -1px;overflow: hidden;padding: 0;position: absolute;width: 1px;}#sk-bbfcbe0f-e716-4069-93bb-2543e462fe8d div.sk-estimator {font-family: monospace;background-color: #f0f8ff;border: 1px dotted black;border-radius: 0.25em;box-sizing: border-box;margin-bottom: 0.5em;}#sk-bbfcbe0f-e716-4069-93bb-2543e462fe8d div.sk-estimator:hover {background-color: #d4ebff;}#sk-bbfcbe0f-e716-4069-93bb-2543e462fe8d div.sk-parallel-item::after {content: \"\";width: 100%;border-bottom: 1px solid gray;flex-grow: 1;}#sk-bbfcbe0f-e716-4069-93bb-2543e462fe8d div.sk-label:hover label.sk-toggleable__label {background-color: #d4ebff;}#sk-bbfcbe0f-e716-4069-93bb-2543e462fe8d div.sk-serial::before {content: \"\";position: absolute;border-left: 1px solid gray;box-sizing: border-box;top: 2em;bottom: 0;left: 50%;}#sk-bbfcbe0f-e716-4069-93bb-2543e462fe8d div.sk-serial {display: flex;flex-direction: column;align-items: center;background-color: white;padding-right: 0.2em;padding-left: 0.2em;}#sk-bbfcbe0f-e716-4069-93bb-2543e462fe8d div.sk-item {z-index: 1;}#sk-bbfcbe0f-e716-4069-93bb-2543e462fe8d div.sk-parallel {display: flex;align-items: stretch;justify-content: center;background-color: white;}#sk-bbfcbe0f-e716-4069-93bb-2543e462fe8d div.sk-parallel::before {content: \"\";position: absolute;border-left: 1px solid gray;box-sizing: border-box;top: 2em;bottom: 0;left: 50%;}#sk-bbfcbe0f-e716-4069-93bb-2543e462fe8d div.sk-parallel-item {display: flex;flex-direction: column;position: relative;background-color: white;}#sk-bbfcbe0f-e716-4069-93bb-2543e462fe8d div.sk-parallel-item:first-child::after {align-self: flex-end;width: 50%;}#sk-bbfcbe0f-e716-4069-93bb-2543e462fe8d div.sk-parallel-item:last-child::after {align-self: flex-start;width: 50%;}#sk-bbfcbe0f-e716-4069-93bb-2543e462fe8d div.sk-parallel-item:only-child::after {width: 0;}#sk-bbfcbe0f-e716-4069-93bb-2543e462fe8d div.sk-dashed-wrapped {border: 1px dashed gray;margin: 0 0.4em 0.5em 0.4em;box-sizing: border-box;padding-bottom: 0.4em;background-color: white;position: relative;}#sk-bbfcbe0f-e716-4069-93bb-2543e462fe8d div.sk-label label {font-family: monospace;font-weight: bold;background-color: white;display: inline-block;line-height: 1.2em;}#sk-bbfcbe0f-e716-4069-93bb-2543e462fe8d div.sk-label-container {position: relative;z-index: 2;text-align: center;}#sk-bbfcbe0f-e716-4069-93bb-2543e462fe8d div.sk-container {/* jupyter's `normalize.less` sets `[hidden] { display: none; }` but bootstrap.min.css set `[hidden] { display: none !important; }` so we also need the `!important` here to be able to override the default hidden behavior on the sphinx rendered scikit-learn.org. See: https://github.com/scikit-learn/scikit-learn/issues/21755 */display: inline-block !important;position: relative;}#sk-bbfcbe0f-e716-4069-93bb-2543e462fe8d div.sk-text-repr-fallback {display: none;}</style><div id=\"sk-bbfcbe0f-e716-4069-93bb-2543e462fe8d\" class=\"sk-top-container\"><div class=\"sk-text-repr-fallback\"><pre>Pipeline(steps=[(&#x27;columntransformer&#x27;,\n",
       "                 ColumnTransformer(transformers=[(&#x27;categorical&#x27;,\n",
       "                                                  Pipeline(steps=[(&#x27;imputation_constant&#x27;,\n",
       "                                                                   SimpleImputer(fill_value=&#x27;missing&#x27;,\n",
       "                                                                                 strategy=&#x27;constant&#x27;)),\n",
       "                                                                  (&#x27;onehot&#x27;,\n",
       "                                                                   OneHotEncoder(handle_unknown=&#x27;ignore&#x27;))]),\n",
       "                                                  Index([&#x27;cap-shape&#x27;, &#x27;cap-surface&#x27;, &#x27;cap-color&#x27;, &#x27;bruises&#x27;, &#x27;odor&#x27;,\n",
       "       &#x27;gill-attachment&#x27;, &#x27;gill-spacing&#x27;, &#x27;gill-size&#x27;, &#x27;gill-color...\n",
       "       &#x27;stalk-surface-below-ring&#x27;, &#x27;stalk-color-above-ring&#x27;,\n",
       "       &#x27;stalk-color-below-ring&#x27;, &#x27;veil-color&#x27;, &#x27;ring-number&#x27;, &#x27;ring-type&#x27;,\n",
       "       &#x27;spore-print-color&#x27;, &#x27;population&#x27;, &#x27;habitat&#x27;],\n",
       "      dtype=&#x27;object&#x27;)),\n",
       "                                                 (&#x27;numerical&#x27;,\n",
       "                                                  Pipeline(steps=[(&#x27;imputation_mode&#x27;,\n",
       "                                                                   SimpleImputer(strategy=&#x27;most_frequent&#x27;)),\n",
       "                                                                  (&#x27;standard_scaler&#x27;,\n",
       "                                                                   StandardScaler())]),\n",
       "                                                  Index([], dtype=&#x27;object&#x27;))])),\n",
       "                (&#x27;kneighborsclassifier&#x27;, KNeighborsClassifier())])</pre><b>Please rerun this cell to show the HTML repr or trust the notebook.</b></div><div class=\"sk-container\" hidden><div class=\"sk-item sk-dashed-wrapped\"><div class=\"sk-label-container\"><div class=\"sk-label sk-toggleable\"><input class=\"sk-toggleable__control sk-hidden--visually\" id=\"8b8af968-cc6a-40b8-9147-8a4d4e38be04\" type=\"checkbox\" ><label for=\"8b8af968-cc6a-40b8-9147-8a4d4e38be04\" class=\"sk-toggleable__label sk-toggleable__label-arrow\">Pipeline</label><div class=\"sk-toggleable__content\"><pre>Pipeline(steps=[(&#x27;columntransformer&#x27;,\n",
       "                 ColumnTransformer(transformers=[(&#x27;categorical&#x27;,\n",
       "                                                  Pipeline(steps=[(&#x27;imputation_constant&#x27;,\n",
       "                                                                   SimpleImputer(fill_value=&#x27;missing&#x27;,\n",
       "                                                                                 strategy=&#x27;constant&#x27;)),\n",
       "                                                                  (&#x27;onehot&#x27;,\n",
       "                                                                   OneHotEncoder(handle_unknown=&#x27;ignore&#x27;))]),\n",
       "                                                  Index([&#x27;cap-shape&#x27;, &#x27;cap-surface&#x27;, &#x27;cap-color&#x27;, &#x27;bruises&#x27;, &#x27;odor&#x27;,\n",
       "       &#x27;gill-attachment&#x27;, &#x27;gill-spacing&#x27;, &#x27;gill-size&#x27;, &#x27;gill-color...\n",
       "       &#x27;stalk-surface-below-ring&#x27;, &#x27;stalk-color-above-ring&#x27;,\n",
       "       &#x27;stalk-color-below-ring&#x27;, &#x27;veil-color&#x27;, &#x27;ring-number&#x27;, &#x27;ring-type&#x27;,\n",
       "       &#x27;spore-print-color&#x27;, &#x27;population&#x27;, &#x27;habitat&#x27;],\n",
       "      dtype=&#x27;object&#x27;)),\n",
       "                                                 (&#x27;numerical&#x27;,\n",
       "                                                  Pipeline(steps=[(&#x27;imputation_mode&#x27;,\n",
       "                                                                   SimpleImputer(strategy=&#x27;most_frequent&#x27;)),\n",
       "                                                                  (&#x27;standard_scaler&#x27;,\n",
       "                                                                   StandardScaler())]),\n",
       "                                                  Index([], dtype=&#x27;object&#x27;))])),\n",
       "                (&#x27;kneighborsclassifier&#x27;, KNeighborsClassifier())])</pre></div></div></div><div class=\"sk-serial\"><div class=\"sk-item sk-dashed-wrapped\"><div class=\"sk-label-container\"><div class=\"sk-label sk-toggleable\"><input class=\"sk-toggleable__control sk-hidden--visually\" id=\"0f993cab-2d4f-4430-9b28-1c95638d8980\" type=\"checkbox\" ><label for=\"0f993cab-2d4f-4430-9b28-1c95638d8980\" class=\"sk-toggleable__label sk-toggleable__label-arrow\">columntransformer: ColumnTransformer</label><div class=\"sk-toggleable__content\"><pre>ColumnTransformer(transformers=[(&#x27;categorical&#x27;,\n",
       "                                 Pipeline(steps=[(&#x27;imputation_constant&#x27;,\n",
       "                                                  SimpleImputer(fill_value=&#x27;missing&#x27;,\n",
       "                                                                strategy=&#x27;constant&#x27;)),\n",
       "                                                 (&#x27;onehot&#x27;,\n",
       "                                                  OneHotEncoder(handle_unknown=&#x27;ignore&#x27;))]),\n",
       "                                 Index([&#x27;cap-shape&#x27;, &#x27;cap-surface&#x27;, &#x27;cap-color&#x27;, &#x27;bruises&#x27;, &#x27;odor&#x27;,\n",
       "       &#x27;gill-attachment&#x27;, &#x27;gill-spacing&#x27;, &#x27;gill-size&#x27;, &#x27;gill-color&#x27;,\n",
       "       &#x27;stalk-shape&#x27;, &#x27;stalk-root&#x27;, &#x27;stalk-surface-above-ring&#x27;,\n",
       "       &#x27;stalk-surface-below-ring&#x27;, &#x27;stalk-color-above-ring&#x27;,\n",
       "       &#x27;stalk-color-below-ring&#x27;, &#x27;veil-color&#x27;, &#x27;ring-number&#x27;, &#x27;ring-type&#x27;,\n",
       "       &#x27;spore-print-color&#x27;, &#x27;population&#x27;, &#x27;habitat&#x27;],\n",
       "      dtype=&#x27;object&#x27;)),\n",
       "                                (&#x27;numerical&#x27;,\n",
       "                                 Pipeline(steps=[(&#x27;imputation_mode&#x27;,\n",
       "                                                  SimpleImputer(strategy=&#x27;most_frequent&#x27;)),\n",
       "                                                 (&#x27;standard_scaler&#x27;,\n",
       "                                                  StandardScaler())]),\n",
       "                                 Index([], dtype=&#x27;object&#x27;))])</pre></div></div></div><div class=\"sk-parallel\"><div class=\"sk-parallel-item\"><div class=\"sk-item\"><div class=\"sk-label-container\"><div class=\"sk-label sk-toggleable\"><input class=\"sk-toggleable__control sk-hidden--visually\" id=\"3b9a892a-7856-4143-9ce6-8ed5e6a08b88\" type=\"checkbox\" ><label for=\"3b9a892a-7856-4143-9ce6-8ed5e6a08b88\" class=\"sk-toggleable__label sk-toggleable__label-arrow\">categorical</label><div class=\"sk-toggleable__content\"><pre>Index([&#x27;cap-shape&#x27;, &#x27;cap-surface&#x27;, &#x27;cap-color&#x27;, &#x27;bruises&#x27;, &#x27;odor&#x27;,\n",
       "       &#x27;gill-attachment&#x27;, &#x27;gill-spacing&#x27;, &#x27;gill-size&#x27;, &#x27;gill-color&#x27;,\n",
       "       &#x27;stalk-shape&#x27;, &#x27;stalk-root&#x27;, &#x27;stalk-surface-above-ring&#x27;,\n",
       "       &#x27;stalk-surface-below-ring&#x27;, &#x27;stalk-color-above-ring&#x27;,\n",
       "       &#x27;stalk-color-below-ring&#x27;, &#x27;veil-color&#x27;, &#x27;ring-number&#x27;, &#x27;ring-type&#x27;,\n",
       "       &#x27;spore-print-color&#x27;, &#x27;population&#x27;, &#x27;habitat&#x27;],\n",
       "      dtype=&#x27;object&#x27;)</pre></div></div></div><div class=\"sk-serial\"><div class=\"sk-item\"><div class=\"sk-serial\"><div class=\"sk-item\"><div class=\"sk-estimator sk-toggleable\"><input class=\"sk-toggleable__control sk-hidden--visually\" id=\"67952783-9851-4f2f-9a4a-794ff831080f\" type=\"checkbox\" ><label for=\"67952783-9851-4f2f-9a4a-794ff831080f\" class=\"sk-toggleable__label sk-toggleable__label-arrow\">SimpleImputer</label><div class=\"sk-toggleable__content\"><pre>SimpleImputer(fill_value=&#x27;missing&#x27;, strategy=&#x27;constant&#x27;)</pre></div></div></div><div class=\"sk-item\"><div class=\"sk-estimator sk-toggleable\"><input class=\"sk-toggleable__control sk-hidden--visually\" id=\"4116e16e-183e-4b0a-948f-1215694899b3\" type=\"checkbox\" ><label for=\"4116e16e-183e-4b0a-948f-1215694899b3\" class=\"sk-toggleable__label sk-toggleable__label-arrow\">OneHotEncoder</label><div class=\"sk-toggleable__content\"><pre>OneHotEncoder(handle_unknown=&#x27;ignore&#x27;)</pre></div></div></div></div></div></div></div></div><div class=\"sk-parallel-item\"><div class=\"sk-item\"><div class=\"sk-label-container\"><div class=\"sk-label sk-toggleable\"><input class=\"sk-toggleable__control sk-hidden--visually\" id=\"4d27493b-f446-4c74-9b4b-785a0bf7d81b\" type=\"checkbox\" ><label for=\"4d27493b-f446-4c74-9b4b-785a0bf7d81b\" class=\"sk-toggleable__label sk-toggleable__label-arrow\">numerical</label><div class=\"sk-toggleable__content\"><pre>Index([], dtype=&#x27;object&#x27;)</pre></div></div></div><div class=\"sk-serial\"><div class=\"sk-item\"><div class=\"sk-serial\"><div class=\"sk-item\"><div class=\"sk-estimator sk-toggleable\"><input class=\"sk-toggleable__control sk-hidden--visually\" id=\"22bc5efe-3f1e-464b-a299-daacd10a0e16\" type=\"checkbox\" ><label for=\"22bc5efe-3f1e-464b-a299-daacd10a0e16\" class=\"sk-toggleable__label sk-toggleable__label-arrow\">SimpleImputer</label><div class=\"sk-toggleable__content\"><pre>SimpleImputer(strategy=&#x27;most_frequent&#x27;)</pre></div></div></div><div class=\"sk-item\"><div class=\"sk-estimator sk-toggleable\"><input class=\"sk-toggleable__control sk-hidden--visually\" id=\"eb7f64a1-981e-4faa-8fea-ff036bc17ba6\" type=\"checkbox\" ><label for=\"eb7f64a1-981e-4faa-8fea-ff036bc17ba6\" class=\"sk-toggleable__label sk-toggleable__label-arrow\">StandardScaler</label><div class=\"sk-toggleable__content\"><pre>StandardScaler()</pre></div></div></div></div></div></div></div></div></div></div><div class=\"sk-item\"><div class=\"sk-estimator sk-toggleable\"><input class=\"sk-toggleable__control sk-hidden--visually\" id=\"66a407c4-628b-422d-a081-da5b3069da45\" type=\"checkbox\" ><label for=\"66a407c4-628b-422d-a081-da5b3069da45\" class=\"sk-toggleable__label sk-toggleable__label-arrow\">KNeighborsClassifier</label><div class=\"sk-toggleable__content\"><pre>KNeighborsClassifier()</pre></div></div></div></div></div></div></div>"
      ],
      "text/plain": [
       "Pipeline(steps=[('columntransformer',\n",
       "                 ColumnTransformer(transformers=[('categorical',\n",
       "                                                  Pipeline(steps=[('imputation_constant',\n",
       "                                                                   SimpleImputer(fill_value='missing',\n",
       "                                                                                 strategy='constant')),\n",
       "                                                                  ('onehot',\n",
       "                                                                   OneHotEncoder(handle_unknown='ignore'))]),\n",
       "                                                  Index(['cap-shape', 'cap-surface', 'cap-color', 'bruises', 'odor',\n",
       "       'gill-attachment', 'gill-spacing', 'gill-size', 'gill-color...\n",
       "       'stalk-surface-below-ring', 'stalk-color-above-ring',\n",
       "       'stalk-color-below-ring', 'veil-color', 'ring-number', 'ring-type',\n",
       "       'spore-print-color', 'population', 'habitat'],\n",
       "      dtype='object')),\n",
       "                                                 ('numerical',\n",
       "                                                  Pipeline(steps=[('imputation_mode',\n",
       "                                                                   SimpleImputer(strategy='most_frequent')),\n",
       "                                                                  ('standard_scaler',\n",
       "                                                                   StandardScaler())]),\n",
       "                                                  Index([], dtype='object'))])),\n",
       "                ('kneighborsclassifier', KNeighborsClassifier())])"
      ]
     },
     "execution_count": 74,
     "metadata": {},
     "output_type": "execute_result"
    }
   ],
   "source": [
    "knn.fit(X_train, y_train)"
   ]
  },
  {
   "cell_type": "code",
   "execution_count": 75,
   "id": "dc615cc0",
   "metadata": {},
   "outputs": [],
   "source": [
    "y_pred_knn = knn.predict(X_test)"
   ]
  },
  {
   "cell_type": "code",
   "execution_count": 76,
   "id": "2e54ac56",
   "metadata": {},
   "outputs": [
    {
     "data": {
      "text/plain": [
       "array([[1257,    0],\n",
       "       [   0, 1181]], dtype=int64)"
      ]
     },
     "execution_count": 76,
     "metadata": {},
     "output_type": "execute_result"
    }
   ],
   "source": [
    "from sklearn.metrics import confusion_matrix\n",
    "cm=confusion_matrix(y_test, y_pred_knn)\n",
    "cm"
   ]
  },
  {
   "cell_type": "code",
   "execution_count": 77,
   "id": "243e723d",
   "metadata": {},
   "outputs": [
    {
     "name": "stderr",
     "output_type": "stream",
     "text": [
      "E:\\Anaconda\\lib\\site-packages\\sklearn\\utils\\deprecation.py:87: FutureWarning: Function plot_confusion_matrix is deprecated; Function `plot_confusion_matrix` is deprecated in 1.0 and will be removed in 1.2. Use one of the class methods: ConfusionMatrixDisplay.from_predictions or ConfusionMatrixDisplay.from_estimator.\n",
      "  warnings.warn(msg, category=FutureWarning)\n"
     ]
    },
    {
     "data": {
      "image/png": "[encoded data removed]",
      "text/plain": [
       "<Figure size 432x288 with 2 Axes>"
      ]
     },
     "metadata": {
      "needs_background": "light"
     },
     "output_type": "display_data"
    }
   ],
   "source": [
    "from sklearn.metrics import plot_confusion_matrix\n",
    "color = 'black'\n",
    "matrix = plot_confusion_matrix(knn, X_test, y_test, cmap=plt.cm.Blues)\n",
    "matrix.ax_.set_title('Confusion Matrix', color=color)\n",
    "plt.xlabel('Predicted Label', color=color)\n",
    "plt.ylabel('True Label', color=color)\n",
    "plt.show()"
   ]
  },
  {
   "cell_type": "code",
   "execution_count": 78,
   "id": "e3155899",
   "metadata": {},
   "outputs": [
    {
     "name": "stdout",
     "output_type": "stream",
     "text": [
      "              precision    recall  f1-score   support\n",
      "\n",
      "           e       1.00      1.00      1.00      1257\n",
      "           p       1.00      1.00      1.00      1181\n",
      "\n",
      "    accuracy                           1.00      2438\n",
      "   macro avg       1.00      1.00      1.00      2438\n",
      "weighted avg       1.00      1.00      1.00      2438\n",
      "\n"
     ]
    }
   ],
   "source": [
    "from sklearn.metrics import classification_report\n",
    "print(classification_report(y_test, y_pred_knn))"
   ]
  },
  {
   "cell_type": "markdown",
   "id": "af6a1b25",
   "metadata": {},
   "source": [
    "### Random Forest Classifier"
   ]
  },
  {
   "cell_type": "code",
   "execution_count": 92,
   "id": "cf330cae",
   "metadata": {},
   "outputs": [
    {
     "data": {
      "text/html": [
       "<style>#sk-33e54a9d-4fe7-415a-9286-1371b41c2e99 {color: black;background-color: white;}#sk-33e54a9d-4fe7-415a-9286-1371b41c2e99 pre{padding: 0;}#sk-33e54a9d-4fe7-415a-9286-1371b41c2e99 div.sk-toggleable {background-color: white;}#sk-33e54a9d-4fe7-415a-9286-1371b41c2e99 label.sk-toggleable__label {cursor: pointer;display: block;width: 100%;margin-bottom: 0;padding: 0.3em;box-sizing: border-box;text-align: center;}#sk-33e54a9d-4fe7-415a-9286-1371b41c2e99 label.sk-toggleable__label-arrow:before {content: \"▸\";float: left;margin-right: 0.25em;color: #696969;}#sk-33e54a9d-4fe7-415a-9286-1371b41c2e99 label.sk-toggleable__label-arrow:hover:before {color: black;}#sk-33e54a9d-4fe7-415a-9286-1371b41c2e99 div.sk-estimator:hover label.sk-toggleable__label-arrow:before {color: black;}#sk-33e54a9d-4fe7-415a-9286-1371b41c2e99 div.sk-toggleable__content {max-height: 0;max-width: 0;overflow: hidden;text-align: left;background-color: #f0f8ff;}#sk-33e54a9d-4fe7-415a-9286-1371b41c2e99 div.sk-toggleable__content pre {margin: 0.2em;color: black;border-radius: 0.25em;background-color: #f0f8ff;}#sk-33e54a9d-4fe7-415a-9286-1371b41c2e99 input.sk-toggleable__control:checked~div.sk-toggleable__content {max-height: 200px;max-width: 100%;overflow: auto;}#sk-33e54a9d-4fe7-415a-9286-1371b41c2e99 input.sk-toggleable__control:checked~label.sk-toggleable__label-arrow:before {content: \"▾\";}#sk-33e54a9d-4fe7-415a-9286-1371b41c2e99 div.sk-estimator input.sk-toggleable__control:checked~label.sk-toggleable__label {background-color: #d4ebff;}#sk-33e54a9d-4fe7-415a-9286-1371b41c2e99 div.sk-label input.sk-toggleable__control:checked~label.sk-toggleable__label {background-color: #d4ebff;}#sk-33e54a9d-4fe7-415a-9286-1371b41c2e99 input.sk-hidden--visually {border: 0;clip: rect(1px 1px 1px 1px);clip: rect(1px, 1px, 1px, 1px);height: 1px;margin: -1px;overflow: hidden;padding: 0;position: absolute;width: 1px;}#sk-33e54a9d-4fe7-415a-9286-1371b41c2e99 div.sk-estimator {font-family: monospace;background-color: #f0f8ff;border: 1px dotted black;border-radius: 0.25em;box-sizing: border-box;margin-bottom: 0.5em;}#sk-33e54a9d-4fe7-415a-9286-1371b41c2e99 div.sk-estimator:hover {background-color: #d4ebff;}#sk-33e54a9d-4fe7-415a-9286-1371b41c2e99 div.sk-parallel-item::after {content: \"\";width: 100%;border-bottom: 1px solid gray;flex-grow: 1;}#sk-33e54a9d-4fe7-415a-9286-1371b41c2e99 div.sk-label:hover label.sk-toggleable__label {background-color: #d4ebff;}#sk-33e54a9d-4fe7-415a-9286-1371b41c2e99 div.sk-serial::before {content: \"\";position: absolute;border-left: 1px solid gray;box-sizing: border-box;top: 2em;bottom: 0;left: 50%;}#sk-33e54a9d-4fe7-415a-9286-1371b41c2e99 div.sk-serial {display: flex;flex-direction: column;align-items: center;background-color: white;padding-right: 0.2em;padding-left: 0.2em;}#sk-33e54a9d-4fe7-415a-9286-1371b41c2e99 div.sk-item {z-index: 1;}#sk-33e54a9d-4fe7-415a-9286-1371b41c2e99 div.sk-parallel {display: flex;align-items: stretch;justify-content: center;background-color: white;}#sk-33e54a9d-4fe7-415a-9286-1371b41c2e99 div.sk-parallel::before {content: \"\";position: absolute;border-left: 1px solid gray;box-sizing: border-box;top: 2em;bottom: 0;left: 50%;}#sk-33e54a9d-4fe7-415a-9286-1371b41c2e99 div.sk-parallel-item {display: flex;flex-direction: column;position: relative;background-color: white;}#sk-33e54a9d-4fe7-415a-9286-1371b41c2e99 div.sk-parallel-item:first-child::after {align-self: flex-end;width: 50%;}#sk-33e54a9d-4fe7-415a-9286-1371b41c2e99 div.sk-parallel-item:last-child::after {align-self: flex-start;width: 50%;}#sk-33e54a9d-4fe7-415a-9286-1371b41c2e99 div.sk-parallel-item:only-child::after {width: 0;}#sk-33e54a9d-4fe7-415a-9286-1371b41c2e99 div.sk-dashed-wrapped {border: 1px dashed gray;margin: 0 0.4em 0.5em 0.4em;box-sizing: border-box;padding-bottom: 0.4em;background-color: white;position: relative;}#sk-33e54a9d-4fe7-415a-9286-1371b41c2e99 div.sk-label label {font-family: monospace;font-weight: bold;background-color: white;display: inline-block;line-height: 1.2em;}#sk-33e54a9d-4fe7-415a-9286-1371b41c2e99 div.sk-label-container {position: relative;z-index: 2;text-align: center;}#sk-33e54a9d-4fe7-415a-9286-1371b41c2e99 div.sk-container {/* jupyter's `normalize.less` sets `[hidden] { display: none; }` but bootstrap.min.css set `[hidden] { display: none !important; }` so we also need the `!important` here to be able to override the default hidden behavior on the sphinx rendered scikit-learn.org. See: https://github.com/scikit-learn/scikit-learn/issues/21755 */display: inline-block !important;position: relative;}#sk-33e54a9d-4fe7-415a-9286-1371b41c2e99 div.sk-text-repr-fallback {display: none;}</style><div id=\"sk-33e54a9d-4fe7-415a-9286-1371b41c2e99\" class=\"sk-top-container\"><div class=\"sk-text-repr-fallback\"><pre>Pipeline(steps=[(&#x27;columntransformer&#x27;,\n",
       "                 ColumnTransformer(transformers=[(&#x27;categorical&#x27;,\n",
       "                                                  Pipeline(steps=[(&#x27;imputation_constant&#x27;,\n",
       "                                                                   SimpleImputer(fill_value=&#x27;missing&#x27;,\n",
       "                                                                                 strategy=&#x27;constant&#x27;)),\n",
       "                                                                  (&#x27;onehot&#x27;,\n",
       "                                                                   OneHotEncoder(handle_unknown=&#x27;ignore&#x27;))]),\n",
       "                                                  Index([&#x27;cap-shape&#x27;, &#x27;cap-surface&#x27;, &#x27;cap-color&#x27;, &#x27;bruises&#x27;, &#x27;odor&#x27;,\n",
       "       &#x27;gill-attachment&#x27;, &#x27;gill-spacing&#x27;, &#x27;gill-size&#x27;, &#x27;gill-color...\n",
       "       &#x27;stalk-surface-below-ring&#x27;, &#x27;stalk-color-above-ring&#x27;,\n",
       "       &#x27;stalk-color-below-ring&#x27;, &#x27;veil-color&#x27;, &#x27;ring-number&#x27;, &#x27;ring-type&#x27;,\n",
       "       &#x27;spore-print-color&#x27;, &#x27;population&#x27;, &#x27;habitat&#x27;],\n",
       "      dtype=&#x27;object&#x27;)),\n",
       "                                                 (&#x27;numerical&#x27;,\n",
       "                                                  Pipeline(steps=[(&#x27;imputation_mode&#x27;,\n",
       "                                                                   SimpleImputer(strategy=&#x27;most_frequent&#x27;)),\n",
       "                                                                  (&#x27;standard_scaler&#x27;,\n",
       "                                                                   StandardScaler())]),\n",
       "                                                  Index([], dtype=&#x27;object&#x27;))])),\n",
       "                (&#x27;randomforestclassifier&#x27;, RandomForestClassifier())])</pre><b>Please rerun this cell to show the HTML repr or trust the notebook.</b></div><div class=\"sk-container\" hidden><div class=\"sk-item sk-dashed-wrapped\"><div class=\"sk-label-container\"><div class=\"sk-label sk-toggleable\"><input class=\"sk-toggleable__control sk-hidden--visually\" id=\"81fba07f-2996-48fd-b10a-88a1c6685343\" type=\"checkbox\" ><label for=\"81fba07f-2996-48fd-b10a-88a1c6685343\" class=\"sk-toggleable__label sk-toggleable__label-arrow\">Pipeline</label><div class=\"sk-toggleable__content\"><pre>Pipeline(steps=[(&#x27;columntransformer&#x27;,\n",
       "                 ColumnTransformer(transformers=[(&#x27;categorical&#x27;,\n",
       "                                                  Pipeline(steps=[(&#x27;imputation_constant&#x27;,\n",
       "                                                                   SimpleImputer(fill_value=&#x27;missing&#x27;,\n",
       "                                                                                 strategy=&#x27;constant&#x27;)),\n",
       "                                                                  (&#x27;onehot&#x27;,\n",
       "                                                                   OneHotEncoder(handle_unknown=&#x27;ignore&#x27;))]),\n",
       "                                                  Index([&#x27;cap-shape&#x27;, &#x27;cap-surface&#x27;, &#x27;cap-color&#x27;, &#x27;bruises&#x27;, &#x27;odor&#x27;,\n",
       "       &#x27;gill-attachment&#x27;, &#x27;gill-spacing&#x27;, &#x27;gill-size&#x27;, &#x27;gill-color...\n",
       "       &#x27;stalk-surface-below-ring&#x27;, &#x27;stalk-color-above-ring&#x27;,\n",
       "       &#x27;stalk-color-below-ring&#x27;, &#x27;veil-color&#x27;, &#x27;ring-number&#x27;, &#x27;ring-type&#x27;,\n",
       "       &#x27;spore-print-color&#x27;, &#x27;population&#x27;, &#x27;habitat&#x27;],\n",
       "      dtype=&#x27;object&#x27;)),\n",
       "                                                 (&#x27;numerical&#x27;,\n",
       "                                                  Pipeline(steps=[(&#x27;imputation_mode&#x27;,\n",
       "                                                                   SimpleImputer(strategy=&#x27;most_frequent&#x27;)),\n",
       "                                                                  (&#x27;standard_scaler&#x27;,\n",
       "                                                                   StandardScaler())]),\n",
       "                                                  Index([], dtype=&#x27;object&#x27;))])),\n",
       "                (&#x27;randomforestclassifier&#x27;, RandomForestClassifier())])</pre></div></div></div><div class=\"sk-serial\"><div class=\"sk-item sk-dashed-wrapped\"><div class=\"sk-label-container\"><div class=\"sk-label sk-toggleable\"><input class=\"sk-toggleable__control sk-hidden--visually\" id=\"d7244e19-23d3-4e66-b647-9d2463ba1d9b\" type=\"checkbox\" ><label for=\"d7244e19-23d3-4e66-b647-9d2463ba1d9b\" class=\"sk-toggleable__label sk-toggleable__label-arrow\">columntransformer: ColumnTransformer</label><div class=\"sk-toggleable__content\"><pre>ColumnTransformer(transformers=[(&#x27;categorical&#x27;,\n",
       "                                 Pipeline(steps=[(&#x27;imputation_constant&#x27;,\n",
       "                                                  SimpleImputer(fill_value=&#x27;missing&#x27;,\n",
       "                                                                strategy=&#x27;constant&#x27;)),\n",
       "                                                 (&#x27;onehot&#x27;,\n",
       "                                                  OneHotEncoder(handle_unknown=&#x27;ignore&#x27;))]),\n",
       "                                 Index([&#x27;cap-shape&#x27;, &#x27;cap-surface&#x27;, &#x27;cap-color&#x27;, &#x27;bruises&#x27;, &#x27;odor&#x27;,\n",
       "       &#x27;gill-attachment&#x27;, &#x27;gill-spacing&#x27;, &#x27;gill-size&#x27;, &#x27;gill-color&#x27;,\n",
       "       &#x27;stalk-shape&#x27;, &#x27;stalk-root&#x27;, &#x27;stalk-surface-above-ring&#x27;,\n",
       "       &#x27;stalk-surface-below-ring&#x27;, &#x27;stalk-color-above-ring&#x27;,\n",
       "       &#x27;stalk-color-below-ring&#x27;, &#x27;veil-color&#x27;, &#x27;ring-number&#x27;, &#x27;ring-type&#x27;,\n",
       "       &#x27;spore-print-color&#x27;, &#x27;population&#x27;, &#x27;habitat&#x27;],\n",
       "      dtype=&#x27;object&#x27;)),\n",
       "                                (&#x27;numerical&#x27;,\n",
       "                                 Pipeline(steps=[(&#x27;imputation_mode&#x27;,\n",
       "                                                  SimpleImputer(strategy=&#x27;most_frequent&#x27;)),\n",
       "                                                 (&#x27;standard_scaler&#x27;,\n",
       "                                                  StandardScaler())]),\n",
       "                                 Index([], dtype=&#x27;object&#x27;))])</pre></div></div></div><div class=\"sk-parallel\"><div class=\"sk-parallel-item\"><div class=\"sk-item\"><div class=\"sk-label-container\"><div class=\"sk-label sk-toggleable\"><input class=\"sk-toggleable__control sk-hidden--visually\" id=\"06a3148c-040b-48db-8fcc-831e54c66e32\" type=\"checkbox\" ><label for=\"06a3148c-040b-48db-8fcc-831e54c66e32\" class=\"sk-toggleable__label sk-toggleable__label-arrow\">categorical</label><div class=\"sk-toggleable__content\"><pre>Index([&#x27;cap-shape&#x27;, &#x27;cap-surface&#x27;, &#x27;cap-color&#x27;, &#x27;bruises&#x27;, &#x27;odor&#x27;,\n",
       "       &#x27;gill-attachment&#x27;, &#x27;gill-spacing&#x27;, &#x27;gill-size&#x27;, &#x27;gill-color&#x27;,\n",
       "       &#x27;stalk-shape&#x27;, &#x27;stalk-root&#x27;, &#x27;stalk-surface-above-ring&#x27;,\n",
       "       &#x27;stalk-surface-below-ring&#x27;, &#x27;stalk-color-above-ring&#x27;,\n",
       "       &#x27;stalk-color-below-ring&#x27;, &#x27;veil-color&#x27;, &#x27;ring-number&#x27;, &#x27;ring-type&#x27;,\n",
       "       &#x27;spore-print-color&#x27;, &#x27;population&#x27;, &#x27;habitat&#x27;],\n",
       "      dtype=&#x27;object&#x27;)</pre></div></div></div><div class=\"sk-serial\"><div class=\"sk-item\"><div class=\"sk-serial\"><div class=\"sk-item\"><div class=\"sk-estimator sk-toggleable\"><input class=\"sk-toggleable__control sk-hidden--visually\" id=\"863aab91-0bb4-45b8-846b-7b598e9cd4c9\" type=\"checkbox\" ><label for=\"863aab91-0bb4-45b8-846b-7b598e9cd4c9\" class=\"sk-toggleable__label sk-toggleable__label-arrow\">SimpleImputer</label><div class=\"sk-toggleable__content\"><pre>SimpleImputer(fill_value=&#x27;missing&#x27;, strategy=&#x27;constant&#x27;)</pre></div></div></div><div class=\"sk-item\"><div class=\"sk-estimator sk-toggleable\"><input class=\"sk-toggleable__control sk-hidden--visually\" id=\"2a284041-8b9e-4913-8756-72e84196485a\" type=\"checkbox\" ><label for=\"2a284041-8b9e-4913-8756-72e84196485a\" class=\"sk-toggleable__label sk-toggleable__label-arrow\">OneHotEncoder</label><div class=\"sk-toggleable__content\"><pre>OneHotEncoder(handle_unknown=&#x27;ignore&#x27;)</pre></div></div></div></div></div></div></div></div><div class=\"sk-parallel-item\"><div class=\"sk-item\"><div class=\"sk-label-container\"><div class=\"sk-label sk-toggleable\"><input class=\"sk-toggleable__control sk-hidden--visually\" id=\"987827e6-4884-4f1e-ba4b-1e7c7d509aac\" type=\"checkbox\" ><label for=\"987827e6-4884-4f1e-ba4b-1e7c7d509aac\" class=\"sk-toggleable__label sk-toggleable__label-arrow\">numerical</label><div class=\"sk-toggleable__content\"><pre>Index([], dtype=&#x27;object&#x27;)</pre></div></div></div><div class=\"sk-serial\"><div class=\"sk-item\"><div class=\"sk-serial\"><div class=\"sk-item\"><div class=\"sk-estimator sk-toggleable\"><input class=\"sk-toggleable__control sk-hidden--visually\" id=\"058f96bf-1d7f-4902-a574-f82ad5482ae1\" type=\"checkbox\" ><label for=\"058f96bf-1d7f-4902-a574-f82ad5482ae1\" class=\"sk-toggleable__label sk-toggleable__label-arrow\">SimpleImputer</label><div class=\"sk-toggleable__content\"><pre>SimpleImputer(strategy=&#x27;most_frequent&#x27;)</pre></div></div></div><div class=\"sk-item\"><div class=\"sk-estimator sk-toggleable\"><input class=\"sk-toggleable__control sk-hidden--visually\" id=\"63586909-f42c-4990-ba90-d9724fea7a65\" type=\"checkbox\" ><label for=\"63586909-f42c-4990-ba90-d9724fea7a65\" class=\"sk-toggleable__label sk-toggleable__label-arrow\">StandardScaler</label><div class=\"sk-toggleable__content\"><pre>StandardScaler()</pre></div></div></div></div></div></div></div></div></div></div><div class=\"sk-item\"><div class=\"sk-estimator sk-toggleable\"><input class=\"sk-toggleable__control sk-hidden--visually\" id=\"8d903543-2cda-491e-850d-c31e05bcc4f0\" type=\"checkbox\" ><label for=\"8d903543-2cda-491e-850d-c31e05bcc4f0\" class=\"sk-toggleable__label sk-toggleable__label-arrow\">RandomForestClassifier</label><div class=\"sk-toggleable__content\"><pre>RandomForestClassifier()</pre></div></div></div></div></div></div></div>"
      ],
      "text/plain": [
       "Pipeline(steps=[('columntransformer',\n",
       "                 ColumnTransformer(transformers=[('categorical',\n",
       "                                                  Pipeline(steps=[('imputation_constant',\n",
       "                                                                   SimpleImputer(fill_value='missing',\n",
       "                                                                                 strategy='constant')),\n",
       "                                                                  ('onehot',\n",
       "                                                                   OneHotEncoder(handle_unknown='ignore'))]),\n",
       "                                                  Index(['cap-shape', 'cap-surface', 'cap-color', 'bruises', 'odor',\n",
       "       'gill-attachment', 'gill-spacing', 'gill-size', 'gill-color...\n",
       "       'stalk-surface-below-ring', 'stalk-color-above-ring',\n",
       "       'stalk-color-below-ring', 'veil-color', 'ring-number', 'ring-type',\n",
       "       'spore-print-color', 'population', 'habitat'],\n",
       "      dtype='object')),\n",
       "                                                 ('numerical',\n",
       "                                                  Pipeline(steps=[('imputation_mode',\n",
       "                                                                   SimpleImputer(strategy='most_frequent')),\n",
       "                                                                  ('standard_scaler',\n",
       "                                                                   StandardScaler())]),\n",
       "                                                  Index([], dtype='object'))])),\n",
       "                ('randomforestclassifier', RandomForestClassifier())])"
      ]
     },
     "execution_count": 92,
     "metadata": {},
     "output_type": "execute_result"
    }
   ],
   "source": [
    "from sklearn.ensemble import RandomForestClassifier\n",
    "rfc = make_pipeline(preprocessor, RandomForestClassifier())\n",
    "rfc"
   ]
  },
  {
   "cell_type": "code",
   "execution_count": 93,
   "id": "95074b69",
   "metadata": {},
   "outputs": [],
   "source": [
    "model=rfc.fit(X_train, y_train)"
   ]
  },
  {
   "cell_type": "code",
   "execution_count": 94,
   "id": "b81edd67",
   "metadata": {},
   "outputs": [],
   "source": [
    "y_pred_rfc = model.predict(X_test)"
   ]
  },
  {
   "cell_type": "code",
   "execution_count": 95,
   "id": "666b05aa",
   "metadata": {},
   "outputs": [
    {
     "data": {
      "text/plain": [
       "array([[1257,    0],\n",
       "       [   0, 1181]], dtype=int64)"
      ]
     },
     "execution_count": 95,
     "metadata": {},
     "output_type": "execute_result"
    }
   ],
   "source": [
    "from sklearn.metrics import confusion_matrix\n",
    "cm=confusion_matrix(y_test, y_pred_rfc)\n",
    "cm"
   ]
  },
  {
   "cell_type": "code",
   "execution_count": 96,
   "id": "bda5813b",
   "metadata": {},
   "outputs": [
    {
     "name": "stderr",
     "output_type": "stream",
     "text": [
      "E:\\Anaconda\\lib\\site-packages\\sklearn\\utils\\deprecation.py:87: FutureWarning: Function plot_confusion_matrix is deprecated; Function `plot_confusion_matrix` is deprecated in 1.0 and will be removed in 1.2. Use one of the class methods: ConfusionMatrixDisplay.from_predictions or ConfusionMatrixDisplay.from_estimator.\n",
      "  warnings.warn(msg, category=FutureWarning)\n"
     ]
    },
    {
     "data": {
      "image/png": "[encoded data removed]",
      "text/plain": [
       "<Figure size 432x288 with 2 Axes>"
      ]
     },
     "metadata": {
      "needs_background": "light"
     },
     "output_type": "display_data"
    }
   ],
   "source": [
    "from sklearn.metrics import plot_confusion_matrix\n",
    "color = 'black'\n",
    "matrix = plot_confusion_matrix(rfc, X_test, y_test, cmap=plt.cm.Blues)\n",
    "matrix.ax_.set_title('Confusion Matrix', color=color)\n",
    "plt.xlabel('Predicted Label', color=color)\n",
    "plt.ylabel('True Label', color=color)\n",
    "plt.show()"
   ]
  },
  {
   "cell_type": "code",
   "execution_count": 97,
   "id": "e882443b",
   "metadata": {},
   "outputs": [
    {
     "name": "stdout",
     "output_type": "stream",
     "text": [
      "              precision    recall  f1-score   support\n",
      "\n",
      "           e       1.00      1.00      1.00      1257\n",
      "           p       1.00      1.00      1.00      1181\n",
      "\n",
      "    accuracy                           1.00      2438\n",
      "   macro avg       1.00      1.00      1.00      2438\n",
      "weighted avg       1.00      1.00      1.00      2438\n",
      "\n"
     ]
    }
   ],
   "source": [
    "from sklearn.metrics import classification_report\n",
    "print(classification_report(y_test, y_pred_rfc))"
   ]
  },
  {
   "cell_type": "markdown",
   "id": "1c80b4a5",
   "metadata": {},
   "source": [
    "### Gradient Boosting Classifier"
   ]
  },
  {
   "cell_type": "code",
   "execution_count": 98,
   "id": "64ee941d",
   "metadata": {},
   "outputs": [
    {
     "data": {
      "text/html": [
       "<style>#sk-30c8af18-cdeb-4969-b2db-a2c73c4baf60 {color: black;background-color: white;}#sk-30c8af18-cdeb-4969-b2db-a2c73c4baf60 pre{padding: 0;}#sk-30c8af18-cdeb-4969-b2db-a2c73c4baf60 div.sk-toggleable {background-color: white;}#sk-30c8af18-cdeb-4969-b2db-a2c73c4baf60 label.sk-toggleable__label {cursor: pointer;display: block;width: 100%;margin-bottom: 0;padding: 0.3em;box-sizing: border-box;text-align: center;}#sk-30c8af18-cdeb-4969-b2db-a2c73c4baf60 label.sk-toggleable__label-arrow:before {content: \"▸\";float: left;margin-right: 0.25em;color: #696969;}#sk-30c8af18-cdeb-4969-b2db-a2c73c4baf60 label.sk-toggleable__label-arrow:hover:before {color: black;}#sk-30c8af18-cdeb-4969-b2db-a2c73c4baf60 div.sk-estimator:hover label.sk-toggleable__label-arrow:before {color: black;}#sk-30c8af18-cdeb-4969-b2db-a2c73c4baf60 div.sk-toggleable__content {max-height: 0;max-width: 0;overflow: hidden;text-align: left;background-color: #f0f8ff;}#sk-30c8af18-cdeb-4969-b2db-a2c73c4baf60 div.sk-toggleable__content pre {margin: 0.2em;color: black;border-radius: 0.25em;background-color: #f0f8ff;}#sk-30c8af18-cdeb-4969-b2db-a2c73c4baf60 input.sk-toggleable__control:checked~div.sk-toggleable__content {max-height: 200px;max-width: 100%;overflow: auto;}#sk-30c8af18-cdeb-4969-b2db-a2c73c4baf60 input.sk-toggleable__control:checked~label.sk-toggleable__label-arrow:before {content: \"▾\";}#sk-30c8af18-cdeb-4969-b2db-a2c73c4baf60 div.sk-estimator input.sk-toggleable__control:checked~label.sk-toggleable__label {background-color: #d4ebff;}#sk-30c8af18-cdeb-4969-b2db-a2c73c4baf60 div.sk-label input.sk-toggleable__control:checked~label.sk-toggleable__label {background-color: #d4ebff;}#sk-30c8af18-cdeb-4969-b2db-a2c73c4baf60 input.sk-hidden--visually {border: 0;clip: rect(1px 1px 1px 1px);clip: rect(1px, 1px, 1px, 1px);height: 1px;margin: -1px;overflow: hidden;padding: 0;position: absolute;width: 1px;}#sk-30c8af18-cdeb-4969-b2db-a2c73c4baf60 div.sk-estimator {font-family: monospace;background-color: #f0f8ff;border: 1px dotted black;border-radius: 0.25em;box-sizing: border-box;margin-bottom: 0.5em;}#sk-30c8af18-cdeb-4969-b2db-a2c73c4baf60 div.sk-estimator:hover {background-color: #d4ebff;}#sk-30c8af18-cdeb-4969-b2db-a2c73c4baf60 div.sk-parallel-item::after {content: \"\";width: 100%;border-bottom: 1px solid gray;flex-grow: 1;}#sk-30c8af18-cdeb-4969-b2db-a2c73c4baf60 div.sk-label:hover label.sk-toggleable__label {background-color: #d4ebff;}#sk-30c8af18-cdeb-4969-b2db-a2c73c4baf60 div.sk-serial::before {content: \"\";position: absolute;border-left: 1px solid gray;box-sizing: border-box;top: 2em;bottom: 0;left: 50%;}#sk-30c8af18-cdeb-4969-b2db-a2c73c4baf60 div.sk-serial {display: flex;flex-direction: column;align-items: center;background-color: white;padding-right: 0.2em;padding-left: 0.2em;}#sk-30c8af18-cdeb-4969-b2db-a2c73c4baf60 div.sk-item {z-index: 1;}#sk-30c8af18-cdeb-4969-b2db-a2c73c4baf60 div.sk-parallel {display: flex;align-items: stretch;justify-content: center;background-color: white;}#sk-30c8af18-cdeb-4969-b2db-a2c73c4baf60 div.sk-parallel::before {content: \"\";position: absolute;border-left: 1px solid gray;box-sizing: border-box;top: 2em;bottom: 0;left: 50%;}#sk-30c8af18-cdeb-4969-b2db-a2c73c4baf60 div.sk-parallel-item {display: flex;flex-direction: column;position: relative;background-color: white;}#sk-30c8af18-cdeb-4969-b2db-a2c73c4baf60 div.sk-parallel-item:first-child::after {align-self: flex-end;width: 50%;}#sk-30c8af18-cdeb-4969-b2db-a2c73c4baf60 div.sk-parallel-item:last-child::after {align-self: flex-start;width: 50%;}#sk-30c8af18-cdeb-4969-b2db-a2c73c4baf60 div.sk-parallel-item:only-child::after {width: 0;}#sk-30c8af18-cdeb-4969-b2db-a2c73c4baf60 div.sk-dashed-wrapped {border: 1px dashed gray;margin: 0 0.4em 0.5em 0.4em;box-sizing: border-box;padding-bottom: 0.4em;background-color: white;position: relative;}#sk-30c8af18-cdeb-4969-b2db-a2c73c4baf60 div.sk-label label {font-family: monospace;font-weight: bold;background-color: white;display: inline-block;line-height: 1.2em;}#sk-30c8af18-cdeb-4969-b2db-a2c73c4baf60 div.sk-label-container {position: relative;z-index: 2;text-align: center;}#sk-30c8af18-cdeb-4969-b2db-a2c73c4baf60 div.sk-container {/* jupyter's `normalize.less` sets `[hidden] { display: none; }` but bootstrap.min.css set `[hidden] { display: none !important; }` so we also need the `!important` here to be able to override the default hidden behavior on the sphinx rendered scikit-learn.org. See: https://github.com/scikit-learn/scikit-learn/issues/21755 */display: inline-block !important;position: relative;}#sk-30c8af18-cdeb-4969-b2db-a2c73c4baf60 div.sk-text-repr-fallback {display: none;}</style><div id=\"sk-30c8af18-cdeb-4969-b2db-a2c73c4baf60\" class=\"sk-top-container\"><div class=\"sk-text-repr-fallback\"><pre>Pipeline(steps=[(&#x27;columntransformer&#x27;,\n",
       "                 ColumnTransformer(transformers=[(&#x27;categorical&#x27;,\n",
       "                                                  Pipeline(steps=[(&#x27;imputation_constant&#x27;,\n",
       "                                                                   SimpleImputer(fill_value=&#x27;missing&#x27;,\n",
       "                                                                                 strategy=&#x27;constant&#x27;)),\n",
       "                                                                  (&#x27;onehot&#x27;,\n",
       "                                                                   OneHotEncoder(handle_unknown=&#x27;ignore&#x27;))]),\n",
       "                                                  Index([&#x27;cap-shape&#x27;, &#x27;cap-surface&#x27;, &#x27;cap-color&#x27;, &#x27;bruises&#x27;, &#x27;odor&#x27;,\n",
       "       &#x27;gill-attachment&#x27;, &#x27;gill-spacing&#x27;, &#x27;gill-size&#x27;, &#x27;gill-color...\n",
       "       &#x27;stalk-surface-below-ring&#x27;, &#x27;stalk-color-above-ring&#x27;,\n",
       "       &#x27;stalk-color-below-ring&#x27;, &#x27;veil-color&#x27;, &#x27;ring-number&#x27;, &#x27;ring-type&#x27;,\n",
       "       &#x27;spore-print-color&#x27;, &#x27;population&#x27;, &#x27;habitat&#x27;],\n",
       "      dtype=&#x27;object&#x27;)),\n",
       "                                                 (&#x27;numerical&#x27;,\n",
       "                                                  Pipeline(steps=[(&#x27;imputation_mode&#x27;,\n",
       "                                                                   SimpleImputer(strategy=&#x27;most_frequent&#x27;)),\n",
       "                                                                  (&#x27;standard_scaler&#x27;,\n",
       "                                                                   StandardScaler())]),\n",
       "                                                  Index([], dtype=&#x27;object&#x27;))])),\n",
       "                (&#x27;gradientboostingclassifier&#x27;, GradientBoostingClassifier())])</pre><b>Please rerun this cell to show the HTML repr or trust the notebook.</b></div><div class=\"sk-container\" hidden><div class=\"sk-item sk-dashed-wrapped\"><div class=\"sk-label-container\"><div class=\"sk-label sk-toggleable\"><input class=\"sk-toggleable__control sk-hidden--visually\" id=\"9bd91f5e-becb-468d-a5b5-b1c18b6827dc\" type=\"checkbox\" ><label for=\"9bd91f5e-becb-468d-a5b5-b1c18b6827dc\" class=\"sk-toggleable__label sk-toggleable__label-arrow\">Pipeline</label><div class=\"sk-toggleable__content\"><pre>Pipeline(steps=[(&#x27;columntransformer&#x27;,\n",
       "                 ColumnTransformer(transformers=[(&#x27;categorical&#x27;,\n",
       "                                                  Pipeline(steps=[(&#x27;imputation_constant&#x27;,\n",
       "                                                                   SimpleImputer(fill_value=&#x27;missing&#x27;,\n",
       "                                                                                 strategy=&#x27;constant&#x27;)),\n",
       "                                                                  (&#x27;onehot&#x27;,\n",
       "                                                                   OneHotEncoder(handle_unknown=&#x27;ignore&#x27;))]),\n",
       "                                                  Index([&#x27;cap-shape&#x27;, &#x27;cap-surface&#x27;, &#x27;cap-color&#x27;, &#x27;bruises&#x27;, &#x27;odor&#x27;,\n",
       "       &#x27;gill-attachment&#x27;, &#x27;gill-spacing&#x27;, &#x27;gill-size&#x27;, &#x27;gill-color...\n",
       "       &#x27;stalk-surface-below-ring&#x27;, &#x27;stalk-color-above-ring&#x27;,\n",
       "       &#x27;stalk-color-below-ring&#x27;, &#x27;veil-color&#x27;, &#x27;ring-number&#x27;, &#x27;ring-type&#x27;,\n",
       "       &#x27;spore-print-color&#x27;, &#x27;population&#x27;, &#x27;habitat&#x27;],\n",
       "      dtype=&#x27;object&#x27;)),\n",
       "                                                 (&#x27;numerical&#x27;,\n",
       "                                                  Pipeline(steps=[(&#x27;imputation_mode&#x27;,\n",
       "                                                                   SimpleImputer(strategy=&#x27;most_frequent&#x27;)),\n",
       "                                                                  (&#x27;standard_scaler&#x27;,\n",
       "                                                                   StandardScaler())]),\n",
       "                                                  Index([], dtype=&#x27;object&#x27;))])),\n",
       "                (&#x27;gradientboostingclassifier&#x27;, GradientBoostingClassifier())])</pre></div></div></div><div class=\"sk-serial\"><div class=\"sk-item sk-dashed-wrapped\"><div class=\"sk-label-container\"><div class=\"sk-label sk-toggleable\"><input class=\"sk-toggleable__control sk-hidden--visually\" id=\"ce018108-755a-47cc-b602-9de944c31f66\" type=\"checkbox\" ><label for=\"ce018108-755a-47cc-b602-9de944c31f66\" class=\"sk-toggleable__label sk-toggleable__label-arrow\">columntransformer: ColumnTransformer</label><div class=\"sk-toggleable__content\"><pre>ColumnTransformer(transformers=[(&#x27;categorical&#x27;,\n",
       "                                 Pipeline(steps=[(&#x27;imputation_constant&#x27;,\n",
       "                                                  SimpleImputer(fill_value=&#x27;missing&#x27;,\n",
       "                                                                strategy=&#x27;constant&#x27;)),\n",
       "                                                 (&#x27;onehot&#x27;,\n",
       "                                                  OneHotEncoder(handle_unknown=&#x27;ignore&#x27;))]),\n",
       "                                 Index([&#x27;cap-shape&#x27;, &#x27;cap-surface&#x27;, &#x27;cap-color&#x27;, &#x27;bruises&#x27;, &#x27;odor&#x27;,\n",
       "       &#x27;gill-attachment&#x27;, &#x27;gill-spacing&#x27;, &#x27;gill-size&#x27;, &#x27;gill-color&#x27;,\n",
       "       &#x27;stalk-shape&#x27;, &#x27;stalk-root&#x27;, &#x27;stalk-surface-above-ring&#x27;,\n",
       "       &#x27;stalk-surface-below-ring&#x27;, &#x27;stalk-color-above-ring&#x27;,\n",
       "       &#x27;stalk-color-below-ring&#x27;, &#x27;veil-color&#x27;, &#x27;ring-number&#x27;, &#x27;ring-type&#x27;,\n",
       "       &#x27;spore-print-color&#x27;, &#x27;population&#x27;, &#x27;habitat&#x27;],\n",
       "      dtype=&#x27;object&#x27;)),\n",
       "                                (&#x27;numerical&#x27;,\n",
       "                                 Pipeline(steps=[(&#x27;imputation_mode&#x27;,\n",
       "                                                  SimpleImputer(strategy=&#x27;most_frequent&#x27;)),\n",
       "                                                 (&#x27;standard_scaler&#x27;,\n",
       "                                                  StandardScaler())]),\n",
       "                                 Index([], dtype=&#x27;object&#x27;))])</pre></div></div></div><div class=\"sk-parallel\"><div class=\"sk-parallel-item\"><div class=\"sk-item\"><div class=\"sk-label-container\"><div class=\"sk-label sk-toggleable\"><input class=\"sk-toggleable__control sk-hidden--visually\" id=\"4f35334c-4633-499b-b812-8d2e6833e740\" type=\"checkbox\" ><label for=\"4f35334c-4633-499b-b812-8d2e6833e740\" class=\"sk-toggleable__label sk-toggleable__label-arrow\">categorical</label><div class=\"sk-toggleable__content\"><pre>Index([&#x27;cap-shape&#x27;, &#x27;cap-surface&#x27;, &#x27;cap-color&#x27;, &#x27;bruises&#x27;, &#x27;odor&#x27;,\n",
       "       &#x27;gill-attachment&#x27;, &#x27;gill-spacing&#x27;, &#x27;gill-size&#x27;, &#x27;gill-color&#x27;,\n",
       "       &#x27;stalk-shape&#x27;, &#x27;stalk-root&#x27;, &#x27;stalk-surface-above-ring&#x27;,\n",
       "       &#x27;stalk-surface-below-ring&#x27;, &#x27;stalk-color-above-ring&#x27;,\n",
       "       &#x27;stalk-color-below-ring&#x27;, &#x27;veil-color&#x27;, &#x27;ring-number&#x27;, &#x27;ring-type&#x27;,\n",
       "       &#x27;spore-print-color&#x27;, &#x27;population&#x27;, &#x27;habitat&#x27;],\n",
       "      dtype=&#x27;object&#x27;)</pre></div></div></div><div class=\"sk-serial\"><div class=\"sk-item\"><div class=\"sk-serial\"><div class=\"sk-item\"><div class=\"sk-estimator sk-toggleable\"><input class=\"sk-toggleable__control sk-hidden--visually\" id=\"f46348b8-bba6-4785-afb8-7a122728cc02\" type=\"checkbox\" ><label for=\"f46348b8-bba6-4785-afb8-7a122728cc02\" class=\"sk-toggleable__label sk-toggleable__label-arrow\">SimpleImputer</label><div class=\"sk-toggleable__content\"><pre>SimpleImputer(fill_value=&#x27;missing&#x27;, strategy=&#x27;constant&#x27;)</pre></div></div></div><div class=\"sk-item\"><div class=\"sk-estimator sk-toggleable\"><input class=\"sk-toggleable__control sk-hidden--visually\" id=\"60b43795-b566-4e0f-a2de-988086d673d8\" type=\"checkbox\" ><label for=\"60b43795-b566-4e0f-a2de-988086d673d8\" class=\"sk-toggleable__label sk-toggleable__label-arrow\">OneHotEncoder</label><div class=\"sk-toggleable__content\"><pre>OneHotEncoder(handle_unknown=&#x27;ignore&#x27;)</pre></div></div></div></div></div></div></div></div><div class=\"sk-parallel-item\"><div class=\"sk-item\"><div class=\"sk-label-container\"><div class=\"sk-label sk-toggleable\"><input class=\"sk-toggleable__control sk-hidden--visually\" id=\"38f61bb7-0de0-4910-8c13-6f2aa65ac1b5\" type=\"checkbox\" ><label for=\"38f61bb7-0de0-4910-8c13-6f2aa65ac1b5\" class=\"sk-toggleable__label sk-toggleable__label-arrow\">numerical</label><div class=\"sk-toggleable__content\"><pre>Index([], dtype=&#x27;object&#x27;)</pre></div></div></div><div class=\"sk-serial\"><div class=\"sk-item\"><div class=\"sk-serial\"><div class=\"sk-item\"><div class=\"sk-estimator sk-toggleable\"><input class=\"sk-toggleable__control sk-hidden--visually\" id=\"4863754f-bd41-4fb1-b1d9-622b80914e1b\" type=\"checkbox\" ><label for=\"4863754f-bd41-4fb1-b1d9-622b80914e1b\" class=\"sk-toggleable__label sk-toggleable__label-arrow\">SimpleImputer</label><div class=\"sk-toggleable__content\"><pre>SimpleImputer(strategy=&#x27;most_frequent&#x27;)</pre></div></div></div><div class=\"sk-item\"><div class=\"sk-estimator sk-toggleable\"><input class=\"sk-toggleable__control sk-hidden--visually\" id=\"18239b79-1c72-4680-b99b-53e1e2261940\" type=\"checkbox\" ><label for=\"18239b79-1c72-4680-b99b-53e1e2261940\" class=\"sk-toggleable__label sk-toggleable__label-arrow\">StandardScaler</label><div class=\"sk-toggleable__content\"><pre>StandardScaler()</pre></div></div></div></div></div></div></div></div></div></div><div class=\"sk-item\"><div class=\"sk-estimator sk-toggleable\"><input class=\"sk-toggleable__control sk-hidden--visually\" id=\"b3476f7b-5794-448b-988a-dc14a108104c\" type=\"checkbox\" ><label for=\"b3476f7b-5794-448b-988a-dc14a108104c\" class=\"sk-toggleable__label sk-toggleable__label-arrow\">GradientBoostingClassifier</label><div class=\"sk-toggleable__content\"><pre>GradientBoostingClassifier()</pre></div></div></div></div></div></div></div>"
      ],
      "text/plain": [
       "Pipeline(steps=[('columntransformer',\n",
       "                 ColumnTransformer(transformers=[('categorical',\n",
       "                                                  Pipeline(steps=[('imputation_constant',\n",
       "                                                                   SimpleImputer(fill_value='missing',\n",
       "                                                                                 strategy='constant')),\n",
       "                                                                  ('onehot',\n",
       "                                                                   OneHotEncoder(handle_unknown='ignore'))]),\n",
       "                                                  Index(['cap-shape', 'cap-surface', 'cap-color', 'bruises', 'odor',\n",
       "       'gill-attachment', 'gill-spacing', 'gill-size', 'gill-color...\n",
       "       'stalk-surface-below-ring', 'stalk-color-above-ring',\n",
       "       'stalk-color-below-ring', 'veil-color', 'ring-number', 'ring-type',\n",
       "       'spore-print-color', 'population', 'habitat'],\n",
       "      dtype='object')),\n",
       "                                                 ('numerical',\n",
       "                                                  Pipeline(steps=[('imputation_mode',\n",
       "                                                                   SimpleImputer(strategy='most_frequent')),\n",
       "                                                                  ('standard_scaler',\n",
       "                                                                   StandardScaler())]),\n",
       "                                                  Index([], dtype='object'))])),\n",
       "                ('gradientboostingclassifier', GradientBoostingClassifier())])"
      ]
     },
     "execution_count": 98,
     "metadata": {},
     "output_type": "execute_result"
    }
   ],
   "source": [
    "from sklearn.ensemble import GradientBoostingClassifier\n",
    "grad = make_pipeline(preprocessor,GradientBoostingClassifier())\n",
    "grad"
   ]
  },
  {
   "cell_type": "code",
   "execution_count": 99,
   "id": "bed645f0",
   "metadata": {},
   "outputs": [
    {
     "data": {
      "text/html": [
       "<style>#sk-5f7a9364-6b84-4a77-ae25-f65900e08215 {color: black;background-color: white;}#sk-5f7a9364-6b84-4a77-ae25-f65900e08215 pre{padding: 0;}#sk-5f7a9364-6b84-4a77-ae25-f65900e08215 div.sk-toggleable {background-color: white;}#sk-5f7a9364-6b84-4a77-ae25-f65900e08215 label.sk-toggleable__label {cursor: pointer;display: block;width: 100%;margin-bottom: 0;padding: 0.3em;box-sizing: border-box;text-align: center;}#sk-5f7a9364-6b84-4a77-ae25-f65900e08215 label.sk-toggleable__label-arrow:before {content: \"▸\";float: left;margin-right: 0.25em;color: #696969;}#sk-5f7a9364-6b84-4a77-ae25-f65900e08215 label.sk-toggleable__label-arrow:hover:before {color: black;}#sk-5f7a9364-6b84-4a77-ae25-f65900e08215 div.sk-estimator:hover label.sk-toggleable__label-arrow:before {color: black;}#sk-5f7a9364-6b84-4a77-ae25-f65900e08215 div.sk-toggleable__content {max-height: 0;max-width: 0;overflow: hidden;text-align: left;background-color: #f0f8ff;}#sk-5f7a9364-6b84-4a77-ae25-f65900e08215 div.sk-toggleable__content pre {margin: 0.2em;color: black;border-radius: 0.25em;background-color: #f0f8ff;}#sk-5f7a9364-6b84-4a77-ae25-f65900e08215 input.sk-toggleable__control:checked~div.sk-toggleable__content {max-height: 200px;max-width: 100%;overflow: auto;}#sk-5f7a9364-6b84-4a77-ae25-f65900e08215 input.sk-toggleable__control:checked~label.sk-toggleable__label-arrow:before {content: \"▾\";}#sk-5f7a9364-6b84-4a77-ae25-f65900e08215 div.sk-estimator input.sk-toggleable__control:checked~label.sk-toggleable__label {background-color: #d4ebff;}#sk-5f7a9364-6b84-4a77-ae25-f65900e08215 div.sk-label input.sk-toggleable__control:checked~label.sk-toggleable__label {background-color: #d4ebff;}#sk-5f7a9364-6b84-4a77-ae25-f65900e08215 input.sk-hidden--visually {border: 0;clip: rect(1px 1px 1px 1px);clip: rect(1px, 1px, 1px, 1px);height: 1px;margin: -1px;overflow: hidden;padding: 0;position: absolute;width: 1px;}#sk-5f7a9364-6b84-4a77-ae25-f65900e08215 div.sk-estimator {font-family: monospace;background-color: #f0f8ff;border: 1px dotted black;border-radius: 0.25em;box-sizing: border-box;margin-bottom: 0.5em;}#sk-5f7a9364-6b84-4a77-ae25-f65900e08215 div.sk-estimator:hover {background-color: #d4ebff;}#sk-5f7a9364-6b84-4a77-ae25-f65900e08215 div.sk-parallel-item::after {content: \"\";width: 100%;border-bottom: 1px solid gray;flex-grow: 1;}#sk-5f7a9364-6b84-4a77-ae25-f65900e08215 div.sk-label:hover label.sk-toggleable__label {background-color: #d4ebff;}#sk-5f7a9364-6b84-4a77-ae25-f65900e08215 div.sk-serial::before {content: \"\";position: absolute;border-left: 1px solid gray;box-sizing: border-box;top: 2em;bottom: 0;left: 50%;}#sk-5f7a9364-6b84-4a77-ae25-f65900e08215 div.sk-serial {display: flex;flex-direction: column;align-items: center;background-color: white;padding-right: 0.2em;padding-left: 0.2em;}#sk-5f7a9364-6b84-4a77-ae25-f65900e08215 div.sk-item {z-index: 1;}#sk-5f7a9364-6b84-4a77-ae25-f65900e08215 div.sk-parallel {display: flex;align-items: stretch;justify-content: center;background-color: white;}#sk-5f7a9364-6b84-4a77-ae25-f65900e08215 div.sk-parallel::before {content: \"\";position: absolute;border-left: 1px solid gray;box-sizing: border-box;top: 2em;bottom: 0;left: 50%;}#sk-5f7a9364-6b84-4a77-ae25-f65900e08215 div.sk-parallel-item {display: flex;flex-direction: column;position: relative;background-color: white;}#sk-5f7a9364-6b84-4a77-ae25-f65900e08215 div.sk-parallel-item:first-child::after {align-self: flex-end;width: 50%;}#sk-5f7a9364-6b84-4a77-ae25-f65900e08215 div.sk-parallel-item:last-child::after {align-self: flex-start;width: 50%;}#sk-5f7a9364-6b84-4a77-ae25-f65900e08215 div.sk-parallel-item:only-child::after {width: 0;}#sk-5f7a9364-6b84-4a77-ae25-f65900e08215 div.sk-dashed-wrapped {border: 1px dashed gray;margin: 0 0.4em 0.5em 0.4em;box-sizing: border-box;padding-bottom: 0.4em;background-color: white;position: relative;}#sk-5f7a9364-6b84-4a77-ae25-f65900e08215 div.sk-label label {font-family: monospace;font-weight: bold;background-color: white;display: inline-block;line-height: 1.2em;}#sk-5f7a9364-6b84-4a77-ae25-f65900e08215 div.sk-label-container {position: relative;z-index: 2;text-align: center;}#sk-5f7a9364-6b84-4a77-ae25-f65900e08215 div.sk-container {/* jupyter's `normalize.less` sets `[hidden] { display: none; }` but bootstrap.min.css set `[hidden] { display: none !important; }` so we also need the `!important` here to be able to override the default hidden behavior on the sphinx rendered scikit-learn.org. See: https://github.com/scikit-learn/scikit-learn/issues/21755 */display: inline-block !important;position: relative;}#sk-5f7a9364-6b84-4a77-ae25-f65900e08215 div.sk-text-repr-fallback {display: none;}</style><div id=\"sk-5f7a9364-6b84-4a77-ae25-f65900e08215\" class=\"sk-top-container\"><div class=\"sk-text-repr-fallback\"><pre>Pipeline(steps=[(&#x27;columntransformer&#x27;,\n",
       "                 ColumnTransformer(transformers=[(&#x27;categorical&#x27;,\n",
       "                                                  Pipeline(steps=[(&#x27;imputation_constant&#x27;,\n",
       "                                                                   SimpleImputer(fill_value=&#x27;missing&#x27;,\n",
       "                                                                                 strategy=&#x27;constant&#x27;)),\n",
       "                                                                  (&#x27;onehot&#x27;,\n",
       "                                                                   OneHotEncoder(handle_unknown=&#x27;ignore&#x27;))]),\n",
       "                                                  Index([&#x27;cap-shape&#x27;, &#x27;cap-surface&#x27;, &#x27;cap-color&#x27;, &#x27;bruises&#x27;, &#x27;odor&#x27;,\n",
       "       &#x27;gill-attachment&#x27;, &#x27;gill-spacing&#x27;, &#x27;gill-size&#x27;, &#x27;gill-color...\n",
       "       &#x27;stalk-surface-below-ring&#x27;, &#x27;stalk-color-above-ring&#x27;,\n",
       "       &#x27;stalk-color-below-ring&#x27;, &#x27;veil-color&#x27;, &#x27;ring-number&#x27;, &#x27;ring-type&#x27;,\n",
       "       &#x27;spore-print-color&#x27;, &#x27;population&#x27;, &#x27;habitat&#x27;],\n",
       "      dtype=&#x27;object&#x27;)),\n",
       "                                                 (&#x27;numerical&#x27;,\n",
       "                                                  Pipeline(steps=[(&#x27;imputation_mode&#x27;,\n",
       "                                                                   SimpleImputer(strategy=&#x27;most_frequent&#x27;)),\n",
       "                                                                  (&#x27;standard_scaler&#x27;,\n",
       "                                                                   StandardScaler())]),\n",
       "                                                  Index([], dtype=&#x27;object&#x27;))])),\n",
       "                (&#x27;gradientboostingclassifier&#x27;, GradientBoostingClassifier())])</pre><b>Please rerun this cell to show the HTML repr or trust the notebook.</b></div><div class=\"sk-container\" hidden><div class=\"sk-item sk-dashed-wrapped\"><div class=\"sk-label-container\"><div class=\"sk-label sk-toggleable\"><input class=\"sk-toggleable__control sk-hidden--visually\" id=\"f89f0af3-8587-4b72-99e4-edad1003cc45\" type=\"checkbox\" ><label for=\"f89f0af3-8587-4b72-99e4-edad1003cc45\" class=\"sk-toggleable__label sk-toggleable__label-arrow\">Pipeline</label><div class=\"sk-toggleable__content\"><pre>Pipeline(steps=[(&#x27;columntransformer&#x27;,\n",
       "                 ColumnTransformer(transformers=[(&#x27;categorical&#x27;,\n",
       "                                                  Pipeline(steps=[(&#x27;imputation_constant&#x27;,\n",
       "                                                                   SimpleImputer(fill_value=&#x27;missing&#x27;,\n",
       "                                                                                 strategy=&#x27;constant&#x27;)),\n",
       "                                                                  (&#x27;onehot&#x27;,\n",
       "                                                                   OneHotEncoder(handle_unknown=&#x27;ignore&#x27;))]),\n",
       "                                                  Index([&#x27;cap-shape&#x27;, &#x27;cap-surface&#x27;, &#x27;cap-color&#x27;, &#x27;bruises&#x27;, &#x27;odor&#x27;,\n",
       "       &#x27;gill-attachment&#x27;, &#x27;gill-spacing&#x27;, &#x27;gill-size&#x27;, &#x27;gill-color...\n",
       "       &#x27;stalk-surface-below-ring&#x27;, &#x27;stalk-color-above-ring&#x27;,\n",
       "       &#x27;stalk-color-below-ring&#x27;, &#x27;veil-color&#x27;, &#x27;ring-number&#x27;, &#x27;ring-type&#x27;,\n",
       "       &#x27;spore-print-color&#x27;, &#x27;population&#x27;, &#x27;habitat&#x27;],\n",
       "      dtype=&#x27;object&#x27;)),\n",
       "                                                 (&#x27;numerical&#x27;,\n",
       "                                                  Pipeline(steps=[(&#x27;imputation_mode&#x27;,\n",
       "                                                                   SimpleImputer(strategy=&#x27;most_frequent&#x27;)),\n",
       "                                                                  (&#x27;standard_scaler&#x27;,\n",
       "                                                                   StandardScaler())]),\n",
       "                                                  Index([], dtype=&#x27;object&#x27;))])),\n",
       "                (&#x27;gradientboostingclassifier&#x27;, GradientBoostingClassifier())])</pre></div></div></div><div class=\"sk-serial\"><div class=\"sk-item sk-dashed-wrapped\"><div class=\"sk-label-container\"><div class=\"sk-label sk-toggleable\"><input class=\"sk-toggleable__control sk-hidden--visually\" id=\"703efc39-ea7b-413f-97f6-f316ca53dec8\" type=\"checkbox\" ><label for=\"703efc39-ea7b-413f-97f6-f316ca53dec8\" class=\"sk-toggleable__label sk-toggleable__label-arrow\">columntransformer: ColumnTransformer</label><div class=\"sk-toggleable__content\"><pre>ColumnTransformer(transformers=[(&#x27;categorical&#x27;,\n",
       "                                 Pipeline(steps=[(&#x27;imputation_constant&#x27;,\n",
       "                                                  SimpleImputer(fill_value=&#x27;missing&#x27;,\n",
       "                                                                strategy=&#x27;constant&#x27;)),\n",
       "                                                 (&#x27;onehot&#x27;,\n",
       "                                                  OneHotEncoder(handle_unknown=&#x27;ignore&#x27;))]),\n",
       "                                 Index([&#x27;cap-shape&#x27;, &#x27;cap-surface&#x27;, &#x27;cap-color&#x27;, &#x27;bruises&#x27;, &#x27;odor&#x27;,\n",
       "       &#x27;gill-attachment&#x27;, &#x27;gill-spacing&#x27;, &#x27;gill-size&#x27;, &#x27;gill-color&#x27;,\n",
       "       &#x27;stalk-shape&#x27;, &#x27;stalk-root&#x27;, &#x27;stalk-surface-above-ring&#x27;,\n",
       "       &#x27;stalk-surface-below-ring&#x27;, &#x27;stalk-color-above-ring&#x27;,\n",
       "       &#x27;stalk-color-below-ring&#x27;, &#x27;veil-color&#x27;, &#x27;ring-number&#x27;, &#x27;ring-type&#x27;,\n",
       "       &#x27;spore-print-color&#x27;, &#x27;population&#x27;, &#x27;habitat&#x27;],\n",
       "      dtype=&#x27;object&#x27;)),\n",
       "                                (&#x27;numerical&#x27;,\n",
       "                                 Pipeline(steps=[(&#x27;imputation_mode&#x27;,\n",
       "                                                  SimpleImputer(strategy=&#x27;most_frequent&#x27;)),\n",
       "                                                 (&#x27;standard_scaler&#x27;,\n",
       "                                                  StandardScaler())]),\n",
       "                                 Index([], dtype=&#x27;object&#x27;))])</pre></div></div></div><div class=\"sk-parallel\"><div class=\"sk-parallel-item\"><div class=\"sk-item\"><div class=\"sk-label-container\"><div class=\"sk-label sk-toggleable\"><input class=\"sk-toggleable__control sk-hidden--visually\" id=\"65334466-b65b-4434-a852-366a5ed95d8b\" type=\"checkbox\" ><label for=\"65334466-b65b-4434-a852-366a5ed95d8b\" class=\"sk-toggleable__label sk-toggleable__label-arrow\">categorical</label><div class=\"sk-toggleable__content\"><pre>Index([&#x27;cap-shape&#x27;, &#x27;cap-surface&#x27;, &#x27;cap-color&#x27;, &#x27;bruises&#x27;, &#x27;odor&#x27;,\n",
       "       &#x27;gill-attachment&#x27;, &#x27;gill-spacing&#x27;, &#x27;gill-size&#x27;, &#x27;gill-color&#x27;,\n",
       "       &#x27;stalk-shape&#x27;, &#x27;stalk-root&#x27;, &#x27;stalk-surface-above-ring&#x27;,\n",
       "       &#x27;stalk-surface-below-ring&#x27;, &#x27;stalk-color-above-ring&#x27;,\n",
       "       &#x27;stalk-color-below-ring&#x27;, &#x27;veil-color&#x27;, &#x27;ring-number&#x27;, &#x27;ring-type&#x27;,\n",
       "       &#x27;spore-print-color&#x27;, &#x27;population&#x27;, &#x27;habitat&#x27;],\n",
       "      dtype=&#x27;object&#x27;)</pre></div></div></div><div class=\"sk-serial\"><div class=\"sk-item\"><div class=\"sk-serial\"><div class=\"sk-item\"><div class=\"sk-estimator sk-toggleable\"><input class=\"sk-toggleable__control sk-hidden--visually\" id=\"39be62f7-e55e-4145-b4a4-81a45e918a40\" type=\"checkbox\" ><label for=\"39be62f7-e55e-4145-b4a4-81a45e918a40\" class=\"sk-toggleable__label sk-toggleable__label-arrow\">SimpleImputer</label><div class=\"sk-toggleable__content\"><pre>SimpleImputer(fill_value=&#x27;missing&#x27;, strategy=&#x27;constant&#x27;)</pre></div></div></div><div class=\"sk-item\"><div class=\"sk-estimator sk-toggleable\"><input class=\"sk-toggleable__control sk-hidden--visually\" id=\"344b58b4-19d1-4023-a3fd-4ffff80e53a0\" type=\"checkbox\" ><label for=\"344b58b4-19d1-4023-a3fd-4ffff80e53a0\" class=\"sk-toggleable__label sk-toggleable__label-arrow\">OneHotEncoder</label><div class=\"sk-toggleable__content\"><pre>OneHotEncoder(handle_unknown=&#x27;ignore&#x27;)</pre></div></div></div></div></div></div></div></div><div class=\"sk-parallel-item\"><div class=\"sk-item\"><div class=\"sk-label-container\"><div class=\"sk-label sk-toggleable\"><input class=\"sk-toggleable__control sk-hidden--visually\" id=\"128310f5-d337-4939-a647-1b4e4a3efa39\" type=\"checkbox\" ><label for=\"128310f5-d337-4939-a647-1b4e4a3efa39\" class=\"sk-toggleable__label sk-toggleable__label-arrow\">numerical</label><div class=\"sk-toggleable__content\"><pre>Index([], dtype=&#x27;object&#x27;)</pre></div></div></div><div class=\"sk-serial\"><div class=\"sk-item\"><div class=\"sk-serial\"><div class=\"sk-item\"><div class=\"sk-estimator sk-toggleable\"><input class=\"sk-toggleable__control sk-hidden--visually\" id=\"ef23b654-d71c-4070-a0b2-29909f830ad8\" type=\"checkbox\" ><label for=\"ef23b654-d71c-4070-a0b2-29909f830ad8\" class=\"sk-toggleable__label sk-toggleable__label-arrow\">SimpleImputer</label><div class=\"sk-toggleable__content\"><pre>SimpleImputer(strategy=&#x27;most_frequent&#x27;)</pre></div></div></div><div class=\"sk-item\"><div class=\"sk-estimator sk-toggleable\"><input class=\"sk-toggleable__control sk-hidden--visually\" id=\"977a1153-c4c4-44cd-8715-a00cd84607d1\" type=\"checkbox\" ><label for=\"977a1153-c4c4-44cd-8715-a00cd84607d1\" class=\"sk-toggleable__label sk-toggleable__label-arrow\">StandardScaler</label><div class=\"sk-toggleable__content\"><pre>StandardScaler()</pre></div></div></div></div></div></div></div></div></div></div><div class=\"sk-item\"><div class=\"sk-estimator sk-toggleable\"><input class=\"sk-toggleable__control sk-hidden--visually\" id=\"c5e9cd12-3fee-4cf5-96ae-484fb9444b76\" type=\"checkbox\" ><label for=\"c5e9cd12-3fee-4cf5-96ae-484fb9444b76\" class=\"sk-toggleable__label sk-toggleable__label-arrow\">GradientBoostingClassifier</label><div class=\"sk-toggleable__content\"><pre>GradientBoostingClassifier()</pre></div></div></div></div></div></div></div>"
      ],
      "text/plain": [
       "Pipeline(steps=[('columntransformer',\n",
       "                 ColumnTransformer(transformers=[('categorical',\n",
       "                                                  Pipeline(steps=[('imputation_constant',\n",
       "                                                                   SimpleImputer(fill_value='missing',\n",
       "                                                                                 strategy='constant')),\n",
       "                                                                  ('onehot',\n",
       "                                                                   OneHotEncoder(handle_unknown='ignore'))]),\n",
       "                                                  Index(['cap-shape', 'cap-surface', 'cap-color', 'bruises', 'odor',\n",
       "       'gill-attachment', 'gill-spacing', 'gill-size', 'gill-color...\n",
       "       'stalk-surface-below-ring', 'stalk-color-above-ring',\n",
       "       'stalk-color-below-ring', 'veil-color', 'ring-number', 'ring-type',\n",
       "       'spore-print-color', 'population', 'habitat'],\n",
       "      dtype='object')),\n",
       "                                                 ('numerical',\n",
       "                                                  Pipeline(steps=[('imputation_mode',\n",
       "                                                                   SimpleImputer(strategy='most_frequent')),\n",
       "                                                                  ('standard_scaler',\n",
       "                                                                   StandardScaler())]),\n",
       "                                                  Index([], dtype='object'))])),\n",
       "                ('gradientboostingclassifier', GradientBoostingClassifier())])"
      ]
     },
     "execution_count": 99,
     "metadata": {},
     "output_type": "execute_result"
    }
   ],
   "source": [
    "grad.fit(X_train, y_train)"
   ]
  },
  {
   "cell_type": "code",
   "execution_count": 100,
   "id": "6206d466",
   "metadata": {},
   "outputs": [],
   "source": [
    "y_pred_grad = grad.predict(X_test)"
   ]
  },
  {
   "cell_type": "code",
   "execution_count": 101,
   "id": "2554aea8",
   "metadata": {},
   "outputs": [
    {
     "data": {
      "text/plain": [
       "array([[1257,    0],\n",
       "       [   0, 1181]], dtype=int64)"
      ]
     },
     "execution_count": 101,
     "metadata": {},
     "output_type": "execute_result"
    }
   ],
   "source": [
    "from sklearn.metrics import confusion_matrix\n",
    "cm=confusion_matrix(y_test, y_pred_grad)\n",
    "cm"
   ]
  },
  {
   "cell_type": "code",
   "execution_count": 102,
   "id": "91e38b59",
   "metadata": {},
   "outputs": [
    {
     "name": "stderr",
     "output_type": "stream",
     "text": [
      "E:\\Anaconda\\lib\\site-packages\\sklearn\\utils\\deprecation.py:87: FutureWarning: Function plot_confusion_matrix is deprecated; Function `plot_confusion_matrix` is deprecated in 1.0 and will be removed in 1.2. Use one of the class methods: ConfusionMatrixDisplay.from_predictions or ConfusionMatrixDisplay.from_estimator.\n",
      "  warnings.warn(msg, category=FutureWarning)\n"
     ]
    },
    {
     "data": {
      "image/png": "[encoded data removed]",
      "text/plain": [
       "<Figure size 432x288 with 2 Axes>"
      ]
     },
     "metadata": {
      "needs_background": "light"
     },
     "output_type": "display_data"
    }
   ],
   "source": [
    "from sklearn.metrics import plot_confusion_matrix\n",
    "color = 'black'\n",
    "matrix = plot_confusion_matrix(grad, X_test, y_test, cmap=plt.cm.Blues)\n",
    "matrix.ax_.set_title('Confusion Matrix', color=color)\n",
    "plt.xlabel('Predicted Label', color=color)\n",
    "plt.ylabel('True Label', color=color)\n",
    "plt.show()"
   ]
  },
  {
   "cell_type": "code",
   "execution_count": 103,
   "id": "5ad312e8",
   "metadata": {},
   "outputs": [
    {
     "name": "stdout",
     "output_type": "stream",
     "text": [
      "              precision    recall  f1-score   support\n",
      "\n",
      "           e       1.00      1.00      1.00      1257\n",
      "           p       1.00      1.00      1.00      1181\n",
      "\n",
      "    accuracy                           1.00      2438\n",
      "   macro avg       1.00      1.00      1.00      2438\n",
      "weighted avg       1.00      1.00      1.00      2438\n",
      "\n"
     ]
    }
   ],
   "source": [
    "from sklearn.metrics import classification_report\n",
    "print(classification_report(y_test, y_pred_grad))"
   ]
  },
  {
   "cell_type": "markdown",
   "id": "6872d12b",
   "metadata": {},
   "source": [
    "#### Conclusion\n",
    "Most of the classification methods hit 100% accuracy with this dataset."
   ]
  }
 ],
 "metadata": {
  "kernelspec": {
   "display_name": "Python 3 (ipykernel)",
   "language": "python",
   "name": "python3"
  },
  "language_info": {
   "codemirror_mode": {
    "name": "ipython",
    "version": 3
   },
   "file_extension": ".py",
   "mimetype": "text/x-python",
   "name": "python",
   "nbconvert_exporter": "python",
   "pygments_lexer": "ipython3",
   "version": "3.9.12"
  }
 },
 "nbformat": 4,
 "nbformat_minor": 5
}
